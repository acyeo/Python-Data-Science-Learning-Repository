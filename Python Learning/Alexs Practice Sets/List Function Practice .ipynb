{
 "cells": [
  {
   "cell_type": "code",
   "execution_count": 3,
   "id": "e2beb3ec-6e71-4872-ab32-623ddef8645f",
   "metadata": {},
   "outputs": [
    {
     "name": "stdout",
     "output_type": "stream",
     "text": [
      "[1, 5, 3, 4, 5]\n",
      "[1, 5, 5, 4, 5]\n"
     ]
    }
   ],
   "source": [
    "area = [1, 5, 3, 4, 5]\n",
    "areas_copy = list(area)\n",
    "areas_copy[2]=5\n",
    "print(area)\n",
    "print(areas_copy)"
   ]
  },
  {
   "cell_type": "code",
   "execution_count": 5,
   "id": "37d15390-0b78-476c-86f6-fe3f56773dd1",
   "metadata": {},
   "outputs": [
    {
     "name": "stdout",
     "output_type": "stream",
     "text": [
      "[1, 5, 3, 4, 5, 1, 5, 5, 4, 5]\n",
      "3\n"
     ]
    }
   ],
   "source": [
    "sum = area + areas_copy\n",
    "print(sum)\n",
    "#looking up an index of a list value\n",
    "look_index = area.index(4)\n",
    "print(look_index)"
   ]
  },
  {
   "cell_type": "code",
   "execution_count": 10,
   "id": "4954e0c4-f888-43de-9549-ef2fb2c64d7f",
   "metadata": {},
   "outputs": [],
   "source": [
    "product = sum * 2"
   ]
  },
  {
   "cell_type": "code",
   "execution_count": 11,
   "id": "55b0c81f-e8ec-4028-a49f-192db667eb00",
   "metadata": {},
   "outputs": [
    {
     "name": "stdout",
     "output_type": "stream",
     "text": [
      "[1, 5, 3, 4, 5, 1, 5, 5, 4, 5, 1, 5, 3, 4, 5, 1, 5, 5, 4, 5]\n"
     ]
    }
   ],
   "source": [
    "print(product)"
   ]
  },
  {
   "cell_type": "code",
   "execution_count": 12,
   "id": "e5c3a4ea-3be0-444c-afbf-4b069b20630a",
   "metadata": {},
   "outputs": [
    {
     "name": "stdout",
     "output_type": "stream",
     "text": [
      "[3, 4, 5]\n"
     ]
    }
   ],
   "source": [
    "print(area[2:5])"
   ]
  },
  {
   "cell_type": "code",
   "execution_count": 15,
   "id": "1dfc1f85-6fe7-4d12-bd91-046da66af965",
   "metadata": {},
   "outputs": [],
   "source": [
    "a = [3, 1, -1]\n"
   ]
  },
  {
   "cell_type": "code",
   "execution_count": 16,
   "id": "4bffb0d3-a0c9-4457-bcad-8347f56a4666",
   "metadata": {},
   "outputs": [
    {
     "name": "stdout",
     "output_type": "stream",
     "text": [
      "[3, 1, -1]\n"
     ]
    }
   ],
   "source": [
    "print (a)\n"
   ]
  },
  {
   "cell_type": "code",
   "execution_count": 17,
   "id": "2532b81f-b6e6-4050-8704-6232925d2295",
   "metadata": {},
   "outputs": [],
   "source": [
    "a.append(1)\n",
    "#adds 1 to the list"
   ]
  },
  {
   "cell_type": "code",
   "execution_count": 18,
   "id": "9873c389-47b4-4036-b59c-abf91cd42b4f",
   "metadata": {},
   "outputs": [
    {
     "name": "stdout",
     "output_type": "stream",
     "text": [
      "[3, 1, -1, 1]\n"
     ]
    }
   ],
   "source": [
    "print (a)"
   ]
  },
  {
   "cell_type": "code",
   "execution_count": 19,
   "id": "1799f1d5-f731-454b-ba27-f1ce4c6f2a21",
   "metadata": {},
   "outputs": [],
   "source": [
    "a.append(\"hello\")"
   ]
  },
  {
   "cell_type": "code",
   "execution_count": 20,
   "id": "97864b40-5cda-4b26-afe6-fd5b66dc6c9d",
   "metadata": {},
   "outputs": [
    {
     "name": "stdout",
     "output_type": "stream",
     "text": [
      "[3, 1, -1, 1, 'hello']\n"
     ]
    }
   ],
   "source": [
    "print (a) \n"
   ]
  },
  {
   "cell_type": "code",
   "execution_count": 21,
   "id": "1e1f155b-8dd8-4d19-96a5-85399035097e",
   "metadata": {},
   "outputs": [],
   "source": [
    "a.append([1,2])"
   ]
  },
  {
   "cell_type": "code",
   "execution_count": 22,
   "id": "212de9d3-8e8d-4d4e-a020-8ace56c593ec",
   "metadata": {},
   "outputs": [
    {
     "name": "stdout",
     "output_type": "stream",
     "text": [
      "[3, 1, -1, 1, 'hello', [1, 2]]\n"
     ]
    }
   ],
   "source": [
    "print (a)\n"
   ]
  },
  {
   "cell_type": "code",
   "execution_count": 23,
   "id": "be343c7d-812f-4516-9f74-0ca53315c8d4",
   "metadata": {},
   "outputs": [
    {
     "data": {
      "text/plain": [
       "[1, 2]"
      ]
     },
     "execution_count": 23,
     "metadata": {},
     "output_type": "execute_result"
    }
   ],
   "source": [
    "a.pop()\n",
    "#deletes the last item on the list"
   ]
  },
  {
   "cell_type": "code",
   "execution_count": 24,
   "id": "63bfec75-0f6c-4a7e-9e05-12cfa67040df",
   "metadata": {},
   "outputs": [
    {
     "name": "stdout",
     "output_type": "stream",
     "text": [
      "[3, 1, -1, 1, 'hello']\n"
     ]
    }
   ],
   "source": [
    "print(a)"
   ]
  },
  {
   "cell_type": "code",
   "execution_count": 25,
   "id": "c03059e4-3abd-4b62-b695-fa819be456f9",
   "metadata": {},
   "outputs": [
    {
     "data": {
      "text/plain": [
       "-1"
      ]
     },
     "execution_count": 25,
     "metadata": {},
     "output_type": "execute_result"
    }
   ],
   "source": [
    "a[2]\n",
    "#retrieves the 3rd item on the list. No need to use print"
   ]
  },
  {
   "cell_type": "code",
   "execution_count": 27,
   "id": "56af5bb5-a694-4657-a8f6-533841454777",
   "metadata": {},
   "outputs": [
    {
     "name": "stdout",
     "output_type": "stream",
     "text": [
      "[69, 1, -1, 1, 'hello']\n"
     ]
    }
   ],
   "source": [
    "a[0]= 69\n",
    "#assigns a new number, 69, to the first item. \n",
    "print (a)"
   ]
  },
  {
   "cell_type": "code",
   "execution_count": 28,
   "id": "ba792d93-1cd2-4ee6-a655-55c317ac3293",
   "metadata": {},
   "outputs": [
    {
     "name": "stdout",
     "output_type": "stream",
     "text": [
      "[[2], 'apple', 'microsoft']\n"
     ]
    }
   ],
   "source": [
    "b= [\"banana\", \"apple\", \"microsoft\"]\n",
    "#swap the first item with the 3rd"
   ]
  },
  {
   "cell_type": "code",
   "execution_count": 37,
   "id": "ebfbf39c-e191-4a36-add6-d95c1a58f945",
   "metadata": {},
   "outputs": [],
   "source": [
    "b= [\"banana\", \"apple\", \"microsoft\"]"
   ]
  },
  {
   "cell_type": "code",
   "execution_count": 38,
   "id": "e7e9c07f-4ba8-4aa1-8f47-845633526149",
   "metadata": {},
   "outputs": [],
   "source": [
    "temp=b[0]\n",
    "b[0]=b[2]\n",
    "b[2]=temp"
   ]
  },
  {
   "cell_type": "code",
   "execution_count": 39,
   "id": "0a8b108a-ab0c-425f-9359-1e0a168be9da",
   "metadata": {},
   "outputs": [
    {
     "name": "stdout",
     "output_type": "stream",
     "text": [
      "['microsoft', 'apple', 'banana']\n"
     ]
    }
   ],
   "source": [
    "print(b)\n",
    "#this is correct"
   ]
  },
  {
   "cell_type": "code",
   "execution_count": 41,
   "id": "88d55ab6-8331-462c-b839-2c8d3e3286f8",
   "metadata": {},
   "outputs": [],
   "source": [
    "b= [\"banana\", \"apple\", \"microsoft\"]"
   ]
  },
  {
   "cell_type": "code",
   "execution_count": 42,
   "id": "5ae83a52-b439-48ea-a922-72ed2395ec4d",
   "metadata": {},
   "outputs": [
    {
     "name": "stdout",
     "output_type": "stream",
     "text": [
      "['microsoft', 'apple', 'banana']\n"
     ]
    }
   ],
   "source": [
    "#shortcut \n",
    "b[0], b[2] = b[2], b[0]\n",
    "print(b)"
   ]
  },
  {
   "cell_type": "code",
   "execution_count": 7,
   "id": "27be3cfc-e66f-44fb-aec6-a611b99e3f0e",
   "metadata": {},
   "outputs": [],
   "source": [
    "prime = [1, 2, 3, 4, 5]\n",
    "prime.append(6)"
   ]
  },
  {
   "cell_type": "code",
   "execution_count": 8,
   "id": "dfd80163-aa24-46aa-adf5-06a3bcc5138c",
   "metadata": {},
   "outputs": [
    {
     "name": "stdout",
     "output_type": "stream",
     "text": [
      "[1, 2, 3, 4, 5, 6, 7]\n"
     ]
    }
   ],
   "source": [
    "prime.append(7)\n",
    "print(prime)\n",
    "#adds 6, and 7 to the original list, 'prime'. "
   ]
  },
  {
   "cell_type": "code",
   "execution_count": 9,
   "id": "688deb67-b0d9-45c1-98af-ebb2085300c7",
   "metadata": {},
   "outputs": [
    {
     "data": {
      "text/plain": [
       "[2, 3, 4, 5]"
      ]
     },
     "execution_count": 9,
     "metadata": {},
     "output_type": "execute_result"
    }
   ],
   "source": [
    "#slicing\n",
    "prime[2:5]\n",
    "prime[1:5]"
   ]
  },
  {
   "cell_type": "code",
   "execution_count": 49,
   "id": "7f4981b3-969f-4f55-8220-edb793897d4c",
   "metadata": {},
   "outputs": [
    {
     "data": {
      "text/plain": [
       "['__add__',\n",
       " '__class__',\n",
       " '__class_getitem__',\n",
       " '__contains__',\n",
       " '__delattr__',\n",
       " '__delitem__',\n",
       " '__dir__',\n",
       " '__doc__',\n",
       " '__eq__',\n",
       " '__format__',\n",
       " '__ge__',\n",
       " '__getattribute__',\n",
       " '__getitem__',\n",
       " '__getstate__',\n",
       " '__gt__',\n",
       " '__hash__',\n",
       " '__iadd__',\n",
       " '__imul__',\n",
       " '__init__',\n",
       " '__init_subclass__',\n",
       " '__iter__',\n",
       " '__le__',\n",
       " '__len__',\n",
       " '__lt__',\n",
       " '__mul__',\n",
       " '__ne__',\n",
       " '__new__',\n",
       " '__reduce__',\n",
       " '__reduce_ex__',\n",
       " '__repr__',\n",
       " '__reversed__',\n",
       " '__rmul__',\n",
       " '__setattr__',\n",
       " '__setitem__',\n",
       " '__sizeof__',\n",
       " '__str__',\n",
       " '__subclasshook__',\n",
       " 'append',\n",
       " 'clear',\n",
       " 'copy',\n",
       " 'count',\n",
       " 'extend',\n",
       " 'index',\n",
       " 'insert',\n",
       " 'pop',\n",
       " 'remove',\n",
       " 'reverse',\n",
       " 'sort']"
      ]
     },
     "execution_count": 49,
     "metadata": {},
     "output_type": "execute_result"
    }
   ],
   "source": [
    "#finding different methods of what we can do w/ lists\n",
    "dir(prime)"
   ]
  },
  {
   "cell_type": "code",
   "execution_count": 50,
   "id": "722b5e1d-3470-4898-abf9-4d966c25bf13",
   "metadata": {},
   "outputs": [
    {
     "name": "stdout",
     "output_type": "stream",
     "text": [
      "Help on built-in function reverse:\n",
      "\n",
      "reverse() method of builtins.list instance\n",
      "    Reverse *IN PLACE*.\n",
      "\n"
     ]
    }
   ],
   "source": [
    " help(prime.reverse)"
   ]
  },
  {
   "cell_type": "code",
   "execution_count": 56,
   "id": "2404bfce-33ed-4814-a844-fdf10d4350d2",
   "metadata": {},
   "outputs": [
    {
     "name": "stdout",
     "output_type": "stream",
     "text": [
      "Help on method-wrapper:\n",
      "\n",
      "__repr__()\n",
      "    Return repr(self).\n",
      "\n"
     ]
    }
   ],
   "source": [
    "help(prime.__repr__)"
   ]
  },
  {
   "cell_type": "code",
   "execution_count": 1,
   "id": "95cd54e2-cc61-4088-ad74-a42a75d62a90",
   "metadata": {},
   "outputs": [
    {
     "name": "stdin",
     "output_type": "stream",
     "text": [
      "VCD1: 41420\n"
     ]
    }
   ],
   "source": [
    "#input functions\n",
    "V1 = input(\"VCD1:\") "
   ]
  },
  {
   "cell_type": "code",
   "execution_count": 3,
   "id": "502f25d4-680a-4859-9e26-89f36df7c7f5",
   "metadata": {},
   "outputs": [
    {
     "name": "stdout",
     "output_type": "stream",
     "text": [
      "['giants', 'warriors', 'sharks', 'niners']\n"
     ]
    }
   ],
   "source": [
    "yeo_list = ['niners', 'warriors', 'sharks', 'giants']\n",
    "yeo_temp = yeo_list[0]\n",
    "yeo_list[0] = yeo_list[3]\n",
    "yeo_list[3] = yeo_temp\n",
    "print(yeo_list)"
   ]
  },
  {
   "cell_type": "code",
   "execution_count": 10,
   "id": "6a7f5d4d-c40a-4b76-b436-350b62e255c6",
   "metadata": {},
   "outputs": [
    {
     "name": "stdout",
     "output_type": "stream",
     "text": [
      "['niners', 'warriors', 'giants', 'sharks']\n"
     ]
    }
   ],
   "source": [
    "yeo_list = ['niners', 'warriors', 'sharks', 'giants']\n",
    "yeo_list[2],yeo_list[3] = yeo_list[3], yeo_list[2]\n",
    "print(yeo_list)"
   ]
  },
  {
   "cell_type": "code",
   "execution_count": null,
   "id": "23d41ce4-daba-40cb-beeb-f67be4d264c8",
   "metadata": {},
   "outputs": [],
   "source": []
  }
 ],
 "metadata": {
  "kernelspec": {
   "display_name": "Python 3 (ipykernel)",
   "language": "python",
   "name": "python3"
  },
  "language_info": {
   "codemirror_mode": {
    "name": "ipython",
    "version": 3
   },
   "file_extension": ".py",
   "mimetype": "text/x-python",
   "name": "python",
   "nbconvert_exporter": "python",
   "pygments_lexer": "ipython3",
   "version": "3.11.7"
  }
 },
 "nbformat": 4,
 "nbformat_minor": 5
}
