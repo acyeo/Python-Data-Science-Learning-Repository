{
 "cells": [
  {
   "cell_type": "code",
   "execution_count": 1,
   "id": "14cae948-f1fe-4e2f-bf44-777407624312",
   "metadata": {},
   "outputs": [
    {
     "name": "stdout",
     "output_type": "stream",
     "text": [
      "[1, 4, 9, 16, 25, 36, 49, 64, 81, 100]\n"
     ]
    }
   ],
   "source": [
    "numbers = list(range(1, 11))\n",
    "square = lambda x: x**2\n",
    "print(list(map(square, numbers)))"
   ]
  },
  {
   "cell_type": "code",
   "execution_count": 2,
   "id": "3994aa90-72d6-41db-b637-cf4b031d8e22",
   "metadata": {},
   "outputs": [
    {
     "name": "stdout",
     "output_type": "stream",
     "text": [
      "[1, 8, 27, 64, 125, 216, 343, 512, 729, 1000]\n"
     ]
    }
   ],
   "source": [
    "cubed = lambda x: x**3\n",
    "print(list(map(cubed, numbers)))"
   ]
  },
  {
   "cell_type": "code",
   "execution_count": 3,
   "id": "498ac51a-c270-4fe2-95b0-72eb78439520",
   "metadata": {},
   "outputs": [
    {
     "name": "stdout",
     "output_type": "stream",
     "text": [
      "[2, 4, 6, 8, 10, 12, 14, 16, 18, 20]\n"
     ]
    }
   ],
   "source": [
    "double = lambda x: x*2\n",
    "print(list(map(double, numbers)))"
   ]
  },
  {
   "cell_type": "code",
   "execution_count": 5,
   "id": "113974c2-dfa1-4e4b-bea4-9916d90eefd9",
   "metadata": {},
   "outputs": [
    {
     "name": "stdout",
     "output_type": "stream",
     "text": [
      "[False, True, False, True, False, True, False, True, False, True]\n"
     ]
    }
   ],
   "source": [
    "is_even = lambda x: x % 2 == 0\n",
    "print(list(map(is_even, numbers)))"
   ]
  },
  {
   "cell_type": "code",
   "execution_count": 6,
   "id": "5ebeb425-802c-4657-a07d-c2ddf7ca6b9b",
   "metadata": {},
   "outputs": [
    {
     "name": "stdout",
     "output_type": "stream",
     "text": [
      "[11, 12, 13, 14, 15, 16, 17, 18, 19, 20]\n"
     ]
    }
   ],
   "source": [
    "add_ten = lambda x: x + 10 \n",
    "print(list(map(add_ten, numbers)))"
   ]
  },
  {
   "cell_type": "code",
   "execution_count": null,
   "id": "34374e31-d27b-48aa-89da-f49b9be2fd8c",
   "metadata": {},
   "outputs": [],
   "source": []
  }
 ],
 "metadata": {
  "kernelspec": {
   "display_name": "Python 3 (ipykernel)",
   "language": "python",
   "name": "python3"
  },
  "language_info": {
   "codemirror_mode": {
    "name": "ipython",
    "version": 3
   },
   "file_extension": ".py",
   "mimetype": "text/x-python",
   "name": "python",
   "nbconvert_exporter": "python",
   "pygments_lexer": "ipython3",
   "version": "3.11.7"
  }
 },
 "nbformat": 4,
 "nbformat_minor": 5
}
