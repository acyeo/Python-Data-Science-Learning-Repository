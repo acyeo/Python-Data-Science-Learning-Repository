{
 "cells": [
  {
   "cell_type": "code",
   "execution_count": 1,
   "id": "ee3e52a1-8e5e-4d62-b7f6-de0f904eeaae",
   "metadata": {},
   "outputs": [],
   "source": [
    "import numpy as np"
   ]
  },
  {
   "cell_type": "code",
   "execution_count": 2,
   "id": "ef4abc1d-917e-46e7-bb98-de3454a98235",
   "metadata": {},
   "outputs": [
    {
     "name": "stdin",
     "output_type": "stream",
     "text": [
      "current age is  30\n"
     ]
    },
    {
     "name": "stdout",
     "output_type": "stream",
     "text": [
      "30\n"
     ]
    }
   ],
   "source": [
    "current_age = input(\"current age is \" )\n",
    "print(current_age)"
   ]
  },
  {
   "cell_type": "code",
   "execution_count": 3,
   "id": "2f9875af-fc1c-4930-9fe6-81d5f8b4a30d",
   "metadata": {},
   "outputs": [
    {
     "name": "stdout",
     "output_type": "stream",
     "text": [
      "This year 30\n"
     ]
    }
   ],
   "source": [
    "print(f\"This year {current_age}\")"
   ]
  },
  {
   "cell_type": "code",
   "execution_count": 4,
   "id": "92c15324-65ab-4632-9258-e0a486bf86aa",
   "metadata": {},
   "outputs": [
    {
     "name": "stdout",
     "output_type": "stream",
     "text": [
      "This year I just turned 30 years old.\n"
     ]
    }
   ],
   "source": [
    "print(f\"This year I just turned {current_age} years old.\")"
   ]
  },
  {
   "cell_type": "code",
   "execution_count": 9,
   "id": "962a3f28-7eac-4b39-ba47-23c37cc75271",
   "metadata": {},
   "outputs": [
    {
     "data": {
      "text/plain": [
       "array([10, 11, 12, 13, 14, 15, 16, 17, 18, 19])"
      ]
     },
     "execution_count": 9,
     "metadata": {},
     "output_type": "execute_result"
    }
   ],
   "source": [
    "#correct\n",
    "#Create a 1D NumPy array containing the numbers from 10 to 19.\n",
    "np_range_arr = np.array(range (10, 20))\n",
    "np_range_arr"
   ]
  },
  {
   "cell_type": "code",
   "execution_count": 15,
   "id": "578786c8-2a2e-402a-8712-48fc2429bce0",
   "metadata": {},
   "outputs": [
    {
     "ename": "TypeError",
     "evalue": "Cannot interpret '4' as a data type",
     "output_type": "error",
     "traceback": [
      "\u001b[0;31m---------------------------------------------------------------------------\u001b[0m",
      "\u001b[0;31mTypeError\u001b[0m                                 Traceback (most recent call last)",
      "Cell \u001b[0;32mIn[15], line 1\u001b[0m\n\u001b[0;32m----> 1\u001b[0m twod_array \u001b[38;5;241m=\u001b[39m np\u001b[38;5;241m.\u001b[39marray(\u001b[38;5;241m4\u001b[39m, \u001b[38;5;241m4\u001b[39m)\n\u001b[1;32m      2\u001b[0m twod_array\n",
      "\u001b[0;31mTypeError\u001b[0m: Cannot interpret '4' as a data type"
     ]
    }
   ],
   "source": [
    "#Create a 2D NumPy array of shape (4, 4) with numbers from 1 to 16.\n",
    "#look up\n",
    "twod_array = np.array(4, 4)\n",
    "twod_array"
   ]
  },
  {
   "cell_type": "code",
   "execution_count": 18,
   "id": "8c76ffa0-1e30-4363-bc38-b65ce3544482",
   "metadata": {},
   "outputs": [
    {
     "data": {
      "text/plain": [
       "array([15, 16, 17, 18, 19, 20, 21, 22, 23, 24])"
      ]
     },
     "execution_count": 18,
     "metadata": {},
     "output_type": "execute_result"
    }
   ],
   "source": [
    "#Add 5 to each element of the 1D array.\n",
    "#correct\n",
    "add_five = np.add(np_range_arr, 5)\n",
    "add_five"
   ]
  },
  {
   "cell_type": "code",
   "execution_count": 19,
   "id": "8c175796-095a-40f4-a67d-396ca811eccf",
   "metadata": {},
   "outputs": [
    {
     "data": {
      "text/plain": [
       "12"
      ]
     },
     "execution_count": 19,
     "metadata": {},
     "output_type": "execute_result"
    }
   ],
   "source": [
    "#Access the third element of the 1D array.\n",
    "#correct\n",
    "np_range_arr[2]"
   ]
  },
  {
   "cell_type": "code",
   "execution_count": 20,
   "id": "f134ba56-13d7-423f-af36-e32f53fe05bb",
   "metadata": {},
   "outputs": [
    {
     "data": {
      "text/plain": [
       "array([13, 14, 15, 16])"
      ]
     },
     "execution_count": 20,
     "metadata": {},
     "output_type": "execute_result"
    }
   ],
   "source": [
    "#Slice the 1D array to get the elements from index 3 to 7.\n",
    "#verify\n",
    "np_range_arr[3:7]"
   ]
  },
  {
   "cell_type": "code",
   "execution_count": 21,
   "id": "2b587e36-3b3f-4cfd-9afe-41b7f6111086",
   "metadata": {},
   "outputs": [
    {
     "data": {
      "text/plain": [
       "145"
      ]
     },
     "execution_count": 21,
     "metadata": {},
     "output_type": "execute_result"
    }
   ],
   "source": [
    "#Calculate the sum of all elements in the 1D array.\n",
    "#correct\n",
    "np.sum(np_range_arr)"
   ]
  },
  {
   "cell_type": "code",
   "execution_count": 22,
   "id": "068c1470-6e87-4347-acde-806ec7a72713",
   "metadata": {},
   "outputs": [
    {
     "data": {
      "text/plain": [
       "2.8722813232690143"
      ]
     },
     "execution_count": 22,
     "metadata": {},
     "output_type": "execute_result"
    }
   ],
   "source": [
    "#Calculate the standard deviation of the 1D array.\n",
    "#correct\n",
    "np.std(np_range_arr)"
   ]
  },
  {
   "cell_type": "code",
   "execution_count": null,
   "id": "3f43e9e4-6da9-4e27-8f1d-5955da9c383a",
   "metadata": {},
   "outputs": [],
   "source": [
    "SOLUTIONS to the exercises (including missing questions)"
   ]
  },
  {
   "cell_type": "code",
   "execution_count": 23,
   "id": "bd9309f2-6745-4a62-adfa-42b138d3a9cf",
   "metadata": {},
   "outputs": [
    {
     "name": "stdout",
     "output_type": "stream",
     "text": [
      "1D Array: [10 11 12 13 14 15 16 17 18 19]\n",
      "2D Array:\n",
      " [[ 1  2  3  4]\n",
      " [ 5  6  7  8]\n",
      " [ 9 10 11 12]\n",
      " [13 14 15 16]]\n"
     ]
    }
   ],
   "source": [
    "import numpy as np\n",
    "\n",
    "# 1D array from 10 to 19\n",
    "array_1d = np.arange(10, 20)\n",
    "print(\"1D Array:\", array_1d)\n",
    "\n",
    "# 2D array of shape (4, 4) with numbers from 1 to 16\n",
    "array_2d = np.arange(1, 17).reshape(4, 4)\n",
    "print(\"2D Array:\\n\", array_2d)\n"
   ]
  },
  {
   "cell_type": "code",
   "execution_count": 24,
   "id": "a1ae8acb-16c9-4d28-91d5-35cc170e90c7",
   "metadata": {},
   "outputs": [
    {
     "name": "stdout",
     "output_type": "stream",
     "text": [
      "1D Array after adding 5: [15 16 17 18 19 20 21 22 23 24]\n",
      "2D Array after multiplying by 2:\n",
      " [[ 2  4  6  8]\n",
      " [10 12 14 16]\n",
      " [18 20 22 24]\n",
      " [26 28 30 32]]\n"
     ]
    }
   ],
   "source": [
    "# Add 5 to each element of the 1D array\n",
    "array_1d_added = array_1d + 5\n",
    "print(\"1D Array after adding 5:\", array_1d_added)\n",
    "\n",
    "# Multiply each element of the 2D array by 2\n",
    "array_2d_multiplied = array_2d * 2\n",
    "print(\"2D Array after multiplying by 2:\\n\", array_2d_multiplied)"
   ]
  },
  {
   "cell_type": "code",
   "execution_count": 25,
   "id": "97276608-0098-4e6c-8bc0-12f003eec151",
   "metadata": {},
   "outputs": [
    {
     "name": "stdout",
     "output_type": "stream",
     "text": [
      "Third element of the 1D array: 12\n",
      "Sliced 1D array from index 3 to 7: [13 14 15 16 17]\n",
      "Element in the second row and third column of the 2D array: 7\n"
     ]
    }
   ],
   "source": [
    "# Access the third element of the 1D array\n",
    "third_element = array_1d[2]\n",
    "print(\"Third element of the 1D array:\", third_element)\n",
    "\n",
    "# Slice the 1D array to get the elements from index 3 to 7\n",
    "sliced_array = array_1d[3:8]\n",
    "print(\"Sliced 1D array from index 3 to 7:\", sliced_array)\n",
    "\n",
    "# Access the element in the second row and third column of the 2D array\n",
    "element_2d = array_2d[1, 2]\n",
    "print(\"Element in the second row and third column of the 2D array:\", element_2d)"
   ]
  },
  {
   "cell_type": "code",
   "execution_count": 26,
   "id": "af1a0ed3-a332-42df-bba7-ed8669d01793",
   "metadata": {},
   "outputs": [
    {
     "name": "stdout",
     "output_type": "stream",
     "text": [
      "Sum of 1D array: 145\n",
      "Minimum value in the 2D array: 1\n",
      "Standard deviation of the 1D array: 2.8722813232690143\n"
     ]
    }
   ],
   "source": [
    "# Sum of all elements in the 1D array\n",
    "sum_1d = np.sum(array_1d)\n",
    "print(\"Sum of 1D array:\", sum_1d)\n",
    "\n",
    "# Minimum value in the 2D array\n",
    "min_2d = np.min(array_2d)\n",
    "print(\"Minimum value in the 2D array:\", min_2d)\n",
    "\n",
    "# Standard deviation of the 1D array\n",
    "std_1d = np.std(array_1d)\n",
    "print(\"Standard deviation of the 1D array:\", std_1d)"
   ]
  },
  {
   "cell_type": "code",
   "execution_count": 27,
   "id": "a96fd34b-a944-4c46-aa63-eed7ba2a6116",
   "metadata": {},
   "outputs": [
    {
     "name": "stdout",
     "output_type": "stream",
     "text": [
      "Reshaped 2D array:\n",
      " [[10 11 12 13 14]\n",
      " [15 16 17 18 19]]\n",
      "Flattened array: [10 11 12 13 14 15 16 17 18 19]\n"
     ]
    }
   ],
   "source": [
    "# Reshape the 1D array into a 2D array with 2 rows\n",
    "reshaped_array = array_1d.reshape(2, -1)\n",
    "print(\"Reshaped 2D array:\\n\", reshaped_array)\n",
    "\n",
    "# Flatten the reshaped 2D array back into a 1D array\n",
    "flattened_array = reshaped_array.flatten()\n",
    "print(\"Flattened array:\", flattened_array)"
   ]
  },
  {
   "cell_type": "code",
   "execution_count": 28,
   "id": "faaa14a7-b8ee-430f-8417-ddac5f3a6a0a",
   "metadata": {},
   "outputs": [
    {
     "name": "stdout",
     "output_type": "stream",
     "text": [
      "Boolean mask for elements > 14: [False False False False False  True  True  True  True  True]\n",
      "Filtered array with elements > 14: [15 16 17 18 19]\n"
     ]
    }
   ],
   "source": [
    "# Boolean mask for elements greater than 14\n",
    "mask = array_1d > 14\n",
    "print(\"Boolean mask for elements > 14:\", mask)\n",
    "\n",
    "# New array with only the elements greater than 14\n",
    "filtered_array = array_1d[mask]\n",
    "print(\"Filtered array with elements > 14:\", filtered_array)"
   ]
  },
  {
   "cell_type": "code",
   "execution_count": 35,
   "id": "aeb15437-b380-47b0-87df-f9e174f1604b",
   "metadata": {},
   "outputs": [
    {
     "data": {
      "text/plain": [
       "0"
      ]
     },
     "execution_count": 35,
     "metadata": {},
     "output_type": "execute_result"
    }
   ],
   "source": [
    "4 % 2"
   ]
  },
  {
   "cell_type": "code",
   "execution_count": 37,
   "id": "d696178d-711d-4968-b8c1-ba9a53e22530",
   "metadata": {},
   "outputs": [
    {
     "data": {
      "text/plain": [
       "['__doc__',\n",
       " '__file__',\n",
       " '__loader__',\n",
       " '__name__',\n",
       " '__package__',\n",
       " '__spec__',\n",
       " 'acos',\n",
       " 'acosh',\n",
       " 'asin',\n",
       " 'asinh',\n",
       " 'atan',\n",
       " 'atan2',\n",
       " 'atanh',\n",
       " 'cbrt',\n",
       " 'ceil',\n",
       " 'comb',\n",
       " 'copysign',\n",
       " 'cos',\n",
       " 'cosh',\n",
       " 'degrees',\n",
       " 'dist',\n",
       " 'e',\n",
       " 'erf',\n",
       " 'erfc',\n",
       " 'exp',\n",
       " 'exp2',\n",
       " 'expm1',\n",
       " 'fabs',\n",
       " 'factorial',\n",
       " 'floor',\n",
       " 'fmod',\n",
       " 'frexp',\n",
       " 'fsum',\n",
       " 'gamma',\n",
       " 'gcd',\n",
       " 'hypot',\n",
       " 'inf',\n",
       " 'isclose',\n",
       " 'isfinite',\n",
       " 'isinf',\n",
       " 'isnan',\n",
       " 'isqrt',\n",
       " 'lcm',\n",
       " 'ldexp',\n",
       " 'lgamma',\n",
       " 'log',\n",
       " 'log10',\n",
       " 'log1p',\n",
       " 'log2',\n",
       " 'modf',\n",
       " 'nan',\n",
       " 'nextafter',\n",
       " 'perm',\n",
       " 'pi',\n",
       " 'pow',\n",
       " 'prod',\n",
       " 'radians',\n",
       " 'remainder',\n",
       " 'sin',\n",
       " 'sinh',\n",
       " 'sqrt',\n",
       " 'tan',\n",
       " 'tanh',\n",
       " 'tau',\n",
       " 'trunc',\n",
       " 'ulp']"
      ]
     },
     "execution_count": 37,
     "metadata": {},
     "output_type": "execute_result"
    }
   ],
   "source": [
    "dir(math)"
   ]
  },
  {
   "cell_type": "code",
   "execution_count": null,
   "id": "ada75dea-c104-49f6-82b2-487def288365",
   "metadata": {},
   "outputs": [],
   "source": []
  }
 ],
 "metadata": {
  "kernelspec": {
   "display_name": "Python 3 (ipykernel)",
   "language": "python",
   "name": "python3"
  },
  "language_info": {
   "codemirror_mode": {
    "name": "ipython",
    "version": 3
   },
   "file_extension": ".py",
   "mimetype": "text/x-python",
   "name": "python",
   "nbconvert_exporter": "python",
   "pygments_lexer": "ipython3",
   "version": "3.11.7"
  }
 },
 "nbformat": 4,
 "nbformat_minor": 5
}
