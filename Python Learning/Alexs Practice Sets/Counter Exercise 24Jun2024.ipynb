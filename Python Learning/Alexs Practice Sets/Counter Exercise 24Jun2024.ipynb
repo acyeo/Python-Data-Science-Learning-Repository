{
 "cells": [
  {
   "cell_type": "code",
   "execution_count": 1,
   "id": "c7917b30-b031-4841-a71c-3088f47defb6",
   "metadata": {},
   "outputs": [],
   "source": [
    "import collections\n",
    "from collections import Counter"
   ]
  },
  {
   "cell_type": "code",
   "execution_count": 2,
   "id": "3d1f277a-c31c-4677-92d3-78109ad8c096",
   "metadata": {},
   "outputs": [],
   "source": [
    "example_string = \"hello world\""
   ]
  },
  {
   "cell_type": "code",
   "execution_count": 3,
   "id": "d9894818-f0dd-48f4-bcde-8a5d0a95ede7",
   "metadata": {},
   "outputs": [
    {
     "data": {
      "text/plain": [
       "Counter({'l': 3, 'o': 2, 'h': 1, 'e': 1, ' ': 1, 'w': 1, 'r': 1, 'd': 1})"
      ]
     },
     "execution_count": 3,
     "metadata": {},
     "output_type": "execute_result"
    }
   ],
   "source": [
    "Counter(example_string)"
   ]
  },
  {
   "cell_type": "code",
   "execution_count": 4,
   "id": "f2bc7109-6808-4bd0-87f7-f8057724cc82",
   "metadata": {},
   "outputs": [
    {
     "data": {
      "text/plain": [
       "['ChainMap',\n",
       " 'Counter',\n",
       " 'OrderedDict',\n",
       " 'UserDict',\n",
       " 'UserList',\n",
       " 'UserString',\n",
       " '_Link',\n",
       " '_OrderedDictItemsView',\n",
       " '_OrderedDictKeysView',\n",
       " '_OrderedDictValuesView',\n",
       " '__all__',\n",
       " '__builtins__',\n",
       " '__cached__',\n",
       " '__doc__',\n",
       " '__file__',\n",
       " '__loader__',\n",
       " '__name__',\n",
       " '__package__',\n",
       " '__path__',\n",
       " '__spec__',\n",
       " '_chain',\n",
       " '_collections_abc',\n",
       " '_count_elements',\n",
       " '_eq',\n",
       " '_iskeyword',\n",
       " '_itemgetter',\n",
       " '_proxy',\n",
       " '_recursive_repr',\n",
       " '_repeat',\n",
       " '_starmap',\n",
       " '_sys',\n",
       " '_tuplegetter',\n",
       " 'abc',\n",
       " 'defaultdict',\n",
       " 'deque',\n",
       " 'namedtuple']"
      ]
     },
     "execution_count": 4,
     "metadata": {},
     "output_type": "execute_result"
    }
   ],
   "source": [
    "dir(collections)"
   ]
  },
  {
   "cell_type": "code",
   "execution_count": 7,
   "id": "546fe3d1-3b73-4bff-a9b5-22eff2d19ede",
   "metadata": {},
   "outputs": [
    {
     "ename": "AttributeError",
     "evalue": "'str' object has no attribute 'most_common'",
     "output_type": "error",
     "traceback": [
      "\u001b[0;31m---------------------------------------------------------------------------\u001b[0m",
      "\u001b[0;31mAttributeError\u001b[0m                            Traceback (most recent call last)",
      "Cell \u001b[0;32mIn[7], line 1\u001b[0m\n\u001b[0;32m----> 1\u001b[0m \u001b[38;5;28mprint\u001b[39m(example_string\u001b[38;5;241m.\u001b[39mmost_common(\u001b[38;5;241m1\u001b[39m))\n",
      "\u001b[0;31mAttributeError\u001b[0m: 'str' object has no attribute 'most_common'"
     ]
    }
   ],
   "source": [
    "print(example_string.most_common(1))"
   ]
  },
  {
   "cell_type": "code",
   "execution_count": 8,
   "id": "265f1e5e-59ae-4f61-ba2d-f21426416afb",
   "metadata": {},
   "outputs": [
    {
     "name": "stdout",
     "output_type": "stream",
     "text": [
      "Character frequencies:\n",
      "'h': 1\n",
      "'e': 1\n",
      "'l': 3\n",
      "'o': 2\n",
      "' ': 1\n",
      "'w': 1\n",
      "'r': 1\n",
      "'d': 1\n",
      "\n",
      "Most common character:\n",
      "'l': 3\n",
      "\n",
      "Unique characters: ['h', 'e', 'l', 'o', ' ', 'w', 'r', 'd']\n"
     ]
    }
   ],
   "source": [
    "# Step 1: Create a sample text string\n",
    "text = \"hello world\"\n",
    "\n",
    "# Step 2a: Count the frequency of each character in the string\n",
    "char_counter = Counter(text)\n",
    "\n",
    "# Step 2b: Display the frequency of each character\n",
    "print(\"Character frequencies:\")\n",
    "for char, count in char_counter.items():\n",
    "    print(f\"'{char}': {count}\")\n",
    "\n",
    "# Step 2c: Display the most common character and its frequency\n",
    "most_common_char = char_counter.most_common(1)\n",
    "print(\"\\nMost common character:\")\n",
    "for char, count in most_common_char:\n",
    "    print(f\"'{char}': {count}\")\n",
    "\n",
    "# Step 2d: Display all unique characters in the string\n",
    "unique_chars = list(char_counter.keys())\n",
    "print(\"\\nUnique characters:\", unique_chars)\n"
   ]
  },
  {
   "cell_type": "code",
   "execution_count": null,
   "id": "887a72ca-7e01-4b13-b6c1-e0a72f1fc4be",
   "metadata": {},
   "outputs": [],
   "source": []
  }
 ],
 "metadata": {
  "kernelspec": {
   "display_name": "Python 3 (ipykernel)",
   "language": "python",
   "name": "python3"
  },
  "language_info": {
   "codemirror_mode": {
    "name": "ipython",
    "version": 3
   },
   "file_extension": ".py",
   "mimetype": "text/x-python",
   "name": "python",
   "nbconvert_exporter": "python",
   "pygments_lexer": "ipython3",
   "version": "3.11.7"
  }
 },
 "nbformat": 4,
 "nbformat_minor": 5
}
