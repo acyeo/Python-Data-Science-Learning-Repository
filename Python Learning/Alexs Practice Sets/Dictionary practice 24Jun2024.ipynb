{
 "cells": [
  {
   "cell_type": "code",
   "execution_count": 29,
   "id": "09156624-844d-4444-b47c-f70a9d14a192",
   "metadata": {},
   "outputs": [
    {
     "name": "stdout",
     "output_type": "stream",
     "text": [
      "['Alice', 'Bob', 'Charlie', 'David', 'Eva']\n",
      "95\n"
     ]
    },
    {
     "ename": "ValueError",
     "evalue": "too many values to unpack (expected 2)",
     "output_type": "error",
     "traceback": [
      "\u001b[0;31m---------------------------------------------------------------------------\u001b[0m",
      "\u001b[0;31mValueError\u001b[0m                                Traceback (most recent call last)",
      "Cell \u001b[0;32mIn[29], line 13\u001b[0m\n\u001b[1;32m     11\u001b[0m student_grades\n\u001b[1;32m     12\u001b[0m \u001b[38;5;28mprint\u001b[39m(student_grades[\u001b[38;5;124m'\u001b[39m\u001b[38;5;124mEva\u001b[39m\u001b[38;5;124m'\u001b[39m])\n\u001b[0;32m---> 13\u001b[0m \u001b[38;5;28;01mfor\u001b[39;00m key, items \u001b[38;5;129;01min\u001b[39;00m student_grades: \n\u001b[1;32m     14\u001b[0m     honor_roll \u001b[38;5;241m=\u001b[39m {}\n\u001b[1;32m     15\u001b[0m     \u001b[38;5;28;01mif\u001b[39;00m item \u001b[38;5;241m>\u001b[39m \u001b[38;5;241m90\u001b[39m \u001b[38;5;129;01min\u001b[39;00m student_grades: \n",
      "\u001b[0;31mValueError\u001b[0m: too many values to unpack (expected 2)"
     ]
    }
   ],
   "source": [
    "student_grades = {\"Alice\": 85, \"Bob\": 92, \"Charlie\": 78, \"David\": 90, \"Eva\": 95}\n",
    "type(dict)\n",
    "dict.keys()\n",
    "dict.items()\n",
    "print(list(dict))\n",
    "student_grades ['Frank'] = 88\n",
    "student_grades\n",
    "student_grades['Alice'] = 89\n",
    "student_grades\n",
    "del(student_grades[\"Charlie\"])\n",
    "student_grades\n",
    "print(student_grades['Eva'])\n",
    "for key, items in student_grades: \n",
    "    honor_roll = {}\n",
    "    if item > 90 in student_grades: \n",
    "        honor_roll.append()"
   ]
  },
  {
   "cell_type": "code",
   "execution_count": 30,
   "id": "7f2d8970-4230-4afd-b67c-74cfd65626f9",
   "metadata": {},
   "outputs": [
    {
     "name": "stdout",
     "output_type": "stream",
     "text": [
      "Eva's grade: 95\n",
      "George is not a student.\n",
      "All students and their grades:\n",
      "Alice : 89\n",
      "Bob : 92\n",
      "David : 90\n",
      "Eva : 95\n",
      "Frank : 88\n",
      "Average grade: 90.8\n",
      "Honor roll students and their grades: {'Bob': 92, 'David': 90, 'Eva': 95}\n"
     ]
    }
   ],
   "source": [
    "# Step 1: Create the student_grades dictionary\n",
    "student_grades = {\n",
    "    \"Alice\": 85,\n",
    "    \"Bob\": 92,\n",
    "    \"Charlie\": 78,\n",
    "    \"David\": 90,\n",
    "    \"Eva\": 95\n",
    "}\n",
    "\n",
    "# Step 2a: Add a new student \"Frank\" with a grade of 88\n",
    "student_grades[\"Frank\"] = 88\n",
    "\n",
    "# Step 2b: Update the grade for \"Alice\" to 89\n",
    "student_grades[\"Alice\"] = 89\n",
    "\n",
    "# Step 2c: Remove the student \"Charlie\"\n",
    "del student_grades[\"Charlie\"]\n",
    "\n",
    "# Step 2d: Print the grade of \"Eva\"\n",
    "print(\"Eva's grade:\", student_grades[\"Eva\"])\n",
    "\n",
    "# Step 2e: Check if \"George\" is in the dictionary\n",
    "if \"George\" in student_grades:\n",
    "    print(\"George is a student.\")\n",
    "else:\n",
    "    print(\"George is not a student.\")\n",
    "\n",
    "# Step 2f: Print all students and their grades\n",
    "print(\"All students and their grades:\")\n",
    "for student, grade in student_grades.items():\n",
    "    print(student, \":\", grade)\n",
    "\n",
    "# Step 2g: Calculate and print the average grade\n",
    "total_grades = sum(student_grades.values())\n",
    "num_students = len(student_grades)\n",
    "average_grade = total_grades / num_students\n",
    "print(\"Average grade:\", average_grade)\n",
    "\n",
    "# Step 2h: Create the honor_roll dictionary\n",
    "honor_roll = {student: grade for student, grade in student_grades.items() if grade >= 90}\n",
    "print(\"Honor roll students and their grades:\", honor_roll)\n"
   ]
  },
  {
   "cell_type": "code",
   "execution_count": null,
   "id": "b03d6bbf-99d3-4d81-b569-a48ef76c9a31",
   "metadata": {},
   "outputs": [],
   "source": []
  }
 ],
 "metadata": {
  "kernelspec": {
   "display_name": "Python 3 (ipykernel)",
   "language": "python",
   "name": "python3"
  },
  "language_info": {
   "codemirror_mode": {
    "name": "ipython",
    "version": 3
   },
   "file_extension": ".py",
   "mimetype": "text/x-python",
   "name": "python",
   "nbconvert_exporter": "python",
   "pygments_lexer": "ipython3",
   "version": "3.11.7"
  }
 },
 "nbformat": 4,
 "nbformat_minor": 5
}
