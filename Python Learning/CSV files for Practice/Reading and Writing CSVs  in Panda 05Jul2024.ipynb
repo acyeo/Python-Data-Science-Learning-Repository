{
 "cells": [
  {
   "cell_type": "code",
   "execution_count": null,
   "id": "fc3f9c96-6156-47b0-9a24-62e18a0b6e70",
   "metadata": {},
   "outputs": [],
   "source": [
    "import pandas as pd\n",
    "# Read CSV as DataFrame called airline_bumping\n",
    "airline_bumping = pd.read_csv(\"airline_bumping.csv\")\n",
    "\n",
    "# Take a look at the DataFrame\n",
    "print(airline_bumping.head())\n",
    "\n",
    "#correct output:\n",
    "            airline  year  nb_bumped  total_passengers\n",
    "0    DELTA AIR LINES  2017        679          99796155\n",
    "1     VIRGIN AMERICA  2017        165           6090029\n",
    "2    JETBLUE AIRWAYS  2017       1475          27255038\n",
    "3    UNITED AIRLINES  2017       2067          70030765\n",
    "4  HAWAIIAN AIRLINES  2017         92           8422734"
   ]
  },
  {
   "cell_type": "code",
   "execution_count": null,
   "id": "4d1eeda7-92ea-4083-8119-a30b78fb8174",
   "metadata": {},
   "outputs": [],
   "source": [
    "# For each airline, select nb_bumped and total_passengers and sum\n",
    "airline_totals = airline_bumping.groupby(\"airline\")[[\"nb_bumped\", \"total_passengers\"]].sum()\n",
    "\n",
    "# Create new col, bumps_per_10k: no. of bumps per 10k passengers for each airline\n",
    "airline_totals[\"bumps_per_10k\"] = airline_totals[\"nb_bumped\"] / airline_totals[\"total_passengers\"] * 10000\n",
    "\n",
    "#correct output:\n",
    "                        nb_bumped  total_passengers  bumps_per_10k\n",
    "    airline                                                        \n",
    "    ALASKA AIRLINES           1392          36543121          0.381\n",
    "    AMERICAN AIRLINES        11115         197365225          0.563\n",
    "    DELTA AIR LINES           1591         197033215          0.081\n",
    "    EXPRESSJET AIRLINES       3326          27858678          1.194\n",
    "    FRONTIER AIRLINES         1228          22954995          0.535\n",
    "    HAWAIIAN AIRLINES          122          16577572          0.074\n",
    "    JETBLUE AIRWAYS           3615          53245866          0.679\n",
    "    SKYWEST AIRLINES          3094          47091737          0.657\n",
    "    SOUTHWEST AIRLINES       18585         228142036          0.815\n",
    "    SPIRIT AIRLINES           2920          32304571          0.904\n",
    "    UNITED AIRLINES           4941         134468897          0.367\n",
    "    VIRGIN AMERICA             242          12017967          0.201"
   ]
  },
  {
   "cell_type": "code",
   "execution_count": null,
   "id": "d8f1e2f1-4ebb-4f72-a2a1-0e76c70b3e06",
   "metadata": {},
   "outputs": [],
   "source": [
    "# Create airline_totals_sorted\n",
    "airline_totals_sorted = airline_totals.sort_values(\"bumps_per_10k\", ascending = False)\n",
    "\n",
    "# Print airline_totals_sorted\n",
    "print(airline_totals_sorted)\n",
    "\n",
    "# Save as airline_totals_sorted.csv\n",
    "airline_totals_sorted.to_csv(\"airline_totals_sorted.csv\")\n",
    "\n",
    "#correct output:\n",
    "                     nb_bumped  total_passengers  bumps_per_10k\n",
    "airline                                                        \n",
    "EXPRESSJET AIRLINES       3326          27858678          1.194\n",
    "SPIRIT AIRLINES           2920          32304571          0.904\n",
    "SOUTHWEST AIRLINES       18585         228142036          0.815\n",
    "JETBLUE AIRWAYS           3615          53245866          0.679\n",
    "SKYWEST AIRLINES          3094          47091737          0.657\n",
    "AMERICAN AIRLINES        11115         197365225          0.563\n",
    "FRONTIER AIRLINES         1228          22954995          0.535\n",
    "ALASKA AIRLINES           1392          36543121          0.381\n",
    "UNITED AIRLINES           4941         134468897          0.367\n",
    "VIRGIN AMERICA             242          12017967          0.201\n",
    "DELTA AIR LINES           1591         197033215          0.081\n",
    "HAWAIIAN AIRLINES          122          16577572          0.074"
   ]
  }
 ],
 "metadata": {
  "kernelspec": {
   "display_name": "Python 3 (ipykernel)",
   "language": "python",
   "name": "python3"
  },
  "language_info": {
   "codemirror_mode": {
    "name": "ipython",
    "version": 3
   },
   "file_extension": ".py",
   "mimetype": "text/x-python",
   "name": "python",
   "nbconvert_exporter": "python",
   "pygments_lexer": "ipython3",
   "version": "3.11.7"
  }
 },
 "nbformat": 4,
 "nbformat_minor": 5
}
