{
 "cells": [
  {
   "cell_type": "code",
   "execution_count": 1,
   "id": "d8e8b31c-5c38-4668-9097-33320d7fd943",
   "metadata": {},
   "outputs": [],
   "source": [
    "#if you can loop over something in a for-loop. Then it's an iterable. \n",
    "#ex. if you have a list in a for-loop, you can iteratoe over everything in the list. \n",
    "#sequences = iterable + ordered\n",
    "#common sequences: lists, tuples, strings, bytes. "
   ]
  },
  {
   "cell_type": "code",
   "execution_count": 2,
   "id": "22057965-1282-4372-80b7-985ab8997182",
   "metadata": {},
   "outputs": [
    {
     "data": {
      "text/plain": [
       "'Rainer'"
      ]
     },
     "execution_count": 2,
     "metadata": {},
     "output_type": "execute_result"
    }
   ],
   "source": [
    "usernames = ('Rainer', 'Alfons', 'Flatsheep')\n",
    "looper2 = iter(usernames)\n",
    "#iter functions gets the iterator\n",
    "next(looper2)\n",
    "#next function allows you to pass the iterator to the next function. "
   ]
  },
  {
   "cell_type": "code",
   "execution_count": 3,
   "id": "151c4a8e-8745-4d8c-9f41-4e0ef62ff40c",
   "metadata": {},
   "outputs": [
    {
     "data": {
      "text/plain": [
       "'Alfons'"
      ]
     },
     "execution_count": 3,
     "metadata": {},
     "output_type": "execute_result"
    }
   ],
   "source": [
    "next(looper2)"
   ]
  },
  {
   "cell_type": "code",
   "execution_count": 5,
   "id": "55573fbb-4e2a-4631-9581-d83fa9f15200",
   "metadata": {},
   "outputs": [
    {
     "name": "stdout",
     "output_type": "stream",
     "text": [
      "Rainer\n",
      "Alfons\n",
      "Flatsheep\n"
     ]
    }
   ],
   "source": [
    "users = ['Rainer', 'Alfons', 'Flatsheep']\n",
    "\n",
    "#for user in users: \n",
    "    #print(user)\n",
    "\n",
    "looper = iter(users)\n",
    "while True: \n",
    "    try: \n",
    "        user = next(looper)\n",
    "        print(user)\n",
    "    except StopIteration:\n",
    "        break"
   ]
  },
  {
   "cell_type": "code",
   "execution_count": 6,
   "id": "d37efefa-b5f7-4b62-a2e9-d17641bc98e6",
   "metadata": {},
   "outputs": [
    {
     "name": "stdout",
     "output_type": "stream",
     "text": [
      "Rainer\n",
      "Alfons\n",
      "Flatsheep\n"
     ]
    }
   ],
   "source": [
    "looper = iter(users)\n",
    "while True: \n",
    "    try: \n",
    "        user = next(looper)\n",
    "        print(user)\n",
    "    except StopIteration:\n",
    "        break"
   ]
  },
  {
   "cell_type": "code",
   "execution_count": 1,
   "id": "c7415ce2-00a2-4744-82ea-5bc6681f30ce",
   "metadata": {},
   "outputs": [
    {
     "name": "stdout",
     "output_type": "stream",
     "text": [
      "['2', '3', '4', '5', '6', '7', '8', '9', '10', 'J', 'Q', 'K', 'A']\n",
      "The number of 5-card poker hands is 2598960.\n"
     ]
    }
   ],
   "source": [
    "#example construct a list of all possible hands in poker\n",
    "import itertools\n",
    "ranks = list(range(2, 11)) + ['J', 'Q', 'K', 'A']\n",
    "#final number not included in range function!!\n",
    "ranks = [str(rank) for rank in ranks]                                                                                                \n",
    "#print(ranks)\n",
    "print(ranks)                                                \n",
    "suits = ['Hearts', 'Clubs', 'Diamonds', 'Spades']\n",
    "deck = [card for card in itertools.product(ranks, suits)]\n",
    "#build this list with a single list comprehnsion.  \n",
    "\n",
    "#for (index, card) in enumerate(deck): \n",
    "    #print(1 +index, card)\n",
    "\n",
    "#create a list of all 5 possible poker hands\n",
    "hands = [hand for hand in itertools.combinations(deck,5)]\n",
    "\n",
    "#rather than looping over all possible hands...\n",
    "print(f\"The number of 5-card poker hands is {len(hands)}.\")"
   ]
  },
  {
   "cell_type": "code",
   "execution_count": null,
   "id": "32d9a1cd-1cbe-4dc1-88d7-122fc8fbf9cb",
   "metadata": {},
   "outputs": [],
   "source": []
  }
 ],
 "metadata": {
  "kernelspec": {
   "display_name": "Python 3 (ipykernel)",
   "language": "python",
   "name": "python3"
  },
  "language_info": {
   "codemirror_mode": {
    "name": "ipython",
    "version": 3
   },
   "file_extension": ".py",
   "mimetype": "text/x-python",
   "name": "python",
   "nbconvert_exporter": "python",
   "pygments_lexer": "ipython3",
   "version": "3.11.7"
  }
 },
 "nbformat": 4,
 "nbformat_minor": 5
}
