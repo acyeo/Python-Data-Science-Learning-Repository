{
 "cells": [
  {
   "cell_type": "code",
   "execution_count": null,
   "id": "70700869-d6ae-4245-bfa8-5dfad39b55bb",
   "metadata": {},
   "outputs": [],
   "source": [
    "#Iterator example: \"for i in range(n):\"\n",
    "#generator example: \"for i in xrange(n):\"\n",
    "    #this creates a generator. \n",
    "    #as we loop through the for loop, the generator provides the next number in the sequence we need. \n",
    "    #generators are faster than iterators. \n",
    "    \n"
   ]
  },
  {
   "cell_type": "code",
   "execution_count": 3,
   "id": "60a5e9dd-d4ac-40c5-ad82-a28b9cef536b",
   "metadata": {},
   "outputs": [
    {
     "data": {
      "text/plain": [
       "[(10000, 'small', 'red'), (20000, 'large', 'blue')]"
      ]
     },
     "execution_count": 3,
     "metadata": {},
     "output_type": "execute_result"
    }
   ],
   "source": [
    "#iterable example\n",
    "prices = [10000, 20000, 15000]\n",
    "car_sizes = [\"small\", \"large\", \"medium\"]\n",
    "colors = [\"red\", \"blue\"]\n",
    "list(zip(prices, car_sizes))\n",
    "list(zip(prices, car_sizes, colors))\n",
    "#the length of the listed tuples changed b/c the colors  only contains 2 elements. "
   ]
  },
  {
   "cell_type": "code",
   "execution_count": 5,
   "id": "4a6809e7-e958-4337-80c0-6c8d8d6cf295",
   "metadata": {},
   "outputs": [
    {
     "data": {
      "text/plain": [
       "[(10000, 'small', 'red'), (20000, 'large', 'blue'), (15000, 'medium', None)]"
      ]
     },
     "execution_count": 5,
     "metadata": {},
     "output_type": "execute_result"
    }
   ],
   "source": [
    "from itertools import zip_longest\n",
    "list(zip_longest(prices, car_sizes, colors))\n",
    "#This allows you to created a listed tuple aligned with the value containeing the longest element. "
   ]
  },
  {
   "cell_type": "code",
   "execution_count": 6,
   "id": "9d819992-a8b8-4d7c-ba62-c68003ebfd10",
   "metadata": {},
   "outputs": [
    {
     "data": {
      "text/plain": [
       "[(10000, 'small', 'red'), (20000, 'large', 'blue'), (15000, 'medium', '?')]"
      ]
     },
     "execution_count": 6,
     "metadata": {},
     "output_type": "execute_result"
    }
   ],
   "source": [
    "#if you don't want to use \"None\" as the filled in missing value. Do the fillvalue= function to replace 'None' w/ \"?\"\n",
    "list(zip_longest(prices, car_sizes, colors, fillvalue=\"?\"))"
   ]
  },
  {
   "cell_type": "code",
   "execution_count": 7,
   "id": "0f3eab7b-6770-4ea2-9964-f8a34d1acf42",
   "metadata": {},
   "outputs": [
    {
     "data": {
      "text/plain": [
       "[(10000,), (20000,), (15000,)]"
      ]
     },
     "execution_count": 7,
     "metadata": {},
     "output_type": "execute_result"
    }
   ],
   "source": [
    "list(zip(prices))"
   ]
  },
  {
   "cell_type": "code",
   "execution_count": 8,
   "id": "061b874b-2892-4644-a147-c046ee72bd61",
   "metadata": {},
   "outputs": [
    {
     "data": {
      "text/plain": [
       "(10000,)"
      ]
     },
     "execution_count": 8,
     "metadata": {},
     "output_type": "execute_result"
    }
   ],
   "source": [
    "list(zip(prices))[0]"
   ]
  },
  {
   "cell_type": "code",
   "execution_count": 9,
   "id": "5ea3a9cc-0abf-4e04-900e-49ad630bfb74",
   "metadata": {},
   "outputs": [
    {
     "data": {
      "text/plain": [
       "10000"
      ]
     },
     "execution_count": 9,
     "metadata": {},
     "output_type": "execute_result"
    }
   ],
   "source": [
    "#to get the actual value, not the tuple. index the 1st value twice. \n",
    "list(zip(prices))[0][0]"
   ]
  },
  {
   "cell_type": "code",
   "execution_count": 10,
   "id": "336556d9-fe27-42dd-9774-4ff7450de77d",
   "metadata": {},
   "outputs": [
    {
     "name": "stdout",
     "output_type": "stream",
     "text": [
      "0\n",
      "1\n",
      "2\n",
      "3\n"
     ]
    }
   ],
   "source": [
    "#another iterable example: \n",
    "for i in range(4): \n",
    "    print(i)"
   ]
  },
  {
   "cell_type": "code",
   "execution_count": 11,
   "id": "8fcfe164-4e8e-49d0-984f-a5596bb8fc1e",
   "metadata": {},
   "outputs": [],
   "source": [
    "#iterables: are lists, strings, dictionaries, file connections. \n",
    "#iterables are an object w/ an associated iter(method)\n",
    "#Applying iter() to an iterable creates an iterator\n",
    "#an iterator produces the next value w/ next() or has next()associated with it. "
   ]
  },
  {
   "cell_type": "code",
   "execution_count": 12,
   "id": "38b5a8dc-d70c-4627-99ca-0064550fcabe",
   "metadata": {},
   "outputs": [
    {
     "data": {
      "text/plain": [
       "'D'"
      ]
     },
     "execution_count": 12,
     "metadata": {},
     "output_type": "execute_result"
    }
   ],
   "source": [
    "#Iterating over iterables: next()\n",
    "word = 'Da'\n",
    "it = iter(word)\n",
    "next(it)"
   ]
  },
  {
   "cell_type": "code",
   "execution_count": 13,
   "id": "151ccfd9-97b2-4af6-945d-3ba41d5c237c",
   "metadata": {},
   "outputs": [
    {
     "data": {
      "text/plain": [
       "'a'"
      ]
     },
     "execution_count": 13,
     "metadata": {},
     "output_type": "execute_result"
    }
   ],
   "source": [
    "next(it)"
   ]
  },
  {
   "cell_type": "code",
   "execution_count": 14,
   "id": "aca797e1-bafa-41d7-bff1-ed8f30805d15",
   "metadata": {},
   "outputs": [
    {
     "name": "stdout",
     "output_type": "stream",
     "text": [
      "D a t a\n"
     ]
    }
   ],
   "source": [
    "#iterating at once w/ a *\n",
    "#this unpacks all elements of an iterator. \n",
    "word = 'Data'\n",
    "it = iter(word)\n",
    "print(*it)"
   ]
  },
  {
   "cell_type": "code",
   "execution_count": 20,
   "id": "75050337-bc7c-45ec-a3b6-8f9e58d919dd",
   "metadata": {},
   "outputs": [
    {
     "name": "stdout",
     "output_type": "stream",
     "text": [
      "hugo bowne-anderson\n",
      "francis castro\n",
      "alex yeo\n"
     ]
    }
   ],
   "source": [
    "#iterator over dictionaries example\n",
    "# unpack the iterables using the .items() method. \n",
    "pythonistas = {'hugo': 'bowne-anderson', 'francis': 'castro', 'alex': 'yeo'}\n",
    "for key, value in pythonistas.items(): \n",
    "    print(key, value)"
   ]
  },
  {
   "cell_type": "code",
   "execution_count": 21,
   "id": "52f9212e-40a7-4d5c-bd8d-d28b88e4586b",
   "metadata": {},
   "outputs": [
    {
     "name": "stdout",
     "output_type": "stream",
     "text": [
      "jay garrick\n",
      "barry allen\n",
      "wally west\n",
      "bart allen\n",
      "jay garrick\n",
      "barry allen\n",
      "wally west\n",
      "bart allen\n"
     ]
    }
   ],
   "source": [
    "# Create a list of strings: flash\n",
    "flash = ['jay garrick', 'barry allen', 'wally west', 'bart allen']\n",
    "\n",
    "# Print each list item in flash using a for loop\n",
    "for person in flash: \n",
    "    print(person)\n",
    "\n",
    "\n",
    "# Create an iterator for flash: superhero\n",
    "superhero = iter(flash)\n",
    "\n",
    "# Print each item 4x from the iterator\n",
    "print(next(superhero))\n",
    "print(next(superhero))\n",
    "print(next(superhero))\n",
    "print(next(superhero))"
   ]
  },
  {
   "cell_type": "code",
   "execution_count": 22,
   "id": "9343381c-79ec-42c8-96f4-af53278e800b",
   "metadata": {},
   "outputs": [
    {
     "name": "stdout",
     "output_type": "stream",
     "text": [
      "0\n",
      "1\n",
      "2\n",
      "0\n",
      "1\n",
      "2\n",
      "0\n",
      "1\n",
      "2\n",
      "3\n",
      "4\n"
     ]
    }
   ],
   "source": [
    "# Create an iterator for range(3): small_value\n",
    "small_value = iter(range(3))\n",
    "\n",
    "# Print the values in small_value\n",
    "print(next(small_value))\n",
    "print(next(small_value))\n",
    "print(next(small_value))\n",
    "\n",
    "# Loop over range(3) and print the values\n",
    "for num in range(3): \n",
    "    print(num)\n",
    "\n",
    "\n",
    "# Create an iterator for range(10 ** 100): googol\n",
    "googol = iter(range(10 ** 100))\n",
    "\n",
    "# Print the first 5 values from googol\n",
    "print(next(googol))\n",
    "print(next(googol))\n",
    "print(next(googol))\n",
    "print(next(googol))\n",
    "print(next(googol))\n"
   ]
  },
  {
   "cell_type": "code",
   "execution_count": 23,
   "id": "7035e9da-f7df-4a9e-8cdd-8b6e85b37cd1",
   "metadata": {},
   "outputs": [
    {
     "name": "stdout",
     "output_type": "stream",
     "text": [
      "range(10, 21)\n",
      "[10, 11, 12, 13, 14, 15, 16, 17, 18, 19, 20]\n",
      "165\n"
     ]
    }
   ],
   "source": [
    "# Create a range, 10-20, object: values\n",
    "values = range(10,21)\n",
    "\n",
    "# Print the range object\n",
    "print(values)\n",
    "\n",
    "# Create a list of integers: values_list\n",
    "values_list = list(values)\n",
    "\n",
    "# Print values_list\n",
    "print(values_list)\n",
    "\n",
    "# Get the sum of values: values_sum\n",
    "values_sum = sum(values)\n",
    "\n",
    "# Print values_sum\n",
    "print(values_sum)"
   ]
  },
  {
   "cell_type": "code",
   "execution_count": 24,
   "id": "6cb819f7-1615-4e84-bccb-ce8ad4702460",
   "metadata": {},
   "outputs": [
    {
     "name": "stdout",
     "output_type": "stream",
     "text": [
      "0 hawkeye\n",
      "1 iron man\n",
      "2 thor\n",
      "3 quicksilver\n"
     ]
    }
   ],
   "source": [
    "#enumerator functions (enumerate())\n",
    "#enumerators is used in loops to return what position the element,values are while looping. example below\n",
    "avengers = ['hawkeye', 'iron man', 'thor', 'quicksilver']\n",
    "for index, value in enumerate(avengers):\n",
    "    print(index, value)"
   ]
  },
  {
   "cell_type": "code",
   "execution_count": 26,
   "id": "41f1e2ee-a35f-4580-ad89-9cb739eec218",
   "metadata": {},
   "outputs": [
    {
     "name": "stdout",
     "output_type": "stream",
     "text": [
      "10 hawkeye\n",
      "11 iron man\n",
      "12 thor\n",
      "13 quicksilver\n"
     ]
    }
   ],
   "source": [
    "#runs the enumerate function and starts the index at 10. \n",
    "for index, value in enumerate(avengers, start = 10): \n",
    "    print(index, value)"
   ]
  },
  {
   "cell_type": "code",
   "execution_count": 29,
   "id": "6a55a044-d8bb-4061-8ea0-5004338e817c",
   "metadata": {},
   "outputs": [
    {
     "name": "stdout",
     "output_type": "stream",
     "text": [
      "[('hawkeye', 'barton'), ('iron man', 'stark'), ('thor', 'odinson'), ('quicksilver', 'maximoff')]\n"
     ]
    }
   ],
   "source": [
    "#using zip() to create a listed tuple.\n",
    "avengers = ['hawkeye', 'iron man', 'thor', 'quicksilver']\n",
    "names = ['barton', 'stark', 'odinson', 'maximoff']\n",
    "zip(avengers, names)\n",
    "print(list(zip(avengers, names)))"
   ]
  },
  {
   "cell_type": "code",
   "execution_count": 30,
   "id": "160d415a-3a28-4376-a745-a2fa9b60289c",
   "metadata": {},
   "outputs": [
    {
     "name": "stdout",
     "output_type": "stream",
     "text": [
      "hawkeye barton\n",
      "iron man stark\n",
      "thor odinson\n",
      "quicksilver maximoff\n"
     ]
    }
   ],
   "source": [
    "#unzip the listed tuple above. \n",
    "for z1, z2 in zip(avengers, names): \n",
    "    print(z1, z2)"
   ]
  },
  {
   "cell_type": "code",
   "execution_count": 31,
   "id": "642377f4-8c9d-48fe-b052-1be430c1f1e2",
   "metadata": {},
   "outputs": [
    {
     "name": "stdout",
     "output_type": "stream",
     "text": [
      "('hawkeye', 'barton') ('iron man', 'stark') ('thor', 'odinson') ('quicksilver', 'maximoff')\n"
     ]
    }
   ],
   "source": [
    "#also using * operator to zip \n",
    "z = zip(avengers, names)\n",
    "print(*z)"
   ]
  },
  {
   "cell_type": "code",
   "execution_count": 1,
   "id": "94a63170-e50a-43a4-8568-56ad59984ad5",
   "metadata": {},
   "outputs": [
    {
     "ename": "SyntaxError",
     "evalue": "invalid syntax (3149322386.py, line 24)",
     "output_type": "error",
     "traceback": [
      "\u001b[0;36m  Cell \u001b[0;32mIn[1], line 24\u001b[0;36m\u001b[0m\n\u001b[0;31m    0 charles xavier\u001b[0m\n\u001b[0m      ^\u001b[0m\n\u001b[0;31mSyntaxError\u001b[0m\u001b[0;31m:\u001b[0m invalid syntax\n"
     ]
    }
   ],
   "source": [
    "# Create a list of strings: mutants\n",
    "mutants = ['charles xavier', \n",
    "            'bobby drake', \n",
    "            'kurt wagner', \n",
    "            'max eisenhardt', \n",
    "            'kitty pryde']\n",
    "\n",
    "# Create a list of tuples: mutant_list\n",
    "mutant_list = list(enumerate(mutants))\n",
    "\n",
    "# Print the list of tuples\n",
    "print(mutant_list)\n",
    "\n",
    "# Unpack and print the tuple pairs\n",
    "for index1, value1 in enumerate(mutants):\n",
    "    print(index1, value1)\n",
    "\n",
    "# Change the start index to 1\n",
    "for index2, value2 in enumerate(mutants, start = 1):\n",
    "    print(index2, value2)\n",
    "\n",
    "#correct output\n",
    "[(0, 'charles xavier'), (1, 'bobby drake'), (2, 'kurt wagner'), (3, 'max eisenhardt'), (4, 'kitty pryde')]\n",
    "0 charles xavier\n",
    "1 bobby drake\n",
    "2 kurt wagner\n",
    "3 max eisenhardt\n",
    "4 kitty pryde\n",
    "1 charles xavier\n",
    "2 bobby drake\n",
    "3 kurt wagner\n",
    "4 max eisenhardt\n",
    "5 kitty pryde"
   ]
  },
  {
   "cell_type": "code",
   "execution_count": null,
   "id": "ab943bbc-fb86-486f-b59e-3375e09299f1",
   "metadata": {},
   "outputs": [],
   "source": [
    "# Create a list of tuples: mutant_data\n",
    "mutant_data = list(zip(mutants, aliases, powers))\n",
    "\n",
    "# Print the list of tuples\n",
    "print(mutant_data)\n",
    "\n",
    "# Create a zip object using the three lists: mutant_zip\n",
    "mutant_zip = zip(mutants, aliases, powers)\n",
    "\n",
    "# Print the zip object\n",
    "print(mutant_zip)\n",
    "\n",
    "# Unpack the zip object and print the tuple values\n",
    "for value1, value2, value3 in mutant_zip:\n",
    "    print(value1, value2, value3)\n",
    "\n",
    "#correct output: \n",
    "[('charles xavier', 'prof x', 'telepathy'), ('bobby drake', 'iceman', 'thermokinesis'), ('kurt wagner', 'nightcrawler', 'teleportation'), ('max eisenhardt', 'magneto', 'magnetokinesis'), ('kitty pryde', 'shadowcat', 'intangibility')]\n",
    "<zip object at 0x7f6a85c016c0>\n",
    "charles xavier prof x telepathy\n",
    "bobby drake iceman thermokinesis\n",
    "kurt wagner nightcrawler teleportation\n",
    "max eisenhardt magneto magnetokinesis\n",
    "kitty pryde shadowcat intangibility"
   ]
  },
  {
   "cell_type": "code",
   "execution_count": null,
   "id": "32a5d0bd-c921-4c26-9465-707446c73ea9",
   "metadata": {},
   "outputs": [],
   "source": [
    "# Create a zip object from mutants and powers: z1\n",
    "z1 = zip(mutants, powers)\n",
    "\n",
    "# Print the tuples in z1 by unpacking with *\n",
    "print(*z1)\n",
    "\n",
    "# Re-create a zip object from mutants and powers: z1\n",
    "z1 = zip(mutants, powers)\n",
    "\n",
    "# 'Unzip' the tuples in z1 by unpacking with * and zip(): result1, result2\n",
    "result1, result2 = zip(*z1)\n",
    "\n",
    "# Check if unpacked tuples are equivalent to original tuples\n",
    "print(result1 == mutants)\n",
    "print(result2 == powers)\n",
    "\n",
    "#correct output: \n",
    "('charles xavier', 'telepathy') ('bobby drake', 'thermokinesis') ('kurt wagner', 'teleportation') ('max eisenhardt', 'magnetokinesis') ('kitty pryde', 'intangibility')\n",
    "True\n",
    "True"
   ]
  },
  {
   "cell_type": "code",
   "execution_count": 32,
   "id": "cf6c201c-ae69-4a1b-a1ed-904febed3a25",
   "metadata": {},
   "outputs": [],
   "source": [
    "#iterating large data\n",
    "#load data in chunks if the data is too large to hold in memory\n",
    "#use pandas function: read_csv()\n",
    "    #specify the chunk size, chunksize"
   ]
  },
  {
   "cell_type": "code",
   "execution_count": null,
   "id": "1d17db8d-534c-4ebd-ba51-12a0ae0c3898",
   "metadata": {},
   "outputs": [],
   "source": [
    "import pandas as pd\n",
    "result = []\n",
    "for chunk in pd.read_csv('data.csv', chunksize=1000): \n",
    "    result.append(sum(chunk['x']))\n",
    "\n",
    "total - sum(result)\n",
    "print(total)\n",
    "\n",
    "#correct output:\n",
    "4252532"
   ]
  },
  {
   "cell_type": "code",
   "execution_count": null,
   "id": "d359a864-9730-4669-8256-d484a4f119c0",
   "metadata": {},
   "outputs": [],
   "source": [
    "#another way of iterating over data\n",
    "total = 0\n",
    "for chunk in pd.read_csv('data.csv', chunksize=1000):\n",
    "    total+=sum(chunk['x'])\n",
    "print(total)\n",
    "\n",
    "#correct output:\n",
    "4252532"
   ]
  },
  {
   "cell_type": "code",
   "execution_count": null,
   "id": "e9e16ad2-3ea7-4942-af1d-8e3844e912ad",
   "metadata": {},
   "outputs": [],
   "source": [
    "#Initialize an empty dictionary counts_dict for storing the results of processing the Twitter data.\n",
    "#Iterate over the 'tweets.csv' file by using a for loop. \n",
    "#Use the loop variable chunk and iterate over the call to pd.read_csv() with a chunksize of 10.\n",
    "#In the inner loop, iterate over the column 'lang' in chunk by using a for loop. Use the loop variable entry.\n",
    "\n",
    "# Initialize an empty dictionary: counts_dict\n",
    "counts_dict = {}\n",
    "\n",
    "# Iterate over the file chunk by chunk\n",
    "for chunk in pd.read_csv('tweets.csv', chunksize=10):\n",
    "\n",
    "\n",
    "    # Iterate over the column in DataFrame\n",
    "    for entry in chunk['lang']:\n",
    "        if entry in counts_dict.keys():\n",
    "            counts_dict[entry] += 1\n",
    "        else:\n",
    "            counts_dict[entry] = 1\n",
    "\n",
    "# Print the populated dictionary\n",
    "print(counts_dict)\n",
    "\n",
    "#correct output: \n",
    "{'en': 97, 'et': 1, 'und': 2}"
   ]
  },
  {
   "cell_type": "code",
   "execution_count": null,
   "id": "fab25626-24e5-4579-a035-787c67d6823b",
   "metadata": {},
   "outputs": [],
   "source": [
    "#Define the function count_entries(), which has 3 parameters. \n",
    "#The first parameter is csv_file for the filename, the second is c_size for the chunk size, \n",
    "#and the last is colname for the column name.\n",
    "#Iterate over the file in csv_file file by using a for loop. \n",
    "#Use the loop variable chunk and iterate over the call to pd.read_csv(), passing c_size to chunksize.\n",
    "#In the inner loop, iterate over the column given by colname in chunk by using a for loop. Use the loop variable entry.\n",
    "#Call the count_entries() function by passing to it the filename 'tweets.csv', the size of chunks 10, \n",
    "#and the name of the column to count, 'lang'. Assign the result of the call to the variable result_counts.\n",
    "\n",
    "# Define count_entries()\n",
    "def count_entries(csv_file, c_size, colname):\n",
    "    \"\"\"Return a dictionary with counts of\n",
    "    occurrences as value for each key.\"\"\"\n",
    "    \n",
    "    # Initialize an empty dictionary: counts_dict\n",
    "    counts_dict = {}\n",
    "\n",
    "    # Iterate over the file chunk by chunk\n",
    "    for chunk in pd.read_csv(csv_file, chunksize=c_size):\n",
    "\n",
    "        # Iterate over the column in DataFrame\n",
    "        for entry in chunk[colname]:\n",
    "            if entry in counts_dict.keys():\n",
    "                counts_dict[entry] += 1\n",
    "            else:\n",
    "                counts_dict[entry] = 1\n",
    "\n",
    "    # Return counts_dict\n",
    "    return counts_dict\n",
    "\n",
    "# Call count_entries(): result_counts\n",
    "result_counts = count_entries('tweets.csv', 10, 'lang')\n",
    "\n",
    "# Print result_counts\n",
    "print(result_counts)\n",
    "\n",
    "#correct output: \n",
    "{'en': 97, 'et': 1, 'und': 2}"
   ]
  },
  {
   "cell_type": "code",
   "execution_count": 2,
   "id": "385c02d3-8cf5-4989-8377-79aa3d7885b5",
   "metadata": {},
   "outputs": [],
   "source": [
    "def num_sequence(n):\n",
    "    \"\"\"Generate values from 0 to n.\"\"\"\n",
    "    i = 0\n",
    "    while i < n: \n",
    "        yield i\n",
    "        i += 1"
   ]
  },
  {
   "cell_type": "code",
   "execution_count": 3,
   "id": "8b52d29a-27a4-49a3-8144-da25da3860b8",
   "metadata": {},
   "outputs": [
    {
     "name": "stdout",
     "output_type": "stream",
     "text": [
      "[0, 1, 2, 3, 4]\n"
     ]
    }
   ],
   "source": [
    "print(list(num_sequence(5)))"
   ]
  }
 ],
 "metadata": {
  "kernelspec": {
   "display_name": "Python 3 (ipykernel)",
   "language": "python",
   "name": "python3"
  },
  "language_info": {
   "codemirror_mode": {
    "name": "ipython",
    "version": 3
   },
   "file_extension": ".py",
   "mimetype": "text/x-python",
   "name": "python",
   "nbconvert_exporter": "python",
   "pygments_lexer": "ipython3",
   "version": "3.11.7"
  }
 },
 "nbformat": 4,
 "nbformat_minor": 5
}
