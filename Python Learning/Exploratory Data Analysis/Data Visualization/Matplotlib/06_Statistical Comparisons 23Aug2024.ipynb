{
 "cells": [
  {
   "cell_type": "markdown",
   "id": "25887f0f-240c-4f97-91e6-8ce18fffb215",
   "metadata": {},
   "source": [
    "<p> \n",
    "\n",
    "- Add a bar with size equal to the mean of the \"Height\" column in the mens_rowing DataFrame and an error-bar of its standard deviation.\n",
    "- Add another bar for the mean of the \"Height\" column in mens_gymnastics with an error-bar of its standard deviation.\n",
    "- Add a label to the the y-axis: \"Height (cm)\".\n",
    "</p>"
   ]
  },
  {
   "cell_type": "code",
   "execution_count": null,
   "id": "a92eb704-b6b5-405a-8670-b76b480c02a6",
   "metadata": {},
   "outputs": [],
   "source": [
    "fig, ax = plt.subplots()\n",
    "\n",
    "# Add a bar for the rowing \"Height\" column mean/std\n",
    "ax.bar(\"Rowing\", mens_rowing[\"Height\"].mean(), yerr=mens_rowing[\"Height\"].std())\n",
    "\n",
    "# Add a bar for the gymnastics \"Height\" column mean/std\n",
    "ax.bar(\"Gymnastics\", mens_gymnastics[\"Height\"].mean(), yerr=mens_gymnastics[\"Height\"].std())\n",
    "\n",
    "# Label the y-axis\n",
    "ax.set_ylabel(\"Height (cm)\")\n",
    "\n",
    "plt.show()"
   ]
  },
  {
   "cell_type": "markdown",
   "id": "7e36933b-0066-4384-8f35-c3129ecee608",
   "metadata": {},
   "source": [
    "<p> \n",
    "\n",
    "- Use the ax.errorbar method to add the Seattle data: the \"MONTH\" column as x values, the \"MLY-TAVG-NORMAL\" as y values and \"MLY-TAVG-STDDEV\" as yerr values.\n",
    "- Add the Austin data: the \"MONTH\" column as x values, the \"MLY-TAVG-NORMAL\" as y values and \"MLY-TAVG-STDDEV\" as yerr values.\n",
    "- Set the y-axis label as \"Temperature (Fahrenheit)\".\n",
    "</p>"
   ]
  },
  {
   "cell_type": "code",
   "execution_count": null,
   "id": "7d949987-369e-4d7f-bbca-8ada7f059ec2",
   "metadata": {},
   "outputs": [],
   "source": [
    "fig, ax = plt.subplots()\n",
    "\n",
    "# Add Seattle temperature data in each month with error bars\n",
    "ax.errorbar(seattle_weather[\"MONTH\"], seattle_weather[\"MLY-TAVG-NORMAL\"], yerr=seattle_weather[\"MLY-TAVG-STDDEV\"])\n",
    "\n",
    "# Add Austin temperature data in each month with error bars\n",
    "ax.errorbar(austin_weather[\"MONTH\"], austin_weather[\"MLY-TAVG-NORMAL\"], yerr=austin_weather[\"MLY-TAVG-STDDEV\"]) \n",
    "\n",
    "# Set the y-axis label\n",
    "ax.set_ylabel(\"Temperature (Fahrenheit)\")\n",
    "\n",
    "plt.show()"
   ]
  },
  {
   "cell_type": "markdown",
   "id": "33b58e99-e58a-41cf-ab08-7abf3279f0f0",
   "metadata": {},
   "source": [
    "<p> \n",
    "\n",
    "- Create a boxplot that contains the \"Height\" column for mens_rowing on the left and mens_gymnastics on the right.\n",
    "- Add x-axis tick labels: \"Rowing\" and \"Gymnastics\".\n",
    "- Add a y-axis label: \"Height (cm)\".\n",
    "</p>"
   ]
  },
  {
   "cell_type": "code",
   "execution_count": null,
   "id": "d158c52b-40e0-4a5e-bb52-9e906c0d05a3",
   "metadata": {},
   "outputs": [],
   "source": [
    "fig, ax = plt.subplots()\n",
    "\n",
    "# Add a boxplot for the \"Height\" column in the DataFrames\n",
    "ax.boxplot([mens_rowing[\"Height\"], mens_gymnastics[\"Height\"]])\n",
    "\n",
    "# Add x-axis tick labels:\n",
    "ax.set_xticklabels([\"Rowing\", \"Gymnastics\"])\n",
    "\n",
    "# Add a y-axis label\n",
    "ax.set_ylabel(\"Height (cm)\")\n",
    "\n",
    "plt.show()"
   ]
  }
 ],
 "metadata": {
  "kernelspec": {
   "display_name": "Python 3 (ipykernel)",
   "language": "python",
   "name": "python3"
  },
  "language_info": {
   "codemirror_mode": {
    "name": "ipython",
    "version": 3
   },
   "file_extension": ".py",
   "mimetype": "text/x-python",
   "name": "python",
   "nbconvert_exporter": "python",
   "pygments_lexer": "ipython3",
   "version": "3.11.7"
  }
 },
 "nbformat": 4,
 "nbformat_minor": 5
}
