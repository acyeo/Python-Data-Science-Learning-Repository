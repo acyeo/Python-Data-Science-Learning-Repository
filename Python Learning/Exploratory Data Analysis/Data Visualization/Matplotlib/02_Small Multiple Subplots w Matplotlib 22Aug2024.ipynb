{
 "cells": [
  {
   "cell_type": "markdown",
   "id": "0cd1c82f-13e7-410b-b0c1-0bb72815b73a",
   "metadata": {},
   "source": [
    "<p> \n",
    "\n",
    "- Create a Figure and an array of subplots with 2 rows and 2 columns.\n",
    "- Addressing the top left Axes as index 0, 0, plot the Seattle precipitation.\n",
    "- In the top right (index 0,1), plot Seattle temperatures.\n",
    "- In the bottom left (1, 0) and bottom right (1, 1) plot Austin precipitations and temperatures.\n",
    "\n",
    "</p>"
   ]
  },
  {
   "cell_type": "code",
   "execution_count": null,
   "id": "42e31569-0d2e-4d78-ad1e-8e82eaeb3456",
   "metadata": {},
   "outputs": [],
   "source": [
    "# Create a Figure and an array of subplots with 2 rows and 2 columns\n",
    "fig, ax = plt.subplots(2, 2)\n",
    "\n",
    "# Addressing the top left Axes as index 0, 0, plot month and Seattle precipitation\n",
    "ax[0, 0].plot(seattle_weather[\"MONTH\"], seattle_weather[\"MLY-PRCP-NORMAL\"])\n",
    "\n",
    "# In the top right (index 0,1), plot month and Seattle temperatures\n",
    "ax[0, 1].plot(seattle_weather[\"MONTH\"], seattle_weather[\"MLY-TAVG-NORMAL\"])\n",
    "\n",
    "# In the bottom left (1, 0) plot month and Austin precipitations\n",
    "ax[1,0].plot(austin_weather[\"MONTH\"], austin_weather[\"MLY-PRCP-NORMAL\"])\n",
    "\n",
    "# In the bottom right (1, 1) plot month and Austin temperatures\n",
    "ax[1,1].plot(austin_weather[\"MONTH\"], austin_weather[\"MLY-TAVG-NORMAL\"])\n",
    "plt.show()"
   ]
  },
  {
   "cell_type": "markdown",
   "id": "bb592696-29e0-4156-9610-3602ee13ac23",
   "metadata": {},
   "source": [
    "<p> \n",
    "\n",
    "- Create a Figure with an array of two Axes objects that share their y-axis range.\n",
    "- Plot Seattle's \"MLY-PRCP-NORMAL\" in a solid blue line in the top Axes.\n",
    "- Add Seattle's \"MLY-PRCP-25PCTL\" and \"MLY-PRCP-75PCTL\" in dashed blue lines to the top Axes.\n",
    "- Plot Austin's \"MLY-PRCP-NORMAL\" in a solid red line in the bottom Axes and the \"MLY-PRCP-25PCTL\" and \"MLY-PRCP-75PCTL\" in dashed red lines.\n",
    "\n",
    "</p>"
   ]
  },
  {
   "cell_type": "code",
   "execution_count": null,
   "id": "a3b3d057-a3ff-4723-83ce-6ff2a95eb173",
   "metadata": {},
   "outputs": [],
   "source": [
    "# Create a figure and an array of axes: 2 rows, 1 column with shared y axis\n",
    "fig, ax = plt.subplots(2, 1, sharey=True)\n",
    "\n",
    "# Plot Seattle precipitation data in the top axes\n",
    "ax[0].plot(seattle_weather[\"MONTH\"], seattle_weather[\"MLY-PRCP-NORMAL\"], color = 'b')\n",
    "ax[0].plot(seattle_weather[\"MONTH\"], seattle_weather[\"MLY-PRCP-25PCTL\"], color = 'b', linestyle = '--')\n",
    "ax[0].plot(seattle_weather[\"MONTH\"], seattle_weather[\"MLY-PRCP-75PCTL\"], color = 'b', linestyle = '--')\n",
    "\n",
    "# Plot Austin precipitation data in the bottom axes\n",
    "ax[1].plot(austin_weather[\"MONTH\"], austin_weather[\"MLY-PRCP-NORMAL\"], color = 'r')\n",
    "ax[1].plot(austin_weather[\"MONTH\"], austin_weather[\"MLY-PRCP-25PCTL\"], color = 'r', linestyle = '--')\n",
    "ax[1].plot(austin_weather[\"MONTH\"], austin_weather[\"MLY-PRCP-75PCTL\"], color = 'r', linestyle = '--')\n",
    "\n",
    "plt.show()"
   ]
  }
 ],
 "metadata": {
  "kernelspec": {
   "display_name": "Python 3 (ipykernel)",
   "language": "python",
   "name": "python3"
  },
  "language_info": {
   "codemirror_mode": {
    "name": "ipython",
    "version": 3
   },
   "file_extension": ".py",
   "mimetype": "text/x-python",
   "name": "python",
   "nbconvert_exporter": "python",
   "pygments_lexer": "ipython3",
   "version": "3.11.7"
  }
 },
 "nbformat": 4,
 "nbformat_minor": 5
}
