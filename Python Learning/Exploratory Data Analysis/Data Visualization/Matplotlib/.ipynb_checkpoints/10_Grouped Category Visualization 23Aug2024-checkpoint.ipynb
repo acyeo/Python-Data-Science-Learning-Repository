{
 "cells": [
  {
   "cell_type": "markdown",
   "id": "ed58a5ba-3534-4980-ae6d-a3c91226b9d7",
   "metadata": {},
   "source": [
    "<p> \n",
    "\n",
    "- Create a variable called sports_column that holds the data from the \"Sport\" column of the DataFrame object.\n",
    "- Use the unique method of this variable to find all the unique different sports that are present in this data, and assign these values into a new variable called sports.\n",
    "- Print the sports variable to the console.\n",
    "\n",
    "</p>"
   ]
  },
  {
   "cell_type": "code",
   "execution_count": null,
   "id": "92680576-4a7c-48c7-9ade-b3f2c08073df",
   "metadata": {},
   "outputs": [],
   "source": [
    "# Extract the \"Sport\" column\n",
    "sports_column = summer_2016_medals[\"Sport\"]\n",
    "\n",
    "# Find the unique values of the \"Sport\" column\n",
    "sports = sports_column.unique()\n",
    "\n",
    "# Print out the unique sports values\n",
    "print(sports)\n",
    "\n",
    "#correct output: \n",
    "\n",
    "['Rowing' 'Taekwondo' 'Handball' 'Wrestling' 'Gymnastics' 'Swimming'\n",
    " 'Basketball' 'Boxing' 'Volleyball' 'Athletics']"
   ]
  },
  {
   "cell_type": "markdown",
   "id": "1a947905-9f2b-4553-926f-94ab2de1dfab",
   "metadata": {},
   "source": [
    "<p> \n",
    "\n",
    "- Iterate over the values of sports setting sport as your loop variable.\n",
    "- In each iteration, extract the rows where the \"Sport\" column is equal to sport.\n",
    "- Add a bar to the provided ax object, labeled with the sport name, with the mean of the \"Weight\" column as its height, and the standard deviation as a y-axis error bar.\n",
    "- Save the figure into the file \"sports_weights.png\".\n",
    "\n",
    "</p>"
   ]
  },
  {
   "cell_type": "code",
   "execution_count": null,
   "id": "ccc42c42-0eb7-462f-a26b-f31b0598e93f",
   "metadata": {},
   "outputs": [],
   "source": [
    "fig, ax = plt.subplots()\n",
    "\n",
    "# Loop over the different sports branches\n",
    "for sport in sports:\n",
    "  # Extract the rows only for this sport\n",
    "  sport_df = summer_2016_medals[summer_2016_medals[\"Sport\"]==sport]\n",
    "  # Add a bar for the \"Weight\" mean with std y error bar\n",
    "  ax.bar(sport, sport_df[\"Weight\"].mean(), yerr = sport_df[\"Weight\"].std())\n",
    "\n",
    "ax.set_ylabel(\"Weight\")\n",
    "ax.set_xticklabels(sports, rotation=90)\n",
    "\n",
    "# Save the figure to file\n",
    "fig.savefig(\"sports_weights.png\")"
   ]
  }
 ],
 "metadata": {
  "kernelspec": {
   "display_name": "Python 3 (ipykernel)",
   "language": "python",
   "name": "python3"
  },
  "language_info": {
   "codemirror_mode": {
    "name": "ipython",
    "version": 3
   },
   "file_extension": ".py",
   "mimetype": "text/x-python",
   "name": "python",
   "nbconvert_exporter": "python",
   "pygments_lexer": "ipython3",
   "version": "3.11.7"
  }
 },
 "nbformat": 4,
 "nbformat_minor": 5
}
