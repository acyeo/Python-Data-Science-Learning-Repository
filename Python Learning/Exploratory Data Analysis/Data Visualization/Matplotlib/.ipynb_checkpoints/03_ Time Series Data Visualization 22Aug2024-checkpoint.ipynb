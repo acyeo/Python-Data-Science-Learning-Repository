{
 "cells": [
  {
   "cell_type": "markdown",
   "id": "5d153adb-cfae-41f6-8c18-d795d05a32f9",
   "metadata": {},
   "source": [
    "<p> \n",
    "\n",
    "- Import the pandas library as pd.\n",
    "- Read in the data from a CSV file called 'climate_change.csv' using pd.read_csv.\n",
    "- Use the parse_dates key-word argument to parse the \"date\" column as dates.\n",
    "- Use the index_col key-word argument to set the \"date\" column as the index.\n",
    "</p>"
   ]
  },
  {
   "cell_type": "code",
   "execution_count": null,
   "id": "8a90a335-7827-4b46-9dfc-eb7edbe35557",
   "metadata": {},
   "outputs": [],
   "source": [
    "# Import pandas as pd\n",
    "import pandas as pd\n",
    "\n",
    "# Read the data from file using read_csv\n",
    "climate_change = pd.read_csv('climate_change.csv', parse_dates=[\"date\"], index_col=[\"date\"])"
   ]
  },
  {
   "cell_type": "markdown",
   "id": "4144a1d6-91e2-4045-9b19-7b12670de36e",
   "metadata": {},
   "source": [
    "<p> \n",
    "\n",
    "- Add the data from climate_change to the plot: use the DataFrame index for the x value and the \"relative_temp\" column for the y values.\n",
    "- Set the x-axis label to 'Time'.\n",
    "- Set the y-axis label to 'Relative temperature (Celsius)'.\n",
    "- Show the figure.\n",
    "</p>"
   ]
  },
  {
   "cell_type": "code",
   "execution_count": null,
   "id": "86114139-5356-47e9-8434-31cfee169d67",
   "metadata": {},
   "outputs": [],
   "source": [
    "import matplotlib.pyplot as plt\n",
    "fig, ax = plt.subplots()\n",
    "\n",
    "# Add the time-series for \"relative_temp\" to the plot\n",
    "ax.plot(climate_change.index, climate_change[\"relative_temp\"])\n",
    "\n",
    "# Set the x-axis label\n",
    "ax.set_xlabel('Time')\n",
    "\n",
    "# Set the y-axis label\n",
    "ax.set_ylabel('Relative temperature (Celsius)')\n",
    "\n",
    "# Show the figure\n",
    "plt.show()"
   ]
  },
  {
   "cell_type": "markdown",
   "id": "e20ce4de-4bc4-49cc-ac85-3699dd54b473",
   "metadata": {},
   "source": [
    "<p> \n",
    "\n",
    "- Use plt.subplots to create a Figure with one Axes called fig and ax, respectively.\n",
    "- Create a variable called seventies that includes all the data between \"1970-01-01\" and \"1979-12-31\".\n",
    "- Add the data from seventies to the plot: use the DataFrame index for the x value and the \"co2\" column for the y values.\n",
    "</p>"
   ]
  },
  {
   "cell_type": "code",
   "execution_count": null,
   "id": "154b4e74-6a8d-4262-9ed0-83865ff1ef8e",
   "metadata": {},
   "outputs": [],
   "source": [
    "import matplotlib.pyplot as plt\n",
    "\n",
    "# Use plt.subplots to create fig and ax\n",
    "fig, ax = plt.subplots()\n",
    "\n",
    "# Create variable seventies with data from \"1970-01-01\" to \"1979-12-31\"\n",
    "seventies = climate_change[\"1970-01-01\":\"1979-12-31\"]\n",
    "\n",
    "# Add the time-series for \"co2\" data from seventies to the plot\n",
    "ax.plot(seventies.index, seventies[\"co2\"])\n",
    "\n",
    "# Show the figure\n",
    "plt.show()"
   ]
  },
  {
   "cell_type": "markdown",
   "id": "369c0f38-08d8-4884-8488-21779633df4a",
   "metadata": {},
   "source": [
    "<p> \n",
    "\n",
    "- Use plt.subplots to create a Figure and Axes objects called fig and ax, respectively.\n",
    "- Plot the carbon dioxide variable in blue using the Axes plot method.\n",
    "- Use the Axes twinx method to create a twin Axes that shares the x-axis.\n",
    "- Plot the relative temperature variable in red on the twin Axes using its plot method.\n",
    "</p>"
   ]
  },
  {
   "cell_type": "code",
   "execution_count": null,
   "id": "ad4e1f9c-edc6-42ce-af78-9fad8b34cff3",
   "metadata": {},
   "outputs": [],
   "source": [
    "import matplotlib.pyplot as plt\n",
    "\n",
    "# Initalize a Figure and Axes\n",
    "fig, ax = plt.subplots()\n",
    "\n",
    "# Plot the CO2 variable in blue\n",
    "ax.plot(climate_change.index, climate_change[\"co2\"], color='b')\n",
    "\n",
    "# Create a twin Axes that shares the x-axis\n",
    "ax2 = ax.twinx()\n",
    "\n",
    "# Plot the relative temperature in red\n",
    "ax2.plot(climate_change.index, climate_change[\"relative_temp\"], color='r')\n",
    "\n",
    "plt.show()"
   ]
  },
  {
   "cell_type": "markdown",
   "id": "79d2c459-9b07-4356-908e-5e784e087426",
   "metadata": {},
   "source": [
    "<p> \n",
    "\n",
    "- Define a function called plot_timeseries that takes as input an Axes object (axes), data (x,y), a string with the name of a color and strings for x- and y-axis labels.\n",
    "- Plot y as a function of in the color provided as the input color.\n",
    "- Set the x- and y-axis labels using the provided input xlabel and ylabel, setting the y-axis label color using color.\n",
    "- Set the y-axis tick parameters using the tick_params method of the Axes object, setting the colors key-word to color.\n",
    "</p>"
   ]
  },
  {
   "cell_type": "code",
   "execution_count": null,
   "id": "ac64d055-e677-40a9-913c-ca80716f23ce",
   "metadata": {},
   "outputs": [],
   "source": [
    "# Define a function called plot_timeseries\n",
    "def plot_timeseries(axes, x, y, color, xlabel, ylabel):\n",
    "\n",
    "  # Plot the inputs x,y in the provided color\n",
    "  axes.plot(x, y, color=color)\n",
    "\n",
    "  # Set the x-axis label\n",
    "  axes.set_xlabel(xlabel)\n",
    "\n",
    "  # Set the y-axis label\n",
    "  axes.set_ylabel(ylabel, color=color)\n",
    "\n",
    "  # Set the colors tick params for y-axis\n",
    "  axes.tick_params('y', colors=color)"
   ]
  },
  {
   "cell_type": "markdown",
   "id": "739c57a1-8097-4ade-87bd-f610f5af7571",
   "metadata": {},
   "source": [
    "<p> \n",
    "\n",
    "- In the provided ax object, use the function plot_timeseries to plot the \"co2\" column in blue, with the x-axis label \"Time (years)\" and y-axis label \"CO2 levels\".\n",
    "- Use the ax.twinx method to add an Axes object to the figure that shares the x-axis with ax.\n",
    "- Use the function plot_timeseries to add the data in the \"relative_temp\" column in red to the twin Axes object, with the x-axis label \"Time (years)\" and y-axis label \"Relative temperature (Celsius)\".\n",
    "</p>"
   ]
  },
  {
   "cell_type": "code",
   "execution_count": null,
   "id": "fa9bb241-cf1d-4b73-ba23-0d5ec0914279",
   "metadata": {},
   "outputs": [],
   "source": [
    "fig, ax = plt.subplots()\n",
    "\n",
    "# Plot the CO2 levels time-series in blue\n",
    "plot_timeseries(ax, climate_change.index, climate_change[\"co2\"], \"blue\", \"Time (years)\", \"CO2 levels\")\n",
    "\n",
    "# Create a twin Axes object that shares the x-axis\n",
    "ax2 = ax.twinx()\n",
    "\n",
    "# Plot the relative temperature data in red\n",
    "plot_timeseries(ax2, climate_change.index, climate_change[\"relative_temp\"], \"red\", \"Time (years)\", \"Relative temperature (Celsius)\")\n",
    "\n",
    "plt.show()"
   ]
  },
  {
   "cell_type": "markdown",
   "id": "6c46dde1-9aa8-4bf6-8be8-7badb1b7bd7a",
   "metadata": {},
   "source": [
    "<p> \n",
    "\n",
    "- Use the ax.plot method to plot the DataFrame index against the relative_temp column.\n",
    "- Use the annotate method to add the text '>1 degree' in the location (pd.Timestamp('2015-10-06'), 1). x-axis label \"Time (years)\" and y-axis label \"Relative temperature (Celsius)\".\n",
    "</p>"
   ]
  },
  {
   "cell_type": "code",
   "execution_count": null,
   "id": "e24311ab-ea3b-4c52-8271-d0b2dc9359ff",
   "metadata": {},
   "outputs": [],
   "source": [
    "fig, ax = plt.subplots()\n",
    "\n",
    "# Plot the relative temperature data\n",
    "ax.plot(climate_change.index, climate_change[\"relative_temp\"])\n",
    "\n",
    "# Annotate the date at which temperatures exceeded 1 degree\n",
    "ax.annotate('>1 degree', xy = (pd.Timestamp('2015-10-06'), 1))\n",
    "\n",
    "plt.show()"
   ]
  },
  {
   "cell_type": "markdown",
   "id": "abb4b65c-1e08-466b-8fbd-4c151812e2e3",
   "metadata": {},
   "source": [
    "<p> \n",
    "\n",
    "- Use the plot_timeseries function to plot CO2 levels against time. Set xlabel to \"Time (years)\" ylabel to \"CO2 levels\" and color to 'blue'.\n",
    "- Create ax2, as a twin of the first Axes.\n",
    "- In ax2, plot temperature against time, setting the color ylabel to \"Relative temp (Celsius)\" and color to 'red'.\n",
    "- Annotate the data using the ax2.annotate method. Place the text \">1 degree\" in x=pd.Timestamp('2008-10-06'), y=-0.2 pointing with a gray thin arrow to x=pd.Timestamp('2015-10-06'), y = 1.\n",
    "</p>"
   ]
  },
  {
   "cell_type": "code",
   "execution_count": null,
   "id": "30b6c712-b7ef-4741-a599-df3c86b326e6",
   "metadata": {},
   "outputs": [],
   "source": [
    "fig, ax = plt.subplots()\n",
    "\n",
    "# Plot the CO2 levels time-series in blue\n",
    "plot_timeseries(ax, climate_change.index, climate_change[\"co2\"], \"blue\", \"Time (years)\", \"CO2 levels\")\n",
    "\n",
    "# Create an Axes object that shares the x-axis\n",
    "ax2 = ax.twinx()\n",
    "\n",
    "# Plot the relative temperature data in red\n",
    "plot_timeseries(ax2, climate_change.index, climate_change[\"relative_temp\"], \"red\", \"Time (years)\", \"Relative temperature (Celsius)\")\n",
    "\n",
    "# Annotate point with relative temperature >1 degree\n",
    "ax2.annotate(\">1 degree\", xy=(pd.Timestamp('2015-10-06'), 1), xytext=(pd.Timestamp('2008-10-06'), -0.2), arrowprops={'arrowstyle':'->', 'color':'gray'})\n",
    "\n",
    "plt.show()"
   ]
  },
  {
   "cell_type": "code",
   "execution_count": null,
   "id": "d12e0185-c8d8-4fac-954d-16416baf3e70",
   "metadata": {},
   "outputs": [],
   "source": []
  }
 ],
 "metadata": {
  "kernelspec": {
   "display_name": "Python 3 (ipykernel)",
   "language": "python",
   "name": "python3"
  },
  "language_info": {
   "codemirror_mode": {
    "name": "ipython",
    "version": 3
   },
   "file_extension": ".py",
   "mimetype": "text/x-python",
   "name": "python",
   "nbconvert_exporter": "python",
   "pygments_lexer": "ipython3",
   "version": "3.11.7"
  }
 },
 "nbformat": 4,
 "nbformat_minor": 5
}
