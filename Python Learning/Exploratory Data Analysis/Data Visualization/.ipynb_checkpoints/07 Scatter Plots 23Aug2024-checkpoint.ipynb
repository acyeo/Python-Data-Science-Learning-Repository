{
 "cells": [
  {
   "cell_type": "markdown",
   "id": "2cd45022-b7c8-48d3-94f3-6dfe64485299",
   "metadata": {},
   "source": [
    "<p> \n",
    "\n",
    "- Using the ax.scatter method, add the data to the plot: \"co2\" on the x-axis and \"relative_temp\" on the y-axis.\n",
    "- Set the x-axis label to \"CO2 (ppm)\".\n",
    "- Set the y-axis label to \"Relative temperature (C)\".\n",
    "</p>"
   ]
  },
  {
   "cell_type": "code",
   "execution_count": null,
   "id": "0d9c386a-c6c4-4d15-bb0d-1e197f572dce",
   "metadata": {},
   "outputs": [],
   "source": [
    "fig, ax = plt.subplots()\n",
    "\n",
    "# Add data: \"co2\" on x-axis, \"relative_temp\" on y-axis\n",
    "ax.scatter(climate_change[\"co2\"], climate_change[\"relative_temp\"])\n",
    "\n",
    "# Set the x-axis label to \"CO2 (ppm)\"\n",
    "ax.set_xlabel(\"CO2 (ppm)\")\n",
    "\n",
    "# Set the y-axis label to \"Relative temperature (C)\"\n",
    "ax.set_ylabel(\"Relative temperature (C)\")\n",
    "\n",
    "plt.show()"
   ]
  },
  {
   "cell_type": "markdown",
   "id": "c8dc3e46-5c12-44a1-99e9-c191f5c9ce55",
   "metadata": {},
   "source": [
    "<p> \n",
    "\n",
    "- Using the ax.scatter method add a scatter plot of the \"co2\" column (x-axis) against the \"relative_temp\" column.\n",
    "- Use the c key-word argument to pass in the index of the DataFrame as input to color each point according to its date.\n",
    "- Set the x-axis label to \"CO2 (ppm)\" and the y-axis label to \"Relative temperature (C)\".\n",
    "</p>"
   ]
  },
  {
   "cell_type": "code",
   "execution_count": null,
   "id": "743cda06-6e85-45b2-9525-4cf6a2f6be40",
   "metadata": {},
   "outputs": [],
   "source": [
    "fig, ax = plt.subplots()\n",
    "\n",
    "# Add data: \"co2\", \"relative_temp\" as x-y, index as color\n",
    "ax.scatter(climate_change[\"co2\"], climate_change[\"relative_temp\"], c=climate_change.index)\n",
    "\n",
    "# Set the x-axis label to \"CO2 (ppm)\"\n",
    "ax.set_xlabel(\"CO2 (ppm)\")\n",
    "\n",
    "# Set the y-axis label to \"Relative temperature (C)\"\n",
    "ax.set_ylabel(\"Relative temperature (C)\")\n",
    "\n",
    "plt.show()"
   ]
  },
  {
   "cell_type": "code",
   "execution_count": null,
   "id": "ae57077b-a6a0-4fe3-808e-5d4cd21800f6",
   "metadata": {},
   "outputs": [],
   "source": []
  }
 ],
 "metadata": {
  "kernelspec": {
   "display_name": "Python 3 (ipykernel)",
   "language": "python",
   "name": "python3"
  },
  "language_info": {
   "codemirror_mode": {
    "name": "ipython",
    "version": 3
   },
   "file_extension": ".py",
   "mimetype": "text/x-python",
   "name": "python",
   "nbconvert_exporter": "python",
   "pygments_lexer": "ipython3",
   "version": "3.11.7"
  }
 },
 "nbformat": 4,
 "nbformat_minor": 5
}
