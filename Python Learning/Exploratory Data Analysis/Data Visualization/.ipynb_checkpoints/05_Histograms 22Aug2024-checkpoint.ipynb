{
 "cells": [
  {
   "cell_type": "markdown",
   "id": "f46cc938-6afe-4376-937c-c8e9166feb86",
   "metadata": {},
   "source": [
    "<p> \n",
    "    \n",
    "- Use the ax.hist method to add a histogram of the \"Weight\" column from the mens_rowing DataFrame.\n",
    "- Use ax.hist to add a histogram of \"Weight\" for the mens_gymnastics DataFrame.\n",
    "- Set the x-axis label to \"Weight (kg)\" and the y-axis label to \"# of observations\".\n",
    "\n",
    "</p>"
   ]
  },
  {
   "cell_type": "code",
   "execution_count": null,
   "id": "ad4eb384-2071-4946-85d2-df01d7b3dfc8",
   "metadata": {},
   "outputs": [],
   "source": [
    "fig, ax = plt.subplots()\n",
    "# Plot a histogram of \"Weight\" for mens_rowing\n",
    "ax.hist(mens_rowing[\"Weight\"])\n",
    "\n",
    "# Compare to histogram of \"Weight\" for mens_gymnastics\n",
    "ax.hist(mens_gymnastics[\"Weight\"])\n",
    "\n",
    "# Set the x-axis label to \"Weight (kg)\"\n",
    "ax.set_xlabel(\"Weight (kg)\")\n",
    "\n",
    "# Set the y-axis label to \"# of observations\"\n",
    "ax.set_ylabel(\"# of observations\")\n",
    "\n",
    "plt.show()"
   ]
  },
  {
   "cell_type": "markdown",
   "id": "2a92713e-850d-47b6-8023-3e58a08d79c7",
   "metadata": {},
   "source": [
    "<p> \n",
    "    \n",
    "- Use the hist method to display a histogram of the \"Weight\" column from the mens_rowing DataFrame, label this as \"Rowing\".\n",
    "- Use hist to display a histogram of the \"Weight\" column from the mens_gymnastics DataFrame, and label this as \"Gymnastics\".\n",
    "- For both histograms, use the histtype argument to visualize the data using the 'step' type and set the number of bins to use to 5.\n",
    "- Add a legend to the figure, before it is displayed.\n",
    "\n",
    "</p>"
   ]
  },
  {
   "cell_type": "code",
   "execution_count": null,
   "id": "3327b8f9-1e1a-4daf-a00f-10c465506638",
   "metadata": {},
   "outputs": [],
   "source": [
    "fig, ax = plt.subplots()\n",
    "\n",
    "# Plot a histogram of \"Weight\" for mens_rowing\n",
    "ax.hist(mens_rowing[\"Weight\"], label=\"Rowing\", histtype=\"step\", bins=5)\n",
    "\n",
    "# Compare to histogram of \"Weight\" for mens_gymnastics\n",
    "ax.hist(mens_gymnastics[\"Weight\"], label=\"Gymnastics\", histtype=\"step\", bins=5)\n",
    "\n",
    "ax.set_xlabel(\"Weight (kg)\")\n",
    "ax.set_ylabel(\"# of observations\")\n",
    "\n",
    "# Add the legend and show the Figure\n",
    "ax.legend()\n",
    "plt.show()"
   ]
  },
  {
   "cell_type": "code",
   "execution_count": null,
   "id": "89d3b057-c50b-4b35-8520-1ef81557597e",
   "metadata": {},
   "outputs": [],
   "source": []
  }
 ],
 "metadata": {
  "kernelspec": {
   "display_name": "Python 3 (ipykernel)",
   "language": "python",
   "name": "python3"
  },
  "language_info": {
   "codemirror_mode": {
    "name": "ipython",
    "version": 3
   },
   "file_extension": ".py",
   "mimetype": "text/x-python",
   "name": "python",
   "nbconvert_exporter": "python",
   "pygments_lexer": "ipython3",
   "version": "3.11.7"
  }
 },
 "nbformat": 4,
 "nbformat_minor": 5
}
