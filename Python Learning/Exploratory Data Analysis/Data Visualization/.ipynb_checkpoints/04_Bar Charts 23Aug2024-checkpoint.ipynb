{
 "cells": [
  {
   "cell_type": "markdown",
   "id": "a1750513-eaa0-4ea5-8022-8f3f1c24dc2d",
   "metadata": {},
   "source": [
    "<p> \n",
    "\n",
    "- Call the ax.bar method to plot the \"Gold\" column as a function of the country.\n",
    "- Use the ax.set_xticklabels to set the x-axis tick labels to be the country names.\n",
    "- In the call to ax.set_xticklabels rotate the x-axis tick labels by 90 degrees by using the rotation key-word argument.\n",
    "- Set the y-axis label to \"Number of medals\".\n",
    "</p>"
   ]
  },
  {
   "cell_type": "code",
   "execution_count": null,
   "id": "241459bd-06bb-443b-83c1-7b52f92e3d25",
   "metadata": {},
   "outputs": [],
   "source": [
    "fig, ax = plt.subplots()\n",
    "\n",
    "# Plot a bar-chart of gold medals as a function of country\n",
    "ax.bar(medals.index, medals[\"Gold\"])\n",
    "\n",
    "# Set the x-axis tick labels to the country names\n",
    "ax.set_xticklabels(medals.index, rotation = 90)\n",
    "\n",
    "# Set the y-axis label\n",
    "ax.set_ylabel(\"Number of medals\")\n",
    "\n",
    "plt.show()"
   ]
  },
  {
   "cell_type": "markdown",
   "id": "a78d8555-c03e-4d99-bd3c-20f7a97495e1",
   "metadata": {},
   "source": [
    "<p> \n",
    "\n",
    "- Call the ax.bar method to add the \"Gold\" medals. Call it with the label set to \"Gold\".\n",
    "- Call the ax.bar method to stack \"Silver\" bars on top of that, using the bottom key-word argument so the bottom of the bars will be on top of the gold medal bars, and label to add the label \"Silver\".\n",
    "- Use ax.bar to add \"Bronze\" bars on top of that, using the bottom key-word and label it as \"Bronze\".\n",
    "</p>"
   ]
  },
  {
   "cell_type": "code",
   "execution_count": null,
   "id": "35e4859d-6596-4add-8a46-6bf7e755a18b",
   "metadata": {},
   "outputs": [],
   "source": [
    "# Add bars for \"Gold\" with the label \"Gold\"\n",
    "ax.bar(medals.index, medals[\"Gold\"], label=\"Gold\")\n",
    "\n",
    "# Stack bars for \"Silver\" on top with label \"Silver\"\n",
    "ax.bar(medals.index, medals[\"Silver\"], bottom=medals[\"Gold\"], label=\"Silver\")\n",
    "\n",
    "# Stack bars for \"Bronze\" on top of that with label \"Bronze\"\n",
    "ax.bar(medals.index, medals[\"Bronze\"], bottom=medals[\"Gold\"]+medals[\"Silver\"], label=\"Bronze\")\n",
    "\n",
    "# Display the legend\n",
    "ax.legend()\n",
    "\n",
    "plt.show()"
   ]
  },
  {
   "cell_type": "code",
   "execution_count": null,
   "id": "34f14101-eda7-4ea5-aedc-eb1f3bea8054",
   "metadata": {},
   "outputs": [],
   "source": []
  }
 ],
 "metadata": {
  "kernelspec": {
   "display_name": "Python 3 (ipykernel)",
   "language": "python",
   "name": "python3"
  },
  "language_info": {
   "codemirror_mode": {
    "name": "ipython",
    "version": 3
   },
   "file_extension": ".py",
   "mimetype": "text/x-python",
   "name": "python",
   "nbconvert_exporter": "python",
   "pygments_lexer": "ipython3",
   "version": "3.11.7"
  }
 },
 "nbformat": 4,
 "nbformat_minor": 5
}
