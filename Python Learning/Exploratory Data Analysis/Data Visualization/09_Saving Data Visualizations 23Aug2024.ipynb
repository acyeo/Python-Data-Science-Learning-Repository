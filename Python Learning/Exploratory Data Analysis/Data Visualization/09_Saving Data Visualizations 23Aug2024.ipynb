{
 "cells": [
  {
   "cell_type": "markdown",
   "id": "288ecddf-0a66-4889-b998-8eb6f2d6eabe",
   "metadata": {},
   "source": [
    "<p>\n",
    "\n",
    "Save the figure into the file my_figure.png, using the default resolution.\n",
    "</p>"
   ]
  },
  {
   "cell_type": "code",
   "execution_count": null,
   "id": "b359e7fc-af9f-4ac9-bb2a-2f3043743a62",
   "metadata": {},
   "outputs": [],
   "source": [
    "# Save as a PNG file\n",
    "fig.savefig(\"my_figure.png\")"
   ]
  },
  {
   "cell_type": "markdown",
   "id": "d3996a12-9cb5-4b23-9bb8-bd8f0e30dbaa",
   "metadata": {},
   "source": [
    "<p>\n",
    "\n",
    "Save the figure into the file my_figure_300dpi.png and set the resolution to 300 dpi.\n",
    "</p>"
   ]
  },
  {
   "cell_type": "code",
   "execution_count": null,
   "id": "e8f9b795-6dbd-46bd-b621-c5d48de328bf",
   "metadata": {},
   "outputs": [],
   "source": [
    "# Save as a PNG file with 300 dpi\n",
    "fig.savefig(\"my_figure_300dpi.png\", dpi=300)"
   ]
  },
  {
   "cell_type": "markdown",
   "id": "0b8abebb-bee1-492c-8af7-1fccb0dc069e",
   "metadata": {},
   "source": [
    "<p>\n",
    "\n",
    "Set the figure size as width of 3 inches and height of 5 inches and save it as 'figure_3_5.png' with default resolution.\n",
    "</p>"
   ]
  },
  {
   "cell_type": "code",
   "execution_count": null,
   "id": "a25a393a-ecff-4195-8b71-41f523a83c69",
   "metadata": {},
   "outputs": [],
   "source": [
    "# Set figure dimensions and save as a PNG\n",
    "fig.set_size_inches([3, 5])\n",
    "fig.savefig('figure_3_5.png')"
   ]
  }
 ],
 "metadata": {
  "kernelspec": {
   "display_name": "Python 3 (ipykernel)",
   "language": "python",
   "name": "python3"
  },
  "language_info": {
   "codemirror_mode": {
    "name": "ipython",
    "version": 3
   },
   "file_extension": ".py",
   "mimetype": "text/x-python",
   "name": "python",
   "nbconvert_exporter": "python",
   "pygments_lexer": "ipython3",
   "version": "3.11.7"
  }
 },
 "nbformat": 4,
 "nbformat_minor": 5
}
