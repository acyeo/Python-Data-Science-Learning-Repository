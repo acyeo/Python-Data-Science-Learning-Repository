{
 "cells": [
  {
   "cell_type": "markdown",
   "id": "696bad71-1709-4658-8791-b2083656a765",
   "metadata": {},
   "source": [
    "<p> \n",
    "\n",
    "- Set the style to \"whitegrid\" to help the audience determine the number of responses in each category.\n",
    "\n",
    "</p>"
   ]
  },
  {
   "cell_type": "code",
   "execution_count": null,
   "id": "7a81b64b-3d46-449a-8efd-9ce0e6d52ea7",
   "metadata": {},
   "outputs": [],
   "source": [
    "# Set the style to \"whitegrid\"\n",
    "sns.set_style(\"whitegrid\")\n",
    "\n",
    "# Create a count plot of survey responses\n",
    "category_order = [\"Never\", \"Rarely\", \"Sometimes\", \n",
    "                  \"Often\", \"Always\"]\n",
    "\n",
    "sns.catplot(x=\"Parents Advice\", \n",
    "            data=survey_data, \n",
    "            kind=\"count\", \n",
    "            order=category_order)\n",
    "\n",
    "# Show plot\n",
    "plt.show()"
   ]
  },
  {
   "cell_type": "markdown",
   "id": "e887e681-8337-4a09-8b69-06585dedae63",
   "metadata": {},
   "source": [
    "<p> \n",
    "\n",
    "- Set the color palette to the sequential palette named \"Purples\".\n",
    "\n",
    "</p>"
   ]
  },
  {
   "cell_type": "code",
   "execution_count": null,
   "id": "66f93736-01ce-46a7-bf61-e1ac76265720",
   "metadata": {},
   "outputs": [],
   "source": [
    "# Set the color palette to \"Purples\"\n",
    "sns.set_style(\"whitegrid\")\n",
    "sns.set_palette(\"Purples\")\n",
    "\n",
    "\n",
    "# Create a count plot of survey responses\n",
    "category_order = [\"Never\", \"Rarely\", \"Sometimes\", \n",
    "                  \"Often\", \"Always\"]\n",
    "\n",
    "sns.catplot(x=\"Parents Advice\", \n",
    "            data=survey_data, \n",
    "            kind=\"count\", \n",
    "            order=category_order)\n",
    "\n",
    "# Show plot\n",
    "plt.show()"
   ]
  },
  {
   "cell_type": "markdown",
   "id": "976f513c-74f4-4b2a-b05d-34cba5de6a6e",
   "metadata": {},
   "source": [
    "<p> \n",
    "\n",
    "- Set the scale (\"context\") to \"paper\", which is the smallest of the scale options.\n",
    "\n",
    "</p>"
   ]
  },
  {
   "cell_type": "code",
   "execution_count": null,
   "id": "0c3f9fa0-4def-4395-a558-d29cd9a27f0a",
   "metadata": {},
   "outputs": [],
   "source": [
    "# Change the context to \"notebook\"\n",
    "sns.set_context(\"paper\")\n",
    "\n",
    "# Create bar plot\n",
    "sns.catplot(x=\"Number of Siblings\", y=\"Feels Lonely\",\n",
    "            data=survey_data, kind=\"bar\")\n",
    "\n",
    "# Show plot\n",
    "plt.show()"
   ]
  },
  {
   "cell_type": "markdown",
   "id": "f2dfeb5d-e8c1-4d08-bc76-b9a02021b7c3",
   "metadata": {},
   "source": [
    "<p> \n",
    "\n",
    "- Change the context to \"notebook\" to increase the scale.\n",
    "\n",
    "</p>"
   ]
  },
  {
   "cell_type": "code",
   "execution_count": null,
   "id": "96535d75-bca4-4c07-8c76-f427b59ce870",
   "metadata": {},
   "outputs": [],
   "source": [
    "# Change the context to \"notebook\"\n",
    "sns.set_context(\"notebook\")\n",
    "\n",
    "# Create bar plot\n",
    "sns.catplot(x=\"Number of Siblings\", y=\"Feels Lonely\",\n",
    "            data=survey_data, kind=\"bar\")\n",
    "\n",
    "# Show plot\n",
    "plt.show()"
   ]
  },
  {
   "cell_type": "markdown",
   "id": "710d61eb-68e2-4ae7-94cf-df3b6124003e",
   "metadata": {},
   "source": [
    "<p> \n",
    "\n",
    "- Set the style to \"darkgrid\".\n",
    "- Set a custom color palette with the hex color codes \"#39A7D0\" and \"#36ADA4\".\n",
    "\n",
    "</p>"
   ]
  },
  {
   "cell_type": "code",
   "execution_count": null,
   "id": "08bbed60-655d-4f4d-8ad3-5470afc31662",
   "metadata": {},
   "outputs": [],
   "source": [
    "# Set the style to \"darkgrid\"\n",
    "sns.set_style(\"darkgrid\")\n",
    "\n",
    "# Set a custom color palette\n",
    "sns.set_palette([\"#39A7D0\", \"#36ADA4\"])\n",
    "\n",
    "# Create the box plot of age distribution by gender\n",
    "sns.catplot(x=\"Gender\", y=\"Age\", \n",
    "            data=survey_data, kind=\"box\")\n",
    "\n",
    "# Show plot\n",
    "plt.show()"
   ]
  }
 ],
 "metadata": {
  "kernelspec": {
   "display_name": "Python 3 (ipykernel)",
   "language": "python",
   "name": "python3"
  },
  "language_info": {
   "codemirror_mode": {
    "name": "ipython",
    "version": 3
   },
   "file_extension": ".py",
   "mimetype": "text/x-python",
   "name": "python",
   "nbconvert_exporter": "python",
   "pygments_lexer": "ipython3",
   "version": "3.11.7"
  }
 },
 "nbformat": 4,
 "nbformat_minor": 5
}
