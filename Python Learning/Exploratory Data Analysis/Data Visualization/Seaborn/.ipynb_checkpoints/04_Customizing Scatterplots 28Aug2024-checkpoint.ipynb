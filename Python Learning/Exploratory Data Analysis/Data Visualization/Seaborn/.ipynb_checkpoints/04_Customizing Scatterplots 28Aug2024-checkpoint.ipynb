{
 "cells": [
  {
   "cell_type": "markdown",
   "id": "c2d976b8-4a7a-41b9-9b80-2b3cfe4aa768",
   "metadata": {},
   "source": [
    "<p> \n",
    "\n",
    "- Use relplot() and the mpg DataFrame to create a scatter plot with \"horsepower\" on the x-axis and \"mpg\" on the y-axis. Vary the size of the points by the number of cylinders in the car (\"cylinders\").\n",
    "</p>"
   ]
  },
  {
   "cell_type": "code",
   "execution_count": null,
   "id": "9890faf1-e2a6-4540-bea0-a40729f4afeb",
   "metadata": {},
   "outputs": [],
   "source": [
    "# Import Matplotlib and Seaborn\n",
    "import matplotlib.pyplot as plt\n",
    "import seaborn as sns\n",
    "\n",
    "# Create scatter plot of horsepower vs. mpg\n",
    "sns.relplot(x=\"horsepower\", y=\"mpg\", \n",
    "            data=mpg,\n",
    "            kind=\"scatter\",size=\"cylinders\")\n",
    "\n",
    "\n",
    "\n",
    "# Show plot\n",
    "plt.show()"
   ]
  },
  {
   "cell_type": "markdown",
   "id": "67452cef-02d7-467a-a3e9-8fcbbaa56ace",
   "metadata": {},
   "source": [
    "<p> \n",
    "\n",
    "- To make this plot easier to read, use hue to vary the color of the points by the number of cylinders in the car (\"cylinders\").\n",
    "</p>"
   ]
  },
  {
   "cell_type": "code",
   "execution_count": null,
   "id": "04f322ae-7fb5-4f96-b691-6c0eea5e771b",
   "metadata": {},
   "outputs": [],
   "source": [
    "# Create scatter plot of horsepower vs. mpg\n",
    "sns.relplot(x=\"horsepower\", y=\"mpg\", \n",
    "            data=mpg, kind=\"scatter\", \n",
    "            size=\"cylinders\", hue=\"cylinders\")\n",
    "\n",
    "# Show plot\n",
    "plt.show()"
   ]
  },
  {
   "cell_type": "markdown",
   "id": "fd024f78-89ae-4bf4-ac9a-45ea6574b3a3",
   "metadata": {},
   "source": [
    "<p> \n",
    "\n",
    "- Use relplot() and the mpg DataFrame to create a scatter plot with \"acceleration\" on the x-axis and \"mpg\" on the y-axis. Vary the style and color of the plot points by country of origin (\"origin\").\n",
    "</p>"
   ]
  },
  {
   "cell_type": "code",
   "execution_count": null,
   "id": "7cfb09df-0623-4ca5-bc89-21295f8de3d3",
   "metadata": {},
   "outputs": [],
   "source": [
    "# Create a scatter plot of acceleration vs. mpg\n",
    "sns.relplot(x=\"acceleration\", y=\"mpg\", \n",
    "            data=mpg, kind=\"scatter\", \n",
    "            style=\"origin\", hue=\"origin\")\n",
    "\n",
    "\n",
    "\n",
    "# Show plot\n",
    "plt.show()"
   ]
  },
  {
   "cell_type": "code",
   "execution_count": null,
   "id": "f70c41eb-c3b1-49f4-82d1-573ec182ceb0",
   "metadata": {},
   "outputs": [],
   "source": []
  }
 ],
 "metadata": {
  "kernelspec": {
   "display_name": "Python 3 (ipykernel)",
   "language": "python",
   "name": "python3"
  },
  "language_info": {
   "codemirror_mode": {
    "name": "ipython",
    "version": 3
   },
   "file_extension": ".py",
   "mimetype": "text/x-python",
   "name": "python",
   "nbconvert_exporter": "python",
   "pygments_lexer": "ipython3",
   "version": "3.11.7"
  }
 },
 "nbformat": 4,
 "nbformat_minor": 5
}
