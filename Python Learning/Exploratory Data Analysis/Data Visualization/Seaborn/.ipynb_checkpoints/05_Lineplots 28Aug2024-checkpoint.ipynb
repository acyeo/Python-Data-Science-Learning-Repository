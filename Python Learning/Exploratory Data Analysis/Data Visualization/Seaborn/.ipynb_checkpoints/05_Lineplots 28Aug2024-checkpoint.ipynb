{
 "cells": [
  {
   "cell_type": "markdown",
   "id": "daa1c362-aee0-44e7-b8d9-fbc18415a0a2",
   "metadata": {},
   "source": [
    "<p> \n",
    "\n",
    "- Use relplot() and the mpg DataFrame to create a line plot with \"model_year\" on the x-axis and \"mpg\" on the y-axis\n",
    "</p>"
   ]
  },
  {
   "cell_type": "code",
   "execution_count": null,
   "id": "3bc26125-6d57-4488-83d0-4336d20eaaf3",
   "metadata": {},
   "outputs": [],
   "source": [
    "# Import Matplotlib and Seaborn\n",
    "import matplotlib.pyplot as plt\n",
    "import seaborn as sns\n",
    "\n",
    "# Create line plot\n",
    "sns.relplot(x=\"model_year\", y=\"mpg\", \n",
    "            data=mpg, kind=\"line\")\n",
    "\n",
    "\n",
    "# Show plot\n",
    "plt.show()"
   ]
  },
  {
   "cell_type": "markdown",
   "id": "3c7fb113-baa7-4d8d-a0c4-6292a0635750",
   "metadata": {},
   "source": [
    "<p> \n",
    "\n",
    "- Change the plot so the shaded area shows the standard deviation instead of the confidence interval for the mean.\n",
    "</p>"
   ]
  },
  {
   "cell_type": "code",
   "execution_count": null,
   "id": "1791670f-c6cd-433c-b991-47dfd5a66ff4",
   "metadata": {},
   "outputs": [],
   "source": [
    "# Make the shaded area show the standard deviation\n",
    "sns.relplot(x=\"model_year\", y=\"mpg\",\n",
    "            data=mpg, kind=\"line\", ci=\"sd\")\n",
    "\n",
    "# Show plot\n",
    "plt.show()"
   ]
  },
  {
   "cell_type": "markdown",
   "id": "2dee7bac-6d71-4343-95c5-317db68187ec",
   "metadata": {},
   "source": [
    "<p> \n",
    "\n",
    "- Use relplot() and the mpg DataFrame to create a line plot with \"model_year\" on the x-axis and \"horsepower\" on the y-axis. Turn off the confidence intervals on the plot.\n",
    "</p>"
   ]
  },
  {
   "cell_type": "code",
   "execution_count": null,
   "id": "8067e4e4-c413-4c5c-a732-79257d2b1561",
   "metadata": {},
   "outputs": [],
   "source": [
    "# Import Matplotlib and Seaborn\n",
    "import matplotlib.pyplot as plt\n",
    "import seaborn as sns\n",
    "\n",
    "# Create line plot of model year vs. horsepower\n",
    "sns.relplot(x=\"model_year\", y=\"horsepower\",\n",
    "            data=mpg, kind=\"line\", ci=None)\n",
    "\n",
    "\n",
    "\n",
    "# Show plot\n",
    "plt.show()"
   ]
  },
  {
   "cell_type": "markdown",
   "id": "4b80268a-6ed6-4370-b314-bd0466f9b1af",
   "metadata": {},
   "source": [
    "<p> \n",
    "\n",
    "- Create different lines for each country of origin (\"origin\") that vary in both line style and color.\n",
    "</p>"
   ]
  },
  {
   "cell_type": "code",
   "execution_count": null,
   "id": "53176b01-5a9a-4b74-814a-c01cd6f5486d",
   "metadata": {},
   "outputs": [],
   "source": [
    "# Import Matplotlib and Seaborn\n",
    "import matplotlib.pyplot as plt\n",
    "import seaborn as sns\n",
    "\n",
    "# Change to create subgroups for country of origin\n",
    "sns.relplot(x=\"model_year\", y=\"horsepower\", \n",
    "            data=mpg, kind=\"line\", \n",
    "            ci=None, style=\"origin\", hue=\"origin\")\n",
    "\n",
    "# Show plot\n",
    "plt.show()"
   ]
  },
  {
   "cell_type": "markdown",
   "id": "c756bcf6-21c6-40d2-afd2-e71e9d0f91c5",
   "metadata": {},
   "source": [
    "<p> \n",
    "\n",
    "- Add markers for each data point to the lines.\n",
    "- Use the dashes parameter to use solid lines for all countries, while still allowing for different marker styles for each line.\n",
    "</p>"
   ]
  },
  {
   "cell_type": "code",
   "execution_count": null,
   "id": "4306f5ad-3df5-48fd-855f-13bb6d87df1c",
   "metadata": {},
   "outputs": [],
   "source": [
    "# Add markers and make each line have the same style\n",
    "sns.relplot(x=\"model_year\", y=\"horsepower\", \n",
    "            data=mpg, kind=\"line\", \n",
    "            ci=None, style=\"origin\", \n",
    "            hue=\"origin\", markers=True,\n",
    "            dashes=False)\n",
    "\n",
    "# Show plot\n",
    "plt.show()"
   ]
  },
  {
   "cell_type": "code",
   "execution_count": null,
   "id": "996de861-db86-4c2f-8e85-90d58cf856a5",
   "metadata": {},
   "outputs": [],
   "source": []
  }
 ],
 "metadata": {
  "kernelspec": {
   "display_name": "Python 3 (ipykernel)",
   "language": "python",
   "name": "python3"
  },
  "language_info": {
   "codemirror_mode": {
    "name": "ipython",
    "version": 3
   },
   "file_extension": ".py",
   "mimetype": "text/x-python",
   "name": "python",
   "nbconvert_exporter": "python",
   "pygments_lexer": "ipython3",
   "version": "3.11.7"
  }
 },
 "nbformat": 4,
 "nbformat_minor": 5
}
