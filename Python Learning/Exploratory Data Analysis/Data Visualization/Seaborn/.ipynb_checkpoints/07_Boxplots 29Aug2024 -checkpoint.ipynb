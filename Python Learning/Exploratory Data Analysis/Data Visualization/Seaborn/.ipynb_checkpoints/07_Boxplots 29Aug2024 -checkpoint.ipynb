{
 "cells": [
  {
   "cell_type": "markdown",
   "id": "6864cd02-e868-495a-99df-261b47db7523",
   "metadata": {},
   "source": [
    "<p> \n",
    "\n",
    "- Use sns.catplot() and the student_data DataFrame to create a box plot with \"study_time\" on the x-axis and \"G3\" on the y-axis. Set the ordering of the categories to study_time_order.\n",
    "</p>"
   ]
  },
  {
   "cell_type": "code",
   "execution_count": null,
   "id": "86c998f0-25ea-486a-b242-8972599d5c8b",
   "metadata": {},
   "outputs": [],
   "source": [
    "# Specify the category ordering\n",
    "study_time_order = [\"<2 hours\", \"2 to 5 hours\", \n",
    "                    \"5 to 10 hours\", \">10 hours\"]\n",
    "\n",
    "# Create a box plot and set the order of the categories\n",
    "sns.catplot(x=\"study_time\", y=\"G3\", data=student_data, kind=\"box\", order=study_time_order)\n",
    "\n",
    "\n",
    "\n",
    "\n",
    "# Show plot\n",
    "plt.show()"
   ]
  },
  {
   "cell_type": "markdown",
   "id": "a7b8fe1f-d420-4aff-9728-4e04922438d3",
   "metadata": {},
   "source": [
    "<p> \n",
    "\n",
    "- Use sns.catplot() to create a box plot with the student_data DataFrame, putting \"internet\" on the x-axis and \"G3\" on the y-axis.\n",
    "- Add subgroups so each box plot is colored based on \"location\".\n",
    "- Do not display the outliers.\n",
    "</p>"
   ]
  },
  {
   "cell_type": "code",
   "execution_count": null,
   "id": "aa6c6efe-9153-49fc-92d5-aa70f3da1b97",
   "metadata": {},
   "outputs": [],
   "source": [
    "# Create a box plot with subgroups and omit the outliers\n",
    "sns.catplot(x=\"internet\", y=\"G3\", data=student_data, kind=\"box\", hue=\"location\", sym=\"\")\n",
    "\n",
    "\n",
    "\n",
    "\n",
    "\n",
    "# Show plot\n",
    "plt.show()"
   ]
  },
  {
   "cell_type": "markdown",
   "id": "2e8eaf40-a3ed-4cd7-af24-ffe3aefb228f",
   "metadata": {},
   "source": [
    "<p> \n",
    "\n",
    "- Adjust the code to make the box plot whiskers to extend to 0.5 * IQR. Recall: the IQR is the interquartile range.\n",
    "</p>"
   ]
  },
  {
   "cell_type": "code",
   "execution_count": null,
   "id": "55409bbe-3f4b-4265-8dc2-2f43976aa4e0",
   "metadata": {},
   "outputs": [],
   "source": [
    "# Set the whiskers to 0.5 * IQR\n",
    "sns.catplot(x=\"romantic\", y=\"G3\",\n",
    "            data=student_data,\n",
    "            kind=\"box\", whis=0.5)\n",
    "\n",
    "# Show plot\n",
    "plt.show()"
   ]
  },
  {
   "cell_type": "markdown",
   "id": "b6d87ff7-2ecd-49f5-bfdd-3d5a6988713b",
   "metadata": {},
   "source": [
    "<p> \n",
    "\n",
    "- Change the code to set the whiskers to extend to the 5th and 95th percentiles.\n",
    "</p>\n",
    "\n",
    "\n"
   ]
  },
  {
   "cell_type": "code",
   "execution_count": null,
   "id": "5a562a34-289d-48b5-a656-156ca1c1a0f8",
   "metadata": {},
   "outputs": [],
   "source": [
    "sns.catplot(x=\"romantic\", y=\"G3\",\n",
    "            data=student_data,\n",
    "            kind=\"box\",\n",
    "            whis=[5, 95])\n",
    "\n",
    "# Show plot\n",
    "plt.show()"
   ]
  },
  {
   "cell_type": "markdown",
   "id": "c2e52fab-e35f-4fc0-a3c6-b5ea1b22bc80",
   "metadata": {},
   "source": [
    "<p> \n",
    "\n",
    "- Change the code to set the whiskers to extend to the 5th and 95th percentiles.\n",
    "</p>\n",
    "\n",
    "\n"
   ]
  },
  {
   "cell_type": "code",
   "execution_count": null,
   "id": "f145512c-fac4-4597-9085-51f057348735",
   "metadata": {},
   "outputs": [],
   "source": [
    "sns.catplot(x=\"romantic\", y=\"G3\",\n",
    "            data=student_data,\n",
    "            kind=\"box\",\n",
    "            whis=[0, 100])\n",
    "\n",
    "# Show plot\n",
    "plt.show()"
   ]
  }
 ],
 "metadata": {
  "kernelspec": {
   "display_name": "Python 3 (ipykernel)",
   "language": "python",
   "name": "python3"
  },
  "language_info": {
   "codemirror_mode": {
    "name": "ipython",
    "version": 3
   },
   "file_extension": ".py",
   "mimetype": "text/x-python",
   "name": "python",
   "nbconvert_exporter": "python",
   "pygments_lexer": "ipython3",
   "version": "3.11.7"
  }
 },
 "nbformat": 4,
 "nbformat_minor": 5
}
