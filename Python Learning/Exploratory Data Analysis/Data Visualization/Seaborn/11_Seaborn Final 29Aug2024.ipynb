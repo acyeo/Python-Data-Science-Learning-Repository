{
 "cells": [
  {
   "cell_type": "markdown",
   "id": "5f74fdbe-5719-4278-ab07-7e67a1063fdf",
   "metadata": {},
   "source": [
    "<p> \n",
    "\n",
    "- Set the color palette to \"Blues\".\n",
    "- Add subgroups to color the box plots based on \"Interested in Pets\".\n",
    "- Set the title of the FacetGrid object g to \"Age of Those Interested in Pets vs. Not\".\n",
    "- Make the plot display using a Matplotlib function.\n",
    "\n",
    "</p>"
   ]
  },
  {
   "cell_type": "code",
   "execution_count": null,
   "id": "7b80ef06-096d-4375-b1a7-47ad2f2d8552",
   "metadata": {},
   "outputs": [],
   "source": [
    "# Set palette to \"Blues\"\n",
    "sns.set_palette(\"Blues\")\n",
    "\n",
    "# Adjust to add subgroups based on \"Interested in Pets\"\n",
    "g = sns.catplot(x=\"Gender\",\n",
    "                y=\"Age\", data=survey_data, \n",
    "                kind=\"box\", hue=\"Interested in Pets\")\n",
    "\n",
    "# Set title to \"Age of Those Interested in Pets vs. Not\"\n",
    "g.fig.suptitle(\"Age of Those Interested in Pets vs. Not\")\n",
    "\n",
    "# Show plot\n",
    "plt.show()"
   ]
  },
  {
   "cell_type": "markdown",
   "id": "fc15137e-0bc6-4a0a-89e4-19dc2ea35c39",
   "metadata": {},
   "source": [
    "<p> \n",
    "\n",
    "- Set the figure style to \"dark\".\n",
    "- Adjust the bar plot code to add subplots based on \"Gender\", arranged in columns.\n",
    "- Add the title \"Percentage of Young People Who Like Techno\" to this FacetGrid plot.\n",
    "- Label the x-axis \"Location of Residence\" and y-axis \"% Who Like Techno\".\n",
    "\n",
    "</p>"
   ]
  },
  {
   "cell_type": "code",
   "execution_count": null,
   "id": "d05b91d3-486d-42ec-a326-4c5172c1175f",
   "metadata": {},
   "outputs": [],
   "source": [
    "# Set the figure style to \"dark\"\n",
    "sns.set_style(\"dark\")\n",
    "\n",
    "# Adjust to add subplots per gender\n",
    "g = sns.catplot(x=\"Village - town\", y=\"Likes Techno\", \n",
    "                data=survey_data, kind=\"bar\",\n",
    "                col=\"Gender\")\n",
    "\n",
    "# Add title and axis labels\n",
    "g.fig.suptitle(\"Percentage of Young People Who Like Techno\", y=1.02)\n",
    "g.set(xlabel=\"Location of Residence\", \n",
    "       ylabel=\"% Who Like Techno\")\n",
    "\n",
    "# Show plot\n",
    "plt.show()"
   ]
  }
 ],
 "metadata": {
  "kernelspec": {
   "display_name": "Python 3 (ipykernel)",
   "language": "python",
   "name": "python3"
  },
  "language_info": {
   "codemirror_mode": {
    "name": "ipython",
    "version": 3
   },
   "file_extension": ".py",
   "mimetype": "text/x-python",
   "name": "python",
   "nbconvert_exporter": "python",
   "pygments_lexer": "ipython3",
   "version": "3.11.7"
  }
 },
 "nbformat": 4,
 "nbformat_minor": 5
}
