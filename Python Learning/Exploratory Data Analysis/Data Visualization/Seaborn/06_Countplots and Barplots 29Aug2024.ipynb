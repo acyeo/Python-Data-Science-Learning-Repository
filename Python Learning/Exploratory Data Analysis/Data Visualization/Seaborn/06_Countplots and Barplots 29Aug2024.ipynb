{
 "cells": [
  {
   "cell_type": "markdown",
   "id": "51714b22-56b8-437a-889a-ad9072c375ea",
   "metadata": {},
   "source": [
    "<p> \n",
    "\n",
    "- Use sns.catplot() to create a count plot using the survey_data DataFrame with \"Internet usage\" on the x-axis.\n",
    "</p>"
   ]
  },
  {
   "cell_type": "code",
   "execution_count": null,
   "id": "70cf6c60-9d1a-4c46-8b82-e376a6436058",
   "metadata": {},
   "outputs": [],
   "source": [
    "# Create count plot of internet usage\n",
    "sns.catplot(x=\"Internet usage\", data=survey_data, kind=\"count\")\n",
    "\n",
    "\n",
    "# Show plot\n",
    "plt.show()"
   ]
  },
  {
   "cell_type": "markdown",
   "id": "3c041dd6-4ed3-4a96-838c-702218df5f57",
   "metadata": {},
   "source": [
    "<p> \n",
    "\n",
    "- Make the bars horizontal instead of vertical.\n",
    "</p>"
   ]
  },
  {
   "cell_type": "code",
   "execution_count": null,
   "id": "3a02294e-3c2c-4207-9acc-fc78907baaf6",
   "metadata": {},
   "outputs": [],
   "source": [
    "# Change the orientation of the plot\n",
    "sns.catplot(y=\"Internet usage\", data=survey_data,\n",
    "            kind=\"count\")\n",
    "\n",
    "# Show plot\n",
    "plt.show()"
   ]
  },
  {
   "cell_type": "markdown",
   "id": "1fb290d5-5dc3-4b37-88f2-5ae8d7971c5a",
   "metadata": {},
   "source": [
    "<p> \n",
    "\n",
    "- Separate this plot into two side-by-side column subplots based on \"Age Category\", which separates respondents into those that are younger than 21 vs. 21 and older.\n",
    "</p>"
   ]
  },
  {
   "cell_type": "code",
   "execution_count": null,
   "id": "139dc76b-e2fd-45ec-90db-9fcbb73aa458",
   "metadata": {},
   "outputs": [],
   "source": [
    "# Separate into column subplots based on age category\n",
    "sns.catplot(y=\"Internet usage\", data=survey_data,\n",
    "            kind=\"count\", col=\"Age Category\")\n",
    "\n",
    "# Show plot\n",
    "plt.show()"
   ]
  },
  {
   "cell_type": "markdown",
   "id": "85af5c23-29d0-4269-ae62-3b81b9d69c7c",
   "metadata": {},
   "source": [
    "<p> \n",
    "\n",
    "- Use the survey_data DataFrame and sns.catplot() to create a bar plot with \"Gender\" on the x-axis and \"Interested in Math\" on the y-axis.\n",
    "</p>"
   ]
  },
  {
   "cell_type": "code",
   "execution_count": null,
   "id": "ee341fc2-0333-4eaf-a1e2-7fa2ba1fc12a",
   "metadata": {},
   "outputs": [],
   "source": [
    "# Create a bar plot of interest in math, separated by gender\n",
    "sns.catplot(x=\"Gender\", y=\"Interested in Math\", data=survey_data, kind=\"bar\")\n",
    "\n",
    "\n",
    "# Show plot\n",
    "plt.show()"
   ]
  },
  {
   "cell_type": "markdown",
   "id": "ad76bc46-5e8e-47da-91c9-e640e120511f",
   "metadata": {},
   "source": [
    "<p> \n",
    "\n",
    "- Use sns.catplot() to create a bar plot with \"study_time\" on the x-axis and final grade (\"G3\") on the y-axis, using the student_data DataFrame.\n",
    "</p>"
   ]
  },
  {
   "cell_type": "code",
   "execution_count": null,
   "id": "d5beedee-3f23-47be-86f7-9644f6f6fba0",
   "metadata": {},
   "outputs": [],
   "source": [
    "# Create bar plot of average final grade in each study category\n",
    "sns.catplot(x=\"study_time\", y=\"G3\", data=student_data, kind=\"bar\")\n",
    "\n",
    "\n",
    "\n",
    "\n",
    "# Show plot\n",
    "plt.show()"
   ]
  },
  {
   "cell_type": "markdown",
   "id": "7d9c562d-b4b5-46a9-8f09-f2ebbff86653",
   "metadata": {},
   "source": [
    "<p> \n",
    "\n",
    "- Using the order parameter and the category_order list that is provided, rearrange the bars so that they are in order from lowest study time to highest.\n",
    "</p>"
   ]
  },
  {
   "cell_type": "code",
   "execution_count": null,
   "id": "75aa2825-4316-4aaa-8e4e-3243d27700f9",
   "metadata": {},
   "outputs": [],
   "source": [
    "# List of categories from lowest to highest\n",
    "category_order = [\"<2 hours\", \n",
    "                  \"2 to 5 hours\", \n",
    "                  \"5 to 10 hours\", \n",
    "                  \">10 hours\"]\n",
    "\n",
    "# Rearrange the categories\n",
    "sns.catplot(x=\"study_time\", y=\"G3\",\n",
    "            data=student_data,\n",
    "            kind=\"bar\", order=category_order)\n",
    "\n",
    "# Show plot\n",
    "plt.show()"
   ]
  },
  {
   "cell_type": "markdown",
   "id": "fd32b7a8-70e3-4195-adc9-792ec2732bbe",
   "metadata": {},
   "source": [
    "<p> \n",
    "\n",
    "- Update the plot so that it no longer displays confidence intervals.\n",
    "\n",
    "</p>"
   ]
  },
  {
   "cell_type": "code",
   "execution_count": null,
   "id": "e2ac467e-bfcf-4c5a-9643-76ef7b7d10f8",
   "metadata": {},
   "outputs": [],
   "source": [
    "# List of categories from lowest to highest\n",
    "category_order = [\"<2 hours\", \n",
    "                  \"2 to 5 hours\", \n",
    "                  \"5 to 10 hours\", \n",
    "                  \">10 hours\"]\n",
    "\n",
    "# Turn off the confidence intervals\n",
    "sns.catplot(x=\"study_time\", y=\"G3\",\n",
    "            data=student_data,\n",
    "            kind=\"bar\",\n",
    "            order=category_order, ci=None)\n",
    "\n",
    "# Show plot\n",
    "plt.show()"
   ]
  }
 ],
 "metadata": {
  "kernelspec": {
   "display_name": "Python 3 (ipykernel)",
   "language": "python",
   "name": "python3"
  },
  "language_info": {
   "codemirror_mode": {
    "name": "ipython",
    "version": 3
   },
   "file_extension": ".py",
   "mimetype": "text/x-python",
   "name": "python",
   "nbconvert_exporter": "python",
   "pygments_lexer": "ipython3",
   "version": "3.11.7"
  }
 },
 "nbformat": 4,
 "nbformat_minor": 5
}
