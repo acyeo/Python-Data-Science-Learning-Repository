{
 "cells": [
  {
   "cell_type": "markdown",
   "id": "2d6182ed-5aff-4fcc-9ce8-501dfb749cde",
   "metadata": {},
   "source": [
    "<p> \n",
    "\n",
    "- Use sns.catplot() and the student_data DataFrame to create a point plot with \"famrel\" on the x-axis and number of absences (\"absences\") on the y-axis.\n",
    "</p>"
   ]
  },
  {
   "cell_type": "code",
   "execution_count": null,
   "id": "84d90639-e2fb-4d12-b337-c0c8d7f84b45",
   "metadata": {},
   "outputs": [],
   "source": [
    "# Create a point plot of family relationship vs. absences\n",
    "sns.catplot(x=\"famrel\", y=\"absences\",\n",
    "            data=student_data,\n",
    "            kind=\"point\")\n",
    "\n",
    "\n",
    "            \n",
    "# Show plot\n",
    "plt.show()"
   ]
  },
  {
   "cell_type": "markdown",
   "id": "c0c4f5d6-ae56-4dcd-b57d-8f37b753aa7b",
   "metadata": {},
   "source": [
    "<p> \n",
    "\n",
    "- Add \"caps\" to the end of the confidence intervals with size 0.2.\n",
    "</p>"
   ]
  },
  {
   "cell_type": "code",
   "execution_count": null,
   "id": "09b8ae4e-b3a7-49b1-b9e9-6528c1afef62",
   "metadata": {},
   "outputs": [],
   "source": [
    "# Add caps to the confidence interval\n",
    "sns.catplot(x=\"famrel\", y=\"absences\",\n",
    "\t\t\tdata=student_data,\n",
    "            kind=\"point\", capsize=0.2)\n",
    "        \n",
    "# Show plot\n",
    "plt.show()"
   ]
  },
  {
   "cell_type": "markdown",
   "id": "2c6cddbd-2779-4bd4-8740-ca678ce7d39f",
   "metadata": {},
   "source": [
    "<p> \n",
    "\n",
    "- Remove the lines joining the points in each category.\n",
    "</p>"
   ]
  },
  {
   "cell_type": "code",
   "execution_count": null,
   "id": "b5930a23-f079-4cb9-993d-08beb34a02ee",
   "metadata": {},
   "outputs": [],
   "source": [
    "# Remove the lines joining the points\n",
    "sns.catplot(x=\"famrel\", y=\"absences\",\n",
    "\t\t\tdata=student_data,\n",
    "            kind=\"point\",\n",
    "            capsize=0.2, join=False)\n",
    "            \n",
    "# Show plot\n",
    "plt.show()"
   ]
  },
  {
   "cell_type": "markdown",
   "id": "0939a25b-67ae-4eec-9e67-db2a1fbb745b",
   "metadata": {},
   "source": [
    "<p> \n",
    "\n",
    "- Use sns.catplot() and the student_data DataFrame to create a point plot with relationship status (\"romantic\") on the x-axis and number of absences (\"absences\") on the y-axis. Color the points based on the school that they attend (\"school\").\n",
    "</p>"
   ]
  },
  {
   "cell_type": "code",
   "execution_count": null,
   "id": "30cfb6d6-5e41-42f2-8198-564ca80f8653",
   "metadata": {},
   "outputs": [],
   "source": [
    "# Create a point plot that uses color to create subgroups\n",
    "sns.catplot(x=\"romantic\", y=\"absences\",\n",
    "\t\t\tdata=student_data,\n",
    "            kind=\"point\",\n",
    "            hue=\"school\")\n",
    "\n",
    "\n",
    "\n",
    "# Show plot\n",
    "plt.show()"
   ]
  },
  {
   "cell_type": "markdown",
   "id": "a5628ad4-59ec-46b6-8197-a4003fc145f7",
   "metadata": {},
   "source": [
    "<p> \n",
    "\n",
    "- Turn off the confidence intervals for the plot.\n",
    "</p>"
   ]
  },
  {
   "cell_type": "code",
   "execution_count": null,
   "id": "a9bb8b40-6511-44cf-99f0-e401291f2f9e",
   "metadata": {},
   "outputs": [],
   "source": [
    "# Turn off the confidence intervals for this plot\n",
    "sns.catplot(x=\"romantic\", y=\"absences\",\n",
    "\t\t\tdata=student_data,\n",
    "            kind=\"point\",\n",
    "            hue=\"school\", ci=None)\n",
    "\n",
    "# Show plot\n",
    "plt.show()"
   ]
  },
  {
   "cell_type": "markdown",
   "id": "4681405d-389a-43c0-b49f-0fdbcdafe434",
   "metadata": {},
   "source": [
    "<p> \n",
    "\n",
    "- Since there may be outliers of students with many absences, use the median function that we've imported from numpy to display the median number of absences instead of the average.\n",
    "</p>"
   ]
  },
  {
   "cell_type": "code",
   "execution_count": null,
   "id": "a7cbae47-3ffd-42e8-bd77-f13fea0fa22f",
   "metadata": {},
   "outputs": [],
   "source": [
    "# Import median function from numpy\n",
    "from numpy import median\n",
    "\n",
    "# Plot the median number of absences instead of the mean\n",
    "sns.catplot(x=\"romantic\", y=\"absences\",\n",
    "\t\t\tdata=student_data,\n",
    "            kind=\"point\",\n",
    "            hue=\"school\",\n",
    "            ci=None, estimator=median)\n",
    "\n",
    "# Show plot\n",
    "plt.show()"
   ]
  },
  {
   "cell_type": "code",
   "execution_count": null,
   "id": "cca9613b-38fa-4da4-abe7-00932e3aa77a",
   "metadata": {},
   "outputs": [],
   "source": []
  }
 ],
 "metadata": {
  "kernelspec": {
   "display_name": "Python 3 (ipykernel)",
   "language": "python",
   "name": "python3"
  },
  "language_info": {
   "codemirror_mode": {
    "name": "ipython",
    "version": 3
   },
   "file_extension": ".py",
   "mimetype": "text/x-python",
   "name": "python",
   "nbconvert_exporter": "python",
   "pygments_lexer": "ipython3",
   "version": "3.11.7"
  }
 },
 "nbformat": 4,
 "nbformat_minor": 5
}
