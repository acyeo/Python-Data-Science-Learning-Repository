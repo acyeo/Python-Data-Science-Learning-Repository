{
 "cells": [
  {
   "cell_type": "markdown",
   "id": "a037208b-cba3-4c7e-bdc6-65cd097e64cd",
   "metadata": {},
   "source": [
    "<p> \n",
    "\n",
    "- Modify the code to use relplot() instead of scatterplot().\n",
    "</p>"
   ]
  },
  {
   "cell_type": "code",
   "execution_count": null,
   "id": "2462ab01-0005-4346-890d-a9dcb0249ce4",
   "metadata": {},
   "outputs": [],
   "source": [
    "# Change to make subplots based on study time\n",
    "sns.relplot(x=\"absences\", y=\"G3\", \n",
    "            data=student_data,\n",
    "            kind=\"scatter\")\n",
    "\n",
    "# Show plot\n",
    "plt.show()"
   ]
  },
  {
   "cell_type": "markdown",
   "id": "4a7efa59-06ea-41e4-a51f-15a19f51589e",
   "metadata": {},
   "source": [
    "<p> \n",
    "\n",
    "- Modify the code to create one scatter plot for each level of the variable \"study_time\", arranged in columns.\n",
    "</p>"
   ]
  },
  {
   "cell_type": "code",
   "execution_count": null,
   "id": "adbcd2e0-22b0-45ec-a747-46cf2a9de619",
   "metadata": {},
   "outputs": [],
   "source": [
    "# Change to make subplots based on study time\n",
    "sns.relplot(x=\"absences\", y=\"G3\", \n",
    "            data=student_data,\n",
    "            kind=\"scatter\", col=\"study_time\")\n",
    "\n",
    "# Show plot\n",
    "plt.show()"
   ]
  },
  {
   "cell_type": "markdown",
   "id": "0f0656ba-e7c7-44fd-951d-130e1c193cf8",
   "metadata": {},
   "source": [
    "<p> \n",
    "\n",
    "- Adapt your code to create one scatter plot for each level of a student's weekly study time, this time arranged in rows.\n",
    "</p>"
   ]
  },
  {
   "cell_type": "code",
   "execution_count": null,
   "id": "a8423673-03bc-45b4-b381-83df940d7cd7",
   "metadata": {},
   "outputs": [],
   "source": [
    "# Change this scatter plot to arrange the plots in rows instead of columns\n",
    "sns.relplot(x=\"absences\", y=\"G3\", \n",
    "            data=student_data,\n",
    "            kind=\"scatter\", \n",
    "            row=\"study_time\")\n",
    "\n",
    "# Show plot\n",
    "plt.show()"
   ]
  },
  {
   "cell_type": "markdown",
   "id": "786a07a1-fa7b-4e9a-8b48-c34ffd26c1d2",
   "metadata": {},
   "source": [
    "<p> \n",
    "\n",
    "- Use relplot() to create a scatter plot with \"G1\" on the x-axis and \"G3\" on the y-axis, using the student_data DataFrame.\n",
    "</p>"
   ]
  },
  {
   "cell_type": "code",
   "execution_count": null,
   "id": "424004c4-b170-4e95-9893-6c27de49b0bb",
   "metadata": {},
   "outputs": [],
   "source": [
    "# Create a scatter plot of G1 vs. G3\n",
    "sns.relplot(x=\"G1\", y=\"G3\", \n",
    "            data=student_data, kind=\"scatter\")\n",
    "\n",
    "\n",
    "\n",
    "# Show plot\n",
    "plt.show()"
   ]
  },
  {
   "cell_type": "markdown",
   "id": "f98d265a-f3c9-42d1-b9b3-07c7295228b4",
   "metadata": {},
   "source": [
    "<p> \n",
    "\n",
    "- Create column subplots based on whether the student received support from the school (\"schoolsup\"), ordered so that \"yes\" comes before \"no\".\n",
    "</p>"
   ]
  },
  {
   "cell_type": "code",
   "execution_count": null,
   "id": "0068ec50-85ed-4208-ab6d-59dccfc4a934",
   "metadata": {},
   "outputs": [],
   "source": [
    "sns.relplot(x=\"G1\", y=\"G3\", \n",
    "            data=student_data,\n",
    "            kind=\"scatter\", \n",
    "            col=\"schoolsup\",\n",
    "            col_order=[\"yes\", \"no\"])\n",
    "\n",
    "# Show plot\n",
    "plt.show()"
   ]
  },
  {
   "cell_type": "markdown",
   "id": "d3bc47e2-1450-46c7-bed9-355d317c4eb2",
   "metadata": {},
   "source": [
    "<p> \n",
    "\n",
    "- Add row subplots based on whether the student received support from the family (\"famsup\"), ordered so that \"yes\" comes before \"no\". This will result in subplots based on two factors.\n",
    "</p>"
   ]
  },
  {
   "cell_type": "code",
   "execution_count": null,
   "id": "6fa7f6f7-f15a-4e0e-977f-e92d9f9524d8",
   "metadata": {},
   "outputs": [],
   "source": [
    "# Adjust further to add subplots based on family support\n",
    "sns.relplot(x=\"G1\", y=\"G3\", \n",
    "            data=student_data,\n",
    "            kind=\"scatter\", \n",
    "            col=\"schoolsup\",\n",
    "            col_order=[\"yes\", \"no\"],row=\"famsup\", row_order=[\"yes\", \"no\"])\n",
    "\n",
    "# Show plot\n",
    "plt.show()"
   ]
  }
 ],
 "metadata": {
  "kernelspec": {
   "display_name": "Python 3 (ipykernel)",
   "language": "python",
   "name": "python3"
  },
  "language_info": {
   "codemirror_mode": {
    "name": "ipython",
    "version": 3
   },
   "file_extension": ".py",
   "mimetype": "text/x-python",
   "name": "python",
   "nbconvert_exporter": "python",
   "pygments_lexer": "ipython3",
   "version": "3.11.7"
  }
 },
 "nbformat": 4,
 "nbformat_minor": 5
}
