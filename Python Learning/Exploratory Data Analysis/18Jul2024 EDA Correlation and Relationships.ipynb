{
 "cells": [
  {
   "cell_type": "code",
   "execution_count": null,
   "id": "c51b62df-6d69-40db-b543-28771735c5e2",
   "metadata": {},
   "outputs": [],
   "source": [
    "#Create a scatterplot showing marriage_duration on the x-axis and num_kids on the y-axis.\n",
    "sns.scatterplot(data=divorce, x=\"marriage_duration\", y=\"num_kids\")\n",
    "plt.show()"
   ]
  },
  {
   "cell_type": "code",
   "execution_count": null,
   "id": "4a183c1f-f25f-4910-b36a-81078ebe5149",
   "metadata": {},
   "outputs": [],
   "source": [
    "# Create a pairplot for income_woman and marriage_duration\n",
    "sns.pairplot(data=divorce,vars=[\"income_woman\",\"marriage_duration\"])\n",
    "plt.show()"
   ]
  },
  {
   "cell_type": "code",
   "execution_count": null,
   "id": "ba5988d1-ee08-44dc-86dc-2469df7fbdb8",
   "metadata": {},
   "outputs": [],
   "source": [
    "#Create a scatter plot that shows woman_age_marriage on the x-axis and income_woman on the y-axis;\n",
    "#each data point should be colored based on the woman's level of education, represented by education_woman.\n",
    "sns.scatterplot(data=divorce, x=\"woman_age_marriage\", y=\"income_woman\", hue=\"education_woman\")\n",
    "plt.show()"
   ]
  },
  {
   "cell_type": "code",
   "execution_count": null,
   "id": "c0362128-c0d3-42a9-8754-5c9a7dbe84ff",
   "metadata": {},
   "outputs": [],
   "source": [
    "#Create a KDE plot that shows marriage_duration on the x-axis and a different colored line for each possible number of children \n",
    "#that a couple might have, represented by num_kids.\n",
    "# Create the KDE plot\n",
    "sns.kdeplot(data=divorce, x=\"marriage_duration\", hue=\"num_kids\")\n",
    "plt.show()"
   ]
  },
  {
   "cell_type": "code",
   "execution_count": null,
   "id": "af0333a6-5bd6-4212-bcfe-5f9dcd260230",
   "metadata": {},
   "outputs": [],
   "source": [
    "# Update the KDE plot so that marriage duration can't be smoothed too far\n",
    "sns.kdeplot(data=divorce, x=\"marriage_duration\", hue=\"num_kids\", cut=0)\n",
    "plt.show()"
   ]
  },
  {
   "cell_type": "code",
   "execution_count": null,
   "id": "4e1a821c-2168-4618-966a-113debcfdeb9",
   "metadata": {},
   "outputs": [],
   "source": [
    "# Update the KDE plot to show a cumulative distribution function\n",
    "sns.kdeplot(data=divorce, x=\"marriage_duration\", hue=\"num_kids\", cut=0, cumulative=True)\n",
    "plt.show()"
   ]
  },
  {
   "cell_type": "code",
   "execution_count": null,
   "id": "b818e90d-2189-4bed-9fe3-b33aed503e0d",
   "metadata": {},
   "outputs": [],
   "source": []
  }
 ],
 "metadata": {
  "kernelspec": {
   "display_name": "Python 3 (ipykernel)",
   "language": "python",
   "name": "python3"
  },
  "language_info": {
   "codemirror_mode": {
    "name": "ipython",
    "version": 3
   },
   "file_extension": ".py",
   "mimetype": "text/x-python",
   "name": "python",
   "nbconvert_exporter": "python",
   "pygments_lexer": "ipython3",
   "version": "3.11.7"
  }
 },
 "nbformat": 4,
 "nbformat_minor": 5
}
