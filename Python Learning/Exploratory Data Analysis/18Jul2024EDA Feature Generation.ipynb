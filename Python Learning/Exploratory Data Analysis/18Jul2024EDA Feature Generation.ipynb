{
 "cells": [
  {
   "cell_type": "code",
   "execution_count": null,
   "id": "98b000c9-19fd-4115-88b4-c3d36dc1d5d1",
   "metadata": {},
   "outputs": [],
   "source": [
    "# Get the month of the response\n",
    "salaries[\"month\"] = salaries[\"date_of_response\"].dt.month\n",
    "\n",
    "# Extract the weekday of the response\n",
    "salaries[\"weekday\"] = salaries[\"date_of_response\"].dt.weekday\n",
    "\n",
    "# Create a heatmap\n",
    "sns.heatmap(salaries.corr(), annot=True)\n",
    "plt.show()"
   ]
  },
  {
   "cell_type": "code",
   "execution_count": null,
   "id": "dd2a0aa5-938a-473b-afe5-3b3f25c1067d",
   "metadata": {},
   "outputs": [],
   "source": [
    " Find the 25th percentile\n",
    "twenty_fifth = salaries[\"Salary_USD\"].quantile(0.25)\n",
    "\n",
    "# Save the median\n",
    "salaries_median = salaries[\"Salary_USD\"].median()\n",
    "\n",
    "# Gather the 75th percentile\n",
    "seventy_fifth = salaries[\"Salary_USD\"].quantile(0.75)\n",
    "print(twenty_fifth, salaries_median, seventy_fifth)\n",
    "\n",
    "#correct output:\n",
    " 60880.691999999995 97488.552 143225.1"
   ]
  },
  {
   "cell_type": "code",
   "execution_count": null,
   "id": "41102d7a-c380-4c92-9c98-540c64c67a1d",
   "metadata": {},
   "outputs": [],
   "source": [
    "# Create salary labels\n",
    "salary_labels = [\"entry\", \"mid\", \"senior\", \"exec\"]\n",
    "\n",
    "# Create the salary ranges list\n",
    "salary_ranges = [0, twenty_fifth, salaries_median, seventy_fifth, salaries[\"Salary_USD\"].max()]\n",
    "\n",
    "# Split \"Salary_USD\" based on the labels and ranges you've created.\n",
    "salaries[\"salary_level\"] = pd.cut(salaries[\"Salary_USD\"],\n",
    "                                  bins=salary_ranges,\n",
    "                                  labels=salary_labels)\n",
    "\n",
    "# Plot the count of salary levels at companies of different sizes\n",
    "sns.countplot(data=salaries, x=\"Company_Size\", hue=\"salary_level\")\n",
    "plt.show()"
   ]
  },
  {
   "cell_type": "code",
   "execution_count": null,
   "id": "5b305a35-ca41-420c-87ab-35c1f4db34eb",
   "metadata": {},
   "outputs": [],
   "source": [
    "#Filter salaries where \"Employee_Location\" is \"US\" or \"GB\", saving as usa_and_gb.\n",
    "usa_and_gb = salaries[salaries[\"Employee_Location\"].isin([\"US\", \"GB\"])]\n",
    "#Use usa_and_gb to create a barplot visualizing \"Salary_USD\" against \"Employee_Location\".\n",
    "sns.barplot(data=usa_and_gb, x=\"Employee_Location\", y=\"Salary_USD\")\n",
    "plt.show()"
   ]
  },
  {
   "cell_type": "code",
   "execution_count": null,
   "id": "c1ccd543-da68-40cf-acdd-136a39d07f42",
   "metadata": {},
   "outputs": [],
   "source": [
    "# Create a bar plot of salary versus company size, factoring in employment status\n",
    "sns.barplot(data=salaries, x=\"Company_Size\", y=\"Salary_USD\", hue=\"Employment_Status\")\n",
    "plt.show()"
   ]
  },
  {
   "cell_type": "code",
   "execution_count": null,
   "id": "46838700-0339-4e2a-ac53-954a406d566e",
   "metadata": {},
   "outputs": [],
   "source": []
  }
 ],
 "metadata": {
  "kernelspec": {
   "display_name": "Python 3 (ipykernel)",
   "language": "python",
   "name": "python3"
  },
  "language_info": {
   "codemirror_mode": {
    "name": "ipython",
    "version": 3
   },
   "file_extension": ".py",
   "mimetype": "text/x-python",
   "name": "python",
   "nbconvert_exporter": "python",
   "pygments_lexer": "ipython3",
   "version": "3.11.7"
  }
 },
 "nbformat": 4,
 "nbformat_minor": 5
}
