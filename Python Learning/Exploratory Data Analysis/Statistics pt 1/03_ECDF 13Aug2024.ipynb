{
 "cells": [
  {
   "cell_type": "code",
   "execution_count": null,
   "id": "c62321fc-6263-41fd-899b-0ffbca0584e5",
   "metadata": {},
   "outputs": [],
   "source": [
    "#Define a function with the signature ecdf(data). Within the function definition,\n",
    "#Compute the number of data points, n, using the len() function.\n",
    "#The x-values are the sorted data. Use the np.sort() function to perform the sorting.\n",
    "#The y data of the ECDF go from 1/n to 1 in equally spaced increments. You can construct this using np.arange(). \n",
    "#Remember, however, that the end value in np.arange() is not inclusive. Therefore, np.arange() will need to go from 1 to n+1. Be sure to divide this by n.\n",
    "#The function returns the values x and y.\n",
    "\n",
    "def ecdf(data):\n",
    "    \"\"\"Compute ECDF for a one-dimensional array of measurements.\"\"\"\n",
    "    # Number of data points: n\n",
    "    n = len(data)\n",
    "\n",
    "    # x-data for the ECDF: x\n",
    "    x = np.sort(data)\n",
    "\n",
    "    # y-data for the ECDF: y\n",
    "    y = np.arange(1, n+1) / n\n",
    "\n",
    "    return x, y"
   ]
  },
  {
   "cell_type": "code",
   "execution_count": null,
   "id": "591485bd-48d2-441c-abaa-160a5ea67f30",
   "metadata": {},
   "outputs": [],
   "source": [
    "# Use ecdf() to compute the ECDF of versicolor_petal_length. Unpack the output into x_vers and y_vers.\n",
    "x_vers, y_vers = ecdf(versicolor_petal_length)\n",
    "\n",
    "# Plot the ECDF as dots. Remember to include marker = '.' and linestyle = 'none' \n",
    "#in addition to x_vers and y_vers as arguments inside plt.plot().\n",
    "_= plt.plot(x_vers,y_vers, marker='.', linestyle = 'none')\n",
    "\n",
    "# Label the axes\n",
    "_=plt.xlabel('petal length')\n",
    "_=plt.ylabel('ECDF')\n",
    "\n",
    "\n",
    "# Display the plot\n",
    "plt.show()\n"
   ]
  },
  {
   "cell_type": "code",
   "execution_count": null,
   "id": "3ec2206d-a079-400c-bde4-8549b5175899",
   "metadata": {},
   "outputs": [],
   "source": [
    "# Compute ECDFs for each of the three species using your ecdf() function. \n",
    "#The variables setosa_petal_length, versicolor_petal_length, and virginica_petal_length are all in your namespace. \n",
    "#Unpack the ECDFs into x_set, y_set, x_vers, y_vers and x_virg, y_virg, respectively.\n",
    "x_set, y_set = ecdf(setosa_petal_length) \n",
    "x_vers, y_vers = ecdf(versicolor_petal_length)\n",
    "x_virg, y_virg = ecdf(virginica_petal_length)\n",
    "\n",
    "# Plot all ECDFs on the same plot\n",
    "_= plt.plot(x_set, y_set, marker='.', linestyle = 'none')\n",
    "_= plt.plot(x_vers, y_vers, marker='.', linestyle = 'none')\n",
    "_= plt.plot(x_virg, y_virg, marker='.', linestyle = 'none')\n",
    "\n",
    "# Annotate the plot\n",
    "plt.legend(('setosa', 'versicolor', 'virginica'), loc='lower right')\n",
    "_ = plt.xlabel('petal length (cm)')\n",
    "_ = plt.ylabel('ECDF')\n",
    "\n",
    "# Display the plot\n",
    "plt.show()"
   ]
  }
 ],
 "metadata": {
  "kernelspec": {
   "display_name": "Python 3 (ipykernel)",
   "language": "python",
   "name": "python3"
  },
  "language_info": {
   "codemirror_mode": {
    "name": "ipython",
    "version": 3
   },
   "file_extension": ".py",
   "mimetype": "text/x-python",
   "name": "python",
   "nbconvert_exporter": "python",
   "pygments_lexer": "ipython3",
   "version": "3.11.7"
  }
 },
 "nbformat": 4,
 "nbformat_minor": 5
}
