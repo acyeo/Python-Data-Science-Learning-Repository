{
 "cells": [
  {
   "cell_type": "code",
   "execution_count": null,
   "id": "6e5530f5-09c6-4310-99a4-d26961d824bf",
   "metadata": {},
   "outputs": [],
   "source": [
    "# Make a scatter plot\n",
    "_=plt.plot(versicolor_petal_length, versicolor_petal_width, marker='.', linestyle='none')\n",
    "\n",
    "\n",
    "# Label the axes\n",
    "_= plt.xlabel('versicolor_petal_length')\n",
    "_= plt.ylabel('versicolor_petal_width')\n",
    "\n",
    "# Show the result\n",
    "plt.show()"
   ]
  },
  {
   "cell_type": "markdown",
   "id": "203bedf5-8b67-4965-93ac-db5dfe8ddf76",
   "metadata": {},
   "source": [
    "<p> Covariance is the measure of how 2 aty's vary together. \n",
    "\n",
    "    - if x and y value of data point is higher than the median x and median y, it's a positive correlation\n",
    "    - if x is higher than the median, while y is lower than the median, it it means that it's negatively correlated.</p>"
   ]
  },
  {
   "cell_type": "code",
   "execution_count": null,
   "id": "6e8a733d-a039-4ad8-ae29-29c2a8a1b570",
   "metadata": {},
   "outputs": [],
   "source": [
    "#Use np.cov() to compute the covariance matrix for the petal length (versicolor_petal_length) and width (versicolor_petal_width) .\n",
    "#Print the covariance matrix.\n",
    "\n",
    "covariance_matrix = np.cov(versicolor_petal_length, versicolor_petal_width)\n",
    "\n",
    "# Print covariance matrix\n",
    "\n",
    "print(covariance_matrix)\n",
    "\n",
    "#Extract the covariance from entry [0,1] of the covariance matrix. Note that by symmetry, entry [1,0] is the same as entry [0,1].\n",
    "\n",
    "petal_cov = (covariance_matrix[0,1])\n",
    "\n",
    "#Print the covariance.\n",
    "\n",
    "print(petal_cov)\n",
    "\n",
    "#correct output:\n",
    "[[0.22081633 0.07310204]\n",
    "     [0.07310204 0.03910612]]\n",
    "    0.07310204081632653"
   ]
  },
  {
   "cell_type": "markdown",
   "id": "e9075942-49ec-4001-829d-a92df9e5e67e",
   "metadata": {},
   "source": [
    "<p> \n",
    "The covariance matrix is a square matrix that shows the covariance between pairs of variables. When you calculate the covariance matrix using np.cov() in Python, it returns a matrix where:\n",
    "\n",
    "- The diagonal elements (e.g., [0,0] and [1,1]) represent the variance of each variable.\n",
    "- The off-diagonal elements (e.g., [0,1] and [1,0]) represent the covariance between the two variables.</p>"
   ]
  },
  {
   "cell_type": "markdown",
   "id": "1b738438-cac7-4cee-9a3d-c34a29b34c1b",
   "metadata": {},
   "source": [
    "<p>Covariance measures how two variables change together. If the variables tend to increase together, the covariance is positive; if one tends to increase while the other decreases, the covariance is negative.\n",
    "\n",
    "Magnitude: Covariance can take any value, and its magnitude depends on the units of the variables. This makes it hard to interpret, as the covariance value can vary greatly depending on the scale of the data.</p>"
   ]
  },
  {
   "cell_type": "code",
   "execution_count": null,
   "id": "d19eb741-4702-4420-badc-77b446ab2f7e",
   "metadata": {},
   "outputs": [],
   "source": [
    "#Define a function with signature pearson_r(x, y).\n",
    "#Use np.corrcoef() to compute the correlation matrix of x and y (pass them to np.corrcoef() in that order).\n",
    "#The function returns entry [0,1] of the correlation matrix.\n",
    "\n",
    "def pearson_r(x, y):\n",
    "    \"\"\"Compute Pearson correlation coefficient between two arrays.\"\"\"\n",
    "    # Compute correlation matrix: corr_mat\n",
    "    corr_mat = np.corrcoef(x,y)\n",
    "\n",
    "    # Return entry [0,1]\n",
    "    return corr_mat[0,1]\n",
    "\n",
    "# Compute Pearson correlation coefficient for I. versicolor: r\n",
    "r = pearson_r(versicolor_petal_length, versicolor_petal_width)\n",
    "\n",
    "#Print the result.\n",
    "\n",
    "print(r)\n",
    "\n",
    "#correct output:\n",
    "0.7866680885228169"
   ]
  },
  {
   "cell_type": "markdown",
   "id": "705cd3fc-6f7f-40e7-a0a6-139eb1f793ae",
   "metadata": {},
   "source": [
    "<p>Pearson Correlation Coefficient:\n",
    "\n",
    "    Pearson Correlation Coefficient (r) measures the strength and direction of the linear relationship between two variables. It standardizes the covariance by dividing it by the product of the standard deviations of the two variables.\n",
    "\n",
    "\n",
    "Range: The Pearson correlation coefficient ranges from -1 to 1:\n",
    "\n",
    "\n",
    "1 means a perfect positive linear relationship.\n",
    "-1 means a perfect negative linear relationship.\n",
    "0 means no linear relationship.\n",
    "Unitless: Unlike covariance, the Pearson correlation coefficient is dimensionless, making it easier to interpret regardless of the data's units or scale. </p>"
   ]
  },
  {
   "cell_type": "code",
   "execution_count": null,
   "id": "ea8306b7-22e4-47b2-9fe2-602a323db5d9",
   "metadata": {},
   "outputs": [],
   "source": []
  }
 ],
 "metadata": {
  "kernelspec": {
   "display_name": "Python 3 (ipykernel)",
   "language": "python",
   "name": "python3"
  },
  "language_info": {
   "codemirror_mode": {
    "name": "ipython",
    "version": 3
   },
   "file_extension": ".py",
   "mimetype": "text/x-python",
   "name": "python",
   "nbconvert_exporter": "python",
   "pygments_lexer": "ipython3",
   "version": "3.11.7"
  }
 },
 "nbformat": 4,
 "nbformat_minor": 5
}
