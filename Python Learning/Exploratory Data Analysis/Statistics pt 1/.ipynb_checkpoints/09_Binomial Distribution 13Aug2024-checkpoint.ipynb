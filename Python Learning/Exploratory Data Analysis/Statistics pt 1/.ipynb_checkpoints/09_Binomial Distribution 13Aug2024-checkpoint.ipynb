{
 "cells": [
  {
   "cell_type": "code",
   "execution_count": null,
   "id": "91c94034-507f-432c-b4f8-e22c2d19892a",
   "metadata": {},
   "outputs": [],
   "source": [
    "#Draw samples out of the Binomial distribution using rng.binomial(). You should use parameters n = 100 and p = 0.05, and set the size keyword argument to 10000.\n",
    "#Compute the CDF using your previously-written ecdf() function.\n",
    "#Plot the CDF with axis labels. The x-axis here is the number of defaults out of 100 loans, while the y-axis is the CDF.\n",
    "#Show the plot.\n",
    "\n",
    "# Take 10,000 samples out of the binomial distribution: n_defaults\n",
    "n_defaults = rng.binomial(100, 0.05, size = 10000)\n",
    "\n",
    "# Compute CDF: x, y\n",
    "x,y = ecdf(n_defaults)\n",
    "\n",
    "# Plot the CDF with axis labels\n",
    "plt.plot(x, y, marker='.', linestyle = 'none')\n",
    "plt.xlabel('number of defaults per 100 loans')\n",
    "plt.ylabel('CDF')\n",
    "\n",
    "\n",
    "# Show the plot\n",
    "plt.show()"
   ]
  },
  {
   "cell_type": "markdown",
   "id": "cd6b6322-8c5e-4fe9-bbff-3d6d3c1d9cf3",
   "metadata": {},
   "source": [
    "<p> n=100 = the number of bernouli trials, p=0.05 is the probability</p>"
   ]
  },
  {
   "cell_type": "code",
   "execution_count": null,
   "id": "cc08dc52-a92a-492f-824c-90e11f987f7f",
   "metadata": {},
   "outputs": [],
   "source": []
  }
 ],
 "metadata": {
  "kernelspec": {
   "display_name": "Python 3 (ipykernel)",
   "language": "python",
   "name": "python3"
  },
  "language_info": {
   "codemirror_mode": {
    "name": "ipython",
    "version": 3
   },
   "file_extension": ".py",
   "mimetype": "text/x-python",
   "name": "python",
   "nbconvert_exporter": "python",
   "pygments_lexer": "ipython3",
   "version": "3.11.7"
  }
 },
 "nbformat": 4,
 "nbformat_minor": 5
}
