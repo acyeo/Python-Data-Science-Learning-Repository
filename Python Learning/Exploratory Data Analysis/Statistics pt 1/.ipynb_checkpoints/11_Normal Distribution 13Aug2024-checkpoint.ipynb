{
 "cells": [
  {
   "cell_type": "markdown",
   "id": "bd6333dd-4ef4-457a-9315-14c61e6a11ba",
   "metadata": {},
   "source": [
    "<p>1)Draw 100,000 samples from a Normal distribution that has a mean of 20 and a standard deviation of 1. Do the same for Normal distributions with standard deviations of 3 and 10, each still with a mean of 20. Assign the results to samples_std1, samples_std3 and samples_std10, respectively.\n",
    "    \n",
    "2)Plot a histogram of each of the samples; for each, use 100 bins, also using the keyword arguments density=True and histtype='step'. The latter keyword argument makes the plot look much like the smooth theoretical PDF. You will need to make 3 plt.hist() calls.\n",
    "\n",
    "3)Hit submit to make a legend, showing which standard deviations you used, and show your plot! There is no need to label the axes because we have not defined what is being described by the Normal distribution; we are just looking at shapes of PDFs.</p>"
   ]
  },
  {
   "cell_type": "code",
   "execution_count": null,
   "id": "06df4ebc-2093-44a1-b093-fac04c955431",
   "metadata": {},
   "outputs": [],
   "source": [
    "# Draw 100000 samples from Normal distribution with stds of interest: samples_std1, samples_std3, samples_std10\n",
    "samples_std1 = rng.normal(20, 1, size=10000)\n",
    "samples_std3 = rng.normal(20, 3, size=10000)\n",
    "samples_std10 = rng.normal(20, 10, size=10000)\n",
    "\n",
    "\n",
    "\n",
    "# Make histograms\n",
    "_=plt.hist(samples_std1, bins = 100, density=True, histtype='step')\n",
    "_=plt.hist(samples_std3, bins = 100, density=True, histtype='step')\n",
    "_=plt.hist(samples_std10, bins = 100, density=True, histtype='step')\n",
    "\n",
    "# Make a legend, set limits and show plot\n",
    "_ = plt.legend(('std = 1', 'std = 3', 'std = 10'))\n",
    "plt.ylim(-0.01, 0.42)\n",
    "plt.show()"
   ]
  },
  {
   "cell_type": "markdown",
   "id": "315a6e9c-18de-4667-8fba-4449ee59f414",
   "metadata": {},
   "source": [
    "<p>1)Use your ecdf() function to generate x and y values for CDFs: x_std1, y_std1, x_std3, y_std3 and x_std10, y_std10, respectively.\n",
    "\n",
    "2)Plot all three CDFs as dots (do not forget the marker and linestyle keyword arguments!).\n",
    "\n",
    "3)Hit submit to make a legend, showing which standard deviations you used, and to show your plot. There is no need to label the axes because we have not defined what is being described by the Normal distribution; we are just looking at shapes of CDFs. </p>"
   ]
  },
  {
   "cell_type": "code",
   "execution_count": null,
   "id": "29c1aa39-7e56-4d30-b333-71154337495c",
   "metadata": {},
   "outputs": [],
   "source": [
    "# Generate CDFs\n",
    "x_std1, y_std1 = ecdf(samples_std1)\n",
    "x_std3, y_std3 = ecdf(samples_std3)\n",
    "x_std10, y_std10 = ecdf(samples_std10)\n",
    "\n",
    "# Plot CDFs\n",
    "_= plt.plot(x_std1, y_std1, marker = '.', linestyle='none')\n",
    "_= plt.plot(x_std3, y_std3, marker = '.', linestyle='none')\n",
    "_= plt.plot(x_std10, y_std10, marker = '.', linestyle='none')\n",
    "# Make a legend and show the plot\n",
    "_ = plt.legend(('std = 1', 'std = 3', 'std = 10'), loc='lower right')\n",
    "plt.show()"
   ]
  },
  {
   "cell_type": "markdown",
   "id": "5a15d0d9-b022-4a19-9cbc-aaa9fa440761",
   "metadata": {},
   "source": [
    "<p>\n",
    "\n",
    "1) Compute mean and standard deviation of Belmont winners' times with the two outliers removed. The NumPy array belmont_no_outliers has these data.\n",
    "    \n",
    "2) Take 10,000 samples out of a normal distribution with this mean and standard deviation using rng.normal().\n",
    "\n",
    "3) Compute the CDF of the theoretical samples and the ECDF of the Belmont winners' data, assigning the results to x_theor, y_theor and x, y, respectively.\n",
    "\n",
    "4) Hit submit to plot the CDF of your samples with the ECDF, label your axes and show the plot.</p>"
   ]
  },
  {
   "cell_type": "code",
   "execution_count": null,
   "id": "da25fbc6-5f4a-4092-9cc6-524c5753dc23",
   "metadata": {},
   "outputs": [],
   "source": [
    "# Compute mean and standard deviation: mu, sigma\n",
    "mu = np.mean(belmont_no_outliers)\n",
    "sigma = np.std(belmont_no_outliers)\n",
    "\n",
    "# Sample out of a normal distribution with this mu and sigma: samples\n",
    "samples = rng.normal(mu,sigma, 10000)\n",
    "\n",
    "# Get the CDF of the samples and of the data\n",
    "x_theor,y_theor = ecdf(samples)\n",
    "x, y = ecdf(belmont_no_outliers)\n",
    "\n",
    "\n",
    "# Plot the CDFs and show the plot\n",
    "_ = plt.plot(x_theor, y_theor)\n",
    "_ = plt.plot(x, y, marker='.', linestyle='none')\n",
    "_ = plt.xlabel('Belmont winning time (sec.)')\n",
    "_ = plt.ylabel('CDF')\n",
    "plt.show()"
   ]
  },
  {
   "cell_type": "markdown",
   "id": "536d3e6a-9908-48cd-b3f6-a6cfbae3e56a",
   "metadata": {},
   "source": [
    "<p>\n",
    "\n",
    "1) Take 1,000,000 samples from the normal distribution using the rng.normal() function. The mean mu and standard deviation sigma are already loaded into the namespace of your IPython instance.\n",
    "    \n",
    "2) Compute the fraction of samples that have a time less than or equal to Secretariat's time of 144 seconds.\n",
    "\n",
    "3) Print results </p>"
   ]
  },
  {
   "cell_type": "code",
   "execution_count": null,
   "id": "740322b3-1d4f-48e1-90d0-959515495b0d",
   "metadata": {},
   "outputs": [],
   "source": [
    "# Take a million samples out of the Normal distribution: samples\n",
    "samples = rng.normal(mu, sigma, 1000000)\n",
    "\n",
    "# Compute the fraction that are faster than 144 seconds: prob\n",
    "prob = np.sum(samples <= 144) / len(samples)\n",
    "\n",
    "# Print the result\n",
    "print('Probability of besting Secretariat:', prob)\n",
    "\n",
    "#correct output: \n",
    "Probability of besting Secretariat: 0.000695"
   ]
  }
 ],
 "metadata": {
  "kernelspec": {
   "display_name": "Python 3 (ipykernel)",
   "language": "python",
   "name": "python3"
  },
  "language_info": {
   "codemirror_mode": {
    "name": "ipython",
    "version": 3
   },
   "file_extension": ".py",
   "mimetype": "text/x-python",
   "name": "python",
   "nbconvert_exporter": "python",
   "pygments_lexer": "ipython3",
   "version": "3.11.7"
  }
 },
 "nbformat": 4,
 "nbformat_minor": 5
}
