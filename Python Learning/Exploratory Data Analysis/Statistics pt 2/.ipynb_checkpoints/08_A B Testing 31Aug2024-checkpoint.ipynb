{
 "cells": [
  {
   "cell_type": "markdown",
   "id": "e91dc69a-b0fa-496d-8192-4aeb780bac23",
   "metadata": {},
   "source": [
    "<p> \n",
    "\n",
    "The vote for the Civil Rights Act in 1964:\n",
    "\n",
    "The Civil Rights Act of 1964 was one of the most important pieces of legislation ever passed in the USA. Excluding \"present\" and \"abstain\" votes, 153 House Democrats and 136 Republicans voted yea. However, 91 Democrats and 35 Republicans voted nay. Did party affiliation make a difference in the vote?\n",
    "\n",
    "To answer this question, you will evaluate the hypothesis that the party of a House member has no bearing on his or her vote. You will use the fraction of Democrats voting in favor as your test statistic and evaluate the probability of observing a fraction of Democrats voting in favor at least as small as the observed fraction of 153/244. (That's right, at least as small as. In 1964, it was the Democrats who were less progressive on civil rights issues.) To do this, permute the party labels of the House voters and then arbitrarily divide them into \"Democrats\" and \"Republicans\" and compute the fraction of Democrats voting yea.\n",
    "\n",
    "</p>"
   ]
  },
  {
   "cell_type": "markdown",
   "id": "ebace90e-9f57-40ba-97d0-5dbf8ba415ca",
   "metadata": {},
   "source": [
    "<p> \n",
    "\n",
    "- Construct Boolean arrays, dems and reps that contain the votes of the respective parties; e.g., dems has 153 True entries and 91 False entries.\n",
    "- Write a function, frac_yea_dems(dems, reps) that returns the fraction of Democrats that voted yea. The first input is an array of Booleans, Two inputs are required to use your draw_perm_reps() function, but the second is not used.\n",
    "- Use your draw_perm_reps() function to draw 10,000 permutation replicates of the fraction of Democrat yea votes.\n",
    "- Compute and print the p-value.\n",
    "\n",
    "</p>"
   ]
  },
  {
   "cell_type": "code",
   "execution_count": null,
   "id": "fd293b98-3954-41d4-8e33-b440665ec013",
   "metadata": {},
   "outputs": [],
   "source": [
    "# Construct arrays of data: dems, reps\n",
    "dems = np.array([True] * 153 + [False] * 91)\n",
    "reps = np.array([True] * 136 + [False] * 35)\n",
    "\n",
    "def frac_yea_dems(dems, reps):\n",
    "    \"\"\"Compute fraction of Democrat yea votes.\"\"\"\n",
    "    frac = np.sum(dems) / len(dems)\n",
    "    return frac\n",
    "\n",
    "# Acquire permutation samples: perm_replicates\n",
    "perm_replicates = draw_perm_reps(dems, reps, frac_yea_dems, 10000)\n",
    "\n",
    "# Compute and print p-value: p\n",
    "p = np.sum(perm_replicates <= 153/244) / len(perm_replicates)\n",
    "print('p-value =', p)\n",
    "\n",
    "#correct output:\n",
    "p-value = 0.0002"
   ]
  },
  {
   "cell_type": "markdown",
   "id": "c713d580-d54c-4dcf-8497-c84011956520",
   "metadata": {},
   "source": [
    "<p> \n",
    "\n",
    "A time-on-website analog:\n",
    "\n",
    "It turns out that you already did a hypothesis test analogous to an A/B test where you are interested in how much time is spent on the website before and after an ad campaign. The frog tongue force (a continuous quantity like time on the website) is an analog. \"Before\" = Frog A and \"after\" = Frog B. Let's practice this again with something that actually is a before/after scenario.\n",
    "\n",
    "We return to the no-hitter data set. In 1920, Major League Baseball implemented important rule changes that ended the so-called dead ball era. Importantly, the pitcher was no longer allowed to spit on or scuff the ball, an activity that greatly favors pitchers. In this problem you will perform an A/B test to determine if these rule changes resulted in a slower rate of no-hitters (i.e., longer average time between no-hitters) using the difference in mean inter-no-hitter time as your test statistic. The inter-no-hitter times for the respective eras are stored in the arrays nht_dead and nht_live, where \"nht\" is meant to stand for \"no-hitter time.\"\n",
    "\n",
    "Since you will be using your draw_perm_reps() function in this exercise, it may be useful to remind yourself of its call signature: draw_perm_reps(d1, d2, func, size=1) or even referring back to the chapter 3 exercise in which you defined it.\n",
    "\n",
    "</p>"
   ]
  },
  {
   "cell_type": "markdown",
   "id": "b858d949-659a-45b4-9350-edcaeab20a97",
   "metadata": {},
   "source": [
    "<p> \n",
    "\n",
    "- Compute the observed difference in mean inter-nohitter time using diff_of_means().\n",
    "- Generate 10,000 permutation replicates of the difference of means using draw_perm_reps().\n",
    "- Compute and print the p-value.\n",
    "\n",
    "</p>"
   ]
  },
  {
   "cell_type": "code",
   "execution_count": null,
   "id": "3d092715-228c-4941-82d3-d0c48777ff8f",
   "metadata": {},
   "outputs": [],
   "source": [
    "# Compute the observed difference in mean inter-no-hitter times: nht_diff_obs\n",
    "nht_diff_obs = diff_of_means(nht_dead, nht_live)\n",
    "\n",
    "# Acquire 10,000 permutation replicates of difference in mean no-hitter time: perm_replicates\n",
    "perm_replicates = draw_perm_reps(nht_dead, nht_live, diff_of_means, size=10000)\n",
    "\n",
    "\n",
    "# Compute and print the p-value: p\n",
    "p = np.sum(perm_replicates <= nht_diff_obs) / len(perm_replicates)\n",
    "print('p-val =', p)\n",
    "\n",
    "#correct output:\n",
    "p-val = 0.0001"
   ]
  }
 ],
 "metadata": {
  "kernelspec": {
   "display_name": "Python 3 (ipykernel)",
   "language": "python",
   "name": "python3"
  },
  "language_info": {
   "codemirror_mode": {
    "name": "ipython",
    "version": 3
   },
   "file_extension": ".py",
   "mimetype": "text/x-python",
   "name": "python",
   "nbconvert_exporter": "python",
   "pygments_lexer": "ipython3",
   "version": "3.11.7"
  }
 },
 "nbformat": 4,
 "nbformat_minor": 5
}
