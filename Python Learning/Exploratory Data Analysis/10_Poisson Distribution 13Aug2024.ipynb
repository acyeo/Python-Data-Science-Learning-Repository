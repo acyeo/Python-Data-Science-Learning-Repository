{
 "cells": [
  {
   "cell_type": "markdown",
   "id": "5fc3dfd4-ecd3-4218-a493-edaf5f05b6ad",
   "metadata": {},
   "source": [
    "<p> \n",
    "    \n",
    "- Using the rng.poisson() function, draw 10000 samples from a Poisson distribution with a mean of 10. \n",
    "- Make a list of the n and p values to consider for the Binomial distribution. \n",
    "- Choose n = [20, 100, 1000] and p = [0.5, 0.1, 0.01] so that is always 10.\n",
    "- Using rng.binomial() inside the provided for loop, draw 10000 samples from a Binomial distribution with each n, p pair \n",
    "- print the mean and standard deviation of the samples. There are 3 n, p pairs: 20, 0.5, 100, 0.1, and 1000, 0.01. \n",
    "- These can be accessed inside the loop as n[i], p[i].\n",
    " </p>"
   ]
  },
  {
   "cell_type": "code",
   "execution_count": null,
   "id": "4b961986-cadc-4515-b9f4-a73747e30418",
   "metadata": {},
   "outputs": [],
   "source": [
    "# Draw 10,000 samples out of Poisson distribution: samples_poisson\n",
    "samples_poisson = rng.poisson(10, size=10000)\n",
    "\n",
    "# Print the mean and standard deviation\n",
    "print('Poisson:     ', np.mean(samples_poisson),\n",
    "                       np.std(samples_poisson))\n",
    "\n",
    "# Specify values of n and p to consider for Binomial: n, p\n",
    "n = [20, 100, 1000]\n",
    "p = [0.5, 0.1, 0.01]\n",
    "\n",
    "# Draw 10,000 samples for each n,p pair: samples_binomial\n",
    "for i in range(3):\n",
    "    samples_binomial = rng.binomial(n[i],p[i], size=10000)\n",
    "\n",
    "    # Print results\n",
    "    print('n =', n[i], 'Binom:', np.mean(samples_binomial),\n",
    "                                 np.std(samples_binomial))\n",
    "\n",
    "#correct output:\n",
    "Poisson:      10.0235 3.124923639067041\n",
    "    n = 20 Binom: 9.9938 2.223816889943954\n",
    "    n = 100 Binom: 10.039 2.9979124403491175\n",
    "    n = 1000 Binom: 9.9564 3.129488622762511"
   ]
  },
  {
   "cell_type": "markdown",
   "id": "b1444f9f-0a80-4a8d-a65a-83dd83c098f8",
   "metadata": {},
   "source": [
    "<p> \n",
    "    \n",
    "- Draw 10000 samples from a Poisson distribution with a mean of 251/115 and assign to n_nohitters.\n",
    "- Determine how many of your samples had a result greater than or equal to 7 and assign to n_large.\n",
    "- Compute the probability, p_large, of having 7 or more no-hitters by dividing n_large by the total number of samples (10000).\n",
    "- Hit submit to print the probability that you calculated..\n",
    " </p>"
   ]
  },
  {
   "cell_type": "code",
   "execution_count": null,
   "id": "da3b7c5d-bbab-475e-8e52-f357156a64fd",
   "metadata": {},
   "outputs": [],
   "source": [
    "# Draw 10,000 samples out of Poisson distribution: n_nohitters\n",
    "n_nohitters = rng.poisson(251/115, size=10000)\n",
    "\n",
    "# Compute number of samples that are seven or greater: n_large\n",
    "n_large = np.sum(n_nohitters >= 7)\n",
    "\n",
    "# Compute probability of getting seven or more: p_large\n",
    "p_large = n_large/10000\n",
    "\n",
    "# Print the result\n",
    "print('Probability of seven or more no-hitters:', p_large)\n",
    "\n",
    "#correct output:\n",
    "Probability of seven or more no-hitters: 0.006"
   ]
  }
 ],
 "metadata": {
  "kernelspec": {
   "display_name": "Python 3 (ipykernel)",
   "language": "python",
   "name": "python3"
  },
  "language_info": {
   "codemirror_mode": {
    "name": "ipython",
    "version": 3
   },
   "file_extension": ".py",
   "mimetype": "text/x-python",
   "name": "python",
   "nbconvert_exporter": "python",
   "pygments_lexer": "ipython3",
   "version": "3.11.7"
  }
 },
 "nbformat": 4,
 "nbformat_minor": 5
}
