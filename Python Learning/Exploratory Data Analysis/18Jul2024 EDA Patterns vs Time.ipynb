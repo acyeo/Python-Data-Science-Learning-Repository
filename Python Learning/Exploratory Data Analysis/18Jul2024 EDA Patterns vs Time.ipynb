{
 "cells": [
  {
   "cell_type": "code",
   "execution_count": null,
   "id": "a6427a84-a6db-4407-b5ea-2054f2720b91",
   "metadata": {},
   "outputs": [],
   "source": [
    "# Import divorce.csv, parsing the appropriate columns as dates in the import\n",
    "divorce = pd.read_csv(\"divorce.csv\", parse_dates=[\"divorce_date\",\"dob_man\", \"dob_woman\", \"marriage_date\"])\n",
    "print(divorce.dtypes)\n",
    "\n",
    "#correct output:\n",
    "divorce_date         datetime64[ns]\n",
    "dob_man              datetime64[ns]\n",
    "education_man                object\n",
    "income_man                  float64\n",
    "dob_woman            datetime64[ns]\n",
    "education_woman              object\n",
    "income_woman                float64\n",
    "marriage_date        datetime64[ns]\n",
    "marriage_duration           float64\n",
    "num_kids                    float64\n",
    "dtype: object"
   ]
  },
  {
   "cell_type": "code",
   "execution_count": null,
   "id": "ebe35d6b-b65d-44a5-aa93-2b9d4c14769e",
   "metadata": {},
   "outputs": [],
   "source": [
    "# Convert the marriage_date column to DateTime values\n",
    "divorce[\"marriage_date\"] = pd.to_datetime(divorce[\"marriage_date\"])\n",
    "# Define the marriage_year column\n",
    "divorce[\"marriage_year\"] = divorce[\"marriage_date\"].dt.year\n",
    "# Create a line plot showing the average number of kids by year\n",
    "sns.lineplot(data=divorce,x=\"marriage_year\", y=\"num_kids\")\n",
    "plt.show()"
   ]
  }
 ],
 "metadata": {
  "kernelspec": {
   "display_name": "Python 3 (ipykernel)",
   "language": "python",
   "name": "python3"
  },
  "language_info": {
   "codemirror_mode": {
    "name": "ipython",
    "version": 3
   },
   "file_extension": ".py",
   "mimetype": "text/x-python",
   "name": "python",
   "nbconvert_exporter": "python",
   "pygments_lexer": "ipython3",
   "version": "3.11.7"
  }
 },
 "nbformat": 4,
 "nbformat_minor": 5
}
