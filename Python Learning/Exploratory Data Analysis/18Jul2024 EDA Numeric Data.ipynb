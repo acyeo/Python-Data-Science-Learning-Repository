{
 "cells": [
  {
   "cell_type": "code",
   "execution_count": null,
   "id": "95cda6c9-d542-410e-9d48-fece0be23a26",
   "metadata": {},
   "outputs": [],
   "source": [
    "# Preview the column\n",
    "print(planes[\"Duration\"].head())\n",
    "\n",
    "# Remove the string character\n",
    "# Remove the string character\n",
    "planes[\"Duration\"] = planes[\"Duration\"].str.replace(\"h\", \"\")\n",
    "\n",
    "# Convert to float data type\n",
    "planes[\"Duration\"] = planes[\"Duration\"].astype(float)\n",
    "\n",
    "# Plot a histogram\n",
    "sns.histplot(data=planes, x=\"Duration\")\n",
    "plt.show()"
   ]
  },
  {
   "cell_type": "code",
   "execution_count": null,
   "id": "e7cbfd48-a971-4251-a88d-7f1792620e69",
   "metadata": {},
   "outputs": [],
   "source": [
    "# Price standard deviation by Airline\n",
    "planes[\"airline_price_st_dev\"] = planes.groupby(\"Airline\")[\"Price\"].transform(lambda x: x.std())\n",
    "\n",
    "print(planes[[\"Airline\", \"airline_price_st_dev\"]].value_counts())\n",
    "\n",
    "#correct output:\n",
    "\n",
    "Airline            airline_price_st_dev\n",
    "Jet Airways        4230.749                3685\n",
    "IndiGo             2266.754                1981\n",
    "Air India          3865.872                1686\n",
    "Multiple carriers  3763.675                1148\n",
    "SpiceJet           1790.852                 787\n",
    "Vistara            2864.268                 455\n",
    "Air Asia           2016.739                 309\n",
    "GoAir              2790.815                 182\n",
    "dtype: int64"
   ]
  },
  {
   "cell_type": "code",
   "execution_count": null,
   "id": "f305d90c-f0f3-4353-80ca-4d7e9f9a1250",
   "metadata": {},
   "outputs": [],
   "source": [
    "# Median Duration by Airline\n",
    "planes[\"airline_median_duration\"] = planes.groupby(\"Airline\")[\"Duration\"].transform(lambda x: x.median())\n",
    "\n",
    "print(planes[[\"Airline\",\"airline_median_duration\"]].value_counts())\n",
    "\n",
    "#correct output:\n",
    "Airline            airline_median_duration\n",
    "Jet Airways        13.333                     3685\n",
    "IndiGo             2.917                      1981\n",
    "Air India          15.917                     1686\n",
    "Multiple carriers  10.250                     1148\n",
    "SpiceJet           2.500                       787\n",
    "Vistara            3.167                       455\n",
    "Air Asia           2.833                       309\n",
    "GoAir              5.167                       182\n",
    "dtype: int64"
   ]
  },
  {
   "cell_type": "code",
   "execution_count": null,
   "id": "ad40d4c4-0dc2-4f85-bed8-2c895e5451cc",
   "metadata": {},
   "outputs": [],
   "source": [
    "# Mean Price by Destination\n",
    "planes[\"price_destination_mean\"] = planes.groupby(\"Destination\")[\"Price\"].transform(lambda x: x.mean())\n",
    "\n",
    "print(planes[[\"Destination\",\"price_destination_mean\"]].value_counts())\n",
    "\n",
    "#correct output:\n",
    "Destination  price_destination_mean\n",
    "Cochin       10506.993                 4391\n",
    "Banglore     9132.225                  2773\n",
    "Delhi        5157.794                  1219\n",
    "New Delhi    11738.589                  888\n",
    "Hyderabad    5025.210                   673\n",
    "Kolkata      4801.490                   369\n",
    "dtype: int64"
   ]
  }
 ],
 "metadata": {
  "kernelspec": {
   "display_name": "Python 3 (ipykernel)",
   "language": "python",
   "name": "python3"
  },
  "language_info": {
   "codemirror_mode": {
    "name": "ipython",
    "version": 3
   },
   "file_extension": ".py",
   "mimetype": "text/x-python",
   "name": "python",
   "nbconvert_exporter": "python",
   "pygments_lexer": "ipython3",
   "version": "3.11.7"
  }
 },
 "nbformat": 4,
 "nbformat_minor": 5
}
