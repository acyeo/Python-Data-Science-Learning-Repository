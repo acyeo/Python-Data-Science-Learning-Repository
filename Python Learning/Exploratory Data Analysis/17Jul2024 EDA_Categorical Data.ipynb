{
 "cells": [
  {
   "cell_type": "code",
   "execution_count": null,
   "id": "c88a794b-ce29-4aa6-8316-7b4aa5388e19",
   "metadata": {},
   "outputs": [],
   "source": [
    "#Filter planes for columns that are of \"object\" data type.\n",
    "non_numeric = planes.select_dtypes(\"object\")\n",
    "#Loop through the columns in the dataset.\n",
    "#Add the column iterator to the print statement, then call the function to return the number of unique values in the column.\n",
    "for column in non_numeric.columns:\n",
    "  \n",
    "  # Print the number of unique values\n",
    "  print(f\"Number of unique values in {column} column: \", non_numeric[column].nunique())\n",
    "\n",
    "#correct output: \n",
    "Number of unique values in Airline column:  8\n",
    "Number of unique values in Date_of_Journey column:  44\n",
    "Number of unique values in Source column:  5\n",
    "Number of unique values in Destination column:  6\n",
    "Number of unique values in Route column:  122\n",
    "Number of unique values in Dep_Time column:  218\n",
    "Number of unique values in Duration column:  362\n",
    "Number of unique values in Total_Stops column:  5\n",
    "Number of unique values in Additional_Info column:  9"
   ]
  },
  {
   "cell_type": "code",
   "execution_count": null,
   "id": "fcb1e94c-d141-4025-bdee-0c6e906e47d9",
   "metadata": {},
   "outputs": [],
   "source": [
    "# Create a list of categories\n",
    "flight_categories = [\"Short-haul\", \"Medium\", \"Long-haul\"]\n",
    "\n",
    "# Create short_flights\n",
    "short_flights = \"^0h|^1h|^2h|^3h|^4h\"\n",
    "\n",
    "# Create medium_flights\n",
    "medium_flights = \"^5h|^6h|^7h|^8h|^9h\"\n",
    "\n",
    "# Create long_flights\n",
    "long_flights = \"10h|11h|12h|13h|14h|15h|16h\n",
    "\n",
    "# Create conditions for values in flight_categories to be created\n",
    "conditions = [\n",
    "    (planes[\"Duration\"].str.contains(short_flights)),\n",
    "    (planes[\"Duration\"].str.contains(medium_flights)),\n",
    "    (planes[\"Duration\"].str.contains(long_flights))\n",
    "]\n",
    "\n",
    "# Apply the conditions list to the flight_categories\n",
    "planes[\"Duration_Category\"] = np.select(conditions, \n",
    "                                        flight_categories,\n",
    "                                        default=\"Extreme duration\")\n",
    "\n",
    "# Plot the counts of each category\n",
    "sns.countplot(data=planes, x=\"Duration_Category\")\n",
    "plt.show()"
   ]
  }
 ],
 "metadata": {
  "kernelspec": {
   "display_name": "Python 3 (ipykernel)",
   "language": "python",
   "name": "python3"
  },
  "language_info": {
   "codemirror_mode": {
    "name": "ipython",
    "version": 3
   },
   "file_extension": ".py",
   "mimetype": "text/x-python",
   "name": "python",
   "nbconvert_exporter": "python",
   "pygments_lexer": "ipython3",
   "version": "3.11.7"
  }
 },
 "nbformat": 4,
 "nbformat_minor": 5
}
