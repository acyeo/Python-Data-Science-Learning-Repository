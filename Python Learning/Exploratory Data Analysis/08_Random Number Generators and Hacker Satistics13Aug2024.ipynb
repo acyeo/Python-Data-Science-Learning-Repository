{
 "cells": [
  {
   "cell_type": "code",
   "execution_count": null,
   "id": "365a345b-2e4b-4afc-ab1d-534a74c95f91",
   "metadata": {},
   "outputs": [],
   "source": [
    "#Instantiate and seed a random number generator, rng, using the seed 42.\n",
    "#Initialize an empty array, random_numbers, of 100,000 entries to store the random numbers. \n",
    "#Make sure you use np.empty(100000) to do this.\n",
    "\n",
    "rng = np.random.default_rng(42)\n",
    "random_numbers = np.empty(100000)\n",
    "\n",
    "#Write a for loop to draw 100,000 random numbers using rng.random(), storing them in the random_numbers array. \n",
    "#To do so, loop over range(100000).\n",
    "\n",
    "for i in range(100000):\n",
    "    random_numbers[i] = rng.random()\n",
    "\n",
    "# Plot a histogram\n",
    "\n",
    "_ = plt.hist(random_numbers)\n",
    "\n",
    "# Show the plot\n",
    "plt.show()\n"
   ]
  },
  {
   "cell_type": "markdown",
   "id": "02f970b6-b90b-4267-8f8a-a70c399e0a4d",
   "metadata": {},
   "source": [
    "<p>np.random.default_rng(42) creates a new random number generator instance called rng.\n",
    "The 42 is the seed value, meaning that every time you use this generator to produce random numbers, you will get the same results if you use the same seed. \n",
    "\n",
    "the specific number you choose doesn't matter; any integer would work. The key point is that using the same seed will always produce the same sequence of random numbers.\n",
    "\n",
    "np.empty(100000): This function call creates a new NumPy array with space allocated for 100,000 elements.</p>"
   ]
  },
  {
   "cell_type": "markdown",
   "id": "d36e6174-db87-4612-8517-f2497040fda2",
   "metadata": {},
   "source": [
    "<p>Define a function with signature perform_bernoulli_trials(n, p).\n",
    "    \n",
    "- Initialize to zero a variable n_success the counter of Trues, which are Bernoulli trial successes.\n",
    "- Write a for loop where you perform a Bernoulli trial in each iteration and increment the number of success if the result is True.Perform n iterations by looping over range(n).\n",
    "- To perform a Bernoulli trial, choose a random number between zero and one using rng.random(). \n",
    "- If the number you chose is less than p, increment n_success (use the += 1 operator to achieve this). \n",
    "- An RNG has already been instantiated as the variable rng and seeded.\n",
    "- The function returns the number of successes n_success.\n",
    "\n",
    "</p>"
   ]
  },
  {
   "cell_type": "code",
   "execution_count": null,
   "id": "3f2b9c52-7c48-4383-875f-79c6fb565255",
   "metadata": {},
   "outputs": [],
   "source": [
    "def perform_bernoulli_trials(n, p):\n",
    "    \"\"\"Perform n Bernoulli trials with success probability p\n",
    "    and return number of successes.\"\"\"\n",
    "    # Initialize number of successes: n_success\n",
    "    n_success = 0\n",
    "\n",
    "    # Perform trials\n",
    "    for i in range(n):\n",
    "        # Choose random number between zero and one: random_number\n",
    "        random_number = rng.random()\n",
    "\n",
    "        # If less than p, it's a success so add one to n_success\n",
    "        if random_number < p:\n",
    "            n_success += 1\n",
    "\n",
    "    return n_success"
   ]
  },
  {
   "cell_type": "code",
   "execution_count": null,
   "id": "01870e71-c9a4-4599-aeef-da05d0536f80",
   "metadata": {},
   "outputs": [],
   "source": [
    "# Instantiate and seed random number generator\n",
    "rng = np.random.default_rng(42)\n",
    "\n",
    "\n",
    "# Initialize the number of defaults: n_defaults\n",
    "n_defaults = np.empty(1000)\n",
    "\n",
    "# Compute the number of defaults\n",
    "#t accepts two arguments: the number of trials n - in this case 100 \n",
    "#- and the probability of success p - in this case the probability of a default, which is 0.05. \n",
    "#On each iteration of the loop store the result in an entry of n_defaults.\n",
    "for i in range(1000):\n",
    "    n_defaults[i] = perform_bernoulli_trials(100,0.05)\n",
    "\n",
    "\n",
    "# Plot the histogram with default number of bins; label your axes\n",
    "_ = plt.hist(n_defaults, density=True)\n",
    "_ = plt.xlabel('number of defaults out of 100 loans')\n",
    "_ = plt.ylabel('probability')\n",
    "\n",
    "# Show the plot\n",
    "plt.show()"
   ]
  },
  {
   "cell_type": "code",
   "execution_count": null,
   "id": "b136bbc7-a43a-4bd5-9154-2be48f8fcc1b",
   "metadata": {},
   "outputs": [],
   "source": [
    "# Compute ECDF: x, y\n",
    "x,y = ecdf(n_defaults)\n",
    "\n",
    "# Plot the ECDF with labeled axes\n",
    "plt.plot(x, y, marker='.', linestyle = 'none')\n",
    "plt.xlabel('loans')\n",
    "plt.ylabel('ECDF')\n",
    "\n",
    "\n",
    "\n",
    "# Show the plot\n",
    "plt.show()\n",
    "\n",
    "# Compute the number of 100-loan simulations with 10 or more defaults: n_lose_money\n",
    "n_lose_money = np.sum(n_defaults >=10)\n",
    "\n",
    "#The probability that the bank loses money is the fraction of n_defaults that are greater than or equal to 10. \n",
    "#Print this result by hitting submit! \n",
    "print('Probability of losing money =', n_lose_money / len(n_defaults))\n",
    "\n",
    "#correct output:\n",
    "Probability of losing money = 0.022"
   ]
  }
 ],
 "metadata": {
  "kernelspec": {
   "display_name": "Python 3 (ipykernel)",
   "language": "python",
   "name": "python3"
  },
  "language_info": {
   "codemirror_mode": {
    "name": "ipython",
    "version": 3
   },
   "file_extension": ".py",
   "mimetype": "text/x-python",
   "name": "python",
   "nbconvert_exporter": "python",
   "pygments_lexer": "ipython3",
   "version": "3.11.7"
  }
 },
 "nbformat": 4,
 "nbformat_minor": 5
}
