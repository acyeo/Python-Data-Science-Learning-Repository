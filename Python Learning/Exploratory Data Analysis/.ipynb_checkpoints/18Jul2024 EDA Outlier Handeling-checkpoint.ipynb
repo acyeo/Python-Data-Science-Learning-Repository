{
 "cells": [
  {
   "cell_type": "code",
   "execution_count": null,
   "id": "c589a33a-0420-490c-b08a-e3b7fce53920",
   "metadata": {},
   "outputs": [],
   "source": [
    "# Plot a histogram of flight prices\n",
    "sns.histplot(data=planes, x=\"Price\")\n",
    "plt.show()\n",
    "\n",
    "# Display descriptive statistics for flight duration\n",
    "print(planes[\"Duration\"].describe())\n",
    "\n",
    "#correct output:\n",
    "count    10446.000\n",
    "mean        10.724\n",
    "std          8.472\n",
    "min          0.083\n",
    "25%          2.833\n",
    "50%          8.667\n",
    "75%         15.500\n",
    "max         47.667\n",
    "Name: Duration, dtype: float64"
   ]
  },
  {
   "cell_type": "code",
   "execution_count": null,
   "id": "d40445d6-a4c0-4bf1-968f-03b19078da1a",
   "metadata": {},
   "outputs": [],
   "source": [
    "# Find the 75th and 25th percentiles\n",
    "price_seventy_fifth = planes[\"Price\"].quantile(0.75)\n",
    "price_twenty_fifth = planes[\"Price\"].quantile(0.25)\n",
    "\n",
    "# Calculate iqr\n",
    "prices_iqr = price_seventy_fifth - price_twenty_fifth\n",
    "\n",
    "# Calculate the thresholds\n",
    "upper = price_seventy_fifth + (1.5 * prices_iqr)\n",
    "lower = price_twenty_fifth - (1.5 * prices_iqr)\n",
    "\n",
    "# Remove the outliers from the data\n",
    "planes = planes[(planes[\"Price\"] > lower) & (planes[\"Price\"] < upper)]\n",
    "\n",
    "print(planes[\"Price\"].describe())\n",
    "\n",
    "#correct Output:\n",
    "count     9959.000\n",
    "mean      8875.161\n",
    "std       4057.202\n",
    "min       1759.000\n",
    "25%       5228.000\n",
    "50%       8283.000\n",
    "75%      12284.000\n",
    "max      23001.000\n",
    "Name: Price, dtype: float64"
   ]
  }
 ],
 "metadata": {
  "kernelspec": {
   "display_name": "Python 3 (ipykernel)",
   "language": "python",
   "name": "python3"
  },
  "language_info": {
   "codemirror_mode": {
    "name": "ipython",
    "version": 3
   },
   "file_extension": ".py",
   "mimetype": "text/x-python",
   "name": "python",
   "nbconvert_exporter": "python",
   "pygments_lexer": "ipython3",
   "version": "3.11.7"
  }
 },
 "nbformat": 4,
 "nbformat_minor": 5
}
