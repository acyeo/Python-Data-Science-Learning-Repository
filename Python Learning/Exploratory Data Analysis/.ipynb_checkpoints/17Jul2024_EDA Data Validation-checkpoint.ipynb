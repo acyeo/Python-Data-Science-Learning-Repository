{
 "cells": [
  {
   "cell_type": "code",
   "execution_count": null,
   "id": "7d766284-f0ad-4ce7-9e33-cecc892945c5",
   "metadata": {},
   "outputs": [],
   "source": [
    "# Update the data type of the 2019 column to a float\n",
    "unemployment[\"2019\"] = unemployment[\"2019\"].astype(float)\n",
    "# Print the dtypes to check your work\n",
    "print(unemployment.dtypes)\n",
    "\n",
    "#correct output: \n",
    "country_code     object\n",
    "country_name     object\n",
    "continent        object\n",
    "2010            float64\n",
    "2011            float64\n",
    "2012            float64\n",
    "2013            float64\n",
    "2014            float64\n",
    "2015            float64\n",
    "2016            float64\n",
    "2017            float64\n",
    "2018            float64\n",
    "2019            float64\n",
    "2020            float64\n",
    "2021            float64\n",
    "dtype: object"
   ]
  },
  {
   "cell_type": "code",
   "execution_count": null,
   "id": "fb66c5aa-61f6-4ef2-b6c5-1c4f98d94b47",
   "metadata": {},
   "outputs": [],
   "source": [
    "# Define a Series describing whether each continent is outside of Oceania\n",
    "not_oceania = ~unemployment[\"continent\"].isin([\"Oceania\"])\n",
    "\n",
    "# Print unemployment without records related to countries in Oceania\n",
    "print(unemployment[not_oceania])\n",
    "\n",
    "#Correct Output: \n",
    "\n",
    "    country_code          country_name      continent   2010   2011  ...   2017   2018   2019   2020   2021\n",
    "0            AFG           Afghanistan           Asia  11.35  11.05  ...  11.18  11.15  11.22  11.71  13.28\n",
    "1            AGO                Angola         Africa   9.43   7.36  ...   7.41   7.42   7.42   8.33   8.53\n",
    "2            ALB               Albania         Europe  14.09  13.48  ...  13.62  12.30  11.47  13.33  11.82\n",
    "3            ARE  United Arab Emirates           Asia   2.48   2.30  ...   2.46   2.35   2.23   3.19   3.36\n",
    "4            ARG             Argentina  South America   7.71   7.18  ...   8.35   9.22   9.84  11.46  10.90\n",
    "..           ...                   ...            ...    ...    ...  ...    ...    ...    ...    ...    ...\n",
    "175          VNM               Vietnam           Asia   1.11   1.00  ...   1.87   1.16   2.04   2.39   2.17\n",
    "178          YEM           Yemen, Rep.           Asia  12.83  13.23  ...  13.30  13.15  13.06  13.39  13.57\n",
    "179          ZAF          South Africa         Africa  24.68  24.64  ...  27.04  26.91  28.47  29.22  33.56\n",
    "180          ZMB                Zambia         Africa  13.19  10.55  ...  11.63  12.01  12.52  12.85  13.03\n",
    "181          ZWE              Zimbabwe         Africa   5.21   5.37  ...   4.78   4.80   4.83   5.35   5.17\n",
    "\n",
    "[174 rows x 15 columns]"
   ]
  },
  {
   "cell_type": "code",
   "execution_count": null,
   "id": "c514bd7a-a639-45b2-9b5d-9628c2b08e01",
   "metadata": {},
   "outputs": [],
   "source": [
    "# Print the minimum and maximum unemployment rates during 2021\n",
    "print(unemployment['2021'].min(), unemployment['2021'].max())\n",
    "\n",
    "# Create a boxplot of 2021 unemployment rates, broken down by continent\n",
    "sns.boxplot(data=unemployment, x='2021', y='continent')\n",
    "plt.show()\n",
    "\n",
    "#correct output: \n",
    "0.26 33.56"
   ]
  },
  {
   "cell_type": "code",
   "execution_count": null,
   "id": "a2284d95-e948-41f3-8533-666a5dce2b62",
   "metadata": {},
   "outputs": [],
   "source": [
    "# Print the mean and standard deviation of rates by year\n",
    "print(unemployment.agg([\"mean\",\"std\"]))\n",
    "\n",
    "#correct output:\n",
    "      2010   2011   2012   2013   2014  ...   2017   2018   2019   2020   2021\n",
    "mean  8.409  8.315  8.318  8.345  8.180  ...  7.669  7.426  7.244  8.421  8.391\n",
    "std   6.249  6.267  6.367  6.416  6.284  ...  5.902  5.819  5.697  6.041  6.067\n",
    "\n",
    "[2 rows x 12 columns]"
   ]
  },
  {
   "cell_type": "code",
   "execution_count": null,
   "id": "634adfd1-7a02-4186-9f20-8cb0a9853499",
   "metadata": {},
   "outputs": [],
   "source": [
    "# Print yearly mean and standard deviation grouped by continent\n",
    "print(unemployment.groupby('continent').agg([\"mean\", \"std\"]))\n",
    "\n",
    "#correct output: \n",
    "<script.py> output:\n",
    "                     2010           2011           2012  ...   2019    2020           2021       \n",
    "                     mean    std    mean    std    mean  ...    std    mean    std    mean    std\n",
    "    continent                                            ...                                     \n",
    "    Africa          9.344  7.411   9.369  7.402   9.241  ...  7.455  10.308  7.928  10.474  8.132\n",
    "    Asia            6.241  5.146   5.942  4.780   5.835  ...  5.254   7.012  5.700   6.906  5.415\n",
    "    Europe         11.008  6.392  10.948  6.540  11.326  ...  4.125   7.471  4.071   7.415  3.948\n",
    "    North America   8.663  5.116   8.563  5.377   8.449  ...  4.770   9.298  4.963   9.155  5.076\n",
    "    Oceania         3.623  2.055   3.647  2.008   4.104  ...  2.369   4.274  2.617   4.280  2.672\n",
    "    South America   6.871  2.807   6.518  2.802   6.411  ...  3.380  10.275  3.411   9.924  3.612\n",
    "    \n",
    "    [6 rows x 24 columns]"
   ]
  },
  {
   "cell_type": "code",
   "execution_count": null,
   "id": "13ca38b3-a75c-4c5d-b99a-cb39014bccc4",
   "metadata": {},
   "outputs": [],
   "source": [
    "continent_summary = unemployment.groupby(\"continent\").agg(\n",
    "    # Create the mean_rate_2021 column\n",
    "    mean_rate_2021 = (\"2021\",\"mean\"),\n",
    "    # Create the std_rate_2021 column\n",
    "    std_rate_2021 = (\"2021\",\"std\")\n",
    ")\n",
    "print(continent_summary)\n",
    "\n",
    "#correct output: \n",
    "               mean_rate_2021  std_rate_2021\n",
    "continent                                   \n",
    "Africa                 10.474          8.132\n",
    "Asia                    6.906          5.415\n",
    "Europe                  7.415          3.948\n",
    "North America           9.155          5.076\n",
    "Oceania                 4.280          2.672\n",
    "South America           9.924          3.612"
   ]
  },
  {
   "cell_type": "code",
   "execution_count": null,
   "id": "52d51028-47a8-4b90-ba06-e9cd5d235af2",
   "metadata": {},
   "outputs": [],
   "source": [
    "# Create a bar plot of continents and their average unemployment\n",
    "sns.barplot(data=unemployment, x='continent', y='2021')\n",
    "plt.show()"
   ]
  }
 ],
 "metadata": {
  "kernelspec": {
   "display_name": "Python 3 (ipykernel)",
   "language": "python",
   "name": "python3"
  },
  "language_info": {
   "codemirror_mode": {
    "name": "ipython",
    "version": 3
   },
   "file_extension": ".py",
   "mimetype": "text/x-python",
   "name": "python",
   "nbconvert_exporter": "python",
   "pygments_lexer": "ipython3",
   "version": "3.11.7"
  }
 },
 "nbformat": 4,
 "nbformat_minor": 5
}
