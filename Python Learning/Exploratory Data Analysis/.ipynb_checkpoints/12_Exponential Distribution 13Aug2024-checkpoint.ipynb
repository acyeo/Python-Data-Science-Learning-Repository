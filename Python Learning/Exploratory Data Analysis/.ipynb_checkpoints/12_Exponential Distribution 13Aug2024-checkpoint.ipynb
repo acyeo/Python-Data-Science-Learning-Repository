{
 "cells": [
  {
   "cell_type": "markdown",
   "id": "d39d4663-e0a0-4a93-9d3d-6c7d629c26a9",
   "metadata": {},
   "source": [
    "<p>Define a function with call signature successive_poisson(tau1, tau2, size=1) that samples the waiting time for a no-hitter and a hit of the cycle:\n",
    "\n",
    "1) Draw waiting times (size number of samples) for the no-hitter out of an exponential distribution parametrized by tau1 and assign to t1.\n",
    "    \n",
    "2) Draw waiting times (size number of samples) for hitting the cycle out of an exponential distribution parametrized by tau2 and assign to t2.\n",
    "\n",
    "3) Compute the CDF of the theoretical samples and the ECDF of the Belmont winners' data, assigning the results to x_theor, y_theor and x, y, respectively.\n",
    "\n",
    "4) The function returns the sum of the waiting times for the two events.</p>"
   ]
  },
  {
   "cell_type": "code",
   "execution_count": 1,
   "id": "bc77f0c7-f2b2-405f-9dca-549ab1eb8ef5",
   "metadata": {},
   "outputs": [],
   "source": [
    "def successive_poisson(tau1, tau2, size=1):\n",
    "    \"\"\"Compute time for arrival of 2 successive Poisson processes.\"\"\"\n",
    "    # Draw samples out of first exponential distribution: t1\n",
    "    t1 = rng.exponential(tau1, size)\n",
    "\n",
    "    # Draw samples out of second exponential distribution: t2\n",
    "    t2 = rng.exponential(tau2, size)\n",
    "\n",
    "    return t1 + t2"
   ]
  },
  {
   "cell_type": "markdown",
   "id": "c05b39ea-3442-4fc2-b28b-76d75b9d2908",
   "metadata": {},
   "source": [
    "<p>Now, you'll use your sampling function to compute the waiting time to observe a no-hitter and hitting of the cycle. The mean waiting time for a no-hitter is 764 games, and the mean waiting time for hitting the cycle is 715 games.:\n",
    "\n",
    "1) Use your successive_poisson() function to draw 100,000 out of the distribution of waiting times for observing a no-hitter and a hitting of the cycle.\n",
    "    \n",
    "2) Plot the PDF of the waiting times using the step histogram technique of a previous exercise. Don't forget the necessary keyword arguments. You should use bins=100, density=True, and histtype='step'.</p>"
   ]
  },
  {
   "cell_type": "code",
   "execution_count": null,
   "id": "188d12f4-b73c-466c-93d5-8f51d4811a24",
   "metadata": {},
   "outputs": [],
   "source": [
    "# Draw samples of waiting times: waiting_times\n",
    "waiting_times = successive_poisson(764, 715, size=100000)\n",
    "\n",
    "# Make the histogram\n",
    "_=plt.hist(waiting_times, bins=100, density=True, histtype='step')\n",
    "\n",
    "\n",
    "# Label axes\n",
    "_=plt.xlabel('waiting time')\n",
    "_=plt.ylabel('CDF')\n",
    "\n",
    "# Show the plot\n",
    "plt.show()"
   ]
  }
 ],
 "metadata": {
  "kernelspec": {
   "display_name": "Python 3 (ipykernel)",
   "language": "python",
   "name": "python3"
  },
  "language_info": {
   "codemirror_mode": {
    "name": "ipython",
    "version": 3
   },
   "file_extension": ".py",
   "mimetype": "text/x-python",
   "name": "python",
   "nbconvert_exporter": "python",
   "pygments_lexer": "ipython3",
   "version": "3.11.7"
  }
 },
 "nbformat": 4,
 "nbformat_minor": 5
}
