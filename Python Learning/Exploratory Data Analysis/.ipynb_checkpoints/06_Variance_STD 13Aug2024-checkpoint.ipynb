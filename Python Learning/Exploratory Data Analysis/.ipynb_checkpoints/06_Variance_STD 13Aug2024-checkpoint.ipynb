{
 "cells": [
  {
   "cell_type": "code",
   "execution_count": null,
   "id": "85de4caa-d3b9-438a-b59b-afaa067af2b1",
   "metadata": {},
   "outputs": [],
   "source": [
    "## Array of differences to mean: differences\n",
    "differences = np.array([versicolor_petal_length-np.mean(versicolor_petal_length)])\n",
    "\n",
    "# Square the differences: diff_sq\n",
    "diff_sq = differences**2\n",
    "\n",
    "# Compute the mean square difference: variance_explicit\n",
    "variance_explicit = np.mean(diff_sq)\n",
    "\n",
    "# Compute the variance using NumPy: variance_np\n",
    "variance_np = np.var(versicolor_petal_length)\n",
    "\n",
    "# Print the results\n",
    "print(variance_explicit, variance_np)\n",
    "\n",
    "#correct output:\n",
    "0.21640000000000004 0.21640000000000004"
   ]
  },
  {
   "cell_type": "code",
   "execution_count": null,
   "id": "ed02fa44-5f50-4495-9a11-fb45e9a0a4f8",
   "metadata": {},
   "outputs": [],
   "source": [
    "# Compute the variance: variance\n",
    "variance = np.var(versicolor_petal_length)\n",
    "\n",
    "# Print the square root of the variance\n",
    "print(np.sqrt(variance))\n",
    "\n",
    "# Print the standard deviation\n",
    "print(np.std(versicolor_petal_length))\n",
    "\n",
    "#correct output:\n",
    "0.4651881339845203\n",
    "0.4651881339845203"
   ]
  }
 ],
 "metadata": {
  "kernelspec": {
   "display_name": "Python 3 (ipykernel)",
   "language": "python",
   "name": "python3"
  },
  "language_info": {
   "codemirror_mode": {
    "name": "ipython",
    "version": 3
   },
   "file_extension": ".py",
   "mimetype": "text/x-python",
   "name": "python",
   "nbconvert_exporter": "python",
   "pygments_lexer": "ipython3",
   "version": "3.11.7"
  }
 },
 "nbformat": 4,
 "nbformat_minor": 5
}
