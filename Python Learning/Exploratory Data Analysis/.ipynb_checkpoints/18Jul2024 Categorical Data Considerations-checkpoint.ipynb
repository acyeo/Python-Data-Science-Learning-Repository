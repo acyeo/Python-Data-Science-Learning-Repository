{
 "cells": [
  {
   "cell_type": "code",
   "execution_count": null,
   "id": "022fce27-43d8-44de-b7e0-37961cef17b3",
   "metadata": {},
   "outputs": [],
   "source": [
    "# Print the relative frequency of Job_Category\n",
    "print(salaries[\"Job_Category\"].value_counts())\n",
    "\n",
    "#correct output:\n",
    "Data Science        0.278\n",
    "Data Engineering    0.273\n",
    "Data Analytics      0.226\n",
    "Machine Learning    0.120\n",
    "Other               0.069\n",
    "Managerial          0.034\n",
    "Name: Job_Category, dtype: float64"
   ]
  },
  {
   "cell_type": "code",
   "execution_count": null,
   "id": "00f3059d-9be5-4812-9d89-68625c8a0524",
   "metadata": {},
   "outputs": [],
   "source": [
    "# Cross-tabulate Company_Size and Experience\n",
    "print(pd.crosstab(salaries[\"Company_Size\"], salaries[\"Experience\"]))\n",
    "\n",
    "#correct output:\n",
    "Experience    EN  EX  MI   SE\n",
    "Company_Size                 \n",
    "L             24   7  49   44\n",
    "M             25   9  58  136\n",
    "S             18   1  21   15"
   ]
  },
  {
   "cell_type": "code",
   "execution_count": null,
   "id": "49b3330a-4ed7-4383-b803-5cc24b901f89",
   "metadata": {},
   "outputs": [],
   "source": [
    "# Cross-tabulate Job_Category and Company_Size\n",
    "print(pd.crosstab(salaries[\"Job_Category\"], salaries[\"Company_Size\"]))\n",
    "\n",
    "#correct output:\n",
    "Company_Size       L   M   S\n",
    "Job_Category                \n",
    "Data Analytics    23  61   8\n",
    "Data Engineering  28  72  11\n",
    "Data Science      38  59  16\n",
    "Machine Learning  17  19  13\n",
    "Managerial         5   8   1\n",
    "Other             13   9   6"
   ]
  },
  {
   "cell_type": "code",
   "execution_count": null,
   "id": "9cd7c6da-3297-4f51-b729-f65db432ff64",
   "metadata": {},
   "outputs": [],
   "source": [
    "# Cross-tabulate Job_Category and Company_Size\n",
    "print(pd.crosstab(salaries[\"Job_Category\"], salaries[\"Company_Size\"],\n",
    "            values=salaries[\"Salary_USD\"], aggfunc=\"mean\"))\n",
    "\n",
    "#correct output:\n",
    "Company_Size               L           M          S\n",
    "Job_Category                                       \n",
    "Data Analytics    112851.749   95912.685  53741.877\n",
    "Data Engineering  118939.035  121287.061  86927.136\n",
    "Data Science       96489.520  116044.456  62241.749\n",
    "Machine Learning  140779.492  100794.237  78812.586\n",
    "Managerial        190551.449  150713.628  31484.700\n",
    "Other              92873.911   89750.579  69871.248"
   ]
  }
 ],
 "metadata": {
  "kernelspec": {
   "display_name": "Python 3 (ipykernel)",
   "language": "python",
   "name": "python3"
  },
  "language_info": {
   "codemirror_mode": {
    "name": "ipython",
    "version": 3
   },
   "file_extension": ".py",
   "mimetype": "text/x-python",
   "name": "python",
   "nbconvert_exporter": "python",
   "pygments_lexer": "ipython3",
   "version": "3.11.7"
  }
 },
 "nbformat": 4,
 "nbformat_minor": 5
}
