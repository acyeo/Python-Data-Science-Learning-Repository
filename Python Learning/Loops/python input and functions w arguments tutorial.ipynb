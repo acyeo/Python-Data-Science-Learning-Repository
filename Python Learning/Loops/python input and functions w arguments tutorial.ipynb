{
 "cells": [
  {
   "cell_type": "code",
   "execution_count": null,
   "id": "ba58349a-2593-4c89-a6a2-791c79d13dda",
   "metadata": {},
   "outputs": [],
   "source": [
    "#functions are a collection of instructions or codes. "
   ]
  },
  {
   "cell_type": "code",
   "execution_count": 58,
   "id": "a06dece4-1909-4968-8558-fbc5ca7a9891",
   "metadata": {},
   "outputs": [
    {
     "data": {
      "text/plain": [
       "['C1',\n",
       " 'C2',\n",
       " 'In',\n",
       " 'Out',\n",
       " 'V1',\n",
       " 'V2',\n",
       " '_',\n",
       " '_1',\n",
       " '_14',\n",
       " '_16',\n",
       " '_18',\n",
       " '_19',\n",
       " '_21',\n",
       " '_22',\n",
       " '_23',\n",
       " '_25',\n",
       " '_28',\n",
       " '_34',\n",
       " '_35',\n",
       " '_36',\n",
       " '_37',\n",
       " '_38',\n",
       " '_42',\n",
       " '_43',\n",
       " '_57',\n",
       " '_8',\n",
       " '__',\n",
       " '___',\n",
       " '__builtin__',\n",
       " '__builtins__',\n",
       " '__doc__',\n",
       " '__loader__',\n",
       " '__name__',\n",
       " '__package__',\n",
       " '__session__',\n",
       " '__spec__',\n",
       " '_dh',\n",
       " '_i',\n",
       " '_i1',\n",
       " '_i10',\n",
       " '_i11',\n",
       " '_i12',\n",
       " '_i13',\n",
       " '_i14',\n",
       " '_i15',\n",
       " '_i16',\n",
       " '_i17',\n",
       " '_i18',\n",
       " '_i19',\n",
       " '_i2',\n",
       " '_i20',\n",
       " '_i21',\n",
       " '_i22',\n",
       " '_i23',\n",
       " '_i24',\n",
       " '_i25',\n",
       " '_i26',\n",
       " '_i27',\n",
       " '_i28',\n",
       " '_i29',\n",
       " '_i3',\n",
       " '_i30',\n",
       " '_i31',\n",
       " '_i32',\n",
       " '_i33',\n",
       " '_i34',\n",
       " '_i35',\n",
       " '_i36',\n",
       " '_i37',\n",
       " '_i38',\n",
       " '_i39',\n",
       " '_i4',\n",
       " '_i40',\n",
       " '_i41',\n",
       " '_i42',\n",
       " '_i43',\n",
       " '_i44',\n",
       " '_i45',\n",
       " '_i46',\n",
       " '_i47',\n",
       " '_i48',\n",
       " '_i49',\n",
       " '_i50',\n",
       " '_i51',\n",
       " '_i52',\n",
       " '_i53',\n",
       " '_i54',\n",
       " '_i55',\n",
       " '_i56',\n",
       " '_i57',\n",
       " '_i58',\n",
       " '_i6',\n",
       " '_i7',\n",
       " '_i8',\n",
       " '_i9',\n",
       " '_ih',\n",
       " '_ii',\n",
       " '_iii',\n",
       " '_oh',\n",
       " 'cm',\n",
       " 'exit',\n",
       " 'f',\n",
       " 'get_ipython',\n",
       " 'innoc_media_vol',\n",
       " 'math',\n",
       " 'open',\n",
       " 'ping',\n",
       " 'pint',\n",
       " 'quit',\n",
       " 'triangle_area',\n",
       " 'volume',\n",
       " 'x']"
      ]
     },
     "execution_count": 58,
     "metadata": {},
     "output_type": "execute_result"
    }
   ],
   "source": [
    "#look up functions that are available to us \n",
    "dir()"
   ]
  },
  {
   "cell_type": "code",
   "execution_count": 6,
   "id": "69ba289d-9688-4a30-9fad-bb6cb3030b79",
   "metadata": {},
   "outputs": [],
   "source": [
    "#define function\n",
    "def f():\n",
    "    pass\n",
    "  "
   ]
  },
  {
   "cell_type": "code",
   "execution_count": 7,
   "id": "a090b513-c735-4519-ac06-e9bdd51cc355",
   "metadata": {},
   "outputs": [],
   "source": [
    "f()"
   ]
  },
  {
   "cell_type": "code",
   "execution_count": 8,
   "id": "8732427a-587d-463e-9fb2-5dd5d984807b",
   "metadata": {},
   "outputs": [
    {
     "data": {
      "text/plain": [
       "['In',\n",
       " 'Out',\n",
       " '_',\n",
       " '_1',\n",
       " '__',\n",
       " '___',\n",
       " '__builtin__',\n",
       " '__builtins__',\n",
       " '__doc__',\n",
       " '__loader__',\n",
       " '__name__',\n",
       " '__package__',\n",
       " '__session__',\n",
       " '__spec__',\n",
       " '_dh',\n",
       " '_i',\n",
       " '_i1',\n",
       " '_i2',\n",
       " '_i3',\n",
       " '_i4',\n",
       " '_i6',\n",
       " '_i7',\n",
       " '_i8',\n",
       " '_ih',\n",
       " '_ii',\n",
       " '_iii',\n",
       " '_oh',\n",
       " 'exit',\n",
       " 'f',\n",
       " 'get_ipython',\n",
       " 'open',\n",
       " 'quit']"
      ]
     },
     "execution_count": 8,
     "metadata": {},
     "output_type": "execute_result"
    }
   ],
   "source": [
    "dir()"
   ]
  },
  {
   "cell_type": "code",
   "execution_count": 9,
   "id": "701fe556-b8c7-4764-a9c9-ef165f733851",
   "metadata": {},
   "outputs": [],
   "source": [
    "#after defining the function f(), f is now part of the directory"
   ]
  },
  {
   "cell_type": "code",
   "execution_count": 13,
   "id": "094322cc-b169-435f-865f-f06ba6bad798",
   "metadata": {},
   "outputs": [],
   "source": [
    "def ping():\n",
    "    return \"Ping! \"\n",
    "  "
   ]
  },
  {
   "cell_type": "code",
   "execution_count": 14,
   "id": "aa1b1077-2327-4685-a3ef-77c0dc6fe98b",
   "metadata": {},
   "outputs": [
    {
     "data": {
      "text/plain": [
       "'Ping! '"
      ]
     },
     "execution_count": 14,
     "metadata": {},
     "output_type": "execute_result"
    }
   ],
   "source": [
    "ping()"
   ]
  },
  {
   "cell_type": "code",
   "execution_count": 15,
   "id": "0349c129-68be-46b5-8642-33c59c692a40",
   "metadata": {},
   "outputs": [
    {
     "name": "stdout",
     "output_type": "stream",
     "text": [
      "Ping! \n"
     ]
    }
   ],
   "source": [
    "x=ping()\n",
    "print(x)"
   ]
  },
  {
   "cell_type": "code",
   "execution_count": 16,
   "id": "6e670891-1d2e-4c17-b0be-2eafabc2cf68",
   "metadata": {},
   "outputs": [
    {
     "data": {
      "text/plain": [
       "['In',\n",
       " 'Out',\n",
       " '_',\n",
       " '_1',\n",
       " '_14',\n",
       " '_8',\n",
       " '__',\n",
       " '___',\n",
       " '__builtin__',\n",
       " '__builtins__',\n",
       " '__doc__',\n",
       " '__loader__',\n",
       " '__name__',\n",
       " '__package__',\n",
       " '__session__',\n",
       " '__spec__',\n",
       " '_dh',\n",
       " '_i',\n",
       " '_i1',\n",
       " '_i10',\n",
       " '_i11',\n",
       " '_i12',\n",
       " '_i13',\n",
       " '_i14',\n",
       " '_i15',\n",
       " '_i16',\n",
       " '_i2',\n",
       " '_i3',\n",
       " '_i4',\n",
       " '_i6',\n",
       " '_i7',\n",
       " '_i8',\n",
       " '_i9',\n",
       " '_ih',\n",
       " '_ii',\n",
       " '_iii',\n",
       " '_oh',\n",
       " 'exit',\n",
       " 'f',\n",
       " 'get_ipython',\n",
       " 'open',\n",
       " 'ping',\n",
       " 'pint',\n",
       " 'quit',\n",
       " 'x']"
      ]
     },
     "execution_count": 16,
     "metadata": {},
     "output_type": "execute_result"
    }
   ],
   "source": [
    "dir()"
   ]
  },
  {
   "cell_type": "code",
   "execution_count": 17,
   "id": "6169b9af-19f2-4db2-a0bd-901ce1a02821",
   "metadata": {},
   "outputs": [],
   "source": [
    "#as a result, ping() and x are added to directory as new functions"
   ]
  },
  {
   "cell_type": "code",
   "execution_count": 18,
   "id": "1752add2-d53c-438e-93e1-397c61a44a5b",
   "metadata": {},
   "outputs": [
    {
     "data": {
      "text/plain": [
       "['__doc__',\n",
       " '__file__',\n",
       " '__loader__',\n",
       " '__name__',\n",
       " '__package__',\n",
       " '__spec__',\n",
       " 'acos',\n",
       " 'acosh',\n",
       " 'asin',\n",
       " 'asinh',\n",
       " 'atan',\n",
       " 'atan2',\n",
       " 'atanh',\n",
       " 'cbrt',\n",
       " 'ceil',\n",
       " 'comb',\n",
       " 'copysign',\n",
       " 'cos',\n",
       " 'cosh',\n",
       " 'degrees',\n",
       " 'dist',\n",
       " 'e',\n",
       " 'erf',\n",
       " 'erfc',\n",
       " 'exp',\n",
       " 'exp2',\n",
       " 'expm1',\n",
       " 'fabs',\n",
       " 'factorial',\n",
       " 'floor',\n",
       " 'fmod',\n",
       " 'frexp',\n",
       " 'fsum',\n",
       " 'gamma',\n",
       " 'gcd',\n",
       " 'hypot',\n",
       " 'inf',\n",
       " 'isclose',\n",
       " 'isfinite',\n",
       " 'isinf',\n",
       " 'isnan',\n",
       " 'isqrt',\n",
       " 'lcm',\n",
       " 'ldexp',\n",
       " 'lgamma',\n",
       " 'log',\n",
       " 'log10',\n",
       " 'log1p',\n",
       " 'log2',\n",
       " 'modf',\n",
       " 'nan',\n",
       " 'nextafter',\n",
       " 'perm',\n",
       " 'pi',\n",
       " 'pow',\n",
       " 'prod',\n",
       " 'radians',\n",
       " 'remainder',\n",
       " 'sin',\n",
       " 'sinh',\n",
       " 'sqrt',\n",
       " 'tan',\n",
       " 'tanh',\n",
       " 'tau',\n",
       " 'trunc',\n",
       " 'ulp']"
      ]
     },
     "execution_count": 18,
     "metadata": {},
     "output_type": "execute_result"
    }
   ],
   "source": [
    "#write a function that returns the volume of a sphere (4/3*(pi)*r^3)\n",
    "#from directory below pi is a function of math (after importing math)\n",
    "import math\n",
    "dir(math)"
   ]
  },
  {
   "cell_type": "code",
   "execution_count": 19,
   "id": "f4438a6b-6dca-4387-a767-5884e6e38331",
   "metadata": {},
   "outputs": [
    {
     "data": {
      "text/plain": [
       "3.141592653589793"
      ]
     },
     "execution_count": 19,
     "metadata": {},
     "output_type": "execute_result"
    }
   ],
   "source": [
    "math.pi"
   ]
  },
  {
   "cell_type": "code",
   "execution_count": 20,
   "id": "26f6a647-82cb-4bb4-9f7e-9fab865e17d7",
   "metadata": {},
   "outputs": [],
   "source": [
    "def volume(r): \n",
    "    \"\"\"Returns the volume of a sphere with radius r.\"\"\"\n",
    "    v=(4.0/3.0) * math.pi * r**3\n",
    "    return v"
   ]
  },
  {
   "cell_type": "code",
   "execution_count": 27,
   "id": "84b39df9-ed85-45f7-8eb6-952c95b108b9",
   "metadata": {},
   "outputs": [
    {
     "name": "stdout",
     "output_type": "stream",
     "text": [
      "33.510321638291124\n"
     ]
    }
   ],
   "source": [
    "volume(2)\n",
    "print (volume(2))"
   ]
  },
  {
   "cell_type": "code",
   "execution_count": 28,
   "id": "e9862cf3-d311-4330-a1cf-971e5b5a959a",
   "metadata": {},
   "outputs": [
    {
     "data": {
      "text/plain": [
       "['__doc__',\n",
       " '__file__',\n",
       " '__loader__',\n",
       " '__name__',\n",
       " '__package__',\n",
       " '__spec__',\n",
       " 'acos',\n",
       " 'acosh',\n",
       " 'asin',\n",
       " 'asinh',\n",
       " 'atan',\n",
       " 'atan2',\n",
       " 'atanh',\n",
       " 'cbrt',\n",
       " 'ceil',\n",
       " 'comb',\n",
       " 'copysign',\n",
       " 'cos',\n",
       " 'cosh',\n",
       " 'degrees',\n",
       " 'dist',\n",
       " 'e',\n",
       " 'erf',\n",
       " 'erfc',\n",
       " 'exp',\n",
       " 'exp2',\n",
       " 'expm1',\n",
       " 'fabs',\n",
       " 'factorial',\n",
       " 'floor',\n",
       " 'fmod',\n",
       " 'frexp',\n",
       " 'fsum',\n",
       " 'gamma',\n",
       " 'gcd',\n",
       " 'hypot',\n",
       " 'inf',\n",
       " 'isclose',\n",
       " 'isfinite',\n",
       " 'isinf',\n",
       " 'isnan',\n",
       " 'isqrt',\n",
       " 'lcm',\n",
       " 'ldexp',\n",
       " 'lgamma',\n",
       " 'log',\n",
       " 'log10',\n",
       " 'log1p',\n",
       " 'log2',\n",
       " 'modf',\n",
       " 'nan',\n",
       " 'nextafter',\n",
       " 'perm',\n",
       " 'pi',\n",
       " 'pow',\n",
       " 'prod',\n",
       " 'radians',\n",
       " 'remainder',\n",
       " 'sin',\n",
       " 'sinh',\n",
       " 'sqrt',\n",
       " 'tan',\n",
       " 'tanh',\n",
       " 'tau',\n",
       " 'trunc',\n",
       " 'ulp']"
      ]
     },
     "execution_count": 28,
     "metadata": {},
     "output_type": "execute_result"
    }
   ],
   "source": [
    "dir(math)"
   ]
  },
  {
   "cell_type": "code",
   "execution_count": 34,
   "id": "2f1f3364-b7a3-40ab-bb88-1cb84524887f",
   "metadata": {},
   "outputs": [
    {
     "data": {
      "text/plain": [
       "9.0"
      ]
     },
     "execution_count": 34,
     "metadata": {},
     "output_type": "execute_result"
    }
   ],
   "source": [
    "#another example for function for area of a triangle\n",
    "#b and h are the req'd inputs for the argument when running the function.\n",
    "def triangle_area(b, h): \n",
    "    \"\"\"Returns the area of a triangle with base b and height h.\"\"\"\n",
    "    return 0.5 * b * h\n",
    "\n",
    "triangle_area(3, 6)\n",
    "\n"
   ]
  },
  {
   "cell_type": "code",
   "execution_count": 35,
   "id": "5c70a457-4714-43eb-a924-ef385fac7da2",
   "metadata": {},
   "outputs": [
    {
     "data": {
      "text/plain": [
       "152.4"
      ]
     },
     "execution_count": 35,
     "metadata": {},
     "output_type": "execute_result"
    }
   ],
   "source": [
    "#functions - keyword arguments\n",
    "#write a function for converting one's height from american units to cm. \n",
    "# 1 inch = 2.54 cm while 1 foot = 12 inches\n",
    "\n",
    "def cm(feet = 0, inches = 0):\n",
    "    \"\"\"converts a length from feet and inches to centimeters\"\"\"\n",
    "    inches_to_cm = inches * 2.54\n",
    "    feet_to_cm = feet * 12 * 2.54\n",
    "    return inches_to_cm + feet_to_cm\n",
    "\n",
    "cm(feet = 5)"
   ]
  },
  {
   "cell_type": "code",
   "execution_count": 36,
   "id": "40c5ec72-c5e9-46d8-8c8f-e784f2754f09",
   "metadata": {},
   "outputs": [
    {
     "data": {
      "text/plain": [
       "177.8"
      ]
     },
     "execution_count": 36,
     "metadata": {},
     "output_type": "execute_result"
    }
   ],
   "source": [
    "cm(inches = 70)"
   ]
  },
  {
   "cell_type": "code",
   "execution_count": 37,
   "id": "2ed3ea19-56f7-44af-99f2-51e579410ed3",
   "metadata": {},
   "outputs": [
    {
     "data": {
      "text/plain": [
       "185.42"
      ]
     },
     "execution_count": 37,
     "metadata": {},
     "output_type": "execute_result"
    }
   ],
   "source": [
    "cm(feet = 6, inches = 1)"
   ]
  },
  {
   "cell_type": "code",
   "execution_count": 44,
   "id": "6a781a43-4f7a-4174-9ded-1a854a1a1e33",
   "metadata": {},
   "outputs": [],
   "source": [
    "def x(g,y=0):\n",
    "    return g*y"
   ]
  },
  {
   "cell_type": "code",
   "execution_count": 42,
   "id": "2f17f660-47a5-446b-8e66-158096217e1b",
   "metadata": {},
   "outputs": [
    {
     "data": {
      "text/plain": [
       "0"
      ]
     },
     "execution_count": 42,
     "metadata": {},
     "output_type": "execute_result"
    }
   ],
   "source": [
    "x(6)"
   ]
  },
  {
   "cell_type": "code",
   "execution_count": 43,
   "id": "1828b9cf-9dac-464c-abb6-b6677f92d2c7",
   "metadata": {},
   "outputs": [
    {
     "data": {
      "text/plain": [
       "63"
      ]
     },
     "execution_count": 43,
     "metadata": {},
     "output_type": "execute_result"
    }
   ],
   "source": [
    "x(7,y=9)\n",
    "#g is a required variable while y is an optional variable"
   ]
  },
  {
   "cell_type": "code",
   "execution_count": 50,
   "id": "7720f687-f583-4627-8f1d-11a74dab4312",
   "metadata": {},
   "outputs": [
    {
     "name": "stdin",
     "output_type": "stream",
     "text": [
      "VCD1:  5.4\n",
      "VCD2:  0.36\n",
      "working volume:  125\n"
     ]
    },
    {
     "name": "stdout",
     "output_type": "stream",
     "text": [
      "add 116.66666666666667mL of media\n"
     ]
    }
   ],
   "source": [
    "#using inputs (e.g c1v1=c2v2) \n",
    "C1 = float(input(\"VCD1: \"))\n",
    "C2 = float(input(\"VCD2: \"))\n",
    "V2 = float(input(\"working volume: \"))\n",
    "V1 = ((C2*V2)/C1)\n",
    "innoc_media_vol = V2-V1\n",
    "print(\"add \" + str(innoc_media_vol) + \"mL of media\")\n"
   ]
  },
  {
   "cell_type": "code",
   "execution_count": 61,
   "id": "601f3cd6-7ea5-45a3-a1ce-ee62f51e28f7",
   "metadata": {},
   "outputs": [
    {
     "name": "stdout",
     "output_type": "stream",
     "text": [
      "Add 236.15384615384616mL of media to innoculate next passage.\n"
     ]
    }
   ],
   "source": [
    "#created my own function for calculating and printing the statement for adding the amount of media to innoculate the following passage\n",
    "def innoc_media_vol(c1, c2, v2):\n",
    "    \n",
    "    return print(\"Add \" + str((v2-((c2*v2)/c1))) + \"mL of media to innoculate next passage.\")\n",
    "    \n",
    "    \n",
    "innoc_media_vol(6.5, 0.36, 250)\n"
   ]
  },
  {
   "cell_type": "code",
   "execution_count": 62,
   "id": "136eff62-2315-4076-8532-d596a3abfbce",
   "metadata": {},
   "outputs": [],
   "source": [
    "#BMI Calculator function\n",
    "#input paramaters \n",
    "name1 = \"YK\"\n",
    "height_m1 = 2\n",
    "weight_kg1 = 90 \n",
    "\n",
    "name2 = \"YK's sister\" \n",
    "height_m2 = 1.8 \n",
    "weight_kg2 = 70\n",
    "\n",
    "name3 = \"YK's brother\" \n",
    "height_m3 = 2.5\n",
    "weight_kg3 = 160"
   ]
  },
  {
   "cell_type": "code",
   "execution_count": 64,
   "id": "aef3010b-2b6e-4e88-a5ee-d917e6c4eb02",
   "metadata": {},
   "outputs": [],
   "source": [
    "#BMI function creation and execution\n",
    "def bmi_calculator(name, height_m, weight_kg): \n",
    "    bmi = weight_kg / (height_m**2)\n",
    "    print(\"bmi: \")\n",
    "    print(bmi)\n",
    "    if bmi < 25: \n",
    "        return name + \" not overweight\"\n",
    "    else: \n",
    "        return name + \" is overweight:\"\n"
   ]
  },
  {
   "cell_type": "code",
   "execution_count": 72,
   "id": "e4076450-234b-4027-a8ee-cb14d7fa855e",
   "metadata": {},
   "outputs": [
    {
     "name": "stdout",
     "output_type": "stream",
     "text": [
      "bmi: \n",
      "22.5\n",
      "bmi: \n",
      "21.604938271604937\n",
      "bmi: \n",
      "25.6\n",
      "YK not overweight\n",
      "YK's sister not overweight\n",
      "YK's brother is overweight:\n"
     ]
    }
   ],
   "source": [
    "result1 = bmi_calculator(name1, height_m1, weight_kg1)\n",
    "result2 = bmi_calculator(name2, height_m2, weight_kg2) \n",
    "result3 = bmi_calculator(name3, height_m3, weight_kg3)\n",
    "print(result1)\n",
    "print(result2)\n",
    "print(result3)"
   ]
  },
  {
   "cell_type": "code",
   "execution_count": 5,
   "id": "ff7e41a3-a9d3-4e23-a89c-5a25d8609df8",
   "metadata": {},
   "outputs": [
    {
     "name": "stdout",
     "output_type": "stream",
     "text": [
      "the area of the triangle is \n",
      "the area of the triangle is \n"
     ]
    },
    {
     "data": {
      "text/plain": [
       "27.0"
      ]
     },
     "execution_count": 5,
     "metadata": {},
     "output_type": "execute_result"
    }
   ],
   "source": [
    "def triangle_area(b, h):\n",
    "    A = 0.5*(b * h)\n",
    "    print(\"the area of the triangle is \")\n",
    "    return A\n",
    "\n",
    "triangle_area(4, 5)\n",
    "triangle_area(6, 9)"
   ]
  },
  {
   "cell_type": "markdown",
   "id": "26c5f1a6-5948-4df9-ba3c-c891ed987d19",
   "metadata": {},
   "source": [
    "triangle_area(6, 9)"
   ]
  },
  {
   "cell_type": "code",
   "execution_count": null,
   "id": "6da7224e-4859-45ba-988e-56157c7b17a7",
   "metadata": {},
   "outputs": [],
   "source": []
  }
 ],
 "metadata": {
  "kernelspec": {
   "display_name": "Python 3 (ipykernel)",
   "language": "python",
   "name": "python3"
  },
  "language_info": {
   "codemirror_mode": {
    "name": "ipython",
    "version": 3
   },
   "file_extension": ".py",
   "mimetype": "text/x-python",
   "name": "python",
   "nbconvert_exporter": "python",
   "pygments_lexer": "ipython3",
   "version": "3.11.7"
  }
 },
 "nbformat": 4,
 "nbformat_minor": 5
}
