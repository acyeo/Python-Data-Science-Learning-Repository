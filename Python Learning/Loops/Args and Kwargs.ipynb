{
 "cells": [
  {
   "cell_type": "code",
   "execution_count": 1,
   "id": "d40fce93-ba65-4069-b2a5-0709e28417d2",
   "metadata": {},
   "outputs": [],
   "source": [
    "#args and kwargs give you flexibility when passing arguments. "
   ]
  },
  {
   "cell_type": "code",
   "execution_count": 4,
   "id": "f1be1fee-2f2e-44ff-a0f5-7fc9f1685f9e",
   "metadata": {},
   "outputs": [
    {
     "name": "stdout",
     "output_type": "stream",
     "text": [
      "hello world ()\n",
      "hello world ('69', 'Alex', 'Yeo')\n"
     ]
    }
   ],
   "source": [
    "#This prints out the argument AFTER the function is written\n",
    "def my_func(*args): \n",
    "    print(\"hello world\", args)\n",
    "\n",
    "my_func()\n",
    "my_func(\"69\", \"Alex\", \"Yeo\")"
   ]
  },
  {
   "cell_type": "code",
   "execution_count": 8,
   "id": "2881b2ca-e9b0-4073-97be-2e8b2edec2fc",
   "metadata": {},
   "outputs": [
    {
     "name": "stdout",
     "output_type": "stream",
     "text": [
      "hello motto () {}\n",
      "hello motto ('Alex', 'Sex', 'Yeo') {'key': 1234}\n"
     ]
    }
   ],
   "source": [
    "#This prints out the argument AFTER the function is written\n",
    "def my_func2(*args, **kwargs): \n",
    "    print(\"hello motto\", args, kwargs)\n",
    "\n",
    "my_func2()\n",
    "my_func2(\"Alex\", \"Sex\", \"Yeo\", key = 1234)"
   ]
  },
  {
   "cell_type": "code",
   "execution_count": 17,
   "id": "40353869-6982-4733-a055-cce186a97301",
   "metadata": {},
   "outputs": [
    {
     "name": "stdout",
     "output_type": "stream",
     "text": [
      "{'id': 'some_id'}\n"
     ]
    }
   ],
   "source": [
    "# we use this for functions we don't fully understand what's going on.\n",
    "# or if the functions have many different features were not fully aware \n",
    "# saftey measure for running against errors. \n",
    "#for example\n",
    "def my_random_Django_view(request,**kwargs): \n",
    "    print(kwargs)\n",
    "#looking for path id path('my-product/:id')\n",
    "my_random_Django_view('request', id='some_id')"
   ]
  },
  {
   "cell_type": "code",
   "execution_count": null,
   "id": "370e5e93-bf0e-4201-bca5-2252a770ac43",
   "metadata": {},
   "outputs": [],
   "source": []
  }
 ],
 "metadata": {
  "kernelspec": {
   "display_name": "Python 3 (ipykernel)",
   "language": "python",
   "name": "python3"
  },
  "language_info": {
   "codemirror_mode": {
    "name": "ipython",
    "version": 3
   },
   "file_extension": ".py",
   "mimetype": "text/x-python",
   "name": "python",
   "nbconvert_exporter": "python",
   "pygments_lexer": "ipython3",
   "version": "3.11.7"
  }
 },
 "nbformat": 4,
 "nbformat_minor": 5
}
