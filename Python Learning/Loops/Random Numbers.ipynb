{
 "cells": [
  {
   "cell_type": "code",
   "execution_count": 1,
   "id": "7d781793-8171-48e4-b978-4b00edc76cdc",
   "metadata": {},
   "outputs": [],
   "source": [
    "#display 10 random numbers from interval [0,1)\n",
    "import random"
   ]
  },
  {
   "cell_type": "code",
   "execution_count": 3,
   "id": "ced3b651-e43d-4b7a-a634-4eb872c7edf0",
   "metadata": {},
   "outputs": [
    {
     "name": "stdout",
     "output_type": "stream",
     "text": [
      "0.27759815579243463\n",
      "0.31209552441588495\n",
      "0.6441506591244719\n",
      "0.5154594079109301\n",
      "0.8695752409659201\n",
      "0.6729296417505041\n",
      "0.024006214849160545\n",
      "0.5568317287201439\n",
      "0.7451670518413546\n",
      "0.5068693699641849\n"
     ]
    }
   ],
   "source": [
    "for i in range(10): \n",
    "    print(random.random())"
   ]
  },
  {
   "cell_type": "code",
   "execution_count": 4,
   "id": "416a7070-ab63-4ba0-b3b7-b990e0afc3af",
   "metadata": {},
   "outputs": [
    {
     "name": "stdout",
     "output_type": "stream",
     "text": [
      "3.8651144942026154\n",
      "4.704043307568758\n",
      "3.706476069202636\n",
      "5.604416655999016\n",
      "5.44586631231551\n",
      "5.429575679343726\n",
      "3.3643380261018594\n",
      "3.5361082950988956\n",
      "6.747377436790171\n",
      "4.671667708855213\n"
     ]
    }
   ],
   "source": [
    "#generate random numbers from interval [3,7)\n",
    "for i in range(10):\n",
    "    print(random.uniform(3, 7))"
   ]
  },
  {
   "cell_type": "code",
   "execution_count": 5,
   "id": "7c7f67be-d407-4e16-b24a-54ed0deefc2f",
   "metadata": {},
   "outputs": [
    {
     "name": "stdout",
     "output_type": "stream",
     "text": [
      "6.4567180645887685\n",
      "4.099473393032321\n",
      "6.754620191372675\n",
      "6.073789101601671\n",
      "4.88937804737081\n",
      "6.35165653430597\n",
      "3.606776731432647\n",
      "4.1737942809234205\n",
      "5.8286213507574205\n",
      "5.172757019812881\n",
      "3.82566147256722\n",
      "4.0446324493198205\n",
      "4.288094267193457\n",
      "5.09028243164966\n",
      "3.9264620218394084\n",
      "3.8485553879610164\n",
      "7.037140670829811\n",
      "4.9584998251909385\n",
      "4.543738992586546\n",
      "6.314198946121386\n"
     ]
    }
   ],
   "source": [
    "#random() and uniform() are both uniform distributions. \n",
    "#print(random.normalvariate(0, 0.2)); 0 = mean, 0.2 = stanndard deviation. \n",
    "#for example: \n",
    "for i in range (20): \n",
    "    print(random.normalvariate(5,1.5))"
   ]
  },
  {
   "cell_type": "code",
   "execution_count": 6,
   "id": "e69e8684-5044-4b0a-86ca-04dcefc2eec3",
   "metadata": {},
   "outputs": [
    {
     "name": "stdout",
     "output_type": "stream",
     "text": [
      "6\n",
      "2\n",
      "4\n",
      "4\n",
      "4\n",
      "5\n",
      "2\n",
      "6\n",
      "3\n",
      "3\n",
      "1\n",
      "4\n",
      "3\n",
      "5\n",
      "4\n",
      "3\n",
      "1\n",
      "1\n",
      "6\n",
      "5\n"
     ]
    }
   ],
   "source": [
    "#discrete probability distributions. e.g choosing a random integer of a 6 sided dice or an infinite number of outcomes. \n",
    "#use randint(min, max)\n",
    "#the example below will print 20 possible random numbers from 1-6. \n",
    "for i in range(20): \n",
    "    print(random.randint(1, 6))"
   ]
  },
  {
   "cell_type": "code",
   "execution_count": 8,
   "id": "23e1cfa0-5f09-4a96-bcd2-63d0e0f66410",
   "metadata": {},
   "outputs": [
    {
     "name": "stdout",
     "output_type": "stream",
     "text": [
      "scissors\n",
      "scissors\n",
      "scissors\n",
      "paper\n",
      "rock\n",
      "paper\n",
      "scissors\n",
      "rock\n",
      "rock\n",
      "rock\n",
      "scissors\n",
      "paper\n",
      "scissors\n",
      "rock\n",
      "paper\n",
      "scissors\n",
      "rock\n",
      "paper\n",
      "paper\n",
      "scissors\n"
     ]
    }
   ],
   "source": [
    "#selecting a random element from a list. e.g writing a program to play rock, paper, and scissors. \n",
    "outcomes = ['rock', 'paper', 'scissors']\n",
    "for i in range (20): \n",
    "    print(random.choice(outcomes))"
   ]
  },
  {
   "cell_type": "code",
   "execution_count": 9,
   "id": "62fa8ddb-d26e-471f-b3e3-44d3f79731ec",
   "metadata": {},
   "outputs": [],
   "source": [
    "#coin toss example: \n",
    "import numpy as np"
   ]
  },
  {
   "cell_type": "code",
   "execution_count": 11,
   "id": "e0110235-505c-495b-bfac-8c970201dd21",
   "metadata": {},
   "outputs": [
    {
     "name": "stdout",
     "output_type": "stream",
     "text": [
      "0\n",
      "heads\n"
     ]
    }
   ],
   "source": [
    "np.random.seed(123)\n",
    "coin = np.random.randint(0,2) #randomly generates 0 or 1\n",
    "print (coin)\n",
    "if coin == 0: \n",
    "    print(\"heads\")\n",
    "else: \n",
    "    print(\"tails\")"
   ]
  },
  {
   "cell_type": "code",
   "execution_count": 12,
   "id": "12b22cf0-ad29-4ad6-ac64-55b047f6ba6c",
   "metadata": {},
   "outputs": [
    {
     "name": "stdout",
     "output_type": "stream",
     "text": [
      "0.6964691855978616\n"
     ]
    }
   ],
   "source": [
    "#Import numpy as np.\n",
    "#Use seed() to set the seed; as an argument, pass 123.\n",
    "#Generate your first random float with rand() and print it out.\n",
    "# Import numpy as np\n",
    "import numpy as np\n",
    "\n",
    "# Set the seed\n",
    "np.random.seed(123)\n",
    "\n",
    "# Generate and print random float\n",
    "game = np.random.rand()\n",
    "print(game)"
   ]
  },
  {
   "cell_type": "code",
   "execution_count": 13,
   "id": "7f578339-e00c-47dd-acaa-22ddfdc886d5",
   "metadata": {},
   "outputs": [
    {
     "name": "stdout",
     "output_type": "stream",
     "text": [
      "6\n",
      "3\n"
     ]
    }
   ],
   "source": [
    "#Use randint() with the appropriate arguments to randomly generate the integer 1, 2, 3, 4, 5 or 6. \n",
    "#This simulates a dice. Print it out.\n",
    "#Repeat the outcome to see if the second throw is different. Again, print out the result.\n",
    "\n",
    "# Import numpy and set seed\n",
    "import numpy as np\n",
    "np.random.seed(123)\n",
    "\n",
    "# Use randint() to simulate a dice\n",
    "dice = np.random.randint(1,7)\n",
    "print(dice)\n",
    "\n",
    "# Use randint() again\n",
    "dice = np.random.randint(1,7)\n",
    "print(dice)"
   ]
  },
  {
   "cell_type": "code",
   "execution_count": 14,
   "id": "775274e1-df7c-4e74-8d32-47bd5591af9f",
   "metadata": {},
   "outputs": [
    {
     "name": "stdout",
     "output_type": "stream",
     "text": [
      "5\n",
      "51\n"
     ]
    }
   ],
   "source": [
    "#Roll the dice. Use randint() to create the variable dice.\n",
    "#Finish the if-elif-else construct by replacing ___:\n",
    "#If dice is 1 or 2, you go one step down.\n",
    "#if dice is 3, 4 or 5, you go one step up.\n",
    "#Else, you throw the dice again. The number on the dice is the number of steps you go up.\n",
    "#Print out dice and step. Given the value of dice, was step updated correctly?\n",
    "\n",
    "# Starting step\n",
    "step = 50\n",
    "\n",
    "# Roll the dice\n",
    "dice = np.random.randint(1,7)\n",
    "\n",
    "# Finish the control construct\n",
    "if dice <= 2 :\n",
    "    step = step - 1\n",
    "elif dice <=5:\n",
    "    step = step + 1\n",
    "else :\n",
    "    step = step + np.random.randint(1,7)\n",
    "\n",
    "# Print out dice and step\n",
    "print(dice)\n",
    "print(step)"
   ]
  },
  {
   "cell_type": "code",
   "execution_count": 15,
   "id": "50e21ba0-581c-449c-b7e2-ce57bf080a78",
   "metadata": {},
   "outputs": [
    {
     "name": "stdout",
     "output_type": "stream",
     "text": [
      "[0, 1, 0, 1, 2, 3, 2, 1, 0, -1, -2, -3, -4, -5, -4, 1, 0, -1, 0, -1, 0, 1, 2, 3, 4, 3, 4, 3, 4, 5, 6, 7, 6, 10, 11, 10, 11, 10, 11, 12, 13, 14, 15, 16, 17, 20, 21, 22, 23, 28, 29, 33, 34, 33, 34, 35, 34, 35, 36, 38, 39, 40, 39, 38, 39, 40, 39, 38, 39, 40, 42, 41, 40, 41, 40, 41, 42, 43, 45, 44, 45, 46, 47, 48, 49, 48, 47, 48, 47, 48, 49, 48, 51, 52, 53, 54, 53, 54, 55, 59, 58]\n"
     ]
    }
   ],
   "source": [
    "#Make a list random_walk that contains the first step, which is the integer 0.\n",
    "#Finish the for loop:\n",
    "#The loop should run 100 times.\n",
    "#On each iteration, set step equal to the last element in the random_walk list. You can use the index -1 for this.\n",
    "#Next, let the if-elif-else construct update step for you.\n",
    "#The code that appends step to random_walk is already coded.\n",
    "#Print out random_walk.\n",
    "\n",
    "# NumPy is imported, seed is set\n",
    "\n",
    "# Initialize random_walk\n",
    "random_walk = [0]\n",
    "\n",
    "# Complete the ___\n",
    "for x in range(100):\n",
    "    # Set step: last element in random_walk\n",
    "    step = random_walk[-1]\n",
    "\n",
    "    # Roll the dice\n",
    "    dice = np.random.randint(1,7)\n",
    "\n",
    "    # Determine next step\n",
    "    if dice <= 2:\n",
    "        step = step - 1\n",
    "    elif dice <= 5:\n",
    "        step = step + 1\n",
    "    else:\n",
    "        step = step + np.random.randint(1,7)\n",
    "\n",
    "    # append next_step to random_walk\n",
    "    random_walk.append(step)\n",
    "\n",
    "# Print random_walk\n",
    "print(random_walk)"
   ]
  },
  {
   "cell_type": "code",
   "execution_count": 16,
   "id": "d3bfe3bd-409f-42c5-8b92-3f6320a3a092",
   "metadata": {},
   "outputs": [
    {
     "name": "stdout",
     "output_type": "stream",
     "text": [
      "[0, 0, 2, 1, 2, 4, 5, 6, 11, 10, 11, 12, 13, 14, 15, 14, 19, 20, 21, 22, 21, 20, 19, 18, 17, 18, 19, 20, 26, 25, 24, 23, 24, 25, 26, 25, 26, 27, 26, 31, 32, 31, 30, 29, 28, 29, 28, 27, 29, 30, 33, 34, 36, 37, 38, 39, 38, 37, 38, 39, 40, 41, 40, 41, 42, 43, 46, 47, 48, 47, 48, 47, 48, 49, 50, 54, 53, 52, 53, 54, 55, 54, 55, 54, 55, 57, 62, 61, 62, 63, 64, 65, 66, 67, 66, 67, 68, 69, 71, 73, 72]\n"
     ]
    }
   ],
   "source": [
    "#Use max() in a similar way to make sure that step doesn't go below zero if dice <= 2.\n",
    "#Hit Submit Answer and check the contents of random_walk.\n",
    "# Initialize random_walk\n",
    "random_walk = [0]\n",
    "\n",
    "for x in range(100) :\n",
    "    step = random_walk[-1]\n",
    "    dice = np.random.randint(1,7)\n",
    "\n",
    "    if dice <= 2:\n",
    "        # Replace below: use max to make sure step can't go below 0\n",
    "        step = max(0, step - 1)\n",
    "    elif dice <= 5:\n",
    "        step = step + 1\n",
    "    else:\n",
    "        step = step + np.random.randint(1,7)\n",
    "\n",
    "    random_walk.append(step)\n",
    "\n",
    "print(random_walk)"
   ]
  },
  {
   "cell_type": "code",
   "execution_count": 17,
   "id": "644dc9bd-fdbc-4952-b967-3ef59302fe9c",
   "metadata": {},
   "outputs": [
    {
     "data": {
      "image/png": "[encoded data removed]",
      "text/plain": [
       "<Figure size 640x480 with 1 Axes>"
      ]
     },
     "metadata": {},
     "output_type": "display_data"
    }
   ],
   "source": [
    "#Add some lines of code after the for loop:\n",
    "\n",
    "#Import matplotlib.pyplot as plt.\n",
    "#Use plt.plot() to plot random_walk.\n",
    "#Finish off with plt.show() to actually display the plot.\n",
    "\n",
    "# Initialization\n",
    "random_walk = [0]\n",
    "\n",
    "for x in range(100) :\n",
    "    step = random_walk[-1]\n",
    "    dice = np.random.randint(1,7)\n",
    "\n",
    "    if dice <= 2:\n",
    "        step = max(0, step - 1)\n",
    "    elif dice <= 5:\n",
    "        step = step + 1\n",
    "    else:\n",
    "        step = step + np.random.randint(1,7)\n",
    "\n",
    "    random_walk.append(step)\n",
    "\n",
    "# Import matplotlib.pyplot as plt\n",
    "import matplotlib.pyplot as plt\n",
    "\n",
    "# Plot random_walk\n",
    "plt.plot(random_walk)\n",
    "\n",
    "# Show the plot\n",
    "plt.show()"
   ]
  },
  {
   "cell_type": "code",
   "execution_count": null,
   "id": "9af2fc1d-303a-4d51-a6b5-84f92658b083",
   "metadata": {},
   "outputs": [],
   "source": [
    "#distribution of random walks\n"
   ]
  }
 ],
 "metadata": {
  "kernelspec": {
   "display_name": "Python 3 (ipykernel)",
   "language": "python",
   "name": "python3"
  },
  "language_info": {
   "codemirror_mode": {
    "name": "ipython",
    "version": 3
   },
   "file_extension": ".py",
   "mimetype": "text/x-python",
   "name": "python",
   "nbconvert_exporter": "python",
   "pygments_lexer": "ipython3",
   "version": "3.11.7"
  }
 },
 "nbformat": 4,
 "nbformat_minor": 5
}
