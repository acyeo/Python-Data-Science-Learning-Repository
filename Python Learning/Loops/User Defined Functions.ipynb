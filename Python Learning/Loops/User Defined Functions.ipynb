{
 "cells": [
  {
   "cell_type": "code",
   "execution_count": 1,
   "id": "421d8469-9fbc-420a-83aa-0f218b924aa0",
   "metadata": {},
   "outputs": [
    {
     "name": "stdout",
     "output_type": "stream",
     "text": [
      "15\n"
     ]
    }
   ],
   "source": [
    "##referesher on writing own functions\n",
    "def test_sum(x, y):\n",
    "    return print(x+y)\n",
    "test_sum(6, 9)"
   ]
  },
  {
   "cell_type": "code",
   "execution_count": 2,
   "id": "ba0905d3-1037-4e72-8e51-95b2f9ab77c4",
   "metadata": {},
   "outputs": [
    {
     "ename": "NameError",
     "evalue": "name 'nums' is not defined",
     "output_type": "error",
     "traceback": [
      "\u001b[0;31m---------------------------------------------------------------------------\u001b[0m",
      "\u001b[0;31mNameError\u001b[0m                                 Traceback (most recent call last)",
      "Cell \u001b[0;32mIn[2], line 6\u001b[0m\n\u001b[1;32m      1\u001b[0m \u001b[38;5;66;03m#Tuple Referesher: \u001b[39;00m\n\u001b[1;32m      2\u001b[0m \u001b[38;5;66;03m#Unpack nums to the variables num1, num2, and num3.\u001b[39;00m\n\u001b[1;32m      3\u001b[0m \u001b[38;5;66;03m#Construct a new tuple, even_nums composed of the same elements in nums, but with the 1st element replaced with the value, 2.\u001b[39;00m\n\u001b[1;32m      4\u001b[0m \n\u001b[1;32m      5\u001b[0m \u001b[38;5;66;03m# Unpack nums into num1, num2, and num3\u001b[39;00m\n\u001b[0;32m----> 6\u001b[0m num1, num2, num3 \u001b[38;5;241m=\u001b[39m nums\n\u001b[1;32m      8\u001b[0m \u001b[38;5;66;03m# Construct even_nums\u001b[39;00m\n\u001b[1;32m      9\u001b[0m even_nums \u001b[38;5;241m=\u001b[39m (\u001b[38;5;241m2\u001b[39m, num2, num3)\n",
      "\u001b[0;31mNameError\u001b[0m: name 'nums' is not defined"
     ]
    }
   ],
   "source": [
    "#Tuple Referesher: \n",
    "#Unpack nums to the variables num1, num2, and num3.\n",
    "#Construct a new tuple, even_nums composed of the same elements in nums, but with the 1st element replaced with the value, 2.\n",
    "\n",
    "# Unpack nums into num1, num2, and num3\n",
    "num1, num2, num3 = nums\n",
    "\n",
    "# Construct even_nums\n",
    "even_nums = (2, num2, num3)\n",
    "even_numbs = nums\n",
    "print(even_numbs)"
   ]
  },
  {
   "cell_type": "code",
   "execution_count": 4,
   "id": "9249ee2c-f060-42b7-b2bc-46a4cd39247f",
   "metadata": {},
   "outputs": [
    {
     "name": "stdout",
     "output_type": "stream",
     "text": [
      "congratulations!!!\n",
      "you!!!\n"
     ]
    }
   ],
   "source": [
    "#Modify the function header such that the function name is now shout_all, \n",
    "#and it accepts two parameters, word1 and word2, in that order.\n",
    "#Concatenate the string '!!!' to each of word1 and word2 and assign to shout1 and shout2, respectively.\n",
    "#Construct a tuple shout_words, composed of shout1 and shout2.\n",
    "#Call shout_all() with the strings 'congratulations' and 'you' and \n",
    "#assign the result to yell1 and yell2 (remember, shout_all() returns 2 variables!).\n",
    "\n",
    "# Define shout_all with parameters word1 and word2\n",
    "def shout_all(word1, word2):\n",
    "    \n",
    "    # Concatenate word1 with '!!!': shout1\n",
    "    shout1 = word1 + '!!!'\n",
    "    \n",
    "    # Concatenate word2 with '!!!': shout2\n",
    "    shout2 = word2 + '!!!'\n",
    "    \n",
    "    # Construct a tuple with shout1 and shout2: shout_words\n",
    "    shout_words = (shout1, shout2)\n",
    "\n",
    "    # Return shout_words\n",
    "    return shout_words\n",
    "\n",
    "# Pass 'congratulations' and 'you' to shout_all(): yell1, yell2\n",
    "yell1, yell2 = shout_all('congratulations', 'you')\n",
    "\n",
    "\n",
    "# Print yell1 and yell2\n",
    "print(yell1)\n",
    "print(yell2)"
   ]
  },
  {
   "cell_type": "code",
   "execution_count": 5,
   "id": "c83b6ece-9789-49d4-9317-d0eae58f3649",
   "metadata": {},
   "outputs": [],
   "source": [
    "#Import the pandas package with the alias pd.\n",
    "#Import the file 'tweets.csv' using the pandas function read_csv(). Assign the resulting DataFrame to df.\n",
    "#Complete the for loop by iterating over col, the 'lang' column in the DataFrame df.\n",
    "#Complete the bodies of the if-else statements in the for loop: if the key is in the dictionary langs_count, \n",
    "#add 1 to the value corresponding to this key in the dictionary, \n",
    "#else add the key to langs_count and set the corresponding value to 1. Use the loop variable entry in your code."
   ]
  },
  {
   "cell_type": "code",
   "execution_count": null,
   "id": "08c0def6-1845-4ddb-8971-6066a98199e6",
   "metadata": {},
   "outputs": [],
   "source": [
    "# Import pandas\n",
    "import pandas as pd\n",
    "\n",
    "# Import Twitter data as DataFrame: df\n",
    "df = pd.read_csv('tweets.csv')\n",
    "\n",
    "# Initialize an empty dictionary: langs_count\n",
    "langs_count = {}\n",
    "\n",
    "# Extract column from DataFrame: col\n",
    "col = df['lang']\n",
    "\n",
    "# Iterate over lang column in DataFrame\n",
    "for entry in col:\n",
    "\n",
    "    # If the language is in langs_count, add 1 \n",
    "    if entry in langs_count.keys():\n",
    "        langs_count[entry] += 1\n",
    "    # Else add the language to langs_count, set the value to 1\n",
    "    else:\n",
    "        langs_count[entry] = 1\n",
    "\n",
    "# Print the populated dictionary\n",
    "print(langs_count)"
   ]
  },
  {
   "cell_type": "code",
   "execution_count": null,
   "id": "8461d9e4-8aa9-4089-a90f-a7e77b842981",
   "metadata": {},
   "outputs": [],
   "source": [
    "#Define the function count_entries(), which has two parameters. \n",
    "#The first parameter is df for the DataFrame and the second is col_name for the column name.\n",
    "#Complete the bodies of the if-else statements in the for loop: if the key is in the dictionary langs_count, \n",
    "#add 1 to its current value, else add the key to langs_count and set its value to 1. Use the loop variable entry in your code.\n",
    "#Return the langs_count dictionary from inside the count_entries() function.\n",
    "#Call the count_entries() function by passing to it tweets_df and the name of the column, 'lang'. \n",
    "#Assign the result of the call to the variable result."
   ]
  },
  {
   "cell_type": "code",
   "execution_count": null,
   "id": "f1286479-af79-4374-8494-11a8bf9d6ab9",
   "metadata": {},
   "outputs": [],
   "source": [
    "# Define count_entries()\n",
    "def count_entries(df, col_name):\n",
    "    \"\"\"Return a dictionary with counts of \n",
    "    occurrences as value for each key.\"\"\"\n",
    "\n",
    "    # Initialize an empty dictionary: langs_count\n",
    "    langs_count = {}\n",
    "    \n",
    "    # Extract column from DataFrame: col\n",
    "    col = df[col_name]\n",
    "    \n",
    "    # Iterate over lang column in DataFrame\n",
    "    for entry in col:\n",
    "\n",
    "        # If the language is in langs_count, add 1\n",
    "        if entry in langs_count.keys():\n",
    "            langs_count[entry] += 1\n",
    "        # Else add the language to langs_count, set the value to 1\n",
    "        else:\n",
    "            langs_count[entry] = 1\n",
    "\n",
    "    # Return the langs_count dictionary\n",
    "    return dict(langs_count)\n",
    "\n",
    "# Call count_entries(): result\n",
    "result = count_entries(tweets_df, 'lang')\n",
    "# Print the result\n",
    "print(result)"
   ]
  },
  {
   "cell_type": "code",
   "execution_count": null,
   "id": "ffd07b23-036c-4ee9-a631-3919cb602ff8",
   "metadata": {},
   "outputs": [],
   "source": []
  }
 ],
 "metadata": {
  "kernelspec": {
   "display_name": "Python 3 (ipykernel)",
   "language": "python",
   "name": "python3"
  },
  "language_info": {
   "codemirror_mode": {
    "name": "ipython",
    "version": 3
   },
   "file_extension": ".py",
   "mimetype": "text/x-python",
   "name": "python",
   "nbconvert_exporter": "python",
   "pygments_lexer": "ipython3",
   "version": "3.11.7"
  }
 },
 "nbformat": 4,
 "nbformat_minor": 5
}
