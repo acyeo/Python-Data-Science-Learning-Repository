{
 "cells": [
  {
   "cell_type": "code",
   "execution_count": 1,
   "id": "0952420b-ffcc-4c0a-8a5d-142d3a5f920d",
   "metadata": {},
   "outputs": [],
   "source": [
    "#write a function to simulate a random walk of n blocks. \n",
    "import random"
   ]
  },
  {
   "cell_type": "code",
   "execution_count": 3,
   "id": "40c06913-280b-4bd4-8911-1eecf14a4eff",
   "metadata": {},
   "outputs": [
    {
     "name": "stdout",
     "output_type": "stream",
     "text": [
      "(0, 1) Distance from home =  1\n",
      "(0, 1) Distance from home =  1\n",
      "(1, 0) Distance from home =  1\n",
      "(1, 0) Distance from home =  1\n",
      "(0, 1) Distance from home =  1\n",
      "(1, 0) Distance from home =  1\n",
      "(0, 1) Distance from home =  1\n",
      "(0, 1) Distance from home =  1\n",
      "(0, -1) Distance from home =  1\n",
      "(0, 1) Distance from home =  1\n",
      "(1, 0) Distance from home =  1\n",
      "(0, -1) Distance from home =  1\n",
      "(0, -1) Distance from home =  1\n",
      "(0, 1) Distance from home =  1\n",
      "(1, 0) Distance from home =  1\n",
      "(-1, 0) Distance from home =  1\n",
      "(-1, 0) Distance from home =  1\n",
      "(-1, 0) Distance from home =  1\n",
      "(0, -1) Distance from home =  1\n",
      "(1, 0) Distance from home =  1\n",
      "(0, 1) Distance from home =  1\n",
      "(0, 1) Distance from home =  1\n",
      "(1, 0) Distance from home =  1\n",
      "(-1, 0) Distance from home =  1\n",
      "(0, -1) Distance from home =  1\n"
     ]
    }
   ],
   "source": [
    "def random_walk(n):\n",
    "#Return coordinates after n' block random walk. \n",
    "    x = 0\n",
    "    y = 0\n",
    "    for i in range(n): \n",
    "        step = random.choice(['N', 'S', 'E', 'W'])\n",
    "        if step == 'N': \n",
    "            y = y + 1\n",
    "        elif step == 'S': \n",
    "            y = y - 1\n",
    "        elif step == 'E': \n",
    "            x = x + 1\n",
    "        else: \n",
    "            x = x - 1\n",
    "        return (x, y)\n",
    "\n",
    "for i in range(25): \n",
    "    walk = random_walk(10)\n",
    "    print(walk, \"Distance from home = \", abs(walk[0]) + abs(walk[1]))"
   ]
  },
  {
   "cell_type": "code",
   "execution_count": 17,
   "id": "45642893-5d7b-4107-b56c-6445971bf245",
   "metadata": {},
   "outputs": [
    {
     "name": "stdout",
     "output_type": "stream",
     "text": [
      "(-1, 1) Distance from home =  2\n",
      "(0, 4) Distance from home =  4\n",
      "(-2, 2) Distance from home =  4\n",
      "(-2, -2) Distance from home =  4\n",
      "(1, 1) Distance from home =  2\n",
      "(0, 6) Distance from home =  6\n",
      "(2, -2) Distance from home =  4\n",
      "(-1, -3) Distance from home =  4\n",
      "(-3, -3) Distance from home =  6\n",
      "(-1, -1) Distance from home =  2\n",
      "(3, 1) Distance from home =  4\n",
      "(4, 2) Distance from home =  6\n",
      "(-2, 0) Distance from home =  2\n",
      "(-4, 0) Distance from home =  4\n",
      "(0, 2) Distance from home =  2\n",
      "(3, -1) Distance from home =  4\n",
      "(0, 4) Distance from home =  4\n",
      "(2, -2) Distance from home =  4\n",
      "(-3, -1) Distance from home =  4\n",
      "(-2, 4) Distance from home =  6\n",
      "(2, 4) Distance from home =  6\n",
      "(-1, -5) Distance from home =  6\n",
      "(0, 0) Distance from home =  0\n",
      "(2, -2) Distance from home =  4\n",
      "(-3, -1) Distance from home =  4\n"
     ]
    }
   ],
   "source": [
    "#more compact random walk2 \n",
    "def random_walk_2(n): \n",
    "#Return coordinates after n' block random walk. \n",
    "#dx = difference in x; while dy = difference in y\n",
    "    x, y = 0, 0\n",
    "    for i in range(n):\n",
    "        (dx, dy) = random.choice([(0, 1), (0, -1), (1, 0), (-1, 0)])\n",
    "        x += dx\n",
    "        y += dy\n",
    "    return (x, y)\n",
    "\n",
    "#25 random walks, each block will be for 10 blocks. \n",
    "for i in range(25): \n",
    "    walk = random_walk_2(10)\n",
    "    print(walk, \"Distance from home = \", abs(walk[0]) + abs(walk[1]))"
   ]
  },
  {
   "cell_type": "code",
   "execution_count": 19,
   "id": "58f86e0b-19f9-4f4e-9713-4b80ca5cf99f",
   "metadata": {},
   "outputs": [
    {
     "name": "stdout",
     "output_type": "stream",
     "text": [
      "walk size =  1 /% of no transport =  100.0\n",
      "walk size =  2 /% of no transport =  100.0\n",
      "walk size =  3 /% of no transport =  100.0\n",
      "walk size =  4 /% of no transport =  100.0\n",
      "walk size =  5 /% of no transport =  87.74\n",
      "walk size =  6 /% of no transport =  94.0\n",
      "walk size =  7 /% of no transport =  76.715\n",
      "walk size =  8 /% of no transport =  86.395\n",
      "walk size =  9 /% of no transport =  67.72500000000001\n",
      "walk size =  10 /% of no transport =  78.96\n",
      "walk size =  11 /% of no transport =  59.9\n",
      "walk size =  12 /% of no transport =  72.97\n",
      "walk size =  13 /% of no transport =  53.790000000000006\n",
      "walk size =  14 /% of no transport =  67.035\n",
      "walk size =  15 /% of no transport =  48.995\n",
      "walk size =  16 /% of no transport =  62.01\n",
      "walk size =  17 /% of no transport =  44.335\n",
      "walk size =  18 /% of no transport =  58.120000000000005\n",
      "walk size =  19 /% of no transport =  40.63\n",
      "walk size =  20 /% of no transport =  54.379999999999995\n",
      "walk size =  21 /% of no transport =  37.995000000000005\n",
      "walk size =  22 /% of no transport =  50.41\n",
      "walk size =  23 /% of no transport =  35.260000000000005\n",
      "walk size =  24 /% of no transport =  47.980000000000004\n",
      "walk size =  25 /% of no transport =  32.879999999999995\n",
      "walk size =  26 /% of no transport =  45.33\n",
      "walk size =  27 /% of no transport =  30.985000000000003\n",
      "walk size =  28 /% of no transport =  42.75\n",
      "walk size =  29 /% of no transport =  28.77\n",
      "walk size =  30 /% of no transport =  41.010000000000005\n"
     ]
    }
   ],
   "source": [
    "#what is the longest random walk you can take so that on average you will end up 4 blocks or fewer from home? \n",
    "#use the Monte Carlo Method \n",
    "def random_walk_2(n): \n",
    "    x, y = 0, 0\n",
    "    for i in range(n):\n",
    "        (dx, dy) = random.choice([(0, 1), (0, -1), (1, 0), (-1, 0)])\n",
    "        x += dx\n",
    "        y += dy\n",
    "    return (x, y)\n",
    "\n",
    "number_of_walks = 20000\n",
    "\n",
    "for walk_length in range(1, 31): \n",
    "    no_transport = 0 # Number of walks 4 or fewer blocks from home \n",
    "    for i in range(number_of_walks): \n",
    "        (x, y) = random_walk_2(walk_length)\n",
    "        distance = abs(x) + abs(y)\n",
    "        if distance <= 4: \n",
    "            no_transport += 1\n",
    "    no_transport_percentage = float(no_transport) / number_of_walks\n",
    "    print(\"walk size = \", walk_length, \"/% of no transport = \", 100*no_transport_percentage)\n",
    "\n"
   ]
  },
  {
   "cell_type": "code",
   "execution_count": null,
   "id": "2543cea8-c9ff-4e48-8a97-555257f3ac38",
   "metadata": {},
   "outputs": [],
   "source": []
  }
 ],
 "metadata": {
  "kernelspec": {
   "display_name": "Python 3 (ipykernel)",
   "language": "python",
   "name": "python3"
  },
  "language_info": {
   "codemirror_mode": {
    "name": "ipython",
    "version": 3
   },
   "file_extension": ".py",
   "mimetype": "text/x-python",
   "name": "python",
   "nbconvert_exporter": "python",
   "pygments_lexer": "ipython3",
   "version": "3.11.7"
  }
 },
 "nbformat": 4,
 "nbformat_minor": 5
}
