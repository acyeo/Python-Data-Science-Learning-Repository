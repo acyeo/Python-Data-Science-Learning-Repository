{
 "cells": [
  {
   "cell_type": "code",
   "execution_count": 6,
   "id": "3644d04e-1cb1-4589-9866-de4a2bbf6053",
   "metadata": {},
   "outputs": [
    {
     "name": "stdout",
     "output_type": "stream",
     "text": [
      "PYTHON FOR BEGINNERS\n",
      "1\n",
      "Python 4 Beginners\n"
     ]
    }
   ],
   "source": [
    "#prints everythin in upppercase or returns the index location for a letter\n",
    "#replacing a word or character\n",
    "course = 'Python for Beginners'\n",
    "print(course.upper())\n",
    "print(course.find('y'))\n",
    "print(course.replace('for', '4'))"
   ]
  },
  {
   "cell_type": "code",
   "execution_count": 7,
   "id": "92ad25ae-d086-49d2-a92f-4de25f0e93af",
   "metadata": {},
   "outputs": [
    {
     "name": "stdout",
     "output_type": "stream",
     "text": [
      "True\n"
     ]
    }
   ],
   "source": [
    "#looking up if the word Pythin is in course\n",
    "print('Python' in course)"
   ]
  },
  {
   "cell_type": "code",
   "execution_count": 9,
   "id": "d24da2c6-858a-4496-91ce-de7432292010",
   "metadata": {},
   "outputs": [
    {
     "name": "stdout",
     "output_type": "stream",
     "text": [
      "13\n",
      "3.3333333333333335\n",
      "3\n",
      "1\n"
     ]
    }
   ],
   "source": [
    "#arithmetic operators\n",
    "print(10+3)\n",
    "print(10/3)\n",
    "print(10//3)\n",
    "print(10%3)"
   ]
  },
  {
   "cell_type": "code",
   "execution_count": 13,
   "id": "ea0aadcd-01fa-4e6a-9ecc-5bc8371c879a",
   "metadata": {},
   "outputs": [
    {
     "name": "stdout",
     "output_type": "stream",
     "text": [
      "13\n"
     ]
    }
   ],
   "source": [
    "x = 10\n",
    "x += 3\n",
    "print(x)\n"
   ]
  },
  {
   "cell_type": "code",
   "execution_count": 19,
   "id": "06dfa47e-4154-40e9-bb6b-7d25e3f2f1eb",
   "metadata": {},
   "outputs": [
    {
     "name": "stdout",
     "output_type": "stream",
     "text": [
      "True\n",
      "True\n",
      "False\n",
      "True\n"
     ]
    }
   ],
   "source": [
    "#comparison operators\n",
    "x = 3 > 2\n",
    "print(x)\n",
    "#greater than  or equal to comparison operator\n",
    "y= 3>=2\n",
    "print(y)\n",
    "\n",
    "#equality operator indicated by ==\n",
    "Z = 3 == 2\n",
    "print(Z)\n",
    "#not equal operator indicated by !=\n",
    "xy = 3 != 2\n",
    "print(xy)"
   ]
  },
  {
   "cell_type": "code",
   "execution_count": 20,
   "id": "65e6fe7f-dfc1-45f8-8422-57b8627fd90b",
   "metadata": {},
   "outputs": [],
   "source": [
    "#Logical operators"
   ]
  },
  {
   "cell_type": "code",
   "execution_count": 29,
   "id": "eb31afd2-a555-4306-8e5a-11d0b7090038",
   "metadata": {},
   "outputs": [
    {
     "name": "stdout",
     "output_type": "stream",
     "text": [
      "True\n",
      "True\n"
     ]
    }
   ],
   "source": [
    "#to build complex rules and conditions. e.g print price if it's greater than 10 and less than 30\n",
    "price = 25\n",
    "print(price > 10 and price < 30)\n",
    "price2 = 5\n",
    "print(price2 > 10 or price2 < 30)"
   ]
  },
  {
   "cell_type": "code",
   "execution_count": 35,
   "id": "a56f9cef-8833-432f-aaca-0d99c64b8e11",
   "metadata": {},
   "outputs": [
    {
     "name": "stdout",
     "output_type": "stream",
     "text": [
      "done\n"
     ]
    }
   ],
   "source": [
    "#if statements\n",
    "#The print(\"done\") is still executed b/c it's not part of our block of code. \n",
    "temperature = 25\n",
    "\n",
    "if temperature > 30: \n",
    "    print(\"It's a hot day\")\n",
    "    print(\"Drink plenty of water\")\n",
    "print(\"done\")"
   ]
  },
  {
   "cell_type": "code",
   "execution_count": 38,
   "id": "26fbab12-5f38-441b-a38e-e313c22922b9",
   "metadata": {},
   "outputs": [
    {
     "name": "stdout",
     "output_type": "stream",
     "text": [
      "It's cold\n",
      "done\n"
     ]
    }
   ],
   "source": [
    "#using else if = elif in python. Since temperature is less than 30 but greater than 20, it prints the following below\n",
    "#else gets executed if none of the conditions above are true. \n",
    "temperature = 8\n",
    "\n",
    "if temperature > 30: \n",
    "    print(\"It's a hot day\")\n",
    "    print(\"Drink plenty of water\")\n",
    "elif temperature > 20:\n",
    "    print(\"It's a nice day\")\n",
    "elif temperature > 10: \n",
    "    print(\"It's a bit cold\")\n",
    "else: \n",
    "    print(\"It's cold\")\n",
    "print(\"done\")"
   ]
  },
  {
   "cell_type": "code",
   "execution_count": 39,
   "id": "43d3ee2d-fa83-4991-8152-40b867eb59c2",
   "metadata": {},
   "outputs": [
    {
     "name": "stdout",
     "output_type": "stream",
     "text": [
      "False\n",
      "True\n",
      "True\n"
     ]
    }
   ],
   "source": [
    "# Define variables\n",
    "my_kitchen = 18.0\n",
    "your_kitchen = 14.0\n",
    "\n",
    "# my_kitchen bigger than 10 and smaller than 18?\n",
    "print(my_kitchen > 10 and my_kitchen < 18)\n",
    "\n",
    "# my_kitchen smaller than 14 or bigger than 17?\n",
    "print(my_kitchen<14 or my_kitchen>17)\n",
    "\n",
    "# Double my_kitchen smaller than triple your_kitchen?\n",
    "print(2*my_kitchen<23*your_kitchen)"
   ]
  },
  {
   "cell_type": "code",
   "execution_count": 40,
   "id": "1fe6187e-55e1-4abf-b0e7-46189b475619",
   "metadata": {},
   "outputs": [
    {
     "data": {
      "text/plain": [
       "False"
      ]
     },
     "execution_count": 40,
     "metadata": {},
     "output_type": "execute_result"
    }
   ],
   "source": [
    "x = 8\n",
    "y = 9\n",
    "not(not(x < 3) and not(y > 14 or y > 10))"
   ]
  },
  {
   "cell_type": "code",
   "execution_count": 41,
   "id": "f858eed4-7141-4dda-9d9d-8cdf15c7706d",
   "metadata": {},
   "outputs": [
    {
     "name": "stdout",
     "output_type": "stream",
     "text": [
      "[False  True False  True]\n",
      "[False False False  True]\n"
     ]
    }
   ],
   "source": [
    "# Create arrays\n",
    "import numpy as np\n",
    "my_house = np.array([18.0, 20.0, 10.75, 9.50])\n",
    "your_house = np.array([14.0, 24.0, 14.25, 9.0])\n",
    "\n",
    "# my_house greater than 18.5 or smaller than 10\n",
    "print(np.logical_or(my_house > 18.5, my_house < 10))\n",
    "\n",
    "# Both my_house and your_house smaller than 11\n",
    "print(np.logical_and(my_house < 11, your_house < 11))"
   ]
  },
  {
   "cell_type": "code",
   "execution_count": 3,
   "id": "2388ea7b-9c2c-414e-8eb1-3d019e269eca",
   "metadata": {},
   "outputs": [
    {
     "name": "stdout",
     "output_type": "stream",
     "text": [
      "1\n"
     ]
    }
   ],
   "source": [
    "print(1%5)"
   ]
  },
  {
   "cell_type": "code",
   "execution_count": 2,
   "id": "bd249d1f-9a2e-4493-941a-94ad4b861b35",
   "metadata": {},
   "outputs": [
    {
     "data": {
      "text/plain": [
       "2"
      ]
     },
     "execution_count": 2,
     "metadata": {},
     "output_type": "execute_result"
    }
   ],
   "source": [
    "2%5"
   ]
  },
  {
   "cell_type": "code",
   "execution_count": null,
   "id": "8cc66c6d-f7c2-43f6-ad10-70b8fd8f7d30",
   "metadata": {},
   "outputs": [],
   "source": []
  }
 ],
 "metadata": {
  "kernelspec": {
   "display_name": "Python 3 (ipykernel)",
   "language": "python",
   "name": "python3"
  },
  "language_info": {
   "codemirror_mode": {
    "name": "ipython",
    "version": 3
   },
   "file_extension": ".py",
   "mimetype": "text/x-python",
   "name": "python",
   "nbconvert_exporter": "python",
   "pygments_lexer": "ipython3",
   "version": "3.11.7"
  }
 },
 "nbformat": 4,
 "nbformat_minor": 5
}
