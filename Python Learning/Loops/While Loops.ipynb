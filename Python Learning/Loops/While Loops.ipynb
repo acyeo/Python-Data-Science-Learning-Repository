{
 "cells": [
  {
   "cell_type": "code",
   "execution_count": 1,
   "id": "fdfe5577-6d62-4ed3-ac82-435cc6877681",
   "metadata": {},
   "outputs": [
    {
     "name": "stdout",
     "output_type": "stream",
     "text": [
      "10\n"
     ]
    }
   ],
   "source": [
    "total2 = 0\n",
    "j = 1\n",
    "while j< 5: \n",
    "    total2 += j\n",
    "    j +=1\n",
    "print (total2)"
   ]
  },
  {
   "cell_type": "code",
   "execution_count": 4,
   "id": "7a00c549-4869-4ffd-9bdd-ac77c4130784",
   "metadata": {},
   "outputs": [
    {
     "name": "stdout",
     "output_type": "stream",
     "text": [
      "17\n"
     ]
    }
   ],
   "source": [
    "#use while loops instead of for loops if you don't know how many loops you'll need beforehand\n",
    "given_list = [5, 4, 4, 3, 1, -2, -3, -5]\n",
    "total3 = 0\n",
    "i = 0\n",
    "while given_list[i] > 0:\n",
    "    total3 += given_list[i]\n",
    "    i+= 1\n",
    "print(total3)"
   ]
  },
  {
   "cell_type": "code",
   "execution_count": 5,
   "id": "2a7c5f3c-51dc-4905-8e7f-70fae293c9fe",
   "metadata": {},
   "outputs": [
    {
     "name": "stdout",
     "output_type": "stream",
     "text": [
      "17\n"
     ]
    },
    {
     "data": {
      "text/plain": [
       "5"
      ]
     },
     "execution_count": 5,
     "metadata": {},
     "output_type": "execute_result"
    }
   ],
   "source": [
    "given_list = [5, 4, 4, 3, 1]\n",
    "total3 = 0\n",
    "i = 0\n",
    "while i < len(given_list) and given_list[i] > 0:\n",
    "    total3 += given_list[i]\n",
    "    i+= 1\n",
    "print(total3)\n",
    "len(given_list)"
   ]
  },
  {
   "cell_type": "code",
   "execution_count": 9,
   "id": "63c2fd11-dfee-4456-bf8b-01c9fada7393",
   "metadata": {},
   "outputs": [
    {
     "name": "stdout",
     "output_type": "stream",
     "text": [
      "17\n"
     ]
    }
   ],
   "source": [
    "#This loop only adds up the sum of the positive integers. \n",
    "#the \"break\" statement tells the code to not include the negative numbers in the if conditions to the program. \n",
    "given_list2 = [5, 4, 4, 3, 1, -2, -3, -5]\n",
    "total4 = 0\n",
    "for element in given_list2: \n",
    "    if element <=0: \n",
    "        break\n",
    "    total4 += element\n",
    "print(total4)"
   ]
  },
  {
   "cell_type": "code",
   "execution_count": 12,
   "id": "9f126dcb-3fc2-4f49-94af-af304ec8ab96",
   "metadata": {},
   "outputs": [
    {
     "name": "stdout",
     "output_type": "stream",
     "text": [
      "17\n"
     ]
    }
   ],
   "source": [
    "given_list2 = [5, 4, 4, 3, 1, -2, -3, -5]\n",
    "total5 = 0\n",
    "#i = 0 is the index\n",
    "i = 0\n",
    "while True:\n",
    "#add the current element in given_list2 to total5\n",
    "    total5 += given_list2[i]\n",
    "#increment i by 1 on the list\n",
    "    i += 1\n",
    "    if given_list[i] <= 0:\n",
    "        break \n",
    "print(total5)"
   ]
  },
  {
   "cell_type": "code",
   "execution_count": 13,
   "id": "db98d8e8-9f9e-4bd4-94b9-cb7779ab2d7b",
   "metadata": {},
   "outputs": [
    {
     "name": "stdout",
     "output_type": "stream",
     "text": [
      "1\n",
      "2\n",
      "3\n"
     ]
    }
   ],
   "source": [
    "x = 1\n",
    "while x < 4 :\n",
    "    print(x)\n",
    "    x = x + 1"
   ]
  },
  {
   "cell_type": "code",
   "execution_count": 14,
   "id": "118c4771-48d2-4b7a-a0e4-d18f2bf66977",
   "metadata": {},
   "outputs": [
    {
     "name": "stdout",
     "output_type": "stream",
     "text": [
      "correcting...\n",
      "7\n",
      "correcting...\n",
      "6\n",
      "correcting...\n",
      "5\n",
      "correcting...\n",
      "4\n",
      "correcting...\n",
      "3\n",
      "correcting...\n",
      "2\n",
      "correcting...\n",
      "1\n",
      "correcting...\n",
      "0\n"
     ]
    }
   ],
   "source": [
    "#Create the variable offset with an initial value of 8.\n",
    "#Code a while loop that keeps running as long as offset is not equal to 0. Inside the while loop:\n",
    "#Print out the sentence \"correcting...\".\n",
    "#Next, decrease the value of offset by 1. You can do this with offset = offset - 1.\n",
    "#Finally, still within your loop, print out offset so you can see how it changes.\n",
    "\n",
    "# Initialize offset\n",
    "offset = 8\n",
    "\n",
    "# Code the while loop\n",
    "while offset != 0:\n",
    "    print (\"correcting...\") \n",
    "    offset -= 1\n",
    "    print(offset)"
   ]
  },
  {
   "cell_type": "code",
   "execution_count": 1,
   "id": "4d77a395-8d89-4135-9f20-ca1e2673010c",
   "metadata": {},
   "outputs": [
    {
     "name": "stdout",
     "output_type": "stream",
     "text": [
      "correcting...\n",
      "-5\n",
      "correcting...\n",
      "-4\n",
      "correcting...\n",
      "-3\n",
      "correcting...\n",
      "-2\n",
      "correcting...\n",
      "-1\n",
      "correcting...\n",
      "0\n"
     ]
    }
   ],
   "source": [
    "#inside the while loop, complete the if-else statement:\n",
    "#If offset is greater than zero, you should decrease offset by 1.\n",
    "#Else, you should increase offset by 1.\n",
    "#If you've coded things correctly, hitting Submit Answer should work this time.\n",
    "\n",
    "# Initialize offset\n",
    "offset = -6\n",
    "\n",
    "# Code the while loop\n",
    "while offset != 0 :\n",
    "    print(\"correcting...\")\n",
    "    if offset > 0:\n",
    "      offset -= 1\n",
    "    elif offset < 0: \n",
    "      offset += 1  \n",
    "    print(offset)"
   ]
  },
  {
   "cell_type": "code",
   "execution_count": 4,
   "id": "da89ad17-d930-4849-90f2-fc4576e9d2df",
   "metadata": {},
   "outputs": [
    {
     "name": "stdout",
     "output_type": "stream",
     "text": [
      "15\n"
     ]
    }
   ],
   "source": [
    "indiana = 0\n",
    "nuy = 4\n",
    "while nuy < 7:\n",
    "    indiana += nuy\n",
    "    #indiana is the sum of nuy variables\n",
    "    nuy += 1\n",
    "    #the nuy variable will add up until the added variable is less than 7\n",
    "    #for exampls: nuy will be 4, 5, 6. 4+5+6 = 15\n",
    "print(indiana)"
   ]
  },
  {
   "cell_type": "code",
   "execution_count": null,
   "id": "542457e8-0e7d-43d3-a292-3172178a3204",
   "metadata": {},
   "outputs": [],
   "source": []
  }
 ],
 "metadata": {
  "kernelspec": {
   "display_name": "Python 3 (ipykernel)",
   "language": "python",
   "name": "python3"
  },
  "language_info": {
   "codemirror_mode": {
    "name": "ipython",
    "version": 3
   },
   "file_extension": ".py",
   "mimetype": "text/x-python",
   "name": "python",
   "nbconvert_exporter": "python",
   "pygments_lexer": "ipython3",
   "version": "3.11.7"
  }
 },
 "nbformat": 4,
 "nbformat_minor": 5
}
