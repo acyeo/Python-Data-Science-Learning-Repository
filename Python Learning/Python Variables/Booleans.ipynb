{
 "cells": [
  {
   "cell_type": "code",
   "execution_count": 1,
   "id": "f5e509f0-0b77-4416-8bdf-916febf16c08",
   "metadata": {},
   "outputs": [
    {
     "name": "stdout",
     "output_type": "stream",
     "text": [
      "False\n",
      "True\n"
     ]
    }
   ],
   "source": [
    "# Create an empty list\n",
    "my_list = []\n",
    "\n",
    "# Check the truthiness of my_list\n",
    "print(bool(my_list))\n",
    "\n",
    "# Append the string 'cookies' to my_list\n",
    "my_list.append('cookies')\n",
    "\n",
    "# Check the truthiness of my_list\n",
    "print(bool(my_list))"
   ]
  },
  {
   "cell_type": "code",
   "execution_count": null,
   "id": "e658e3a3-29f6-4443-9475-62d194ae9921",
   "metadata": {},
   "outputs": [],
   "source": [
    "# Use a for loop to iterate over the penguins list\n",
    "for penguin in penguins:\n",
    "  # Check the penguin entry for a body mass of more than 3300 grams\n",
    "  if penguin[\"body_mass\"] > 3300:\n",
    "  \t# Print the species and sex of the penguin if true\n",
    "    print(f\"{penguin['species']} - {penguin['sex']}\")\n",
    "\n",
    "#Correct Output\n",
    "Adlie - FEMALE\n",
    "Gentoo - FEMALE\n",
    "Adlie - MALE\n",
    "Gentoo - FEMALE\n",
    "Gentoo - FEMALE\n",
    "Chinstrap - FEMALE\n",
    "Adlie - MALE\n",
    "Chinstrap - FEMALE\n",
    "Chinstrap - FEMALE\n",
    "Adlie - FEMALE\n",
    "Gentoo - FEMALE\n",
    "Adlie - MALE\n",
    "Adlie - FEMALE\n",
    "Adlie - FEMALE\n",
    "Gentoo - .\n",
    "Gentoo - FEMALE\n",
    "Adlie - MALE\n",
    "Gentoo - MALE"
   ]
  },
  {
   "cell_type": "code",
   "execution_count": null,
   "id": "d762074d-3eb3-42ed-aa67-93c61ee08a70",
   "metadata": {},
   "outputs": [],
   "source": [
    "# Check the truthiness of penguin_305_details sex key\n",
    "if penguin_305_details[\"sex\"]:\n",
    "\t# If true, check if sex is True and store it as sex_is_true\n",
    "    sex_is_true = penguin_305_details[\"sex\"] is True\n",
    "    # Print the sex key's value and sex_is_true\n",
    "    print(f\"{penguin_305_details['sex']}: {sex_is_true}\")\n",
    "\n",
    "# Check the truthiness of penguin_305_details tracked key\n",
    "if penguin_305_details[\"tracked\"]:\n",
    "\t# If true, check if tracked is True and store it as tracked_is_true\n",
    "    tracked_is_true = penguin_305_details[\"tracked\"] is True\n",
    "    # Print the tracked key and tracked_is_true\n",
    "    print(f\"{penguin_305_details['tracked']}: {tracked_is_true}\")\n",
    "\n",
    "#correct Output\n",
    "#FEMALE: False\n",
    "#True: True"
   ]
  }
 ],
 "metadata": {
  "kernelspec": {
   "display_name": "Python 3 (ipykernel)",
   "language": "python",
   "name": "python3"
  },
  "language_info": {
   "codemirror_mode": {
    "name": "ipython",
    "version": 3
   },
   "file_extension": ".py",
   "mimetype": "text/x-python",
   "name": "python",
   "nbconvert_exporter": "python",
   "pygments_lexer": "ipython3",
   "version": "3.11.7"
  }
 },
 "nbformat": 4,
 "nbformat_minor": 5
}
