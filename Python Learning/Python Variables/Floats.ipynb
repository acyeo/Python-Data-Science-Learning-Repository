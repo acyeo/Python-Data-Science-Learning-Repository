{
 "cells": [
  {
   "cell_type": "code",
   "execution_count": 1,
   "id": "dc631975-6fbe-4426-810f-e18bec9fbd9c",
   "metadata": {},
   "outputs": [
    {
     "name": "stdout",
     "output_type": "stream",
     "text": [
      "1e-05\n"
     ]
    }
   ],
   "source": [
    "print(0.00001)"
   ]
  },
  {
   "cell_type": "code",
   "execution_count": 6,
   "id": "01f89eee-4eab-4776-b6c2-b5ccbb595621",
   "metadata": {
    "scrolled": true
   },
   "outputs": [
    {
     "name": "stdout",
     "output_type": "stream",
     "text": [
      ":f is the format specifier.\n",
      "0.000010\n",
      "python only prints up to 6 decimal places.\n",
      "0.000000\n",
      "therefore specify the decimal places.\n",
      "0.0000001\n"
     ]
    }
   ],
   "source": [
    "print(\":f is the format specifier.\")\n",
    "print(f\"{0.00001:f}\")\n",
    "print(\"python only prints up to 6 decimal places.\") \n",
    "print(f\"{0.0000001:f}\")\n",
    "print(\"therefore specify the decimal places.\")\n",
    "print(f\"{0.0000001:.7f}\")"
   ]
  },
  {
   "cell_type": "code",
   "execution_count": 8,
   "id": "252fa799-286d-4bca-937e-e658e789b8aa",
   "metadata": {},
   "outputs": [
    {
     "name": "stdout",
     "output_type": "stream",
     "text": [
      "float output division:\n",
      "2.0\n",
      "integer output division:\n"
     ]
    },
    {
     "data": {
      "text/plain": [
       "2"
      ]
     },
     "execution_count": 8,
     "metadata": {},
     "output_type": "execute_result"
    }
   ],
   "source": [
    "print(\"float output division:\")\n",
    "print(4/2)\n",
    "print(\"integer output division:\")\n",
    "4//2"
   ]
  },
  {
   "cell_type": "code",
   "execution_count": null,
   "id": "9ad43313-a5b0-4d8e-994c-a77130f9b9ef",
   "metadata": {},
   "outputs": [],
   "source": []
  }
 ],
 "metadata": {
  "kernelspec": {
   "display_name": "Python 3 (ipykernel)",
   "language": "python",
   "name": "python3"
  },
  "language_info": {
   "codemirror_mode": {
    "name": "ipython",
    "version": 3
   },
   "file_extension": ".py",
   "mimetype": "text/x-python",
   "name": "python",
   "nbconvert_exporter": "python",
   "pygments_lexer": "ipython3",
   "version": "3.11.7"
  }
 },
 "nbformat": 4,
 "nbformat_minor": 5
}
