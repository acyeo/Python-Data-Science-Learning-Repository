{
 "cells": [
  {
   "cell_type": "code",
   "execution_count": 1,
   "id": "c14f1360-62c5-424a-a368-b09a6253b8b9",
   "metadata": {},
   "outputs": [
    {
     "name": "stdout",
     "output_type": "stream",
     "text": [
      "10\n"
     ]
    }
   ],
   "source": [
    "import math\n",
    "age = 15\n",
    "print(len(str(id(str(age)) + math.floor(2.6))))\n",
    "#1 - age_str = str(age)\n",
    "#2 - id_age_str = id(age_str)\n",
    "#3 - other = math.floor(2.6)\n",
    "#4 - added = id_age_str + other\n",
    "#5 - added_str = str(added)\n",
    "#6 - length = len(added_str)\n",
    "#7 - print(length)"
   ]
  },
  {
   "cell_type": "code",
   "execution_count": null,
   "id": "154eef77-ca82-4164-a687-da68b0ada9be",
   "metadata": {},
   "outputs": [],
   "source": [
    "#any time we have ((((())))). The most inner parenthesis starts first"
   ]
  }
 ],
 "metadata": {
  "kernelspec": {
   "display_name": "Python 3 (ipykernel)",
   "language": "python",
   "name": "python3"
  },
  "language_info": {
   "codemirror_mode": {
    "name": "ipython",
    "version": 3
   },
   "file_extension": ".py",
   "mimetype": "text/x-python",
   "name": "python",
   "nbconvert_exporter": "python",
   "pygments_lexer": "ipython3",
   "version": "3.11.7"
  }
 },
 "nbformat": 4,
 "nbformat_minor": 5
}
