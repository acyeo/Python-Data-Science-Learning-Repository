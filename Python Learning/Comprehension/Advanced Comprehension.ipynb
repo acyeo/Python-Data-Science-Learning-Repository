{
 "cells": [
  {
   "cell_type": "code",
   "execution_count": 1,
   "id": "86f71f34-901b-435b-a4c3-38933d62fd3d",
   "metadata": {},
   "outputs": [
    {
     "data": {
      "text/plain": [
       "[0, 4, 16, 36, 64]"
      ]
     },
     "execution_count": 1,
     "metadata": {},
     "output_type": "execute_result"
    }
   ],
   "source": [
    "#constructing conditionals on iterables or in a list comprehension\n",
    "[num**2 for num in range(10) if num % 2 == 0]"
   ]
  },
  {
   "cell_type": "code",
   "execution_count": 2,
   "id": "2c5255db-7096-473c-bec2-34a16e566d43",
   "metadata": {},
   "outputs": [
    {
     "name": "stdout",
     "output_type": "stream",
     "text": [
      "{0: 0, 1: -1, 2: -2, 3: -3, 4: -4, 5: -5, 6: -6, 7: -7, 8: -8}\n"
     ]
    }
   ],
   "source": [
    "#dict comprehension\n",
    "#we're making a dictionary for any number within range 9 that makes a negative value connecting to the positive\n",
    "pos_neg = {num: - num for num in range(9)}\n",
    "print (pos_neg)"
   ]
  },
  {
   "cell_type": "code",
   "execution_count": 4,
   "id": "cd668cde-9b11-4d09-b434-7bd8414dbfd5",
   "metadata": {},
   "outputs": [
    {
     "name": "stdout",
     "output_type": "stream",
     "text": [
      "['samwise', 'aragorn', 'legolas', 'boromir']\n"
     ]
    }
   ],
   "source": [
    "#Use member as the iterator variable in the list comprehension. \n",
    "#For the conditional, use len() to evaluate the iterator variable. \n",
    "#Note that you only want strings with 7 characters or more.\n",
    "\n",
    "# Create a list of strings: fellowship\n",
    "fellowship = ['frodo', 'samwise', 'merry', 'aragorn', 'legolas', 'boromir', 'gimli']\n",
    "\n",
    "# Create list comprehension: new_fellowship\n",
    "new_fellowship = [member for member in fellowship if len(member) >= 7]\n",
    "\n",
    "# Print the new list\n",
    "print(new_fellowship)"
   ]
  },
  {
   "cell_type": "code",
   "execution_count": 5,
   "id": "fe10f871-4e4c-4868-96af-127412adc9fe",
   "metadata": {},
   "outputs": [
    {
     "name": "stdout",
     "output_type": "stream",
     "text": [
      "['', 'samwise', '', 'aragorn', 'legolas', 'boromir', '']\n"
     ]
    }
   ],
   "source": [
    "#In the output expression, keep the string as-is if the number of characters is >= 7, \n",
    "#else replace it with an empty string - that is, '' or \"\".\n",
    "# Create a list of strings: fellowship\n",
    "fellowship = ['frodo', 'samwise', 'merry', 'aragorn', 'legolas', 'boromir', 'gimli']\n",
    "\n",
    "# Create list comprehension: new_fellowship\n",
    "new_fellowship = [member if len(member)>=7 else '' for member in fellowship]\n",
    "\n",
    "# Print the new list\n",
    "print(new_fellowship)"
   ]
  },
  {
   "cell_type": "code",
   "execution_count": 6,
   "id": "90b37791-a066-4d3e-bec3-ba9b19428005",
   "metadata": {},
   "outputs": [
    {
     "name": "stdout",
     "output_type": "stream",
     "text": [
      "{'frodo': 5, 'samwise': 7, 'merry': 5, 'aragorn': 7, 'legolas': 7, 'boromir': 7, 'gimli': 5}\n"
     ]
    }
   ],
   "source": [
    "#Create a dict comprehension where the key is a string in fellowship and the value is the length of the string. \n",
    "#Use member as the iterator variable.\n",
    "#Remember to use the syntax <key> : <value> \n",
    "#in the output expression part of the comprehension to create the members of the dictionary. \n",
    "# Create a list of strings: fellowship\n",
    "fellowship = ['frodo', 'samwise', 'merry', 'aragorn', 'legolas', 'boromir', 'gimli']\n",
    "\n",
    "# Create dict comprehension: new_fellowship\n",
    "new_fellowship = {member: len(member) for member in fellowship}\n",
    "\n",
    "# Print the new dictionary\n",
    "print(new_fellowship)"
   ]
  },
  {
   "cell_type": "code",
   "execution_count": 7,
   "id": "6ea3425b-1c52-46be-8c02-b0c6cb1b7d7a",
   "metadata": {},
   "outputs": [
    {
     "data": {
      "text/plain": [
       "<generator object <genexpr> at 0x105c624d0>"
      ]
     },
     "execution_count": 7,
     "metadata": {},
     "output_type": "execute_result"
    }
   ],
   "source": [
    "#Generator expressions example\n",
    "(2 * num for num in range(10))\n",
    "#creates a generator object"
   ]
  },
  {
   "cell_type": "code",
   "execution_count": 8,
   "id": "cf1c1572-727f-4379-9697-dc171bf3d44d",
   "metadata": {},
   "outputs": [],
   "source": [
    "#list comprehension vs generators\n",
    "#list comprehension returns a list\n",
    "#generators returns a generator object\n",
    "#both can be iterated over. "
   ]
  },
  {
   "cell_type": "code",
   "execution_count": 9,
   "id": "79e65e0c-5fd7-4220-8947-e538ddd0c639",
   "metadata": {},
   "outputs": [
    {
     "name": "stdout",
     "output_type": "stream",
     "text": [
      "0\n",
      "1\n",
      "2\n",
      "3\n",
      "4\n",
      "5\n"
     ]
    }
   ],
   "source": [
    "#you can generate elements from a generator object/expression \n",
    "result = (num for num in range(6))\n",
    "for num in result: \n",
    "    print(num)"
   ]
  },
  {
   "cell_type": "code",
   "execution_count": 10,
   "id": "9537cd60-137b-47eb-8d4c-d3d205d5dd45",
   "metadata": {},
   "outputs": [
    {
     "name": "stdout",
     "output_type": "stream",
     "text": [
      "[0, 1, 2, 3, 4, 5]\n"
     ]
    }
   ],
   "source": [
    "result = (num for num in range(6))\n",
    "print(list(result))"
   ]
  },
  {
   "cell_type": "code",
   "execution_count": 11,
   "id": "c3793757-89f2-488a-9e79-4c7dea9e3ad3",
   "metadata": {},
   "outputs": [
    {
     "name": "stdout",
     "output_type": "stream",
     "text": [
      "0\n"
     ]
    }
   ],
   "source": [
    "result = (num for num in range(6))\n",
    "print(next(result))"
   ]
  },
  {
   "cell_type": "code",
   "execution_count": 12,
   "id": "a499916d-e93c-4277-b642-232f1f53bb4e",
   "metadata": {},
   "outputs": [
    {
     "name": "stdout",
     "output_type": "stream",
     "text": [
      "1\n"
     ]
    }
   ],
   "source": [
    "print(next(result))"
   ]
  },
  {
   "cell_type": "code",
   "execution_count": 13,
   "id": "ca084073-6ace-405b-b843-7462b0c2093a",
   "metadata": {},
   "outputs": [
    {
     "data": {
      "text/plain": [
       "<generator object <genexpr> at 0x105c62dc0>"
      ]
     },
     "execution_count": 13,
     "metadata": {},
     "output_type": "execute_result"
    }
   ],
   "source": [
    "#generators are especially useful for LARGE dataset. \n",
    "#as opposed to printing a dataset list of LARGE numbers [num for nuum in range(10**1000000)]\n",
    "(num for nuum in range(10**1000000))"
   ]
  },
  {
   "cell_type": "code",
   "execution_count": 14,
   "id": "7b830b00-6ee3-440a-b7c6-bed121c7bb40",
   "metadata": {},
   "outputs": [
    {
     "name": "stdout",
     "output_type": "stream",
     "text": [
      "[0, 2, 4, 6, 8]\n"
     ]
    }
   ],
   "source": [
    "#conditionals in generator expressions\n",
    "even_nums = (num for num in range(10) if num % 2 == 0)\n",
    "print(list(even_nums))"
   ]
  },
  {
   "cell_type": "code",
   "execution_count": 15,
   "id": "bc3febc6-6d5f-484e-b823-95faa203d66d",
   "metadata": {},
   "outputs": [],
   "source": [
    "#generator functions\n",
    "#produces generator objects when called\n",
    "#defined like a regular function: def \n",
    "#yields a sequence of values instead of returning a single value\n",
    "#generates a value with yield keyword"
   ]
  },
  {
   "cell_type": "code",
   "execution_count": 16,
   "id": "96bf9630-6296-43a0-9c4e-a0aa1526725a",
   "metadata": {},
   "outputs": [],
   "source": [
    " #example of generator function: \n",
    "def num_sequence(n):\n",
    "    \"\"\"Generate values from 0 to n\"\"\"\n",
    "    i = 0\n",
    "    while i < n: \n",
    "        yield i\n",
    "        i += 1"
   ]
  },
  {
   "cell_type": "code",
   "execution_count": 17,
   "id": "e82b343f-487f-40ca-887b-d3b60f94e090",
   "metadata": {},
   "outputs": [
    {
     "name": "stdout",
     "output_type": "stream",
     "text": [
      "<class 'generator'>\n"
     ]
    }
   ],
   "source": [
    "#another example: \n",
    "result = num_sequence(5)\n",
    "print(type(result))"
   ]
  },
  {
   "cell_type": "code",
   "execution_count": 18,
   "id": "dc752d5f-a679-4512-9627-c0d477ea931b",
   "metadata": {},
   "outputs": [
    {
     "name": "stdout",
     "output_type": "stream",
     "text": [
      "0\n",
      "1\n",
      "2\n",
      "3\n",
      "4\n"
     ]
    }
   ],
   "source": [
    "for item in result:\n",
    "    print(item)"
   ]
  },
  {
   "cell_type": "code",
   "execution_count": 19,
   "id": "fb00d37f-9037-4d86-ba8c-4f8f89efd36f",
   "metadata": {},
   "outputs": [
    {
     "name": "stdout",
     "output_type": "stream",
     "text": [
      "6\n",
      "5\n",
      "5\n",
      "6\n",
      "7\n"
     ]
    }
   ],
   "source": [
    "#Complete the function header for the function get_lengths() that has a single parameter, input_list.\n",
    "#In the for loop in the function definition, yield the length of the strings in input_list.\n",
    "#Complete the iterable part of the for loop for printing the values generated by the get_lengths() generator function. \n",
    "#Supply the call to get_lengths(), passing in the list lannister.\n",
    "\n",
    "# Create a list of strings\n",
    "lannister = ['cersei', 'jaime', 'tywin', 'tyrion', 'joffrey']\n",
    "\n",
    "# Define generator function get_lengths\n",
    "def get_lengths(input_list):\n",
    "    \"\"\"Generator function that yields the\n",
    "    length of the strings in input_list.\"\"\"\n",
    "\n",
    "    # Yield the length of a string\n",
    "    for person in input_list:\n",
    "        yield len(person)\n",
    "\n",
    "# Print the values generated by get_lengths()\n",
    "for value in get_lengths(lannister):\n",
    "    print(value)"
   ]
  },
  {
   "cell_type": "code",
   "execution_count": null,
   "id": "12b2fd32-b582-4cfe-8834-a6ccf5302abb",
   "metadata": {},
   "outputs": [],
   "source": [
    "#Extract the column 'created_at' from df and assign the result to tweet_time. \n",
    "#Fun fact: the extracted column in tweet_time here is a Series data structure!\n",
    "#Create a list comprehension that extracts the time from each row in tweet_time. \n",
    "#Each row is a string that represents a timestamp, and you will access the 12th to 19th characters in the string \n",
    "#to extract the time. \n",
    "#Use entry as the iterator variable and assign the result to tweet_clock_time. \n",
    "#Remember that Python uses 0-based indexing!\n",
    "\n",
    "# Extract the created_at column from df: tweet_time\n",
    "tweet_time = df['created_at']\n",
    "\n",
    "# Extract the clock time: tweet_clock_time\n",
    "tweet_clock_time = [time[11:19] for time in tweet_time]\n",
    "\n",
    "# Print the extracted times\n",
    "print(tweet_clock_time)\n",
    "\n",
    "#<script.py> output:\n",
    "    #['23:40:17', '23:40:17', '23:40:17', '23:40:17', '23:40:17', '23:40:17', '23:40:18', '23:40:17', '23:40:18', '23:40:18', '23:40:18', '23:40:17', '23:40:18', '23:40:18', '23:40:17', '23:40:18', '23:40:18', '23:40:17', '23:40:18', '23:40:17', '23:40:18', '23:40:18', '23:40:18', '23:40:18', '23:40:17', '23:40:18', '23:40:18', '23:40:17', '23:40:18', '23:40:18', '23:40:18', '23:40:18', '23:40:18', '23:40:18', '23:40:18', '23:40:18', '23:40:18', '23:40:18', '23:40:18', '23:40:18', '23:40:18', '23:40:18', '23:40:18', '23:40:18', '23:40:18', '23:40:18', '23:40:18', '23:40:18', '23:40:18', '23:40:18', '23:40:18', '23:40:18', '23:40:18', '23:40:18', '23:40:18', '23:40:18', '23:40:18', '23:40:18', '23:40:18', '23:40:18', '23:40:19', '23:40:18', '23:40:18', '23:40:18', '23:40:19', '23:40:19', '23:40:19', '23:40:18', '23:40:19', '23:40:19', '23:40:19', '23:40:18', '23:40:19', '23:40:19', '23:40:19', '23:40:18', '23:40:19', '23:40:19', '23:40:19', '23:40:19', '23:40:19', '23:40:19', '23:40:19', '23:40:19', '23:40:19', '23:40:19', '23:40:19', '23:40:19', '23:40:19', '23:40:19', '23:40:19', '23:40:19', '23:40:19', '23:40:19', '23:40:19', '23:40:19', '23:40:19', '23:40:19', '23:40:19', '23:40:19']"
   ]
  },
  {
   "cell_type": "code",
   "execution_count": null,
   "id": "2db0ea1a-19c5-45f3-8185-14ebfa7295bf",
   "metadata": {},
   "outputs": [],
   "source": [
    "#Extract the column 'created_at' from df and assign the result to tweet_time.\n",
    "#Create a list comprehension that extracts the time from each row in tweet_time. \n",
    "#Each row is a string that represents a timestamp, and you will access the 12th to 19th characters \n",
    "#in the string to extract the time. Use entry as the iterator variable and assign the result to tweet_clock_time. \n",
    "#Additionally, add a conditional expression that checks whether entry[17:19] is equal to '19'.\n",
    "\n",
    "# Extract the created_at column from df: tweet_time\n",
    "tweet_time = df['created_at']\n",
    "\n",
    "# Extract the clock time: tweet_clock_time\n",
    "tweet_clock_time = [time[11:19] for time in tweet_time if time[17:19] == '19']\n",
    "\n",
    "# Print the extracted times\n",
    "print(tweet_clock_time)\n",
    "\n",
    "<script.py> output:\n",
    "    ['23:40:19', '23:40:19', '23:40:19', '23:40:19', '23:40:19', '23:40:19', '23:40:19', '23:40:19', '23:40:19', '23:40:19', '23:40:19', '23:40:19', '23:40:19', '23:40:19', '23:40:19', '23:40:19', '23:40:19', '23:40:19', '23:40:19', '23:40:19', '23:40:19', '23:40:19', '23:40:19', '23:40:19', '23:40:19', '23:40:19', '23:40:19', '23:40:19', '23:40:19', '23:40:19', '23:40:19', '23:40:19', '23:40:19', '23:40:19']"
   ]
  },
  {
   "cell_type": "code",
   "execution_count": 20,
   "id": "2cd98ec8-c797-4221-8e21-99da7dc3da77",
   "metadata": {},
   "outputs": [
    {
     "name": "stdout",
     "output_type": "stream",
     "text": [
      "{'bruce': 'deadpool', 'clark': 'deadpool', 'peter': 'deadpool', 'logan': 'deadpool', 'wade': 'deadpool'}\n"
     ]
    }
   ],
   "source": [
    "#dict comprehension\n",
    "names = ['bruce', 'clark', 'peter', 'logan', 'wade']\n",
    "heros = ['batman', 'superman', 'spiderman', 'wolverine', 'deadpool']\n",
    "new_dict = {name: hero for name in names for hero in heros}\n",
    "print(new_dict)"
   ]
  },
  {
   "cell_type": "code",
   "execution_count": 21,
   "id": "81c301c1-ebdf-4d61-84d3-cede7e9f9911",
   "metadata": {},
   "outputs": [
    {
     "name": "stdout",
     "output_type": "stream",
     "text": [
      "{'bruce': 'batman', 'clark': 'superman', 'peter': 'spiderman', 'logan': 'wolverine', 'wade': 'deadpool'}\n"
     ]
    }
   ],
   "source": [
    "#dict comprehension another way\n",
    "names = ['bruce', 'clark', 'peter', 'logan', 'wade']\n",
    "heros = ['batman', 'superman', 'spiderman', 'wolverine', 'deadpool']\n",
    "zip(names, heros)\n",
    "new_dict = {name: hero for name, hero in zip(names, heros)}\n",
    "print(new_dict)"
   ]
  },
  {
   "cell_type": "code",
   "execution_count": 22,
   "id": "49259d0a-5892-40f1-b073-6efeac13085a",
   "metadata": {},
   "outputs": [
    {
     "name": "stdout",
     "output_type": "stream",
     "text": [
      "{'bruce': 'batman', 'clark': 'superman', 'logan': 'wolverine', 'wade': 'deadpool'}\n"
     ]
    }
   ],
   "source": [
    "#conditional dict comprehension \n",
    "#return dictionary without peter\n",
    "names = ['bruce', 'clark', 'peter', 'logan', 'wade']\n",
    "heros = ['batman', 'superman', 'spiderman', 'wolverine', 'deadpool']\n",
    "zip(names, heros)\n",
    "new_dict = {name: hero for name, hero in zip(names, heros) if name != 'peter'}\n",
    "print(new_dict)"
   ]
  },
  {
   "cell_type": "code",
   "execution_count": 24,
   "id": "070ad2a6-60bc-4c93-bc0d-df28bfdad675",
   "metadata": {},
   "outputs": [
    {
     "name": "stdout",
     "output_type": "stream",
     "text": [
      "{1, 2, 3, 4, 5, 6, 7, 8, 9}\n"
     ]
    }
   ],
   "source": [
    "#create a set\n",
    "nums = [1,1,2,1,3,4,3,4,5,5,6,7,8,7,9,9]\n",
    "my_set = set()\n",
    "for n in nums:\n",
    "    my_set.add(n)\n",
    "print(my_set)\n",
    "#remember sets don't have duplicate variables"
   ]
  },
  {
   "cell_type": "code",
   "execution_count": 30,
   "id": "a7b76353-381c-414e-ad0a-5e1297214d30",
   "metadata": {},
   "outputs": [
    {
     "name": "stdout",
     "output_type": "stream",
     "text": [
      "{1, 2, 3, 4, 5, 6, 7, 8, 9}\n"
     ]
    }
   ],
   "source": [
    "#set comprehension\n",
    "nums = [1,1,2,1,3,4,3,4,5,5,6,7,8,7,9,9]\n",
    "set_num = {n for n in nums}\n",
    "print(set_num)"
   ]
  },
  {
   "cell_type": "code",
   "execution_count": null,
   "id": "699f4eed-0169-4c83-b0ca-5b6e60fb92dd",
   "metadata": {},
   "outputs": [],
   "source": [
    "#In the function read_large_file(), read a line from file_object by using the method readline(). Assign the result to data.\n",
    "#In the function read_large_file(), yield the line read from the file data.\n",
    "#In the context manager, create a generator object gen_file by calling your generator function read_large_file() \n",
    "#and passing file to it.\n",
    "#Print the first three lines produced by the generator object gen_file using next().\n",
    "\n",
    "# Define read_large_file()\n",
    "def read_large_file(file_object):\n",
    "    \"\"\"A generator function to read a large file lazily.\"\"\"\n",
    "\n",
    "    # Loop indefinitely until the end of the file\n",
    "    while True:\n",
    "\n",
    "        # Read a line from the file: data\n",
    "        data = file_object.readline()\n",
    "\n",
    "        # Break if this is the end of the file\n",
    "        if not data:\n",
    "            break\n",
    "\n",
    "        # Yield the line of data\n",
    "        yield data \n",
    "\n",
    "        \n",
    "# Open a connection to the file\n",
    "with open('world_dev_ind.csv') as file:\n",
    "\n",
    "    # Create a generator object for the file: gen_file\n",
    "    gen_file = read_large_file(file)\n",
    "\n",
    "    # Print the first three lines of the file\n",
    "    print(next(gen_file))\n",
    "    print(next(gen_file))\n",
    "    print(next(gen_file))\n",
    "\n",
    "#correct output: \n",
    "<script.py> output:\n",
    "    #CountryName,CountryCode,IndicatorName,IndicatorCode,Year,Value\n",
    "    \n",
    "    #Arab World,ARB,\"Adolescent fertility rate (births per 1,000 women ages 15-19)\",SP.ADO.TFRT,1960,133.56090740552298\n",
    "    \n",
    "   # Arab World,ARB,Age dependency ratio (% of working-age population),SP.POP.DPND,1960,87.7976011532547\n",
    "    "
   ]
  }
 ],
 "metadata": {
  "kernelspec": {
   "display_name": "Python 3 (ipykernel)",
   "language": "python",
   "name": "python3"
  },
  "language_info": {
   "codemirror_mode": {
    "name": "ipython",
    "version": 3
   },
   "file_extension": ".py",
   "mimetype": "text/x-python",
   "name": "python",
   "nbconvert_exporter": "python",
   "pygments_lexer": "ipython3",
   "version": "3.11.7"
  }
 },
 "nbformat": 4,
 "nbformat_minor": 5
}
