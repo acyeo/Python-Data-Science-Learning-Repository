{
 "cells": [
  {
   "cell_type": "code",
   "execution_count": 1,
   "id": "fd8c5ad7-277c-40c1-af5a-97f187148eed",
   "metadata": {},
   "outputs": [],
   "source": [
    "#list comprehnsion allows you to construct a list in a single line of code. \n",
    "#this is a benefit over making an empty list an having a for loop add 1 by 1 to the empty list"
   ]
  },
  {
   "cell_type": "code",
   "execution_count": 5,
   "id": "4228262a-7f01-450b-add1-b3ee2ea078ab",
   "metadata": {},
   "outputs": [
    {
     "name": "stdout",
     "output_type": "stream",
     "text": [
      "[1, 4, 9, 16, 25, 36, 49, 64, 81, 100, 121, 144, 169, 196, 225, 256, 289, 324, 361, 400, 441, 484, 529, 576, 625, 676, 729, 784, 841, 900, 961, 1024, 1089, 1156, 1225, 1296, 1369, 1444, 1521, 1600, 1681, 1764, 1849, 1936, 2025, 2116, 2209, 2304, 2401, 2500, 2601, 2704, 2809, 2916, 3025, 3136, 3249, 3364, 3481, 3600, 3721, 3844, 3969, 4096, 4225, 4356, 4489, 4624, 4761, 4900, 5041, 5184, 5329, 5476, 5625, 5776, 5929, 6084, 6241, 6400, 6561, 6724, 6889, 7056, 7225, 7396, 7569, 7744, 7921, 8100, 8281, 8464, 8649, 8836, 9025, 9216, 9409, 9604, 9801, 10000]\n"
     ]
    }
   ],
   "source": [
    "#Example of traditional method\n",
    "square = []\n",
    "for i in range(1,101): \n",
    "    square.append(i**2)\n",
    "\n",
    "print(square)"
   ]
  },
  {
   "cell_type": "code",
   "execution_count": 6,
   "id": "af8cd941-63e0-4227-ab77-84a4d1b370d7",
   "metadata": {},
   "outputs": [
    {
     "name": "stdout",
     "output_type": "stream",
     "text": [
      "[1, 4, 9, 16, 25, 36, 49, 64, 81, 100, 121, 144, 169, 196, 225, 256, 289, 324, 361, 400, 441, 484, 529, 576, 625, 676, 729, 784, 841, 900, 961, 1024, 1089, 1156, 1225, 1296, 1369, 1444, 1521, 1600, 1681, 1764, 1849, 1936, 2025, 2116, 2209, 2304, 2401, 2500, 2601, 2704, 2809, 2916, 3025, 3136, 3249, 3364, 3481, 3600, 3721, 3844, 3969, 4096, 4225, 4356, 4489, 4624, 4761, 4900, 5041, 5184, 5329, 5476, 5625, 5776, 5929, 6084, 6241, 6400, 6561, 6724, 6889, 7056, 7225, 7396, 7569, 7744, 7921, 8100, 8281, 8464, 8649, 8836, 9025, 9216, 9409, 9604, 9801, 10000]\n"
     ]
    }
   ],
   "source": [
    "#Example of list comprehension: \n",
    "square2 = [i**2 for i in range(1,101)]\n",
    "#i**2 are the values you wish to create (output expression), and then followed by for clause referring to original dataset\n",
    "print(square2)"
   ]
  },
  {
   "cell_type": "code",
   "execution_count": null,
   "id": "a1613f32-d96c-401c-bef8-f3971ef3d75b",
   "metadata": {},
   "outputs": [],
   "source": [
    "#List comprehension using if clause: \n",
    "#return the list of movies that start w g:\n",
    "#USE .startswith(\"G\")\n",
    "movies_g = [title for title in movies if title.startswith(\"G\")]"
   ]
  },
  {
   "cell_type": "code",
   "execution_count": null,
   "id": "566c637a-6757-4f0d-8a5b-5279627187c0",
   "metadata": {},
   "outputs": [],
   "source": [
    "#Traditional method\n",
    "list = []\n",
    "for title in movies: \n",
    "    if title.startswith(\"G\"): \n",
    "        list.append(title)"
   ]
  },
  {
   "cell_type": "code",
   "execution_count": null,
   "id": "1eaa8e59-3b3b-4d15-903c-22c04cf9aed6",
   "metadata": {},
   "outputs": [],
   "source": [
    "#return a list of movie titles if the movies came out before the year 2000\n",
    "#List comprehension: \n",
    "[title for (title, year) in movies if year < 2000]"
   ]
  },
  {
   "cell_type": "code",
   "execution_count": 11,
   "id": "64a30177-d62f-45d4-9302-93986b8c6ef3",
   "metadata": {},
   "outputs": [
    {
     "name": "stdout",
     "output_type": "stream",
     "text": [
      "[8, -12, 4]\n"
     ]
    }
   ],
   "source": [
    "#how to perform scalar multiplication on a vector\n",
    "#what if we want to multiply each number by 4? \n",
    "v = [2, -3, 1]\n",
    "w = [4*x for x in v]\n",
    "print(w)"
   ]
  },
  {
   "cell_type": "code",
   "execution_count": null,
   "id": "22f59492-a1a6-4558-a6b0-e37884fc76e0",
   "metadata": {},
   "outputs": [],
   "source": [
    "#Cartesian Product using list comprehension\n",
    "#if A and B are sets, then the cartesian product is the set of pairs (a,b)\n",
    "#where 'a' is in A and 'b' is in B. \n",
    "#for example\n",
    "A= {1, 3}\n",
    "B = {x, y}\n",
    "A*B = {(1, x), (1, y), (3, x), (3, y)}"
   ]
  },
  {
   "cell_type": "code",
   "execution_count": 13,
   "id": "2b947cf7-e789-4431-be75-63242e9943f7",
   "metadata": {},
   "outputs": [
    {
     "name": "stdout",
     "output_type": "stream",
     "text": [
      "[(1, 2), (1, 4), (1, 6), (1, 8), (3, 2), (3, 4), (3, 6), (3, 8), (5, 2), (5, 4), (5, 6), (5, 8), (7, 2), (7, 4), (7, 6), (7, 8)]\n"
     ]
    }
   ],
   "source": [
    "#actual example: \n",
    "A = [1, 3, 5, 7]\n",
    "B = [2, 4, 6, 8]\n",
    "cartesian_product = [(a, b) for a in A for b in B]\n",
    "print(cartesian_product)"
   ]
  },
  {
   "cell_type": "code",
   "execution_count": 16,
   "id": "a6844252-1577-457a-b58c-478a3c56aa07",
   "metadata": {},
   "outputs": [
    {
     "name": "stdout",
     "output_type": "stream",
     "text": [
      "[24, 16, 42, 6, 32]\n"
     ]
    }
   ],
   "source": [
    "#example, makes a new list for all values in a list with 2x value. \n",
    "nums = [12, 8, 21, 3, 16]\n",
    "new_nums = [num *2 for num in nums]\n",
    "print(new_nums)"
   ]
  },
  {
   "cell_type": "code",
   "execution_count": 18,
   "id": "6e89c866-47b8-4ee3-9016-cfcaf964822a",
   "metadata": {},
   "outputs": [
    {
     "name": "stdout",
     "output_type": "stream",
     "text": [
      "[(0, 6), (0, 7), (1, 6), (1, 7)]\n"
     ]
    }
   ],
   "source": [
    "#list comprehension for nested loops\n",
    "paris_2 = [(num1, num2) for num1 in range(0, 2) for num2 in range (6, 8)]\n",
    "print(paris_2)"
   ]
  },
  {
   "cell_type": "code",
   "execution_count": 19,
   "id": "51ce3673-344e-40cd-a3aa-4dd33fc3a6c5",
   "metadata": {},
   "outputs": [
    {
     "name": "stdout",
     "output_type": "stream",
     "text": [
      "[0, 1, 2, 3, 4]\n",
      "[0, 1, 2, 3, 4]\n",
      "[0, 1, 2, 3, 4]\n",
      "[0, 1, 2, 3, 4]\n",
      "[0, 1, 2, 3, 4]\n"
     ]
    }
   ],
   "source": [
    "# Create a 5 x 5 matrix using a list of lists: matrix\n",
    "matrix = [[col for col in range(5)] for row in range(0, 5)]\n",
    "\n",
    "# Print the matrix\n",
    "for row in matrix:\n",
    "    print(row)\n"
   ]
  },
  {
   "cell_type": "code",
   "execution_count": null,
   "id": "8c03206d-7a14-4b23-9f22-a6016a61f6e3",
   "metadata": {},
   "outputs": [],
   "source": [
    "#Inspect the contents of row_lists by printing the first two lists in row_lists.\n",
    "#Create a list comprehension that generates a dictionary using lists2dict() for each sublist in row_lists. \n",
    "#The keys are from the feature_names list and the values are the row entries in row_lists. \n",
    "#Use sublist as your iterator variable and assign the resulting list of dictionaries to list_of_dicts.\n",
    "#Look at the first two dictionaries in list_of_dicts by printing them out.\n",
    "\n",
    "# Print the first two lists in row_lists\n",
    "print(row_lists[0])\n",
    "print(row_lists[1])\n",
    "\n",
    "# Turn list of lists into list of dicts: list_of_dicts\n",
    "list_of_dicts = [lists2dict(feature_names, sublist) for sublist in row_lists]\n",
    "\n",
    "# Print the first two dictionaries in list_of_dicts\n",
    "print(list_of_dicts[0])\n",
    "print(list_of_dicts[1])\n",
    "\n",
    "#correct output: \n",
    "#<script.py> output:\n",
    "    #['Arab World', 'ARB', 'Adolescent fertility rate (births per 1,000 women ages 15-19)', 'SP.ADO.TFRT', '1960', '133.56090740552298']\n",
    "    #['Arab World', 'ARB', 'Age dependency ratio (% of working-age population)', 'SP.POP.DPND', '1960', '87.7976011532547']\n",
    "    #{'CountryName': 'Arab World', 'CountryCode': 'ARB', 'IndicatorName': 'Adolescent fertility rate (births per 1,000 women ages 15-19)', 'IndicatorCode': 'SP.ADO.TFRT', 'Year': '1960', 'Value': '133.56090740552298'}\n",
    "    #{'CountryName': 'Arab World', 'CountryCode': 'ARB', 'IndicatorName': 'Age dependency ratio (% of working-age population)', 'IndicatorCode': 'SP.POP.DPND', 'Year': '1960', 'Value': '87.7976011532547'}"
   ]
  },
  {
   "cell_type": "code",
   "execution_count": null,
   "id": "49e8e135-7e5c-4bfa-b7d4-9a7f16829141",
   "metadata": {},
   "outputs": [],
   "source": []
  }
 ],
 "metadata": {
  "kernelspec": {
   "display_name": "Python 3 (ipykernel)",
   "language": "python",
   "name": "python3"
  },
  "language_info": {
   "codemirror_mode": {
    "name": "ipython",
    "version": 3
   },
   "file_extension": ".py",
   "mimetype": "text/x-python",
   "name": "python",
   "nbconvert_exporter": "python",
   "pygments_lexer": "ipython3",
   "version": "3.11.7"
  }
 },
 "nbformat": 4,
 "nbformat_minor": 5
}
