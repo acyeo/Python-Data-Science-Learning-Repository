{
 "cells": [
  {
   "cell_type": "code",
   "execution_count": null,
   "id": "d7d8842e-17de-488a-9225-0d4aeadb2f61",
   "metadata": {},
   "outputs": [],
   "source": [
    "# Import pandas as pd\n",
    "import pandas as pd\n",
    "\n",
    "# Assign the filename: file\n",
    "file = 'titanic.csv'\n",
    "\n",
    "# Read the file into a DataFrame: df\n",
    "df = pd.read_csv(file)\n",
    "\n",
    "# View the head of the DataFrame\n",
    "print(df.head())\n",
    "\n",
    "#correct output:\n",
    "   PassengerId  Survived  Pclass     Sex   Age  ...  Parch            Ticket    Fare  Cabin Embarked\n",
    "0            1         0       3    male  22.0  ...      0         A/5 21171   7.250    NaN        S\n",
    "1            2         1       1  female  38.0  ...      0          PC 17599  71.283    C85        C\n",
    "2            3         1       3  female  26.0  ...      0  STON/O2. 3101282   7.925    NaN        S\n",
    "3            4         1       1  female  35.0  ...      0            113803  53.100   C123        S\n",
    "4            5         0       3    male  35.0  ...      0            373450   8.050    NaN        S\n"
   ]
  },
  {
   "cell_type": "code",
   "execution_count": null,
   "id": "1f0c1621-cee2-422c-950e-dc6edeb313f5",
   "metadata": {},
   "outputs": [],
   "source": [
    "#Import the first 5 rows of the file into a DataFrame using the function pd.read_csv() \n",
    "#and assign the result to data. You'll need to use the arguments nrows and header (there is no header in this file).\n",
    "file = 'digits.csv'\n",
    "data = pd.read_csv(file,nrows=5,header=None)\n",
    "print(data.head())\n",
    "#Build a numpy array from the resulting DataFrame in data and assign to data_array.\n",
    "data_array = data.values\n",
    "#Execute print(type(data_array)) to print the datatype of data_array.\n",
    "print(type(data_array))\n",
    "\n",
    "#correct output:\n",
    "  0    1    2    3    4    ...  780  781  782  783  784\n",
    "0  1.0  0.0  0.0  0.0  0.0  ...  0.0  0.0  0.0  0.0  0.0\n",
    "1  0.0  0.0  0.0  0.0  0.0  ...  0.0  0.0  0.0  0.0  0.0\n",
    "2  1.0  0.0  0.0  0.0  0.0  ...  0.0  0.0  0.0  0.0  0.0\n",
    "3  4.0  0.0  0.0  0.0  0.0  ...  0.0  0.0  0.0  0.0  0.0\n",
    "4  0.0  0.0  0.0  0.0  0.0  ...  0.0  0.0  0.0  0.0  0.0\n",
    "\n",
    "[5 rows x 785 columns]\n",
    "<class 'numpy.ndarray'>"
   ]
  },
  {
   "cell_type": "code",
   "execution_count": null,
   "id": "4786f92c-d23a-4b77-8ffd-d4264b1c9aa7",
   "metadata": {},
   "outputs": [],
   "source": []
  }
 ],
 "metadata": {
  "kernelspec": {
   "display_name": "Python 3 (ipykernel)",
   "language": "python",
   "name": "python3"
  },
  "language_info": {
   "codemirror_mode": {
    "name": "ipython",
    "version": 3
   },
   "file_extension": ".py",
   "mimetype": "text/x-python",
   "name": "python",
   "nbconvert_exporter": "python",
   "pygments_lexer": "ipython3",
   "version": "3.11.7"
  }
 },
 "nbformat": 4,
 "nbformat_minor": 5
}
