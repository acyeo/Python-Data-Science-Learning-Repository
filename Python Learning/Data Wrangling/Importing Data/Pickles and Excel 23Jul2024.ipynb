{
 "cells": [
  {
   "cell_type": "code",
   "execution_count": null,
   "id": "f8b5a2a8-b837-4574-a06e-ba8e6dd76fc5",
   "metadata": {},
   "outputs": [],
   "source": [
    "# Import pickle package\n",
    "import pickle\n",
    "\n",
    "# Open pickle file and load data: d\n",
    "with open('data.pkl', 'rb') as file:\n",
    "    d = pickle.load(file)\n",
    "\n",
    "# Print d\n",
    "print(d)\n",
    "\n",
    "# Print datatype of d\n",
    "print(type(d))\n",
    "\n",
    "#correct output:\n",
    "{'June': '69.4', 'Aug': '85', 'Airline': '8', 'Mar': '84.4'}\n",
    "<class 'dict'>"
   ]
  },
  {
   "cell_type": "code",
   "execution_count": null,
   "id": "ce03f06f-8df4-4a1f-b89c-237a30c1f06c",
   "metadata": {},
   "outputs": [],
   "source": [
    "# Import pandas\n",
    "import pandas as pd\n",
    "\n",
    "# Assign spreadsheet filename: file\n",
    "file = 'battledeath.xlsx'\n",
    "\n",
    "# Load spreadsheet: xls\n",
    "xls = pd.ExcelFile(file)\n",
    "\n",
    "# Print sheet names\n",
    "print(xls.sheet_names)\n",
    "\n",
    "#correct output:\n",
    "['2002', '2004']"
   ]
  },
  {
   "cell_type": "code",
   "execution_count": null,
   "id": "cc83011d-48e8-478a-81db-a039c6429d2f",
   "metadata": {},
   "outputs": [],
   "source": [
    "# Load a sheet into a DataFrame by name: df1\n",
    "df1 = xls.parse('2004')\n",
    "\n",
    "# Print the head of the DataFrame df1\n",
    "print(df1.head())\n",
    "\n",
    "# Load a sheet into a DataFrame by index: df2\n",
    "df2=xls.parse(0)\n",
    "\n",
    "# Print the head of the DataFrame df2\n",
    "print(df2.head())\n",
    "\n",
    "#correct Output:\n",
    "   War(country)   2004\n",
    "    0  Afghanistan  9.451\n",
    "    1      Albania  0.130\n",
    "    2      Algeria  3.407\n",
    "    3      Andorra  0.000\n",
    "    4       Angola  2.598\n",
    "\n",
    "      War, age-adjusted mortality due to    2002\n",
    "    0                        Afghanistan  36.084\n",
    "    1                            Albania   0.129\n",
    "    2                            Algeria  18.314\n",
    "    3                            Andorra   0.000\n",
    "    4                             Angola  18.965"
   ]
  },
  {
   "cell_type": "code",
   "execution_count": null,
   "id": "3470e754-c75a-4695-aaec-828395ddb6a4",
   "metadata": {},
   "outputs": [],
   "source": [
    "#Parse the first sheet by index. In doing so, skip the first row of data and name the columns 'Country' \n",
    "#and 'AAM due to War (2002)' using the argument names. \n",
    "#The values passed to skiprows and names all need to be of type list.\n",
    "df1 = xls.parse(0, skiprows=[0], names=['Country', 'AAM due to War (2002)'])\n",
    "print(df1.head())\n",
    "\n",
    "#correct output:\n",
    "                 Country  AAM due to War (2002)\n",
    "    0              Albania                  0.129\n",
    "    1              Algeria                 18.314\n",
    "    2              Andorra                  0.000\n",
    "    3               Angola                 18.965\n",
    "    4  Antigua and Barbuda                  0.000"
   ]
  },
  {
   "cell_type": "code",
   "execution_count": null,
   "id": "5a51b55b-591c-442b-8919-80753caca8aa",
   "metadata": {},
   "outputs": [],
   "source": [
    "#Parse the second sheet by index. In doing so, parse only the first column with the usecols parameter, \n",
    "#skip the first row and rename the column 'Country'. \n",
    "#The argument passed to usecols also needs to be of type list.\n",
    "df2 = xls.parse(1, usecols=[0], skiprows=[0], names=['Country'])\n",
    "print(df2.head())\n",
    "\n",
    "#correct output:\n",
    "                  Country\n",
    "    0              Albania\n",
    "    1              Algeria\n",
    "    2              Andorra\n",
    "    3               Angola\n",
    "    4  Antigua and Barbuda"
   ]
  }
 ],
 "metadata": {
  "kernelspec": {
   "display_name": "Python 3 (ipykernel)",
   "language": "python",
   "name": "python3"
  },
  "language_info": {
   "codemirror_mode": {
    "name": "ipython",
    "version": 3
   },
   "file_extension": ".py",
   "mimetype": "text/x-python",
   "name": "python",
   "nbconvert_exporter": "python",
   "pygments_lexer": "ipython3",
   "version": "3.11.7"
  }
 },
 "nbformat": 4,
 "nbformat_minor": 5
}
