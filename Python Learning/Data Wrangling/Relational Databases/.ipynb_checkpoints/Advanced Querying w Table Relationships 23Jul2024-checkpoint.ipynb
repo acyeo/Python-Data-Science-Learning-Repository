{
 "cells": [
  {
   "cell_type": "code",
   "execution_count": null,
   "id": "c17717bf-41ab-4169-87b6-6a7b54fef221",
   "metadata": {},
   "outputs": [],
   "source": [
    "# Open engine in context manager\n",
    "# Perform query and save results to DataFrame: df\n",
    "with engine.connect() as con:\n",
    "    rs = con.execute(\"SELECT Title, Name FROM Album INNER JOIN Artist on Album.ArtistID = Artist.ArtistID\")\n",
    "    df = pd.DataFrame(rs.fetchall())\n",
    "    df.columns = rs.keys()\n",
    "\n",
    "# Print head of DataFrame df\n",
    "print(df.head())\n",
    "\n",
    "#correct output:\n",
    "                                   Title       Name\n",
    "0  For Those About To Rock We Salute You      AC/DC\n",
    "1                      Balls to the Wall     Accept\n",
    "2                      Restless and Wild     Accept\n",
    "3                      Let There Be Rock      AC/DC\n",
    "4                               Big Ones  Aerosmith"
   ]
  },
  {
   "cell_type": "code",
   "execution_count": null,
   "id": "e5a05ad7-296c-4968-acc0-6a114dd1c727",
   "metadata": {},
   "outputs": [],
   "source": [
    "# Execute uery: select all records from PlaylistTrack INNER JOIN Track on \n",
    "#PlaylistTrack.TrackId = Track.TrackId that satisfy the condition Milliseconds < 250000. and store records in DataFrame: df\n",
    "df = pd.read_sql_query(\"SELECT * FROM PlaylistTrack INNER JOIN Track on PlaylistTrack.TrackId = Track.TrackId WHERE Milliseconds < 250000\", engine)\n",
    "\n",
    "# Print head of DataFrame\n",
    "print(df.head())\n",
    "\n",
    "#correct output: \n",
    "       PlaylistId  TrackId  TrackId              Name  AlbumId  ...  GenreId  Composer Milliseconds    Bytes  UnitPrice\n",
    "    0           1     3390     3390  One and the Same      271  ...       23      None       217732  3559040       0.99\n",
    "    1           1     3392     3392     Until We Fall      271  ...       23      None       230758  3766605       0.99\n",
    "    2           1     3393     3393     Original Fire      271  ...       23      None       218916  3577821       0.99\n",
    "    3           1     3394     3394       Broken City      271  ...       23      None       228366  3728955       0.99\n",
    "    4           1     3395     3395          Somedays      271  ...       23      None       213831  3497176       0.99\n",
    "    "
   ]
  }
 ],
 "metadata": {
  "kernelspec": {
   "display_name": "Python 3 (ipykernel)",
   "language": "python",
   "name": "python3"
  },
  "language_info": {
   "codemirror_mode": {
    "name": "ipython",
    "version": 3
   },
   "file_extension": ".py",
   "mimetype": "text/x-python",
   "name": "python",
   "nbconvert_exporter": "python",
   "pygments_lexer": "ipython3",
   "version": "3.11.7"
  }
 },
 "nbformat": 4,
 "nbformat_minor": 5
}
