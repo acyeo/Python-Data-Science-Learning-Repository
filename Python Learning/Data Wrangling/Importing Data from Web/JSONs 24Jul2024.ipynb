{
 "cells": [
  {
   "cell_type": "code",
   "execution_count": null,
   "id": "ade2c657-48ee-44a7-8744-7962eb2dae60",
   "metadata": {},
   "outputs": [],
   "source": [
    "# Load JSON: json_data\n",
    "with open(\"a_movie.json\") as json_file:\n",
    "    json_data = json.load(json_file)\n",
    "\n",
    "# Use a for loop to print all key-value pairs in the dictionary json_data\n",
    "for k in json_data.keys():\n",
    "    print(k + ': ', json_data[k])\n",
    "\n",
    "#correct output: \n",
    "Title:  The Social Network\n",
    "Year:  2010\n",
    "Rated:  PG-13\n",
    "Released:  01 Oct 2010\n",
    "Runtime:  120 min\n",
    "Genre:  Biography, Drama\n",
    "Director:  David Fincher\n",
    "Writer:  Aaron Sorkin, Ben Mezrich\n",
    "Actors:  Jesse Eisenberg, Andrew Garfield, Justin Timberlake\n",
    "Plot:  As Harvard student Mark Zuckerberg creates the social networking site that would become known as Facebook, he is sued by the twins who claimed he stole their idea and by the co-founder who was later squeezed out of the business.\n",
    "Language:  English, French\n",
    "Country:  United States\n",
    "Awards:  Won 3 Oscars. 173 wins & 187 nominations total\n",
    "Poster:  https://m.media-amazon.com/images/M/MV5BOGUyZDUxZjEtMmIzMC00MzlmLTg4MGItZWJmMzBhZjE0Mjc1XkEyXkFqcGdeQXVyMTMxODk2OTU@._V1_SX300.jpg\n",
    "Ratings:  [{'Source': 'Internet Movie Database', 'Value': '7.8/10'}, {'Source': 'Rotten Tomatoes', 'Value': '96%'}, {'Source': 'Metacritic', 'Value': '95/100'}]\n",
    "Metascore:  95\n",
    "imdbRating:  7.8\n",
    "imdbVotes:  765,414\n",
    "imdbID:  tt1285016\n",
    "Type:  movie\n",
    "DVD:  N/A\n",
    "BoxOffice:  $96,962,694\n",
    "Production:  N/A\n",
    "Website:  N/A\n",
    "Response:  True"
   ]
  },
  {
   "cell_type": "code",
   "execution_count": null,
   "id": "4d3c34e5-effa-47da-b0e1-48c13ea80fb5",
   "metadata": {},
   "outputs": [],
   "source": []
  },
  {
   "cell_type": "code",
   "execution_count": null,
   "id": "22560670-82c2-48b6-9eb5-7707f4b975f1",
   "metadata": {},
   "outputs": [],
   "source": []
  }
 ],
 "metadata": {
  "kernelspec": {
   "display_name": "Python 3 (ipykernel)",
   "language": "python",
   "name": "python3"
  },
  "language_info": {
   "codemirror_mode": {
    "name": "ipython",
    "version": 3
   },
   "file_extension": ".py",
   "mimetype": "text/x-python",
   "name": "python",
   "nbconvert_exporter": "python",
   "pygments_lexer": "ipython3",
   "version": "3.11.7"
  }
 },
 "nbformat": 4,
 "nbformat_minor": 5
}
