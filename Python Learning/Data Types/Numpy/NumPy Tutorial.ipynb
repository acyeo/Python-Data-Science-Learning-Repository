{
 "cells": [
  {
   "cell_type": "code",
   "execution_count": 1,
   "id": "c535cfcb-c7fb-47f1-82ec-c140c87bad8e",
   "metadata": {},
   "outputs": [],
   "source": [
    "#NumPy is a python libray allowing working with big and small arrays. \n",
    "#has support for N-dimensional arrays so you can work w arrays w/in an array\n",
    "#Useful for working w a large majority of data science tools or deep learning libraries like Pandas and Tensorflow \n",
    "#this tutorial covers working with installing NumPy, 1 creating 2 reading 3 updating (mathematical functions) and 4 deleting numpy arrays, and also exporting your work\n"
   ]
  },
  {
   "cell_type": "code",
   "execution_count": 2,
   "id": "1d5d9d16-ed5e-447f-b515-9533856c8de5",
   "metadata": {},
   "outputs": [
    {
     "name": "stdout",
     "output_type": "stream",
     "text": [
      "Requirement already satisfied: numpy in /Users/alexyeo/Documents/temp/anaconda3/lib/python3.11/site-packages (1.26.4)\n"
     ]
    }
   ],
   "source": [
    "#install and importing numpy\n",
    "!pip install numpy"
   ]
  },
  {
   "cell_type": "code",
   "execution_count": 3,
   "id": "5881d459-68f8-4163-a7aa-74a14e673909",
   "metadata": {},
   "outputs": [],
   "source": [
    "#import into notebook \n",
    "import numpy as np"
   ]
  },
  {
   "cell_type": "code",
   "execution_count": 5,
   "id": "33216f93-874c-4b5e-b5ef-2e60443718ae",
   "metadata": {},
   "outputs": [],
   "source": [
    "#Creating some Numpy arrays\n",
    "#randomly generated array\n",
    "data = np.random.rand(2,3,4)\n",
    "#creates an array full of zeroes\n",
    "zeroes = np.zeros((2,2,2))\n",
    "#similar to np.zeros function, but replacing 0 w/ 7's\n",
    "full = np.full ((2,2,2), 7)\n",
    "#similar to zeroes and full, but replacing values w 1's\n",
    "ones = np.ones((2,2,2))\n"
   ]
  },
  {
   "cell_type": "code",
   "execution_count": 12,
   "id": "9172b3e7-5a88-4759-a0c0-a3c1e97c8267",
   "metadata": {},
   "outputs": [
    {
     "data": {
      "text/plain": [
       "array([[[0.62012261, 0.77687687, 0.64400784, 0.60555457],\n",
       "        [0.52998648, 0.54962063, 0.5327671 , 0.4167441 ],\n",
       "        [0.14924644, 0.96335667, 0.07417496, 0.02528755]],\n",
       "\n",
       "       [[0.67731824, 0.23021081, 0.12848109, 0.97655006],\n",
       "        [0.40597107, 0.70145499, 0.47667462, 0.61036087],\n",
       "        [0.24900544, 0.09489444, 0.13129735, 0.35360268]]])"
      ]
     },
     "execution_count": 12,
     "metadata": {},
     "output_type": "execute_result"
    }
   ],
   "source": [
    "data"
   ]
  },
  {
   "cell_type": "code",
   "execution_count": 16,
   "id": "7f3085e0-ae01-4cbd-aa9d-66947817dd91",
   "metadata": {},
   "outputs": [
    {
     "data": {
      "text/plain": [
       "array([[[0., 0.],\n",
       "        [0., 0.]],\n",
       "\n",
       "       [[0., 0.],\n",
       "        [0., 0.]]])"
      ]
     },
     "execution_count": 16,
     "metadata": {},
     "output_type": "execute_result"
    }
   ],
   "source": [
    "zeroes = np.zeros((2,2,2))\n",
    "zeroes"
   ]
  },
  {
   "cell_type": "code",
   "execution_count": 19,
   "id": "10744338-93f9-4968-b35a-bc7f5a07c6dc",
   "metadata": {},
   "outputs": [
    {
     "data": {
      "text/plain": [
       "array([[[7, 7],\n",
       "        [7, 7]],\n",
       "\n",
       "       [[7, 7],\n",
       "        [7, 7]]])"
      ]
     },
     "execution_count": 19,
     "metadata": {},
     "output_type": "execute_result"
    }
   ],
   "source": [
    "full = np.full ((2,2,2), 7)\n",
    "full"
   ]
  },
  {
   "cell_type": "code",
   "execution_count": 21,
   "id": "1614ae88-9184-40cb-8160-5d476fe025be",
   "metadata": {},
   "outputs": [
    {
     "data": {
      "text/plain": [
       "array([[[1., 1.],\n",
       "        [1., 1.]],\n",
       "\n",
       "       [[1., 1.],\n",
       "        [1., 1.]]])"
      ]
     },
     "execution_count": 21,
     "metadata": {},
     "output_type": "execute_result"
    }
   ],
   "source": [
    "ones = np.ones((2,2,2))\n",
    "ones\n"
   ]
  },
  {
   "cell_type": "code",
   "execution_count": 22,
   "id": "70a22980-b271-4bd3-ae1a-3b0d18887769",
   "metadata": {},
   "outputs": [],
   "source": [
    "#Reading Arrays\n",
    "#3 different attributes\n",
    "shape = data.shape\n",
    "size = data.size\n",
    "types = data.dtype"
   ]
  },
  {
   "cell_type": "code",
   "execution_count": 23,
   "id": "1a56a375-1b83-4680-bad7-27b73570be8f",
   "metadata": {},
   "outputs": [
    {
     "data": {
      "text/plain": [
       "(2, 3, 4)"
      ]
     },
     "execution_count": 23,
     "metadata": {},
     "output_type": "execute_result"
    }
   ],
   "source": [
    "#shape of array\n",
    "#refer to data array above for accessing shapes 2 (2 different arrays), 3 (arrays ), 4 (number of values)\n",
    "shape"
   ]
  },
  {
   "cell_type": "code",
   "execution_count": 24,
   "id": "a677ab1b-d6b6-45a4-b587-d8f49fb06101",
   "metadata": {},
   "outputs": [
    {
     "data": {
      "text/plain": [
       "24"
      ]
     },
     "execution_count": 24,
     "metadata": {},
     "output_type": "execute_result"
    }
   ],
   "source": [
    "#size of arrays\n",
    "#24 values w/ in the array\n",
    "size"
   ]
  },
  {
   "cell_type": "code",
   "execution_count": 25,
   "id": "5749342b-7c0f-4b33-847c-6b3c805bd6e0",
   "metadata": {},
   "outputs": [
    {
     "data": {
      "text/plain": [
       "dtype('float64')"
      ]
     },
     "execution_count": 25,
     "metadata": {},
     "output_type": "execute_result"
    }
   ],
   "source": [
    "#types of values w/in the arrays\n",
    "types"
   ]
  },
  {
   "cell_type": "code",
   "execution_count": 26,
   "id": "e5a7c11d-e440-4510-ab64-3baad9b9c313",
   "metadata": {},
   "outputs": [],
   "source": [
    "#slicing arrays\n",
    "arr=data[0]\n",
    "slicer = data[0:2]\n",
    "reverse = data[-1]\n",
    "singleval = data [0][0][0]"
   ]
  },
  {
   "cell_type": "code",
   "execution_count": 27,
   "id": "aa41640d-cfb0-49f0-8fa6-6abd920de127",
   "metadata": {},
   "outputs": [
    {
     "data": {
      "text/plain": [
       "array([[0.62012261, 0.77687687, 0.64400784, 0.60555457],\n",
       "       [0.52998648, 0.54962063, 0.5327671 , 0.4167441 ],\n",
       "       [0.14924644, 0.96335667, 0.07417496, 0.02528755]])"
      ]
     },
     "execution_count": 27,
     "metadata": {},
     "output_type": "execute_result"
    }
   ],
   "source": [
    "#will grab first array of 3 values\n",
    "arr"
   ]
  },
  {
   "cell_type": "code",
   "execution_count": 28,
   "id": "29846fe0-e1f7-4269-b164-41841da8091c",
   "metadata": {},
   "outputs": [
    {
     "data": {
      "text/plain": [
       "array([[[0.62012261, 0.77687687, 0.64400784, 0.60555457],\n",
       "        [0.52998648, 0.54962063, 0.5327671 , 0.4167441 ],\n",
       "        [0.14924644, 0.96335667, 0.07417496, 0.02528755]],\n",
       "\n",
       "       [[0.67731824, 0.23021081, 0.12848109, 0.97655006],\n",
       "        [0.40597107, 0.70145499, 0.47667462, 0.61036087],\n",
       "        [0.24900544, 0.09489444, 0.13129735, 0.35360268]]])"
      ]
     },
     "execution_count": 28,
     "metadata": {},
     "output_type": "execute_result"
    }
   ],
   "source": [
    "#slicer to grab multiple values. this grabs the first and 2nd\n",
    "slicer"
   ]
  },
  {
   "cell_type": "code",
   "execution_count": 29,
   "id": "5502eeee-e0b6-4745-b35c-3d0f498271a7",
   "metadata": {},
   "outputs": [
    {
     "data": {
      "text/plain": [
       "array([[0.62012261, 0.77687687, 0.64400784, 0.60555457],\n",
       "       [0.52998648, 0.54962063, 0.5327671 , 0.4167441 ]])"
      ]
     },
     "execution_count": 29,
     "metadata": {},
     "output_type": "execute_result"
    }
   ],
   "source": [
    "#this grabs the first array and the first two arrays w/ in the first array\n",
    "slicer = data[0][0:2]\n",
    "slicer"
   ]
  },
  {
   "cell_type": "code",
   "execution_count": 30,
   "id": "a8b3cfa5-9ad0-4668-958a-330a4ff250d4",
   "metadata": {},
   "outputs": [
    {
     "data": {
      "text/plain": [
       "array([[0.67731824, 0.23021081, 0.12848109, 0.97655006],\n",
       "       [0.40597107, 0.70145499, 0.47667462, 0.61036087],\n",
       "       [0.24900544, 0.09489444, 0.13129735, 0.35360268]])"
      ]
     },
     "execution_count": 30,
     "metadata": {},
     "output_type": "execute_result"
    }
   ],
   "source": [
    "#grabbing the last value or this grabs the last arrays\n",
    "reverse"
   ]
  },
  {
   "cell_type": "code",
   "execution_count": 32,
   "id": "4164e2db-db33-4c1f-8aa4-584ba5747d07",
   "metadata": {},
   "outputs": [
    {
     "data": {
      "text/plain": [
       "0.6201226075473506"
      ]
     },
     "execution_count": 32,
     "metadata": {},
     "output_type": "execute_result"
    }
   ],
   "source": [
    "#grabbing a single value w/ in 1st array, first array within the 1st array, and the 1st value\n",
    "singleval"
   ]
  },
  {
   "cell_type": "code",
   "execution_count": 34,
   "id": "e5f44d39-70dd-4b07-ab64-83d2a0136848",
   "metadata": {},
   "outputs": [
    {
     "data": {
      "text/plain": [
       "array([[[0.62012261, 0.77687687, 0.64400784, 0.60555457],\n",
       "        [0.52998648, 0.54962063, 0.5327671 , 0.4167441 ],\n",
       "        [0.14924644, 0.96335667, 0.07417496, 0.02528755]],\n",
       "\n",
       "       [[0.67731824, 0.23021081, 0.12848109, 0.97655006],\n",
       "        [0.40597107, 0.70145499, 0.47667462, 0.61036087],\n",
       "        [0.24900544, 0.09489444, 0.13129735, 0.35360268]]])"
      ]
     },
     "execution_count": 34,
     "metadata": {},
     "output_type": "execute_result"
    }
   ],
   "source": [
    "data"
   ]
  },
  {
   "cell_type": "code",
   "execution_count": 36,
   "id": "16cc3ad7-3099-484b-a4e9-e246e37ffe3e",
   "metadata": {},
   "outputs": [],
   "source": [
    "#Updating Arrays\n",
    "lists1 = np.random.rand(10)\n",
    "lists2 = np.random.rand(10)"
   ]
  },
  {
   "cell_type": "code",
   "execution_count": 40,
   "id": "d7e7b36f-e343-409f-8bfb-b4cd5a119588",
   "metadata": {},
   "outputs": [
    {
     "data": {
      "text/plain": [
       "array([0.85596845, 0.70309847, 0.86083656, 0.12503127, 0.17332468,\n",
       "       0.13742207, 0.75737299, 0.66966071, 0.77441713, 0.42601816])"
      ]
     },
     "execution_count": 40,
     "metadata": {},
     "output_type": "execute_result"
    }
   ],
   "source": [
    "#Has 10 values in a single array\n",
    "lists1"
   ]
  },
  {
   "cell_type": "code",
   "execution_count": 43,
   "id": "69cbff59-e8ca-431c-b3d0-23861a0c27b1",
   "metadata": {},
   "outputs": [],
   "source": [
    "#basic math\n",
    "add = np.add(lists1, lists2)\n",
    "sub = np.subtract(lists1, lists2)\n",
    "div = np.divide(lists1, lists2)\n",
    "mult = np.multiply(lists1, lists2)\n",
    "dot = np.dot(lists1, lists2)"
   ]
  },
  {
   "cell_type": "code",
   "execution_count": 41,
   "id": "ed39f11a-9195-4ed2-acd4-04ede0cd6a03",
   "metadata": {},
   "outputs": [
    {
     "data": {
      "text/plain": [
       "array([0.65015647, 0.89723261, 0.42051528, 0.15886555, 0.53724573,\n",
       "       0.33858104, 0.71486604, 0.38885572, 0.68759924, 0.11097323])"
      ]
     },
     "execution_count": 41,
     "metadata": {},
     "output_type": "execute_result"
    }
   ],
   "source": [
    "lists2"
   ]
  },
  {
   "cell_type": "code",
   "execution_count": 42,
   "id": "46fa0094-40c3-4058-8a93-3fceff039b7f",
   "metadata": {},
   "outputs": [
    {
     "data": {
      "text/plain": [
       "array([1.50612492, 1.60033108, 1.28135184, 0.28389682, 0.71057041,\n",
       "       0.47600311, 1.47223903, 1.05851643, 1.46201636, 0.53699139])"
      ]
     },
     "execution_count": 42,
     "metadata": {},
     "output_type": "execute_result"
    }
   ],
   "source": [
    "add"
   ]
  },
  {
   "cell_type": "code",
   "execution_count": 44,
   "id": "8623bff9-aead-4706-84e0-3158e3111a84",
   "metadata": {},
   "outputs": [
    {
     "data": {
      "text/plain": [
       "array([ 0.20581198, -0.19413414,  0.44032128, -0.03383428, -0.36392105,\n",
       "       -0.20115897,  0.04250695,  0.28080499,  0.08681789,  0.31504493])"
      ]
     },
     "execution_count": 44,
     "metadata": {},
     "output_type": "execute_result"
    }
   ],
   "source": [
    "sub"
   ]
  },
  {
   "cell_type": "code",
   "execution_count": 45,
   "id": "a9494efc-c93c-44cb-aba3-9c610b60aba4",
   "metadata": {},
   "outputs": [
    {
     "data": {
      "text/plain": [
       "array([1.31655762, 0.78363009, 2.04709937, 0.78702568, 0.32261713,\n",
       "       0.40587645, 1.05946142, 1.72213157, 1.12626235, 3.83892724])"
      ]
     },
     "execution_count": 45,
     "metadata": {},
     "output_type": "execute_result"
    }
   ],
   "source": [
    "div"
   ]
  },
  {
   "cell_type": "code",
   "execution_count": 46,
   "id": "328bdefa-109a-4885-b8db-7ffcea0acf43",
   "metadata": {},
   "outputs": [
    {
     "data": {
      "text/plain": [
       "array([0.55651343, 0.63084287, 0.36199493, 0.01986316, 0.09311794,\n",
       "       0.04652851, 0.54142023, 0.2604014 , 0.53248863, 0.04727661])"
      ]
     },
     "execution_count": 46,
     "metadata": {},
     "output_type": "execute_result"
    }
   ],
   "source": [
    "mult"
   ]
  },
  {
   "cell_type": "code",
   "execution_count": 47,
   "id": "add020b0-7eba-4266-85e6-8c1d85444342",
   "metadata": {
    "scrolled": true
   },
   "outputs": [
    {
     "data": {
      "text/plain": [
       "3.090447700449392"
      ]
     },
     "execution_count": 47,
     "metadata": {},
     "output_type": "execute_result"
    }
   ],
   "source": [
    "#multiplies every value together and aggregates them into a single result\n",
    "dot"
   ]
  },
  {
   "cell_type": "code",
   "execution_count": 49,
   "id": "7918b020-aef0-4cc7-a51c-fc18a13ee8dc",
   "metadata": {},
   "outputs": [],
   "source": [
    "#statistical functions using np\n",
    "sqrt = np.sqrt(25)\n",
    "ab = np.abs(-2)\n",
    "power = np.power(2,7)\n",
    "log = np.log(25)\n",
    "exp = np.exp([2,3])\n",
    "mins = np.min(lists1)\n",
    "maxs = np.max(lists1)"
   ]
  },
  {
   "cell_type": "code",
   "execution_count": null,
   "id": "fa933e35-cab5-42a7-a4ac-687fd975b9e7",
   "metadata": {},
   "outputs": [],
   "source": [
    "#Remember SAPLEMM for all stat functions (above)"
   ]
  },
  {
   "cell_type": "code",
   "execution_count": 50,
   "id": "041102c7-615b-4f2b-831f-80a468db7caf",
   "metadata": {},
   "outputs": [
    {
     "data": {
      "text/plain": [
       "5.0"
      ]
     },
     "execution_count": 50,
     "metadata": {},
     "output_type": "execute_result"
    }
   ],
   "source": [
    "#square root of 25\n",
    "sqrt"
   ]
  },
  {
   "cell_type": "code",
   "execution_count": 51,
   "id": "25e3aefb-6b4b-4027-9b30-4d04337da44d",
   "metadata": {},
   "outputs": [
    {
     "data": {
      "text/plain": [
       "2"
      ]
     },
     "execution_count": 51,
     "metadata": {},
     "output_type": "execute_result"
    }
   ],
   "source": [
    "#getting absolute value of -2\n",
    "ab"
   ]
  },
  {
   "cell_type": "code",
   "execution_count": 53,
   "id": "72a6d9c2-dba8-4b30-8c9e-149e72ab38fa",
   "metadata": {},
   "outputs": [
    {
     "data": {
      "text/plain": [
       "128"
      ]
     },
     "execution_count": 53,
     "metadata": {},
     "output_type": "execute_result"
    }
   ],
   "source": [
    "#calculating power, for example 2 to the power of 7\n",
    "power"
   ]
  },
  {
   "cell_type": "code",
   "execution_count": 54,
   "id": "354d0b51-4b44-44b3-b4ee-75edaeeee3e3",
   "metadata": {},
   "outputs": [
    {
     "data": {
      "text/plain": [
       "3.2188758248682006"
      ]
     },
     "execution_count": 54,
     "metadata": {},
     "output_type": "execute_result"
    }
   ],
   "source": [
    "#calculating the log of 25\n",
    "log"
   ]
  },
  {
   "cell_type": "code",
   "execution_count": 56,
   "id": "336d5a5e-95a3-4eea-9679-173dd307e115",
   "metadata": {},
   "outputs": [
    {
     "data": {
      "text/plain": [
       "[2, 3]"
      ]
     },
     "execution_count": 56,
     "metadata": {},
     "output_type": "execute_result"
    }
   ],
   "source": [
    "#creating exponential\n",
    "exp"
   ]
  },
  {
   "cell_type": "code",
   "execution_count": 58,
   "id": "d9af7e8a-f382-40d0-8e88-631f25b637ce",
   "metadata": {},
   "outputs": [
    {
     "data": {
      "text/plain": [
       "<function min>"
      ]
     },
     "execution_count": 58,
     "metadata": {},
     "output_type": "execute_result"
    }
   ],
   "source": [
    "#min and max of lists1\n",
    "min"
   ]
  },
  {
   "cell_type": "code",
   "execution_count": 61,
   "id": "564dda59-2391-47d4-80a5-d8ad66d36795",
   "metadata": {},
   "outputs": [],
   "source": [
    "lists1 = np.random.rand(10)\n",
    "lists2 = np.random.rand(10)"
   ]
  },
  {
   "cell_type": "code",
   "execution_count": 62,
   "id": "22ba00c1-dd23-499b-8a71-5432d22ca164",
   "metadata": {},
   "outputs": [],
   "source": [
    "#min and max of lists1\n",
    "mins = np.min(lists1)\n",
    "maxs = np.max(lists1)"
   ]
  },
  {
   "cell_type": "code",
   "execution_count": 63,
   "id": "5f14c0c0-dde1-4eda-9129-534f9d6c8c01",
   "metadata": {},
   "outputs": [
    {
     "data": {
      "text/plain": [
       "0.18591015114277631"
      ]
     },
     "execution_count": 63,
     "metadata": {},
     "output_type": "execute_result"
    }
   ],
   "source": [
    "mins"
   ]
  },
  {
   "cell_type": "code",
   "execution_count": 65,
   "id": "7a912826-d8cd-4317-a0f9-fa28330db46d",
   "metadata": {},
   "outputs": [
    {
     "data": {
      "text/plain": [
       "0.7368173836704046"
      ]
     },
     "execution_count": 65,
     "metadata": {},
     "output_type": "execute_result"
    }
   ],
   "source": [
    "maxs"
   ]
  },
  {
   "cell_type": "code",
   "execution_count": 66,
   "id": "ac12a35c-9224-4bff-85f2-33eafb167211",
   "metadata": {},
   "outputs": [
    {
     "data": {
      "text/plain": [
       "array([0.71521771, 0.38034958, 0.53767042, 0.60745282, 0.51143208,\n",
       "       0.65214961, 0.73681738, 0.18591015, 0.66628255, 0.56895985])"
      ]
     },
     "execution_count": 66,
     "metadata": {},
     "output_type": "execute_result"
    }
   ],
   "source": [
    "lists1"
   ]
  },
  {
   "cell_type": "code",
   "execution_count": 67,
   "id": "e6b3b1b3-bbc9-4c77-8d5f-0b176db67fa8",
   "metadata": {},
   "outputs": [
    {
     "data": {
      "text/plain": [
       "array([[[0.62012261, 0.77687687, 0.64400784, 0.60555457],\n",
       "        [0.52998648, 0.54962063, 0.5327671 , 0.4167441 ],\n",
       "        [0.14924644, 0.96335667, 0.07417496, 0.02528755]],\n",
       "\n",
       "       [[0.67731824, 0.23021081, 0.12848109, 0.97655006],\n",
       "        [0.40597107, 0.70145499, 0.47667462, 0.61036087],\n",
       "        [0.24900544, 0.09489444, 0.13129735, 0.35360268]]])"
      ]
     },
     "execution_count": 67,
     "metadata": {},
     "output_type": "execute_result"
    }
   ],
   "source": [
    "data"
   ]
  },
  {
   "cell_type": "code",
   "execution_count": 68,
   "id": "f0d06951-3e2c-497e-9edb-8b17beecc27d",
   "metadata": {},
   "outputs": [],
   "source": [
    "#replace the very first value, in the first array, and the first array w/in that array \n",
    "data[0][0][0] = 700"
   ]
  },
  {
   "cell_type": "code",
   "execution_count": 69,
   "id": "7f0365b8-77c4-4f85-89ba-e7d03e8dde39",
   "metadata": {
    "scrolled": true
   },
   "outputs": [
    {
     "data": {
      "text/plain": [
       "array([[[7.00000000e+02, 7.76876873e-01, 6.44007836e-01, 6.05554570e-01],\n",
       "        [5.29986479e-01, 5.49620633e-01, 5.32767100e-01, 4.16744101e-01],\n",
       "        [1.49246436e-01, 9.63356673e-01, 7.41749598e-02, 2.52875470e-02]],\n",
       "\n",
       "       [[6.77318238e-01, 2.30210812e-01, 1.28481089e-01, 9.76550061e-01],\n",
       "        [4.05971071e-01, 7.01454994e-01, 4.76674618e-01, 6.10360867e-01],\n",
       "        [2.49005440e-01, 9.48944397e-02, 1.31297351e-01, 3.53602678e-01]]])"
      ]
     },
     "execution_count": 69,
     "metadata": {},
     "output_type": "execute_result"
    }
   ],
   "source": [
    "data"
   ]
  },
  {
   "cell_type": "code",
   "execution_count": 70,
   "id": "653cbc21-69a9-49a4-8202-f64a1a45d539",
   "metadata": {},
   "outputs": [
    {
     "data": {
      "text/plain": [
       "array([[[6.05554570e-01, 6.44007836e-01, 7.76876873e-01, 7.00000000e+02],\n",
       "        [4.16744101e-01, 5.29986479e-01, 5.32767100e-01, 5.49620633e-01],\n",
       "        [2.52875470e-02, 7.41749598e-02, 1.49246436e-01, 9.63356673e-01]],\n",
       "\n",
       "       [[1.28481089e-01, 2.30210812e-01, 6.77318238e-01, 9.76550061e-01],\n",
       "        [4.05971071e-01, 4.76674618e-01, 6.10360867e-01, 7.01454994e-01],\n",
       "        [9.48944397e-02, 1.31297351e-01, 2.49005440e-01, 3.53602678e-01]]])"
      ]
     },
     "execution_count": 70,
     "metadata": {},
     "output_type": "execute_result"
    }
   ],
   "source": [
    "#sorting our data. This sorts our data in each arrays within arrays from smallest to greatest values\n",
    "data.sort()\n",
    "data"
   ]
  },
  {
   "cell_type": "code",
   "execution_count": 71,
   "id": "c699306d-b522-4ec9-8e1d-aaaba8651206",
   "metadata": {},
   "outputs": [
    {
     "name": "stdout",
     "output_type": "stream",
     "text": [
      "(2, 3, 4)\n"
     ]
    }
   ],
   "source": [
    "print(data.shape)"
   ]
  },
  {
   "cell_type": "code",
   "execution_count": 72,
   "id": "6937cc19-2158-4f3d-b01d-eed583be8ed4",
   "metadata": {},
   "outputs": [
    {
     "data": {
      "text/plain": [
       "(2, 2, 6)"
      ]
     },
     "execution_count": 72,
     "metadata": {},
     "output_type": "execute_result"
    }
   ],
   "source": [
    "#reshaping a np array\n",
    "data = data.reshape((2,2,-1))\n",
    "data.shape"
   ]
  },
  {
   "cell_type": "code",
   "execution_count": 73,
   "id": "4aceccd1-6cc2-4cb5-a231-75c90bd038b0",
   "metadata": {},
   "outputs": [
    {
     "data": {
      "text/plain": [
       "array([[[6.05554570e-01, 6.44007836e-01, 7.76876873e-01, 7.00000000e+02,\n",
       "         4.16744101e-01, 5.29986479e-01],\n",
       "        [5.32767100e-01, 5.49620633e-01, 2.52875470e-02, 7.41749598e-02,\n",
       "         1.49246436e-01, 9.63356673e-01]],\n",
       "\n",
       "       [[1.28481089e-01, 2.30210812e-01, 6.77318238e-01, 9.76550061e-01,\n",
       "         4.05971071e-01, 4.76674618e-01],\n",
       "        [6.10360867e-01, 7.01454994e-01, 9.48944397e-02, 1.31297351e-01,\n",
       "         2.49005440e-01, 3.53602678e-01]]])"
      ]
     },
     "execution_count": 73,
     "metadata": {},
     "output_type": "execute_result"
    }
   ],
   "source": [
    "#reshaped our data to 2 arrays per 2 different array. -1 tells us we don't care what the shape of the last value is\n",
    "#so it's automatically calculated that it needs to be 6 values per arrays\n",
    "data"
   ]
  },
  {
   "cell_type": "code",
   "execution_count": null,
   "id": "c0a2d892-3dcb-4528-8781-810419c8558f",
   "metadata": {},
   "outputs": [],
   "source": [
    "#adding(append) or inserting new values working w numpy arrays\n"
   ]
  },
  {
   "cell_type": "code",
   "execution_count": 76,
   "id": "d091415a-74a2-42a5-a63b-36a2e033498c",
   "metadata": {},
   "outputs": [
    {
     "name": "stdout",
     "output_type": "stream",
     "text": [
      "[0. 0. 0. 0. 0. 0. 0. 0.]\n",
      "[0. 0. 0. 0. 0. 0. 0. 0. 3. 4.]\n"
     ]
    }
   ],
   "source": [
    "zeroes = np.zeros((8))\n",
    "print(zeroes)\n",
    "zeroes = np.append(zeroes, [3,4])\n",
    "print (zeroes)"
   ]
  },
  {
   "cell_type": "code",
   "execution_count": 77,
   "id": "28b9bb9c-460a-4ea1-a002-c73140dd2a56",
   "metadata": {},
   "outputs": [
    {
     "name": "stdout",
     "output_type": "stream",
     "text": [
      "[0. 0. 1. 0. 0. 0. 0. 0. 0. 3. 4.]\n"
     ]
    }
   ],
   "source": [
    "#inserting a value at a certain area\n",
    "#we specified we want to insert a value of 1 in index 2 (or 3rd position)\n",
    "zeroes=np.insert (zeroes, 2, 1)\n",
    "print(zeroes)"
   ]
  },
  {
   "cell_type": "code",
   "execution_count": null,
   "id": "53a54620-35e0-4847-a8f3-ec77fd1642af",
   "metadata": {},
   "outputs": [],
   "source": [
    "#deleting a segment of an array and exporting out"
   ]
  },
  {
   "cell_type": "code",
   "execution_count": 78,
   "id": "d63170d1-4e1e-4f6f-b892-8781477269f2",
   "metadata": {},
   "outputs": [
    {
     "data": {
      "text/plain": [
       "array([[[6.05554570e-01, 6.44007836e-01, 7.76876873e-01, 7.00000000e+02,\n",
       "         4.16744101e-01, 5.29986479e-01],\n",
       "        [5.32767100e-01, 5.49620633e-01, 2.52875470e-02, 7.41749598e-02,\n",
       "         1.49246436e-01, 9.63356673e-01]],\n",
       "\n",
       "       [[1.28481089e-01, 2.30210812e-01, 6.77318238e-01, 9.76550061e-01,\n",
       "         4.05971071e-01, 4.76674618e-01],\n",
       "        [6.10360867e-01, 7.01454994e-01, 9.48944397e-02, 1.31297351e-01,\n",
       "         2.49005440e-01, 3.53602678e-01]]])"
      ]
     },
     "execution_count": 78,
     "metadata": {},
     "output_type": "execute_result"
    }
   ],
   "source": [
    "data"
   ]
  },
  {
   "cell_type": "code",
   "execution_count": null,
   "id": "57789122-4d6f-4358-973f-29726ebe03aa",
   "metadata": {},
   "outputs": [],
   "source": [
    "#delete the 1st array in each one of these arrays\n",
    "#the axis=1 shows that we want to delete the row not the column, and 0 represents which array within the array we want to delete"
   ]
  },
  {
   "cell_type": "code",
   "execution_count": 83,
   "id": "cba78fce-0ca8-45c8-b32e-c3ceab791c29",
   "metadata": {},
   "outputs": [],
   "source": [
    "delete = np.delete (data, 0, axis=1)"
   ]
  },
  {
   "cell_type": "code",
   "execution_count": 84,
   "id": "dcfe3155-bf1c-447f-adcc-d42f4d1847ab",
   "metadata": {},
   "outputs": [
    {
     "data": {
      "text/plain": [
       "array([[[0.5327671 , 0.54962063, 0.02528755, 0.07417496, 0.14924644,\n",
       "         0.96335667]],\n",
       "\n",
       "       [[0.61036087, 0.70145499, 0.09489444, 0.13129735, 0.24900544,\n",
       "         0.35360268]]])"
      ]
     },
     "execution_count": 84,
     "metadata": {},
     "output_type": "execute_result"
    }
   ],
   "source": [
    "delete"
   ]
  },
  {
   "cell_type": "code",
   "execution_count": 85,
   "id": "ac2c6e05-1530-4299-a03b-5190aa10a665",
   "metadata": {},
   "outputs": [],
   "source": [
    "#this saves the new array in the same library as the notebook\n",
    "np.save(\"new array\", data)"
   ]
  },
  {
   "cell_type": "code",
   "execution_count": 86,
   "id": "fd874a11-394a-4a4e-8f65-3f2cc6c2fc91",
   "metadata": {},
   "outputs": [],
   "source": [
    "#this loads the array\n",
    "test = np.load(\"new array.npy\")"
   ]
  },
  {
   "cell_type": "code",
   "execution_count": 87,
   "id": "a71818cd-eec1-42b1-a52b-bf58c8d615a2",
   "metadata": {},
   "outputs": [
    {
     "data": {
      "text/plain": [
       "array([[[6.05554570e-01, 6.44007836e-01, 7.76876873e-01, 7.00000000e+02,\n",
       "         4.16744101e-01, 5.29986479e-01],\n",
       "        [5.32767100e-01, 5.49620633e-01, 2.52875470e-02, 7.41749598e-02,\n",
       "         1.49246436e-01, 9.63356673e-01]],\n",
       "\n",
       "       [[1.28481089e-01, 2.30210812e-01, 6.77318238e-01, 9.76550061e-01,\n",
       "         4.05971071e-01, 4.76674618e-01],\n",
       "        [6.10360867e-01, 7.01454994e-01, 9.48944397e-02, 1.31297351e-01,\n",
       "         2.49005440e-01, 3.53602678e-01]]])"
      ]
     },
     "execution_count": 87,
     "metadata": {},
     "output_type": "execute_result"
    }
   ],
   "source": [
    "test"
   ]
  },
  {
   "cell_type": "code",
   "execution_count": 88,
   "id": "e43b34dd-5ad4-4425-afdc-c143877178a8",
   "metadata": {},
   "outputs": [
    {
     "data": {
      "text/plain": [
       "['ALLOW_THREADS',\n",
       " 'BUFSIZE',\n",
       " 'CLIP',\n",
       " 'DataSource',\n",
       " 'ERR_CALL',\n",
       " 'ERR_DEFAULT',\n",
       " 'ERR_IGNORE',\n",
       " 'ERR_LOG',\n",
       " 'ERR_PRINT',\n",
       " 'ERR_RAISE',\n",
       " 'ERR_WARN',\n",
       " 'FLOATING_POINT_SUPPORT',\n",
       " 'FPE_DIVIDEBYZERO',\n",
       " 'FPE_INVALID',\n",
       " 'FPE_OVERFLOW',\n",
       " 'FPE_UNDERFLOW',\n",
       " 'False_',\n",
       " 'Inf',\n",
       " 'Infinity',\n",
       " 'MAXDIMS',\n",
       " 'MAY_SHARE_BOUNDS',\n",
       " 'MAY_SHARE_EXACT',\n",
       " 'NAN',\n",
       " 'NINF',\n",
       " 'NZERO',\n",
       " 'NaN',\n",
       " 'PINF',\n",
       " 'PZERO',\n",
       " 'RAISE',\n",
       " 'RankWarning',\n",
       " 'SHIFT_DIVIDEBYZERO',\n",
       " 'SHIFT_INVALID',\n",
       " 'SHIFT_OVERFLOW',\n",
       " 'SHIFT_UNDERFLOW',\n",
       " 'ScalarType',\n",
       " 'True_',\n",
       " 'UFUNC_BUFSIZE_DEFAULT',\n",
       " 'UFUNC_PYVALS_NAME',\n",
       " 'WRAP',\n",
       " '_CopyMode',\n",
       " '_NoValue',\n",
       " '_UFUNC_API',\n",
       " '__NUMPY_SETUP__',\n",
       " '__all__',\n",
       " '__builtins__',\n",
       " '__cached__',\n",
       " '__config__',\n",
       " '__deprecated_attrs__',\n",
       " '__dir__',\n",
       " '__doc__',\n",
       " '__expired_functions__',\n",
       " '__file__',\n",
       " '__former_attrs__',\n",
       " '__future_scalars__',\n",
       " '__getattr__',\n",
       " '__loader__',\n",
       " '__name__',\n",
       " '__package__',\n",
       " '__path__',\n",
       " '__spec__',\n",
       " '__version__',\n",
       " '_add_newdoc_ufunc',\n",
       " '_builtins',\n",
       " '_distributor_init',\n",
       " '_financial_names',\n",
       " '_get_promotion_state',\n",
       " '_globals',\n",
       " '_int_extended_msg',\n",
       " '_mat',\n",
       " '_no_nep50_warning',\n",
       " '_pyinstaller_hooks_dir',\n",
       " '_pytesttester',\n",
       " '_set_promotion_state',\n",
       " '_specific_msg',\n",
       " '_typing',\n",
       " '_using_numpy2_behavior',\n",
       " '_utils',\n",
       " 'abs',\n",
       " 'absolute',\n",
       " 'add',\n",
       " 'add_docstring',\n",
       " 'add_newdoc',\n",
       " 'add_newdoc_ufunc',\n",
       " 'all',\n",
       " 'allclose',\n",
       " 'alltrue',\n",
       " 'amax',\n",
       " 'amin',\n",
       " 'angle',\n",
       " 'any',\n",
       " 'append',\n",
       " 'apply_along_axis',\n",
       " 'apply_over_axes',\n",
       " 'arange',\n",
       " 'arccos',\n",
       " 'arccosh',\n",
       " 'arcsin',\n",
       " 'arcsinh',\n",
       " 'arctan',\n",
       " 'arctan2',\n",
       " 'arctanh',\n",
       " 'argmax',\n",
       " 'argmin',\n",
       " 'argpartition',\n",
       " 'argsort',\n",
       " 'argwhere',\n",
       " 'around',\n",
       " 'array',\n",
       " 'array2string',\n",
       " 'array_equal',\n",
       " 'array_equiv',\n",
       " 'array_repr',\n",
       " 'array_split',\n",
       " 'array_str',\n",
       " 'asanyarray',\n",
       " 'asarray',\n",
       " 'asarray_chkfinite',\n",
       " 'ascontiguousarray',\n",
       " 'asfarray',\n",
       " 'asfortranarray',\n",
       " 'asmatrix',\n",
       " 'atleast_1d',\n",
       " 'atleast_2d',\n",
       " 'atleast_3d',\n",
       " 'average',\n",
       " 'bartlett',\n",
       " 'base_repr',\n",
       " 'binary_repr',\n",
       " 'bincount',\n",
       " 'bitwise_and',\n",
       " 'bitwise_not',\n",
       " 'bitwise_or',\n",
       " 'bitwise_xor',\n",
       " 'blackman',\n",
       " 'block',\n",
       " 'bmat',\n",
       " 'bool_',\n",
       " 'broadcast',\n",
       " 'broadcast_arrays',\n",
       " 'broadcast_shapes',\n",
       " 'broadcast_to',\n",
       " 'busday_count',\n",
       " 'busday_offset',\n",
       " 'busdaycalendar',\n",
       " 'byte',\n",
       " 'byte_bounds',\n",
       " 'bytes_',\n",
       " 'c_',\n",
       " 'can_cast',\n",
       " 'cast',\n",
       " 'cbrt',\n",
       " 'cdouble',\n",
       " 'ceil',\n",
       " 'cfloat',\n",
       " 'char',\n",
       " 'character',\n",
       " 'chararray',\n",
       " 'choose',\n",
       " 'clip',\n",
       " 'clongdouble',\n",
       " 'clongfloat',\n",
       " 'column_stack',\n",
       " 'common_type',\n",
       " 'compare_chararrays',\n",
       " 'compat',\n",
       " 'complex128',\n",
       " 'complex256',\n",
       " 'complex64',\n",
       " 'complex_',\n",
       " 'complexfloating',\n",
       " 'compress',\n",
       " 'concatenate',\n",
       " 'conj',\n",
       " 'conjugate',\n",
       " 'convolve',\n",
       " 'copy',\n",
       " 'copysign',\n",
       " 'copyto',\n",
       " 'corrcoef',\n",
       " 'correlate',\n",
       " 'cos',\n",
       " 'cosh',\n",
       " 'count_nonzero',\n",
       " 'cov',\n",
       " 'cross',\n",
       " 'csingle',\n",
       " 'ctypeslib',\n",
       " 'cumprod',\n",
       " 'cumproduct',\n",
       " 'cumsum',\n",
       " 'datetime64',\n",
       " 'datetime_as_string',\n",
       " 'datetime_data',\n",
       " 'deg2rad',\n",
       " 'degrees',\n",
       " 'delete',\n",
       " 'deprecate',\n",
       " 'deprecate_with_doc',\n",
       " 'diag',\n",
       " 'diag_indices',\n",
       " 'diag_indices_from',\n",
       " 'diagflat',\n",
       " 'diagonal',\n",
       " 'diff',\n",
       " 'digitize',\n",
       " 'disp',\n",
       " 'divide',\n",
       " 'divmod',\n",
       " 'dot',\n",
       " 'double',\n",
       " 'dsplit',\n",
       " 'dstack',\n",
       " 'dtype',\n",
       " 'dtypes',\n",
       " 'e',\n",
       " 'ediff1d',\n",
       " 'einsum',\n",
       " 'einsum_path',\n",
       " 'emath',\n",
       " 'empty',\n",
       " 'empty_like',\n",
       " 'equal',\n",
       " 'errstate',\n",
       " 'euler_gamma',\n",
       " 'exceptions',\n",
       " 'exp',\n",
       " 'exp2',\n",
       " 'expand_dims',\n",
       " 'expm1',\n",
       " 'extract',\n",
       " 'eye',\n",
       " 'fabs',\n",
       " 'fastCopyAndTranspose',\n",
       " 'fft',\n",
       " 'fill_diagonal',\n",
       " 'find_common_type',\n",
       " 'finfo',\n",
       " 'fix',\n",
       " 'flatiter',\n",
       " 'flatnonzero',\n",
       " 'flexible',\n",
       " 'flip',\n",
       " 'fliplr',\n",
       " 'flipud',\n",
       " 'float128',\n",
       " 'float16',\n",
       " 'float32',\n",
       " 'float64',\n",
       " 'float_',\n",
       " 'float_power',\n",
       " 'floating',\n",
       " 'floor',\n",
       " 'floor_divide',\n",
       " 'fmax',\n",
       " 'fmin',\n",
       " 'fmod',\n",
       " 'format_float_positional',\n",
       " 'format_float_scientific',\n",
       " 'format_parser',\n",
       " 'frexp',\n",
       " 'from_dlpack',\n",
       " 'frombuffer',\n",
       " 'fromfile',\n",
       " 'fromfunction',\n",
       " 'fromiter',\n",
       " 'frompyfunc',\n",
       " 'fromregex',\n",
       " 'fromstring',\n",
       " 'full',\n",
       " 'full_like',\n",
       " 'gcd',\n",
       " 'generic',\n",
       " 'genfromtxt',\n",
       " 'geomspace',\n",
       " 'get_array_wrap',\n",
       " 'get_include',\n",
       " 'get_printoptions',\n",
       " 'getbufsize',\n",
       " 'geterr',\n",
       " 'geterrcall',\n",
       " 'geterrobj',\n",
       " 'gradient',\n",
       " 'greater',\n",
       " 'greater_equal',\n",
       " 'half',\n",
       " 'hamming',\n",
       " 'hanning',\n",
       " 'heaviside',\n",
       " 'histogram',\n",
       " 'histogram2d',\n",
       " 'histogram_bin_edges',\n",
       " 'histogramdd',\n",
       " 'hsplit',\n",
       " 'hstack',\n",
       " 'hypot',\n",
       " 'i0',\n",
       " 'identity',\n",
       " 'iinfo',\n",
       " 'imag',\n",
       " 'in1d',\n",
       " 'index_exp',\n",
       " 'indices',\n",
       " 'inexact',\n",
       " 'inf',\n",
       " 'info',\n",
       " 'infty',\n",
       " 'inner',\n",
       " 'insert',\n",
       " 'int16',\n",
       " 'int32',\n",
       " 'int64',\n",
       " 'int8',\n",
       " 'int_',\n",
       " 'intc',\n",
       " 'integer',\n",
       " 'interp',\n",
       " 'intersect1d',\n",
       " 'intp',\n",
       " 'invert',\n",
       " 'is_busday',\n",
       " 'isclose',\n",
       " 'iscomplex',\n",
       " 'iscomplexobj',\n",
       " 'isfinite',\n",
       " 'isfortran',\n",
       " 'isin',\n",
       " 'isinf',\n",
       " 'isnan',\n",
       " 'isnat',\n",
       " 'isneginf',\n",
       " 'isposinf',\n",
       " 'isreal',\n",
       " 'isrealobj',\n",
       " 'isscalar',\n",
       " 'issctype',\n",
       " 'issubclass_',\n",
       " 'issubdtype',\n",
       " 'issubsctype',\n",
       " 'iterable',\n",
       " 'ix_',\n",
       " 'kaiser',\n",
       " 'kron',\n",
       " 'lcm',\n",
       " 'ldexp',\n",
       " 'left_shift',\n",
       " 'less',\n",
       " 'less_equal',\n",
       " 'lexsort',\n",
       " 'lib',\n",
       " 'linalg',\n",
       " 'linspace',\n",
       " 'little_endian',\n",
       " 'load',\n",
       " 'loadtxt',\n",
       " 'log',\n",
       " 'log10',\n",
       " 'log1p',\n",
       " 'log2',\n",
       " 'logaddexp',\n",
       " 'logaddexp2',\n",
       " 'logical_and',\n",
       " 'logical_not',\n",
       " 'logical_or',\n",
       " 'logical_xor',\n",
       " 'logspace',\n",
       " 'longcomplex',\n",
       " 'longdouble',\n",
       " 'longfloat',\n",
       " 'longlong',\n",
       " 'lookfor',\n",
       " 'ma',\n",
       " 'mask_indices',\n",
       " 'mat',\n",
       " 'matmul',\n",
       " 'matrix',\n",
       " 'max',\n",
       " 'maximum',\n",
       " 'maximum_sctype',\n",
       " 'may_share_memory',\n",
       " 'mean',\n",
       " 'median',\n",
       " 'memmap',\n",
       " 'meshgrid',\n",
       " 'mgrid',\n",
       " 'min',\n",
       " 'min_scalar_type',\n",
       " 'minimum',\n",
       " 'mintypecode',\n",
       " 'mod',\n",
       " 'modf',\n",
       " 'moveaxis',\n",
       " 'msort',\n",
       " 'multiply',\n",
       " 'nan',\n",
       " 'nan_to_num',\n",
       " 'nanargmax',\n",
       " 'nanargmin',\n",
       " 'nancumprod',\n",
       " 'nancumsum',\n",
       " 'nanmax',\n",
       " 'nanmean',\n",
       " 'nanmedian',\n",
       " 'nanmin',\n",
       " 'nanpercentile',\n",
       " 'nanprod',\n",
       " 'nanquantile',\n",
       " 'nanstd',\n",
       " 'nansum',\n",
       " 'nanvar',\n",
       " 'nbytes',\n",
       " 'ndarray',\n",
       " 'ndenumerate',\n",
       " 'ndim',\n",
       " 'ndindex',\n",
       " 'nditer',\n",
       " 'negative',\n",
       " 'nested_iters',\n",
       " 'newaxis',\n",
       " 'nextafter',\n",
       " 'nonzero',\n",
       " 'not_equal',\n",
       " 'numarray',\n",
       " 'number',\n",
       " 'obj2sctype',\n",
       " 'object_',\n",
       " 'ogrid',\n",
       " 'oldnumeric',\n",
       " 'ones',\n",
       " 'ones_like',\n",
       " 'outer',\n",
       " 'packbits',\n",
       " 'pad',\n",
       " 'partition',\n",
       " 'percentile',\n",
       " 'pi',\n",
       " 'piecewise',\n",
       " 'place',\n",
       " 'poly',\n",
       " 'poly1d',\n",
       " 'polyadd',\n",
       " 'polyder',\n",
       " 'polydiv',\n",
       " 'polyfit',\n",
       " 'polyint',\n",
       " 'polymul',\n",
       " 'polynomial',\n",
       " 'polysub',\n",
       " 'polyval',\n",
       " 'positive',\n",
       " 'power',\n",
       " 'printoptions',\n",
       " 'prod',\n",
       " 'product',\n",
       " 'promote_types',\n",
       " 'ptp',\n",
       " 'put',\n",
       " 'put_along_axis',\n",
       " 'putmask',\n",
       " 'quantile',\n",
       " 'r_',\n",
       " 'rad2deg',\n",
       " 'radians',\n",
       " 'random',\n",
       " 'ravel',\n",
       " 'ravel_multi_index',\n",
       " 'real',\n",
       " 'real_if_close',\n",
       " 'rec',\n",
       " 'recarray',\n",
       " 'recfromcsv',\n",
       " 'recfromtxt',\n",
       " 'reciprocal',\n",
       " 'record',\n",
       " 'remainder',\n",
       " 'repeat',\n",
       " 'require',\n",
       " 'reshape',\n",
       " 'resize',\n",
       " 'result_type',\n",
       " 'right_shift',\n",
       " 'rint',\n",
       " 'roll',\n",
       " 'rollaxis',\n",
       " 'roots',\n",
       " 'rot90',\n",
       " 'round',\n",
       " 'round_',\n",
       " 'row_stack',\n",
       " 's_',\n",
       " 'safe_eval',\n",
       " 'save',\n",
       " 'savetxt',\n",
       " 'savez',\n",
       " 'savez_compressed',\n",
       " 'sctype2char',\n",
       " 'sctypeDict',\n",
       " 'sctypes',\n",
       " 'searchsorted',\n",
       " 'select',\n",
       " 'set_numeric_ops',\n",
       " 'set_printoptions',\n",
       " 'set_string_function',\n",
       " 'setbufsize',\n",
       " 'setdiff1d',\n",
       " 'seterr',\n",
       " 'seterrcall',\n",
       " 'seterrobj',\n",
       " 'setxor1d',\n",
       " 'shape',\n",
       " 'shares_memory',\n",
       " 'short',\n",
       " 'show_config',\n",
       " 'show_runtime',\n",
       " 'sign',\n",
       " 'signbit',\n",
       " 'signedinteger',\n",
       " 'sin',\n",
       " 'sinc',\n",
       " 'single',\n",
       " 'singlecomplex',\n",
       " 'sinh',\n",
       " 'size',\n",
       " 'sometrue',\n",
       " 'sort',\n",
       " 'sort_complex',\n",
       " 'source',\n",
       " 'spacing',\n",
       " 'split',\n",
       " 'sqrt',\n",
       " 'square',\n",
       " 'squeeze',\n",
       " 'stack',\n",
       " 'std',\n",
       " 'str_',\n",
       " 'string_',\n",
       " 'subtract',\n",
       " 'sum',\n",
       " 'swapaxes',\n",
       " 'take',\n",
       " 'take_along_axis',\n",
       " 'tan',\n",
       " 'tanh',\n",
       " 'tensordot',\n",
       " 'test',\n",
       " 'testing',\n",
       " 'tile',\n",
       " 'timedelta64',\n",
       " 'trace',\n",
       " 'tracemalloc_domain',\n",
       " 'transpose',\n",
       " 'trapz',\n",
       " 'tri',\n",
       " 'tril',\n",
       " 'tril_indices',\n",
       " 'tril_indices_from',\n",
       " 'trim_zeros',\n",
       " 'triu',\n",
       " 'triu_indices',\n",
       " 'triu_indices_from',\n",
       " 'true_divide',\n",
       " 'trunc',\n",
       " 'typecodes',\n",
       " 'typename',\n",
       " 'ubyte',\n",
       " 'ufunc',\n",
       " 'uint',\n",
       " 'uint16',\n",
       " 'uint32',\n",
       " 'uint64',\n",
       " 'uint8',\n",
       " 'uintc',\n",
       " 'uintp',\n",
       " 'ulonglong',\n",
       " 'unicode_',\n",
       " 'union1d',\n",
       " 'unique',\n",
       " 'unpackbits',\n",
       " 'unravel_index',\n",
       " 'unsignedinteger',\n",
       " 'unwrap',\n",
       " 'ushort',\n",
       " 'vander',\n",
       " 'var',\n",
       " 'vdot',\n",
       " 'vectorize',\n",
       " 'version',\n",
       " 'void',\n",
       " 'vsplit',\n",
       " 'vstack',\n",
       " 'where',\n",
       " 'who',\n",
       " 'zeros',\n",
       " 'zeros_like']"
      ]
     },
     "execution_count": 88,
     "metadata": {},
     "output_type": "execute_result"
    }
   ],
   "source": []
  },
  {
   "cell_type": "code",
   "execution_count": null,
   "id": "1b99d66f-06c7-4a58-9755-43a5c34d2084",
   "metadata": {},
   "outputs": [],
   "source": []
  }
 ],
 "metadata": {
  "kernelspec": {
   "display_name": "Python 3 (ipykernel)",
   "language": "python",
   "name": "python3"
  },
  "language_info": {
   "codemirror_mode": {
    "name": "ipython",
    "version": 3
   },
   "file_extension": ".py",
   "mimetype": "text/x-python",
   "name": "python",
   "nbconvert_exporter": "python",
   "pygments_lexer": "ipython3",
   "version": "3.11.7"
  }
 },
 "nbformat": 4,
 "nbformat_minor": 5
}
