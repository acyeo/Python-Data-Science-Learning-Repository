{
 "cells": [
  {
   "cell_type": "code",
   "execution_count": null,
   "id": "82545f7d-1e76-48be-bbd7-e4bc01a7c193",
   "metadata": {},
   "outputs": [],
   "source": [
    "#creating multiple arrays and multi dimensional arrays and introducing data analysis"
   ]
  },
  {
   "cell_type": "code",
   "execution_count": 1,
   "id": "662bf06d-2508-49ef-9666-0586e4064f3f",
   "metadata": {},
   "outputs": [],
   "source": [
    "import numpy as np"
   ]
  },
  {
   "cell_type": "code",
   "execution_count": 2,
   "id": "0109865c-11b1-400a-add0-e7d4f7850e24",
   "metadata": {},
   "outputs": [
    {
     "name": "stdout",
     "output_type": "stream",
     "text": [
      "Requirement already satisfied: numpy in /Users/alexyeo/Documents/temp/anaconda3/lib/python3.11/site-packages (1.26.4)\n"
     ]
    }
   ],
   "source": [
    "!pip install numpy"
   ]
  },
  {
   "cell_type": "code",
   "execution_count": 3,
   "id": "60f50b38-8774-40c0-b0b7-fdcff693b0bc",
   "metadata": {},
   "outputs": [],
   "source": [
    "#creating a 1D simple array\n",
    "array =np.array([1, 2, 3, 4, 5])"
   ]
  },
  {
   "cell_type": "code",
   "execution_count": 5,
   "id": "aa73774e-854a-43a2-b56b-1f3a8a4a1f78",
   "metadata": {},
   "outputs": [
    {
     "name": "stdout",
     "output_type": "stream",
     "text": [
      "[1 2 3 4 5]\n"
     ]
    }
   ],
   "source": [
    "#arrays don't have commas like lists do!!!\n",
    "print(array)"
   ]
  },
  {
   "cell_type": "code",
   "execution_count": 7,
   "id": "53e0a7a8-11d2-4752-be4b-92c2b8ce843b",
   "metadata": {},
   "outputs": [
    {
     "name": "stdout",
     "output_type": "stream",
     "text": [
      "69696969\n"
     ]
    }
   ],
   "source": [
    "#let's explore the different size dimensions\n",
    "#0 dimensional array\n",
    "zero_dim = np.array(69696969)\n",
    "print(zero_dim)"
   ]
  },
  {
   "cell_type": "code",
   "execution_count": 8,
   "id": "74fd9c08-9a14-401f-a0a4-eebb32b74dcf",
   "metadata": {},
   "outputs": [
    {
     "name": "stdout",
     "output_type": "stream",
     "text": [
      "[1 2 3]\n"
     ]
    }
   ],
   "source": [
    "#1 dimensional array\n",
    "one_dim = np.array([1, 2, 3])\n",
    "print(one_dim)"
   ]
  },
  {
   "cell_type": "code",
   "execution_count": 10,
   "id": "bfda398f-b8dc-4226-918e-af1bc3c31abd",
   "metadata": {},
   "outputs": [
    {
     "name": "stdout",
     "output_type": "stream",
     "text": [
      "[[1 2 3]\n",
      " [4 5 6]]\n"
     ]
    }
   ],
   "source": [
    "#2 dimensional array. Always add in the extra brackets\n",
    "two_dim = np.array([[1, 2, 3], [4, 5, 6]])\n",
    "print(two_dim)"
   ]
  },
  {
   "cell_type": "code",
   "execution_count": 12,
   "id": "67e8187f-bbf7-4fd1-9fc8-2994ec258471",
   "metadata": {},
   "outputs": [
    {
     "name": "stdout",
     "output_type": "stream",
     "text": [
      "[[[ 1  2  3]\n",
      "  [ 4  5  6]]\n",
      "\n",
      " [[ 7  8  9]\n",
      "  [10 11 12]]]\n"
     ]
    }
   ],
   "source": [
    "#3 dimensional array. \n",
    "three_dim = np.array([[[1, 2, 3], [4, 5 ,6]], [[7, 8, 9], [10, 11, 12]]])\n",
    "print(three_dim)"
   ]
  },
  {
   "cell_type": "code",
   "execution_count": 13,
   "id": "82b2f7c4-b0a8-4239-be37-6728df8636aa",
   "metadata": {},
   "outputs": [
    {
     "name": "stdout",
     "output_type": "stream",
     "text": [
      "3\n"
     ]
    }
   ],
   "source": [
    "#finding the dimension of a given array\n",
    "print(three_dim.ndim)"
   ]
  },
  {
   "cell_type": "code",
   "execution_count": 15,
   "id": "f6e520e4-f8cc-4578-87ef-af75f7ec984d",
   "metadata": {},
   "outputs": [
    {
     "name": "stdout",
     "output_type": "stream",
     "text": [
      "[[[[[17]]]]]\n"
     ]
    }
   ],
   "source": [
    "#create specific dimensional arrays. This creates a 5 dimensional array. no. of brackets shows how many dimension array it is\n",
    "new_array = np.array(17, ndmin=5)\n",
    "print(new_array)"
   ]
  },
  {
   "cell_type": "code",
   "execution_count": 17,
   "id": "47285134-7203-4e66-98b2-2b82bd68ca0f",
   "metadata": {},
   "outputs": [
    {
     "name": "stdout",
     "output_type": "stream",
     "text": [
      "[[[[[1 2 3]]]]]\n"
     ]
    }
   ],
   "source": [
    "new_array1 = np.array([1,2,3], ndmin=5)\n",
    "print(new_array1)"
   ]
  },
  {
   "cell_type": "code",
   "execution_count": null,
   "id": "2522a183-c3d9-484d-b2bb-9d3a7429ae71",
   "metadata": {},
   "outputs": [],
   "source": [
    "#[::-1]: Reverses the array along the specified axis (for 1D arrays).\n",
    "#[::-1, :]: Reverses the rows of a 2D array.\n",
    "#[:, ::-1]: Reverses the columns of a 2D array.\n",
    "#[::-1, ::-1]: Reverses both the rows and columns of a 2D array."
   ]
  }
 ],
 "metadata": {
  "kernelspec": {
   "display_name": "Python 3 (ipykernel)",
   "language": "python",
   "name": "python3"
  },
  "language_info": {
   "codemirror_mode": {
    "name": "ipython",
    "version": 3
   },
   "file_extension": ".py",
   "mimetype": "text/x-python",
   "name": "python",
   "nbconvert_exporter": "python",
   "pygments_lexer": "ipython3",
   "version": "3.11.7"
  }
 },
 "nbformat": 4,
 "nbformat_minor": 5
}
