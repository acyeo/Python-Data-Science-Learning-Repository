{
 "cells": [
  {
   "cell_type": "code",
   "execution_count": 1,
   "id": "e9fc6430-a8d5-4522-884a-8df0b4ed39df",
   "metadata": {},
   "outputs": [
    {
     "ename": "SyntaxError",
     "evalue": "invalid syntax (608731755.py, line 16)",
     "output_type": "error",
     "traceback": [
      "\u001b[0;36m  Cell \u001b[0;32mIn[1], line 16\u001b[0;36m\u001b[0m\n\u001b[0;31m    <script.py> output:\u001b[0m\n\u001b[0m    ^\u001b[0m\n\u001b[0;31mSyntaxError\u001b[0m\u001b[0;31m:\u001b[0m invalid syntax\n"
     ]
    }
   ],
   "source": [
    "#Import the Counter object from collections.\n",
    "#Create a Counter of the penguins list called penguins_sex_counts; \n",
    "#use a list comprehension to return the Sex of each penguin to the Counter.\n",
    "#Print the penguins_sex_counts.\n",
    "\n",
    "# Import the Counter object\n",
    "import collections\n",
    "from collections import Counter\n",
    "\n",
    "# Create a Counter of the penguins sex using a list comp\n",
    "penguins_sex_counts = Counter([penguin['Sex'] for penguin in penguins])\n",
    "\n",
    "# Print the penguins_sex_counts\n",
    "print(penguins_sex_counts)\n",
    "\n",
    "<script.py> output:\n",
    "    Counter({'MALE': 15, 'FEMALE': 5})"
   ]
  },
  {
   "cell_type": "code",
   "execution_count": 2,
   "id": "df49a58e-63fd-4af4-985f-cf0bb2cf1d88",
   "metadata": {},
   "outputs": [
    {
     "ename": "SyntaxError",
     "evalue": "invalid syntax (3937743906.py, line 16)",
     "output_type": "error",
     "traceback": [
      "\u001b[0;36m  Cell \u001b[0;32mIn[2], line 16\u001b[0;36m\u001b[0m\n\u001b[0;31m    <script.py> output:\u001b[0m\n\u001b[0m    ^\u001b[0m\n\u001b[0;31mSyntaxError\u001b[0m\u001b[0;31m:\u001b[0m invalid syntax\n"
     ]
    }
   ],
   "source": [
    "#Import the Counter object from collections.\n",
    "#Create a Counter of the penguins list called penguins_species_counts; \n",
    "#use a list comprehension to return the Species of each penguin to the Counter.\n",
    "#Print the three most common species counts.\n",
    "\n",
    "# Import the Counter object\n",
    "import collections\n",
    "from collections import Counter\n",
    "\n",
    "# Create a Counter of the penguins list: penguins_species_counts\n",
    "penguins_species_counts = Counter([penguin['Species'] for penguin in penguins])\n",
    "\n",
    "# Find the 3 most common species counts\n",
    "print(penguins_species_counts.most_common(3))\n",
    "\n",
    "<script.py> output:\n",
    "    [('Chinstrap', 7), ('Adlie', 7), ('Gentoo', 6)]"
   ]
  },
  {
   "cell_type": "code",
   "execution_count": 3,
   "id": "24cdbbda-b524-4e9c-a284-553a96ba49ef",
   "metadata": {},
   "outputs": [],
   "source": [
    "#using defaultdict pass it a default type that every key will have even if it doesn't currently exist. \n",
    "#works exactly like a dictionary"
   ]
  },
  {
   "cell_type": "code",
   "execution_count": 4,
   "id": "00d05316-2f58-49eb-9354-a09e6ee96b55",
   "metadata": {},
   "outputs": [
    {
     "ename": "NameError",
     "evalue": "name 'weight_log' is not defined",
     "output_type": "error",
     "traceback": [
      "\u001b[0;31m---------------------------------------------------------------------------\u001b[0m",
      "\u001b[0;31mNameError\u001b[0m                                 Traceback (most recent call last)",
      "Cell \u001b[0;32mIn[4], line 8\u001b[0m\n\u001b[1;32m      1\u001b[0m \u001b[38;5;66;03m#Create an empty dictionary called female_penguin_weights.\u001b[39;00m\n\u001b[1;32m      2\u001b[0m \u001b[38;5;66;03m#Iterate over weight_log, unpacking it into the variables species, sex, and body_mass.\u001b[39;00m\n\u001b[1;32m      3\u001b[0m \u001b[38;5;66;03m#Check to see if the species already exists in the female_penguin_weights dictionary. \u001b[39;00m\n\u001b[0;32m   (...)\u001b[0m\n\u001b[1;32m      6\u001b[0m \n\u001b[1;32m      7\u001b[0m \u001b[38;5;66;03m# Iterate over the weight_log entries\u001b[39;00m\n\u001b[0;32m----> 8\u001b[0m \u001b[38;5;28;01mfor\u001b[39;00m species, sex, body_mass \u001b[38;5;129;01min\u001b[39;00m weight_log:\n\u001b[1;32m      9\u001b[0m     \u001b[38;5;66;03m# Check to see if species is already in the dictionary\u001b[39;00m\n\u001b[1;32m     10\u001b[0m     \u001b[38;5;28;01mif\u001b[39;00m species \u001b[38;5;129;01mnot\u001b[39;00m \u001b[38;5;129;01min\u001b[39;00m female_penguin_weights:\n\u001b[1;32m     11\u001b[0m         \u001b[38;5;66;03m# Create an empty list for any missing species\u001b[39;00m\n\u001b[1;32m     12\u001b[0m         female_penguin_weights[species] \u001b[38;5;241m=\u001b[39m []\n",
      "\u001b[0;31mNameError\u001b[0m: name 'weight_log' is not defined"
     ]
    }
   ],
   "source": [
    "#Create an empty dictionary called female_penguin_weights.\n",
    "#Iterate over weight_log, unpacking it into the variables species, sex, and body_mass.\n",
    "#Check to see if the species already exists in the female_penguin_weights dictionary. \n",
    "#If it does not exist, create an empty list for the species key. \n",
    "#Then, append a tuple consisting of sex and body_mass to the species key of the female_penguin_weights dictionary for all entries in the weight_log.\n",
    "#Print the female_penguin_weights for 'Adlie'.\n",
    "\n",
    "# Iterate over the weight_log entries\n",
    "for species, sex, body_mass in weight_log:\n",
    "    # Check to see if species is already in the dictionary\n",
    "    if species not in female_penguin_weights:\n",
    "        # Create an empty list for any missing species\n",
    "        female_penguin_weights[species] = []\n",
    "    # Append the sex and body_mass as a tuple to the species keys list\n",
    "    female_penguin_weights[species].append((sex, body_mass))\n",
    "    \n",
    "# Print the weights for 'Adlie'\n",
    "print(female_penguin_weights['Adlie'])\n",
    "\n",
    "[('FEMALE', 3450.0), ('FEMALE', 3550.0), ('FEMALE', 3175.0)]"
   ]
  },
  {
   "cell_type": "code",
   "execution_count": 5,
   "id": "faa971cf-3394-44aa-9bd2-338b43e6be2f",
   "metadata": {},
   "outputs": [
    {
     "ename": "NameError",
     "evalue": "name 'weight_log' is not defined",
     "output_type": "error",
     "traceback": [
      "\u001b[0;31m---------------------------------------------------------------------------\u001b[0m",
      "\u001b[0;31mNameError\u001b[0m                                 Traceback (most recent call last)",
      "Cell \u001b[0;32mIn[5], line 14\u001b[0m\n\u001b[1;32m     11\u001b[0m male_penguin_weights \u001b[38;5;241m=\u001b[39m defaultdict(\u001b[38;5;28mlist\u001b[39m)\n\u001b[1;32m     13\u001b[0m \u001b[38;5;66;03m# Iterate over the weight_log entries\u001b[39;00m\n\u001b[0;32m---> 14\u001b[0m \u001b[38;5;28;01mfor\u001b[39;00m species, sex, body_mass \u001b[38;5;129;01min\u001b[39;00m weight_log:\n\u001b[1;32m     15\u001b[0m     \u001b[38;5;66;03m# Use the species as the key, and append the body_mass to it\u001b[39;00m\n\u001b[1;32m     16\u001b[0m     male_penguin_weights[species]\u001b[38;5;241m.\u001b[39mappend(body_mass)\n\u001b[1;32m     18\u001b[0m \u001b[38;5;66;03m# Print the first 2 items of the male_penguin_weights dictionary\u001b[39;00m\n",
      "\u001b[0;31mNameError\u001b[0m: name 'weight_log' is not defined"
     ]
    }
   ],
   "source": [
    "#Import defaultdict from collections.\n",
    "#Create a defaultdict with a default type of list called male_penguin_weights.\n",
    "#Iterate over the list weight_log, unpacking it into the variables species, sex, and body_mass, as you did in the previous exercise. \n",
    "#Use species as the key of the male_penguin_weights dictionary and append body_mass to its value.\n",
    "#Print the first 2 items of the male_penguin_weights dictionary. You can use the .items() method for this. Remember to make it a list.\n",
    "\n",
    "# Import defaultdict\n",
    "from collections import defaultdict\n",
    "\n",
    "# Create a defaultdict with a default type of list: male_penguin_weights\n",
    "male_penguin_weights = defaultdict(list)\n",
    "\n",
    "# Iterate over the weight_log entries\n",
    "for species, sex, body_mass in weight_log:\n",
    "    # Use the species as the key, and append the body_mass to it\n",
    "    male_penguin_weights[species].append(body_mass)\n",
    "    \n",
    "# Print the first 2 items of the male_penguin_weights dictionary\n",
    "print(list(male_penguin_weights.items())[:2])\n",
    "\n",
    "[('Gentoo', [5500.0, 5800.0, 5400.0, 5250.0, 4925.0]), ('Chinstrap', [4300.0, 4100.0, 4800.0, 3950.0, 3800.0, 4050.0])]"
   ]
  },
  {
   "cell_type": "code",
   "execution_count": 6,
   "id": "51e705e7-d4ac-404c-821d-083de73b24e7",
   "metadata": {},
   "outputs": [],
   "source": [
    "#namedtuples has names for each position(column) of a tuple\n",
    "#works well when you don'tneed the nested structures of a dictionary\n",
    "##alternative to a pandas dataframe row"
   ]
  },
  {
   "cell_type": "code",
   "execution_count": 7,
   "id": "9d2a3b79-90ec-442d-8fe7-8c2e17432188",
   "metadata": {},
   "outputs": [],
   "source": [
    "#a namedtuple is created by passing a name for the tuple type and a list of field names\n",
    "#named tuples advantage is that it can make code cleaner\n",
    "#each field is availbe as an attribute (named field or data storage location) of the namedtuple"
   ]
  },
  {
   "cell_type": "code",
   "execution_count": 8,
   "id": "f111671b-df50-4018-997a-c2ccdd5c6762",
   "metadata": {},
   "outputs": [
    {
     "ename": "SyntaxError",
     "evalue": "invalid syntax (4107174125.py, line 24)",
     "output_type": "error",
     "traceback": [
      "\u001b[0;36m  Cell \u001b[0;32mIn[8], line 24\u001b[0;36m\u001b[0m\n\u001b[0;31m    script.py> output:\u001b[0m\n\u001b[0m                     ^\u001b[0m\n\u001b[0;31mSyntaxError\u001b[0m\u001b[0;31m:\u001b[0m invalid syntax\n"
     ]
    }
   ],
   "source": [
    "#Import namedtuple from collections.\n",
    "#Create a namedtuple called SpeciesDetails with a type name of SpeciesDetails and fields of 'species', 'sex', and 'body_mass'.\n",
    "#Create a list called labeled_entries.\n",
    "#Iterate over the weight_log list, unpacking it into species, sex, and body_mass, \n",
    "#and create a new SpeciesDetails namedtuple instance for each entry and append it to labeled_entries.\n",
    "\n",
    "# Import namedtuple from collections\n",
    "from collections import namedtuple\n",
    "\n",
    "# Create the namedtuple: SpeciesDetails\n",
    "SpeciesDetails = namedtuple('SpeciesDetails', ['species', 'sex', 'body_mass'])\n",
    "\n",
    "# Create the empty list: labeled_entries\n",
    "labeled_entries = []\n",
    "\n",
    "# Iterate over the weight_log entries\n",
    "for species, sex, body_mass in weight_log:\n",
    "    # Append a new SpeciesDetails namedtuple instance for each entry to labeled_entries\n",
    "    labeled_entries.append(SpeciesDetails(species, sex, body_mass))\n",
    "\n",
    "    \n",
    "print(labeled_entries[:5])\n",
    "\n",
    "script.py> output:\n",
    "    [SpeciesDetails(species='Gentoo', sex='MALE', body_mass=5500.0), SpeciesDetails(species='Chinstrap', sex='MALE', body_mass=4300.0), SpeciesDetails(species='Adlie', sex='MALE', body_mass=3800.0), SpeciesDetails(species='Gentoo', sex='MALE', body_mass=5800.0), SpeciesDetails(species='Chinstrap', sex='MALE', body_mass=4100.0)]"
   ]
  },
  {
   "cell_type": "code",
   "execution_count": 10,
   "id": "6d1557b1-2859-4446-bc86-2c4e366cbe8f",
   "metadata": {},
   "outputs": [
    {
     "ename": "NameError",
     "evalue": "name 'labeled_entries' is not defined",
     "output_type": "error",
     "traceback": [
      "\u001b[0;31m---------------------------------------------------------------------------\u001b[0m",
      "\u001b[0;31mNameError\u001b[0m                                 Traceback (most recent call last)",
      "Cell \u001b[0;32mIn[10], line 6\u001b[0m\n\u001b[1;32m      1\u001b[0m \u001b[38;5;66;03m#Iterate over the first twenty entryss in the labeled_entries list:\u001b[39;00m\n\u001b[1;32m      2\u001b[0m \u001b[38;5;66;03m#If it is a Chinstrap species:\u001b[39;00m\n\u001b[1;32m      3\u001b[0m \u001b[38;5;66;03m#Print the entry's sex and body_mass separated by a :.\u001b[39;00m\n\u001b[1;32m      4\u001b[0m \n\u001b[1;32m      5\u001b[0m \u001b[38;5;66;03m# Iterate over the first twenty entries in labeled_entries\u001b[39;00m\n\u001b[0;32m----> 6\u001b[0m \u001b[38;5;28;01mfor\u001b[39;00m entry \u001b[38;5;129;01min\u001b[39;00m labeled_entries[:\u001b[38;5;241m20\u001b[39m]:\n\u001b[1;32m      7\u001b[0m     \u001b[38;5;66;03m# if the entry's species equals Chinstrap\u001b[39;00m\n\u001b[1;32m      8\u001b[0m     \u001b[38;5;28;01mif\u001b[39;00m entry\u001b[38;5;241m.\u001b[39mspecies \u001b[38;5;241m==\u001b[39m \u001b[38;5;124m'\u001b[39m\u001b[38;5;124mChinstrap\u001b[39m\u001b[38;5;124m'\u001b[39m:\n\u001b[1;32m      9\u001b[0m       \u001b[38;5;66;03m# Print each entry's sex and body_mass seperated by a colon\u001b[39;00m\n\u001b[1;32m     10\u001b[0m       \u001b[38;5;28mprint\u001b[39m(\u001b[38;5;124mf\u001b[39m\u001b[38;5;124m'\u001b[39m\u001b[38;5;132;01m{\u001b[39;00mentry\u001b[38;5;241m.\u001b[39msex\u001b[38;5;132;01m}\u001b[39;00m\u001b[38;5;124m:\u001b[39m\u001b[38;5;132;01m{\u001b[39;00mentry\u001b[38;5;241m.\u001b[39mbody_mass\u001b[38;5;132;01m}\u001b[39;00m\u001b[38;5;124m'\u001b[39m)\n",
      "\u001b[0;31mNameError\u001b[0m: name 'labeled_entries' is not defined"
     ]
    }
   ],
   "source": [
    "#Iterate over the first twenty entryss in the labeled_entries list:\n",
    "#If it is a Chinstrap species:\n",
    "#Print the entry's sex and body_mass separated by a :.\n",
    "\n",
    "# Iterate over the first twenty entries in labeled_entries\n",
    "for entry in labeled_entries[:20]:\n",
    "    # if the entry's species equals Chinstrap\n",
    "    if entry.species == 'Chinstrap':\n",
    "      # Print each entry's sex and body_mass seperated by a colon\n",
    "      print(f'{entry.sex}:{entry.body_mass}')\n",
    "\n",
    "#MALE:4300.0\n",
    "#MALE:4100.0\n",
    "#MALE:4800.0\n",
    "#FEMALE:3800.0\n",
    "#MALE:3950.0\n",
    "#MALE:3800.0\n",
    "#MALE:4050.0"
   ]
  },
  {
   "cell_type": "code",
   "execution_count": 11,
   "id": "b7d55b40-fa31-46b5-b564-9653a0262783",
   "metadata": {},
   "outputs": [],
   "source": [
    "#Dataclasses is a more powerful named tuple. \n",
    "#dataclasses advantages: \n",
    "#you can set default values\n",
    "#custom representations of the objects\n",
    "#easy tuple or a dictionary conversion \n",
    "#custom properties\n",
    "#Frozen instances"
   ]
  },
  {
   "cell_type": "code",
   "execution_count": 12,
   "id": "1a334681-64e3-4fe5-be85-9a5b255233e1",
   "metadata": {},
   "outputs": [],
   "source": [
    "#Import dataclass from dataclasses.\n",
    "#Add the species (string), sex (string), body_mass (int), and flipper_length (int) fields to the dataclass.\n",
    "#Add a property (mass_to_flipper_length_ratio) that returns the body_mass divided by the flipper_length.\n",
    "\n",
    "# Import dataclass\n",
    "from dataclasses import dataclass\n",
    "\n",
    "@dataclass\n",
    "class WeightEntry:\n",
    "    # Define the fields on the class\n",
    "    species: str\n",
    "    sex: int\n",
    "    body_mass: int\n",
    "    flipper_length: str\n",
    "        \n",
    "    # Define a property that returns the body_mass / flipper_length\n",
    "    @property\n",
    "    def mass_to_flipper_length_ratio(self):\n",
    "        return self.body_mass / self.flipper_length\n",
    "\n"
   ]
  },
  {
   "cell_type": "code",
   "execution_count": null,
   "id": "2ecd34f3-370f-451b-b6a0-c93054c8680d",
   "metadata": {},
   "outputs": [],
   "source": [
    "#Create an empty list called labeled_entries.\n",
    "#Iterate over the weight_log entries using tuple expansion to break out species, flipper_length, body_mass, sex.\n",
    "#Append a new WeightEntry dataclass instance for each entry to labeled_entries.\n",
    "#Print a list of the first 5 mass_to_flipper_length_ratio values using a list comprehension.\n",
    "\n",
    "# Create the empty list: labeled_entries\n",
    "labeled_entries = []\n",
    "\n",
    "# Iterate over the weight_log entries\n",
    "for species, flipper_length, body_mass, sex in weight_log:\n",
    "    # Append a new WeightEntry instance to labeled_entries\n",
    "    labeled_entries.append(WeightEntry(species, flipper_length, body_mass, sex))\n",
    "    \n",
    "# Print a list of the first 5 mass_to_flipper_length_ratio values\n",
    "print([entry.mass_to_flipper_length_ratio for entry in labeled_entries[:5]])\n",
    "\n",
    "<script.py> output:\n",
    "    [23.91304347826087, 25.32751091703057, 24.0, 23.972602739726028, 20.476190476190474]"
   ]
  }
 ],
 "metadata": {
  "kernelspec": {
   "display_name": "Python 3 (ipykernel)",
   "language": "python",
   "name": "python3"
  },
  "language_info": {
   "codemirror_mode": {
    "name": "ipython",
    "version": 3
   },
   "file_extension": ".py",
   "mimetype": "text/x-python",
   "name": "python",
   "nbconvert_exporter": "python",
   "pygments_lexer": "ipython3",
   "version": "3.11.7"
  }
 },
 "nbformat": 4,
 "nbformat_minor": 5
}
