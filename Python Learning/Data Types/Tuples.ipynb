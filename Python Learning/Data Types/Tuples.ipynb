{
 "cells": [
  {
   "cell_type": "code",
   "execution_count": 1,
   "id": "a027637a-0a8d-480c-9422-9b10f3eb6c7f",
   "metadata": {},
   "outputs": [
    {
     "name": "stdout",
     "output_type": "stream",
     "text": [
      "# Primes =  5\n",
      "# Squares=  6\n"
     ]
    }
   ],
   "source": [
    "#List example\n",
    "prime_numbers = [2, 3, 5, 7, 11]\n",
    "\n",
    "#Tuple example\n",
    "perfect_squares = (1, 4, 5, 6, 7, 45)\n",
    "\n",
    "#display lengths\n",
    "print(\"# Primes = \", len(prime_numbers))\n",
    "print(\"# Squares= \", len(perfect_squares))"
   ]
  },
  {
   "cell_type": "code",
   "execution_count": 2,
   "id": "6828a6c7-5b5e-4dc9-956e-b978488d507f",
   "metadata": {},
   "outputs": [
    {
     "name": "stdout",
     "output_type": "stream",
     "text": [
      "Prime:  2\n",
      "Prime:  3\n",
      "Prime:  5\n",
      "Prime:  7\n",
      "Prime:  11\n",
      "Square:  1\n",
      "Square:  4\n",
      "Square:  5\n",
      "Square:  6\n",
      "Square:  7\n",
      "Square:  45\n"
     ]
    }
   ],
   "source": [
    "#iterate over both sequences\n",
    "for p in prime_numbers: \n",
    "    print(\"Prime: \", p)\n",
    "for n in perfect_squares: \n",
    "    print(\"Square: \", n)"
   ]
  },
  {
   "cell_type": "code",
   "execution_count": null,
   "id": "16db7b3d-adef-4390-bc5e-fba85238266c",
   "metadata": {},
   "outputs": [],
   "source": [
    "#lists have more methods available to them than tuples"
   ]
  },
  {
   "cell_type": "code",
   "execution_count": 3,
   "id": "a5d94377-abc4-44f4-b783-9e75853e9e70",
   "metadata": {},
   "outputs": [
    {
     "name": "stdout",
     "output_type": "stream",
     "text": [
      "['__breakpointhook__', '__displayhook__', '__doc__', '__excepthook__', '__interactivehook__', '__loader__', '__name__', '__package__', '__spec__', '__stderr__', '__stdin__', '__stdout__', '__unraisablehook__', '_base_executable', '_clear_type_cache', '_current_exceptions', '_current_frames', '_debugmallocstats', '_framework', '_getframe', '_getquickenedcount', '_git', '_home', '_stdlib_dir', '_xoptions', 'abiflags', 'addaudithook', 'api_version', 'argv', 'audit', 'base_exec_prefix', 'base_prefix', 'breakpointhook', 'builtin_module_names', 'byteorder', 'call_tracing', 'copyright', 'displayhook', 'dont_write_bytecode', 'exc_info', 'excepthook', 'exception', 'exec_prefix', 'executable', 'exit', 'flags', 'float_info', 'float_repr_style', 'get_asyncgen_hooks', 'get_coroutine_origin_tracking_depth', 'get_int_max_str_digits', 'getallocatedblocks', 'getdefaultencoding', 'getdlopenflags', 'getfilesystemencodeerrors', 'getfilesystemencoding', 'getprofile', 'getrecursionlimit', 'getrefcount', 'getsizeof', 'getswitchinterval', 'gettrace', 'hash_info', 'hexversion', 'implementation', 'int_info', 'intern', 'is_finalizing', 'maxsize', 'maxunicode', 'meta_path', 'modules', 'orig_argv', 'path', 'path_hooks', 'path_importer_cache', 'platform', 'platlibdir', 'prefix', 'ps1', 'ps2', 'ps3', 'pycache_prefix', 'set_asyncgen_hooks', 'set_coroutine_origin_tracking_depth', 'set_int_max_str_digits', 'setdlopenflags', 'setprofile', 'setrecursionlimit', 'setswitchinterval', 'settrace', 'stderr', 'stdin', 'stdlib_module_names', 'stdout', 'thread_info', 'unraisablehook', 'version', 'version_info', 'warnoptions']\n"
     ]
    }
   ],
   "source": [
    "import sys\n",
    "print(dir(sys))"
   ]
  },
  {
   "cell_type": "code",
   "execution_count": 4,
   "id": "77e616f3-1b50-4999-a31e-2acc0d7fdb63",
   "metadata": {},
   "outputs": [
    {
     "name": "stdout",
     "output_type": "stream",
     "text": [
      "Help on built-in function getsizeof in module sys:\n",
      "\n",
      "getsizeof(...)\n",
      "    getsizeof(object [, default]) -> int\n",
      "    \n",
      "    Return the size of object in bytes.\n",
      "\n",
      "None\n"
     ]
    }
   ],
   "source": [
    "print(help(sys.getsizeof))"
   ]
  },
  {
   "cell_type": "code",
   "execution_count": 6,
   "id": "fc334980-6513-43c1-81b5-839202cb135b",
   "metadata": {},
   "outputs": [
    {
     "name": "stdout",
     "output_type": "stream",
     "text": [
      "List size =  120\n",
      "Tuple size =  104\n"
     ]
    }
   ],
   "source": [
    "#shows the difference in length in bits. Tuples will always have less bits. \n",
    "lists_eg = [1, 2, 3, \"a\", \"b\", \"c\", True, 3.145]\n",
    "tuple_eg = (1, 2, 3, \"a\", \"b\", \"c\", True, 3.145)\n",
    "\n",
    "print(\"List size = \", sys.getsizeof(lists_eg))\n",
    "print(\"Tuple size = \", sys.getsizeof(tuple_eg))"
   ]
  },
  {
   "cell_type": "code",
   "execution_count": 8,
   "id": "1f9e7501-c17a-4730-9bd5-9c722a4f12f4",
   "metadata": {},
   "outputs": [
    {
     "name": "stdout",
     "output_type": "stream",
     "text": [
      "List time:  0.0071085790114011616\n",
      "Tuple time:  0.0019009539973922074\n"
     ]
    }
   ],
   "source": [
    "#key differences in lists vs Tuples\n",
    "#Lists can add, remove, and change data. Lists take more time to make\n",
    "#Tuples cannot be changed. They're \"immutable\". Tuples take less time to make see example below: \n",
    "\n",
    "import timeit\n",
    "\n",
    "list_test = timeit.timeit(stmt=\"[1,2,3,4,5]\", number=100000)\n",
    "\n",
    "tuple_test = timeit.timeit(stmt=\"(1,2,3,4,5)\", number=100000)\n",
    "\n",
    "print(\"List time: \", list_test)\n",
    "print(\"Tuple time: \", tuple_test)\n"
   ]
  },
  {
   "cell_type": "code",
   "execution_count": 10,
   "id": "84433470-8bb4-40d0-bbe5-33e546bccbe1",
   "metadata": {},
   "outputs": [
    {
     "name": "stdout",
     "output_type": "stream",
     "text": [
      "Age = 27\n",
      "Country = Vietnam\n",
      "Knows Python? True\n"
     ]
    }
   ],
   "source": [
    "#accessing data from lists\n",
    "#example (age, country, knows_python)\n",
    "survey = (27, \"Vietnam\", True)\n",
    "\n",
    "age = survey[0]\n",
    "country = survey [1]\n",
    "knows_python = survey[2]\n",
    "\n",
    "print(\"Age =\", age)\n",
    "print(\"Country =\", country)\n",
    "print(\"Knows Python?\", knows_python)"
   ]
  },
  {
   "cell_type": "code",
   "execution_count": 13,
   "id": "fa55069b-815b-4c28-85a1-1ce355ed0fee",
   "metadata": {},
   "outputs": [
    {
     "name": "stdout",
     "output_type": "stream",
     "text": [
      "Age = 21\n",
      "Country = switzerland\n",
      "Knows Python? False\n",
      "('Australia',)\n"
     ]
    }
   ],
   "source": [
    "#accessing data from tuples\n",
    "#example (age, country, knows_python)\n",
    "survey2 = (21, \"switzerland\", False)\n",
    "age, country, knows_python = survey2\n",
    "print(\"Age =\", age)\n",
    "print(\"Country =\", country)\n",
    "print(\"Knows Python?\", knows_python)\n",
    "#running this program means that you want the country to be a tuple and not impact the values to the original code. \n",
    "country = (\"Australia\",)\n",
    "print(country)"
   ]
  },
  {
   "cell_type": "code",
   "execution_count": 14,
   "id": "65d04028-8e24-4258-986a-26edd1424b18",
   "metadata": {},
   "outputs": [
    {
     "ename": "ValueError",
     "evalue": "too many values to unpack (expected 3)",
     "output_type": "error",
     "traceback": [
      "\u001b[0;31m---------------------------------------------------------------------------\u001b[0m",
      "\u001b[0;31mValueError\u001b[0m                                Traceback (most recent call last)",
      "Cell \u001b[0;32mIn[14], line 3\u001b[0m\n\u001b[1;32m      1\u001b[0m \u001b[38;5;66;03m#IF running a tuple, makes sure the number of values matches the number of elements in the tuple. \u001b[39;00m\n\u001b[1;32m      2\u001b[0m \u001b[38;5;66;03m#for example\u001b[39;00m\n\u001b[0;32m----> 3\u001b[0m a, b, c \u001b[38;5;241m=\u001b[39m (\u001b[38;5;241m1\u001b[39m, \u001b[38;5;241m2\u001b[39m, \u001b[38;5;241m3\u001b[39m, \u001b[38;5;241m4\u001b[39m)\n",
      "\u001b[0;31mValueError\u001b[0m: too many values to unpack (expected 3)"
     ]
    }
   ],
   "source": [
    "#IF running a tuple, makes sure the number of values matches the number of elements in the tuple. \n",
    "#for example\n",
    "a, b, c = (1, 2, 3, 4)"
   ]
  },
  {
   "cell_type": "code",
   "execution_count": null,
   "id": "2ada646c-305b-4d12-81da-4ad4a6f658af",
   "metadata": {},
   "outputs": [],
   "source": []
  }
 ],
 "metadata": {
  "kernelspec": {
   "display_name": "Python 3 (ipykernel)",
   "language": "python",
   "name": "python3"
  },
  "language_info": {
   "codemirror_mode": {
    "name": "ipython",
    "version": 3
   },
   "file_extension": ".py",
   "mimetype": "text/x-python",
   "name": "python",
   "nbconvert_exporter": "python",
   "pygments_lexer": "ipython3",
   "version": "3.11.7"
  }
 },
 "nbformat": 4,
 "nbformat_minor": 5
}
