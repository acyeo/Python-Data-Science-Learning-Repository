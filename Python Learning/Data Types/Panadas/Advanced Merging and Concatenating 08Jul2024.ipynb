{
 "cells": [
  {
   "cell_type": "code",
   "execution_count": null,
   "id": "17d1d741-e450-4e44-8b5c-b265127082ee",
   "metadata": {},
   "outputs": [],
   "source": [
    "#Merge employees and top_cust with a left join, setting indicator argument to True. Save the result to empl_cust.\n",
    "# Merge employees and top_cust\n",
    "empl_cust = employees.merge(top_cust, on=\"srid\", \n",
    "                            how=\"left\", indicator=True)\n",
    "\n",
    "#Select the srid column of empl_cust and the rows where _merge is 'left_only'. Save the result to srid_list.\n",
    "srid_list = empl_cust.loc[empl_cust['_merge'] == \"left_only\", 'srid']\n",
    "\n",
    "# Get employees not working with top customers\n",
    "print(employees[employees['srid'].isin(srid_list)])\n",
    "\n",
    "#correct output:\n",
    "      srid     lname    fname            title  hire_date                    email\n",
    "    0     1     Adams   Andrew  General Manager 2002-08-14   andrew@chinookcorp.com\n",
    "    1     2   Edwards    Nancy    Sales Manager 2002-05-01    nancy@chinookcorp.com\n",
    "    5     6  Mitchell  Michael       IT Manager 2003-10-17  michael@chinookcorp.com\n",
    "    6     7      King   Robert         IT Staff 2004-01-02   robert@chinookcorp.com\n",
    "    7     8  Callahan    Laura         IT Staff 2004-03-04    laura@chinookcorp.com"
   ]
  },
  {
   "cell_type": "code",
   "execution_count": null,
   "id": "ef253199-41dc-4b3c-92cd-f1c8dd120905",
   "metadata": {},
   "outputs": [],
   "source": [
    "#Merge non_mus_tcks and top_invoices on tid using an inner join. Save the result as tracks_invoices.\n",
    "#Use .isin() to subset the rows of non_mus_tck where tid is in the tid column of tracks_invoices. Save the result as top_tracks.\n",
    "#Group top_tracks by gid and count the tid rows. Save the result to cnt_by_gid.\n",
    "#Merge cnt_by_gid with the genres table on gid and print the result.\n",
    "\n",
    "# Merge the non_mus_tck and top_invoices tables on tid\n",
    "tracks_invoices = non_mus_tcks.merge(top_invoices, on = \"tid\", how = \"inner\")\n",
    "\n",
    "# Use .isin() to subset non_mus_tcks to rows with tid in tracks_invoices\n",
    "top_tracks = non_mus_tcks[non_mus_tcks['tid'].isin(tracks_invoices['tid'])]\n",
    "\n",
    "# Group the top_tracks by gid and count the tid rows\n",
    "cnt_by_gid = top_tracks.groupby(['gid'], as_index=False).agg({'tid':'count'})\n",
    "\n",
    "# Merge the genres table to cnt_by_gid on gid and print\n",
    "print(cnt_by_gid.merge(genres, on = \"gid\"))\n",
    "\n",
    "#correct output:\n",
    "   gid  tid      name\n",
    "0   19    4  TV Shows\n",
    "1   21    2     Drama\n",
    "2   22    1    Comedy"
   ]
  },
  {
   "cell_type": "code",
   "execution_count": null,
   "id": "24f32537-76b9-450d-af56-9a79580cf571",
   "metadata": {},
   "outputs": [],
   "source": [
    "#Concatenate tracks_master, tracks_ride, and tracks_st, in that order, setting sort to True.\n",
    "tracks_from_albums = pd.concat([tracks_master, tracks_ride, tracks_st],\n",
    "                               sort=True)\n",
    "print(tracks_from_albums)\n",
    "#correct output:\n",
    "  aid             composer  gid  mtid                     name   tid  u_price\n",
    "0  152  J.Hetfield/L.Ulrich    3     1                  Battery  1853     0.99\n",
    "1  152            K.Hammett    3     1        Master Of Puppets  1854     0.99\n",
    "4  152  J.Hetfield/L.Ulrich    3     1        Disposable Heroes  1857     0.99\n",
    "0  154                  NaN    3     1     Fight Fire With Fire  1874     0.99\n",
    "1  154                  NaN    3     1       Ride The Lightning  1875     0.99\n",
    "2  154                  NaN    3     1  For Whom The Bell Tolls  1876     0.99\n",
    "3  154                  NaN    3     1            Fade To Black  1877     0.99\n",
    "4  154                  NaN    3     1        Trapped Under Ice  1878     0.99\n",
    "0  155                  NaN    3     1                  Frantic  1882     0.99\n",
    "1  155                  NaN    3     1                St. Anger  1883     0.99\n",
    "2  155                  NaN    3     1     Some Kind Of Monster  1884     0.99\n",
    "3  155                  NaN    3     1             Dirty Window  1885     0.99\n",
    "4  155                  NaN    3     1            Invisible Kid  1886     0.99"
   ]
  },
  {
   "cell_type": "code",
   "execution_count": null,
   "id": "30c1b2bc-61a5-4a6c-acf1-a6c58b719581",
   "metadata": {},
   "outputs": [],
   "source": [
    "# Concatenate the tracks so the index goes from 0 to n-1\n",
    "tracks_from_albums = pd.concat([tracks_master, tracks_ride, tracks_st],\n",
    "                               ignore_index=True,\n",
    "                               sort=True)\n",
    "print(tracks_from_albums)\n",
    "#correct output:\n",
    "\n",
    "    aid             composer  gid  mtid                     name   tid  u_price\n",
    "0   152  J.Hetfield/L.Ulrich    3     1                  Battery  1853     0.99\n",
    "1   152            K.Hammett    3     1        Master Of Puppets  1854     0.99\n",
    "2   152  J.Hetfield/L.Ulrich    3     1        Disposable Heroes  1857     0.99\n",
    "3   154                  NaN    3     1     Fight Fire With Fire  1874     0.99\n",
    "4   154                  NaN    3     1       Ride The Lightning  1875     0.99\n",
    "5   154                  NaN    3     1  For Whom The Bell Tolls  1876     0.99\n",
    "6   154                  NaN    3     1            Fade To Black  1877     0.99\n",
    "7   154                  NaN    3     1        Trapped Under Ice  1878     0.99\n",
    "8   155                  NaN    3     1                  Frantic  1882     0.99\n",
    "9   155                  NaN    3     1                St. Anger  1883     0.99\n",
    "10  155                  NaN    3     1     Some Kind Of Monster  1884     0.99\n",
    "11  155                  NaN    3     1             Dirty Window  1885     0.99\n",
    "12  155                  NaN    3     1            Invisible Kid  1886     0.99"
   ]
  },
  {
   "cell_type": "code",
   "execution_count": null,
   "id": "2b6ca73f-1a2a-4843-bb51-9aadf2208223",
   "metadata": {},
   "outputs": [],
   "source": [
    "#Concatenate tracks_master, tracks_ride, and tracks_st, showing only columns that are in all tables\n",
    "tracks_from_albums = pd.concat([tracks_master, tracks_ride, tracks_st],\n",
    "                               join = \"inner\",\n",
    "                               sort=True)\n",
    "print(tracks_from_albums)\n",
    "#correct output:\n",
    "       aid  gid  mtid                     name   tid  u_price\n",
    "    0  152    3     1                  Battery  1853     0.99\n",
    "    1  152    3     1        Master Of Puppets  1854     0.99\n",
    "    4  152    3     1        Disposable Heroes  1857     0.99\n",
    "    0  154    3     1     Fight Fire With Fire  1874     0.99\n",
    "    1  154    3     1       Ride The Lightning  1875     0.99\n",
    "    2  154    3     1  For Whom The Bell Tolls  1876     0.99\n",
    "    3  154    3     1            Fade To Black  1877     0.99\n",
    "    4  154    3     1        Trapped Under Ice  1878     0.99\n",
    "    0  155    3     1                  Frantic  1882     0.99\n",
    "    1  155    3     1                St. Anger  1883     0.99\n",
    "    2  155    3     1     Some Kind Of Monster  1884     0.99\n",
    "    3  155    3     1             Dirty Window  1885     0.99\n",
    "    4  155    3     1            Invisible Kid  1886     0.99"
   ]
  },
  {
   "cell_type": "code",
   "execution_count": null,
   "id": "36080bc8-7c73-4a1b-8e39-5e79bb50dd11",
   "metadata": {},
   "outputs": [],
   "source": [
    "# Concatenate the tables and add keys\n",
    "inv_jul_thr_sep = pd.concat([inv_jul, inv_aug, inv_sep], \n",
    "                            keys=['7Jul', '8Aug', '9Sep'])\n",
    "\n",
    "# Group the invoices by the index keys and find avg of the total column\n",
    "avg_inv_by_month = inv_jul_thr_sep.groupby(level=0).agg({'total':'mean'})\n",
    "\n",
    "# Bar plot of avg_inv_by_month\n",
    "avg_inv_by_month.plot(kind = \"bar\")\n",
    "plt.show()"
   ]
  },
  {
   "cell_type": "code",
   "execution_count": null,
   "id": "10770f5a-de95-4cf1-a90b-aa79ee6c9c45",
   "metadata": {},
   "outputs": [],
   "source": [
    "#Concatenate the classic_18 and classic_19 tables vertically where the index goes from 0 to n-1, and save to classic_18_19.\n",
    "#Concatenate the pop_18 and pop_19 tables vertically where the index goes from 0 to n-1, and save to pop_18_19.\n",
    "\n",
    "# Concatenate the classic tables vertically\n",
    "classic_18_19 = pd.concat([classic_18, classic_19], ignore_index = True)\n",
    "\n",
    "# Concatenate the pop tables vertically\n",
    "pop_18_19 = pd.concat([pop_18, pop_19], ignore_index = True)"
   ]
  },
  {
   "cell_type": "code",
   "execution_count": null,
   "id": "e3b6d11f-f8ea-4b83-b1aa-e178d39b6eb4",
   "metadata": {},
   "outputs": [],
   "source": [
    "#With classic_18_19 on the left, merge it with pop_18_19 on tid using an inner join.\n",
    "#Use .isin() to filter classic_18_19 where tid is in classic_pop.\n",
    "#correct output:\n",
    "       pid   tid\n",
    "    3    12  3479\n",
    "    10   12  3439\n",
    "    21   12  3445\n",
    "    23   12  3449\n",
    "    48   12  3437\n",
    "    50   12  3435"
   ]
  }
 ],
 "metadata": {
  "kernelspec": {
   "display_name": "Python 3 (ipykernel)",
   "language": "python",
   "name": "python3"
  },
  "language_info": {
   "codemirror_mode": {
    "name": "ipython",
    "version": 3
   },
   "file_extension": ".py",
   "mimetype": "text/x-python",
   "name": "python",
   "nbconvert_exporter": "python",
   "pygments_lexer": "ipython3",
   "version": "3.11.7"
  }
 },
 "nbformat": 4,
 "nbformat_minor": 5
}
