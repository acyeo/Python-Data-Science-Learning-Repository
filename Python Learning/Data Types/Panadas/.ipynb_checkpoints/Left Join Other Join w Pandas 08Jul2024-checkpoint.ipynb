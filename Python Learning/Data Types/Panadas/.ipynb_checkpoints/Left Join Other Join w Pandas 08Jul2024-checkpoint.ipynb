{
 "cells": [
  {
   "cell_type": "code",
   "execution_count": null,
   "id": "ded79693-8594-4bc5-9b8d-3afefaa02281",
   "metadata": {},
   "outputs": [],
   "source": [
    "# Merge movies and financials with a left join\n",
    "movies_financials = movies.merge(financials,on = \"id\", how = \"left\")\n",
    "\n",
    "# Merge the toy_story and taglines tables with a inner join\n",
    "toystory_tag = toy_story.merge(taglines, on = \"id\", how = \"inner\")\n",
    "\n",
    "# Print the rows and shape of toystory_tag\n",
    "print(toystory_tag)\n",
    "print(toystory_tag.shape)\n",
    "\n",
    "#correct output:\n",
    "      id        title  popularity release_date                   tagline\n",
    "0  10193  Toy Story 3      59.995   2010-06-16  No toy gets left behind.\n",
    "1    863  Toy Story 2      73.575   1999-10-30        The toys are back!\n",
    "\n",
    "(2, 5)"
   ]
  },
  {
   "cell_type": "code",
   "execution_count": null,
   "id": "fde0a7c2-3a2b-47db-a719-f98b2b8fe72e",
   "metadata": {},
   "outputs": [],
   "source": [
    "# Merge action_movies to the scifi_movies with right join\n",
    "action_scifi = action_movies.merge(scifi_movies, on='movie_id', how='right',\n",
    "                                   suffixes=('_act','_sci'))\n",
    "\n",
    "# From action_scifi, select only the rows where the genre_act column is null\n",
    "scifi_only = action_scifi[action_scifi['genre_act'].isnull()]\n",
    "\n",
    "# Merge the movies and scifi_only tables with an inner join\n",
    "movies_and_scifi_only = movies.merge(scifi_only, how = \"inner\", left_on = \"id\", right_on=\"movie_id\")\n",
    "\n",
    "# Print the first few rows and shape of movies_and_scifi_only\n",
    "print(movies_and_scifi_only.head())\n",
    "print(movies_and_scifi_only.shape)\n",
    "\n",
    "#correct output: \n",
    "        id                         title  popularity release_date  movie_id genre_act        genre_sci\n",
    "    0  18841  The Lost Skeleton of Cadavra       1.681   2001-09-12     18841       NaN  Science Fiction\n",
    "    1  26672     The Thief and the Cobbler       2.439   1993-09-23     26672       NaN  Science Fiction\n",
    "    2  15301      Twilight Zone: The Movie      12.903   1983-06-24     15301       NaN  Science Fiction\n",
    "    3   8452                   The 6th Day      18.447   2000-11-17      8452       NaN  Science Fiction\n",
    "    4   1649    Bill & Ted's Bogus Journey      11.350   1991-07-19      1649       NaN  Science Fiction\n",
    "    (258, 7)"
   ]
  },
  {
   "cell_type": "code",
   "execution_count": null,
   "id": "90a82d85-c8a1-4162-b434-898f7dfb4dd3",
   "metadata": {},
   "outputs": [],
   "source": [
    "#Merge movie_to_genres and pop_movies using a right join. Save the results as genres_movies.\n",
    "#Group genres_movies by genre and count the number of id values.\n",
    "\n",
    "# Use right join to merge the movie_to_genres and pop_movies tables\n",
    "genres_movies = movie_to_genres.merge(pop_movies, how='right', \n",
    "                                      left_on = \"movie_id\", \n",
    "                                      right_on=\"id\")\n",
    "\n",
    "# Count the number of genres\n",
    "genre_count = genres_movies.groupby('genre').agg({'id':'count'})\n",
    "\n",
    "# Plot a bar chart of the genre_count\n",
    "genre_count.plot(kind='bar')\n",
    "plt.show()\n"
   ]
  },
  {
   "cell_type": "code",
   "execution_count": 1,
   "id": "233cd4ca-9f3c-4dac-877e-a1f580d15a64",
   "metadata": {},
   "outputs": [
    {
     "ename": "IndentationError",
     "evalue": "unexpected indent (3569334016.py, line 19)",
     "output_type": "error",
     "traceback": [
      "\u001b[0;36m  Cell \u001b[0;32mIn[1], line 19\u001b[0;36m\u001b[0m\n\u001b[0;31m    character_1      id           name_1 character_2 name_2\u001b[0m\n\u001b[0m    ^\u001b[0m\n\u001b[0;31mIndentationError\u001b[0m\u001b[0;31m:\u001b[0m unexpected indent\n"
     ]
    }
   ],
   "source": [
    "#Save to iron_1_and_2 the merge of iron_1_actors (left) with iron_2_actors tables with an outer join on the id column\n",
    "#and set suffixes to ('_1','_2').\n",
    "#Create an index that returns True if name_1 or name_2 are null, and False otherwise.\n",
    "\n",
    "# Merge iron_1_actors to iron_2_actors on id with outer join using suffixes \n",
    "iron_1_and_2 = iron_1_actors.merge(iron_2_actors,\n",
    "                                     on = \"id\",\n",
    "                                     how = \"outer\",\n",
    "                                     suffixes=('_1','_2'))\n",
    "\n",
    "# Create an index that returns true if name_1 or name_2 are null\n",
    "m = ((iron_1_and_2['name_1'].isnull()) | \n",
    "     (iron_1_and_2['name_2'].isnull()))\n",
    "\n",
    "# Print the first few rows of iron_1_and_2\n",
    "print(iron_1_and_2[m].head())\n",
    "\n",
    "#correct output:\n",
    "                   character_1      id           name_1 character_2 name_2\n",
    "0                       Yinsen   17857       Shaun Toub         NaN    NaN\n",
    "2  Obadiah Stane / Iron Monger    1229     Jeff Bridges         NaN    NaN\n",
    "3                  War Machine   18288  Terrence Howard         NaN    NaN\n",
    "5                         Raza   57452      Faran Tahir         NaN    NaN\n",
    "8                   Abu Bakaar  173810    Sayed Badreya         NaN    NaN"
   ]
  },
  {
   "cell_type": "code",
   "execution_count": null,
   "id": "4cae591a-f8f8-47a3-9201-b1bccf05583f",
   "metadata": {},
   "outputs": [],
   "source": [
    "#To a variable called crews_self_merged, merge the crews table to itself on the id column using an inner join, \n",
    "#setting the suffixes to '_dir' and '_crew' for the left and right tables respectively.\n",
    "crews_self_merged = crews.merge(crews,on = \"id\", suffixes = (\"_dir\", \"_crew\"))\n",
    "\n",
    "# Create a Boolean index to select the appropriate\n",
    "boolean_filter = ((crews_self_merged['job_dir'] == \"Director\") & \n",
    "     (crews_self_merged['job_crew'] != \"Director\"))\n",
    "direct_crews = crews_self_merged[boolean_filter]\n",
    "\n",
    "#correct output: \n",
    "        id   job_dir       name_dir        job_crew          name_crew\n",
    "156  19995  Director  James Cameron          Editor  Stephen E. Rivkin\n",
    "157  19995  Director  James Cameron  Sound Designer  Christopher Boyes\n",
    "158  19995  Director  James Cameron         Casting          Mali Finn\n",
    "160  19995  Director  James Cameron          Writer      James Cameron\n",
    "161  19995  Director  James Cameron    Set Designer    Richard F. Mays"
   ]
  },
  {
   "cell_type": "code",
   "execution_count": null,
   "id": "6ca8d515-9d4b-495e-86b5-d7338c621f7f",
   "metadata": {},
   "outputs": [],
   "source": [
    "#Merge movies and ratings on the index and save to a variable called movies_ratings, \n",
    "#ensuring that all of the rows from the movies table are returned.\n",
    "\n",
    "# Merge to the movies table the ratings table on the index\n",
    "movies_ratings = movies.merge(ratings, on = \"id\", how = \"left\")\n",
    "\n",
    "# Print the first few rows of movies_ratings\n",
    "print(movies_ratings.head())\n",
    "\n",
    "#correct output:\n",
    "                      title  popularity release_date  vote_average  vote_count\n",
    "    id                                                                            \n",
    "    257            Oliver Twist      20.416   2005-09-23           6.7       274.0\n",
    "    14290  Better Luck Tomorrow       3.877   2002-01-12           6.5        27.0\n",
    "    38365             Grown Ups      38.864   2010-06-24           6.0      1705.0\n",
    "    9672               Infamous       3.681   2006-11-16           6.4        60.0\n",
    "    12819       Alpha and Omega      12.301   2010-09-17           5.3       124.0"
   ]
  },
  {
   "cell_type": "code",
   "execution_count": null,
   "id": "f4f6f8fd-14c5-4562-a557-87a1f5de093d",
   "metadata": {},
   "outputs": [],
   "source": [
    "#With the sequels table on the left, merge to it the financials table on index named id, \n",
    "#ensuring that all the rows from the sequels are returned and some rows from the other table may not be returned, \n",
    "#Save the results to sequels_fin.\n",
    "\n",
    "# Merge sequels and financials on index id\n",
    "sequels_fin = sequels.merge(financials, on = \"id\", how = \"left\")\n",
    "\n",
    "# Self merge with suffixes as inner join with left on sequel and right on id\n",
    "orig_seq = sequels_fin.merge(sequels_fin, how='inner', left_on=\"sequel\", \n",
    "                             right_on=\"id\", right_index=True,\n",
    "                             suffixes=('_org', '_seq'))\n",
    "\n",
    "# Add calculation to subtract revenue_org from revenue_seq \n",
    "orig_seq['diff'] = orig_seq['revenue_seq'] - orig_seq['revenue_org']\n",
    "\n",
    "# Select the title_org, title_seq, and diff \n",
    "titles_diff = orig_seq[['title_org', 'title_seq', 'diff']]\n",
    "\n",
    "Sort by titles_diff by diff in descending order and print the first few rows.\n",
    "print(titles_diff.sort_values('diff', ascending = False).head())\n",
    "\n",
    "#correct output:\n",
    "                   title_org        title_seq       diff\n",
    "    id                                                  \n",
    "    331    Jurassic Park III   Jurassic World  1.145e+09\n",
    "    272        Batman Begins  The Dark Knight  6.303e+08\n",
    "    10138         Iron Man 2       Iron Man 3  5.915e+08\n",
    "    863          Toy Story 2      Toy Story 3  5.696e+08\n",
    "    10764  Quantum of Solace          Skyfall  5.225e+08"
   ]
  },
  {
   "cell_type": "code",
   "execution_count": null,
   "id": "27310f34-7bda-4192-bd43-690e136d9da6",
   "metadata": {},
   "outputs": [],
   "source": []
  }
 ],
 "metadata": {
  "kernelspec": {
   "display_name": "Python 3 (ipykernel)",
   "language": "python",
   "name": "python3"
  },
  "language_info": {
   "codemirror_mode": {
    "name": "ipython",
    "version": 3
   },
   "file_extension": ".py",
   "mimetype": "text/x-python",
   "name": "python",
   "nbconvert_exporter": "python",
   "pygments_lexer": "ipython3",
   "version": "3.11.7"
  }
 },
 "nbformat": 4,
 "nbformat_minor": 5
}
