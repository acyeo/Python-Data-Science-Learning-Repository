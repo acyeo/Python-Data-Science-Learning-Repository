{
 "cells": [
  {
   "cell_type": "code",
   "execution_count": 1,
   "id": "08379406-1cff-40d5-b65c-25427c2d75c7",
   "metadata": {},
   "outputs": [
    {
     "name": "stdout",
     "output_type": "stream",
     "text": [
      "['Ximena', 'Aliza', 'Ayden', 'Calvin', 'Sandeep']\n"
     ]
    }
   ],
   "source": [
    "#Create a list called baby_names with the names 'Ximena', 'Aliza', 'Ayden', and 'Calvin'.\n",
    "#Use the .extend() method on baby_names to add 'Rowen' and 'Sandeep' and print the list.\n",
    "#Use the .index() method to find the position of 'Rowen' in the list. Save the result as position.\n",
    "#Use the .pop() method with position to remove 'Rowen' from the list.\n",
    "\n",
    "# Create a list containing the names: baby_names\n",
    "baby_names = ['Ximena', 'Aliza', 'Ayden', 'Calvin']\n",
    "\n",
    "# Extend baby_names with 'Rowen' and 'Sandeep'\n",
    "baby_names.extend([\"Rowen\", \"Sandeep\"])\n",
    "\n",
    "\n",
    "# Find the position of 'Rowen': position\n",
    "position = baby_names.index(\"Rowen\")\n",
    "\n",
    "# Remove 'Rowen' from baby_names\n",
    "baby_names.pop(position)\n",
    "\n",
    "# Print baby_names\n",
    "print(baby_names)"
   ]
  },
  {
   "cell_type": "code",
   "execution_count": 2,
   "id": "53a2857f-10a6-4e64-ab9d-d3e29046c0b5",
   "metadata": {},
   "outputs": [
    {
     "ename": "NameError",
     "evalue": "name 'records' is not defined",
     "output_type": "error",
     "traceback": [
      "\u001b[0;31m---------------------------------------------------------------------------\u001b[0m",
      "\u001b[0;31mNameError\u001b[0m                                 Traceback (most recent call last)",
      "Cell \u001b[0;32mIn[2], line 4\u001b[0m\n\u001b[1;32m      1\u001b[0m \u001b[38;5;66;03m#Use a list comprehension on records to create a list called baby_names that contains the name, found in the fourth element of row.\u001b[39;00m\n\u001b[1;32m      2\u001b[0m \u001b[38;5;66;03m#Print baby_names in alphabetical order using the sorted() function.\u001b[39;00m\n\u001b[1;32m      3\u001b[0m \u001b[38;5;66;03m# Create the list comprehension: baby_names\u001b[39;00m\n\u001b[0;32m----> 4\u001b[0m baby_names \u001b[38;5;241m=\u001b[39m [item[\u001b[38;5;241m3\u001b[39m] \u001b[38;5;28;01mfor\u001b[39;00m item \u001b[38;5;129;01min\u001b[39;00m records]\n\u001b[1;32m      6\u001b[0m \u001b[38;5;66;03m# Print the sorted baby names in ascending alphabetical order\u001b[39;00m\n\u001b[1;32m      7\u001b[0m \u001b[38;5;28mprint\u001b[39m(\u001b[38;5;28msorted\u001b[39m(baby_names))\n",
      "\u001b[0;31mNameError\u001b[0m: name 'records' is not defined"
     ]
    }
   ],
   "source": [
    "#Use a list comprehension on records to create a list called baby_names that contains the name, found in the fourth element of row.\n",
    "#Print baby_names in alphabetical order using the sorted() function.\n",
    "# Create the list comprehension: baby_names\n",
    "baby_names = [item[3] for item in records]\n",
    "    \n",
    "# Print the sorted baby names in ascending alphabetical order\n",
    "print(sorted(baby_names))"
   ]
  },
  {
   "cell_type": "code",
   "execution_count": 3,
   "id": "8c2b3d7b-20bf-49c6-b14e-d0a1b55a81b5",
   "metadata": {},
   "outputs": [],
   "source": [
    "#Tuples are commonly created by zipping lists together with zip()\n",
    "#top_pairs = list(zip(us_cookies, in_cookies))"
   ]
  },
  {
   "cell_type": "code",
   "execution_count": 4,
   "id": "237b311a-f5d4-4051-b3b7-1d99bda88d37",
   "metadata": {},
   "outputs": [],
   "source": [
    "#Unpacking tuples is a very expressive way for working with data. Most useful in working w/ loops. \n",
    "#from the tuple that zipped lists together above, us_num_1, in_num1 = top_pairs[0]\n",
    "#print(us_num_1) and print(in_num_1) will give us the first item within the respective lists. "
   ]
  },
  {
   "cell_type": "code",
   "execution_count": 5,
   "id": "56ca2368-1115-4503-9ff5-7cfd09883f76",
   "metadata": {},
   "outputs": [],
   "source": [
    "#Another useful tuple creation method is the enumerate() function. \n",
    "#enumerate() is used in loops to return the position and the data in what position while looping. \n",
    "#EX for idx, item in enumerate(top_pairs): \n",
    "#us_cookie, in_cokkie = item\n",
    "#print(idx, us_cookie, in_cookie)\n",
    "# this will give us the index position and the item in us_cookie, in_cookie"
   ]
  },
  {
   "cell_type": "code",
   "execution_count": 6,
   "id": "3b5648e5-231e-452e-9c0d-de98ec3584df",
   "metadata": {},
   "outputs": [
    {
     "name": "stdout",
     "output_type": "stream",
     "text": [
      "<class 'str'>\n",
      "<class 'tuple'>\n"
     ]
    }
   ],
   "source": [
    "# Create the normal variable: normal\n",
    "normal = 'simple'\n",
    "\n",
    "# Create the mistaken variable: error\n",
    "error = 'trailing comma',\n",
    "\n",
    "# Print the types of the variables\n",
    "print(type(normal))\n",
    "print(type(error))"
   ]
  },
  {
   "cell_type": "code",
   "execution_count": 7,
   "id": "ebb71854-c4d9-4304-bcd3-94afa1ecf8fa",
   "metadata": {},
   "outputs": [],
   "source": [
    "#strings"
   ]
  },
  {
   "cell_type": "code",
   "execution_count": 8,
   "id": "f413b764-82c8-49fb-8912-73abd240287a",
   "metadata": {},
   "outputs": [
    {
     "ename": "NameError",
     "evalue": "name 'top_ten_girl_names' is not defined",
     "output_type": "error",
     "traceback": [
      "\u001b[0;31m---------------------------------------------------------------------------\u001b[0m",
      "\u001b[0;31mNameError\u001b[0m                                 Traceback (most recent call last)",
      "Cell \u001b[0;32mIn[8], line 4\u001b[0m\n\u001b[1;32m      1\u001b[0m \u001b[38;5;66;03m#Loop over the top_ten_girl_names list and use tuple unpacking to get the top_ten_rank and name.\u001b[39;00m\n\u001b[1;32m      2\u001b[0m \u001b[38;5;66;03m#Print out each rank and name like this Rank #: 1 - Jada where the number 1 is the rank and Jada is the name.\u001b[39;00m\n\u001b[1;32m      3\u001b[0m \u001b[38;5;66;03m# Loop over top_ten_girl_names and unpack each tuple into top_ten_rank and name\u001b[39;00m\n\u001b[0;32m----> 4\u001b[0m \u001b[38;5;28;01mfor\u001b[39;00m top_ten_rank, name \u001b[38;5;129;01min\u001b[39;00m top_ten_girl_names:\n\u001b[1;32m      5\u001b[0m   \t\u001b[38;5;66;03m# Print each name in the proper format\u001b[39;00m\n\u001b[1;32m      6\u001b[0m     \u001b[38;5;28mprint\u001b[39m(\u001b[38;5;124mf\u001b[39m\u001b[38;5;124m\"\u001b[39m\u001b[38;5;124mRank #: \u001b[39m\u001b[38;5;132;01m{\u001b[39;00mtop_ten_rank\u001b[38;5;132;01m}\u001b[39;00m\u001b[38;5;124m - \u001b[39m\u001b[38;5;132;01m{\u001b[39;00m\u001b[38;5;250m \u001b[39mname\u001b[38;5;250m \u001b[39m\u001b[38;5;132;01m}\u001b[39;00m\u001b[38;5;124m\"\u001b[39m)\n",
      "\u001b[0;31mNameError\u001b[0m: name 'top_ten_girl_names' is not defined"
     ]
    }
   ],
   "source": [
    "#Loop over the top_ten_girl_names list and use tuple unpacking to get the top_ten_rank and name.\n",
    "#Print out each rank and name like this Rank #: 1 - Jada where the number 1 is the rank and Jada is the name.\n",
    "# Loop over top_ten_girl_names and unpack each tuple into top_ten_rank and name\n",
    "for top_ten_rank, name in top_ten_girl_names:\n",
    "  \t# Print each name in the proper format\n",
    "    print(f\"Rank #: {top_ten_rank} - { name }\")\n"
   ]
  },
  {
   "cell_type": "code",
   "execution_count": 9,
   "id": "a514f2bb-41fc-4c68-b5cf-6b4d84319ab3",
   "metadata": {},
   "outputs": [
    {
     "ename": "NameError",
     "evalue": "name 'boy_names' is not defined",
     "output_type": "error",
     "traceback": [
      "\u001b[0;31m---------------------------------------------------------------------------\u001b[0m",
      "\u001b[0;31mNameError\u001b[0m                                 Traceback (most recent call last)",
      "Cell \u001b[0;32mIn[9], line 13\u001b[0m\n\u001b[1;32m     10\u001b[0m conjunction \u001b[38;5;241m=\u001b[39m \u001b[38;5;124m\"\u001b[39m\u001b[38;5;124m, and\u001b[39m\u001b[38;5;124m\"\u001b[39m\n\u001b[1;32m     12\u001b[0m \u001b[38;5;66;03m# Combines the first 9 names in boy_names with a comma and space as first_nine_names\u001b[39;00m\n\u001b[0;32m---> 13\u001b[0m first_nine_names \u001b[38;5;241m=\u001b[39m \u001b[38;5;124m\"\u001b[39m\u001b[38;5;124m, \u001b[39m\u001b[38;5;124m\"\u001b[39m\u001b[38;5;241m.\u001b[39mjoin(boy_names[\u001b[38;5;241m0\u001b[39m:\u001b[38;5;241m9\u001b[39m])\n\u001b[1;32m     15\u001b[0m \u001b[38;5;66;03m# Print f-string preamble, first_nine_names, conjunction, the final item in boy_names and a period\u001b[39;00m\n\u001b[1;32m     16\u001b[0m \u001b[38;5;28mprint\u001b[39m(\u001b[38;5;124mf\u001b[39m\u001b[38;5;124m\"\u001b[39m\u001b[38;5;132;01m{\u001b[39;00mpreamble\u001b[38;5;132;01m}\u001b[39;00m\u001b[38;5;132;01m{\u001b[39;00mfirst_nine_names\u001b[38;5;132;01m}\u001b[39;00m\u001b[38;5;132;01m{\u001b[39;00mconjunction\u001b[38;5;132;01m}\u001b[39;00m\u001b[38;5;124m \u001b[39m\u001b[38;5;132;01m{\u001b[39;00mboy_names[\u001b[38;5;241m-\u001b[39m\u001b[38;5;241m1\u001b[39m]\u001b[38;5;132;01m}\u001b[39;00m\u001b[38;5;124m.\u001b[39m\u001b[38;5;124m\"\u001b[39m)\n",
      "\u001b[0;31mNameError\u001b[0m: name 'boy_names' is not defined"
     ]
    }
   ],
   "source": [
    "#Make a string that contains: The top ten boy names are: and store it as preamble.\n",
    "#Make a string that contains: , and and store it as conjunction.\n",
    "#Make a string that combines the first 9 names in boy_names list with a comma and store it as first_nine_names.\n",
    "#Make an f-string that contains preamble, first_nine_names, conjunction, the final item in boy_names and a period.\n",
    "\n",
    "# The top ten boy names are:  as preamble\n",
    "preamble = \"The top ten boy names are: \"\n",
    "\n",
    "# , and as conjunction\n",
    "conjunction = \", and\"\n",
    "\n",
    "# Combines the first 9 names in boy_names with a comma and space as first_nine_names\n",
    "first_nine_names = \", \".join(boy_names[0:9])\n",
    "\n",
    "# Print f-string preamble, first_nine_names, conjunction, the final item in boy_names and a period\n",
    "print(f\"{preamble}{first_nine_names}{conjunction} {boy_names[-1]}.\")"
   ]
  },
  {
   "cell_type": "code",
   "execution_count": 10,
   "id": "44d6b422-a772-4434-8ff8-e58c163f009a",
   "metadata": {},
   "outputs": [
    {
     "ename": "NameError",
     "evalue": "name 'girl_names' is not defined",
     "output_type": "error",
     "traceback": [
      "\u001b[0;31m---------------------------------------------------------------------------\u001b[0m",
      "\u001b[0;31mNameError\u001b[0m                                 Traceback (most recent call last)",
      "Cell \u001b[0;32mIn[10], line 5\u001b[0m\n\u001b[1;32m      1\u001b[0m \u001b[38;5;66;03m#Store and print a list of girl_names that start with s.\u001b[39;00m\n\u001b[1;32m      2\u001b[0m \u001b[38;5;66;03m#Store and print a list of girl_names with angel in them.\u001b[39;00m\n\u001b[1;32m      3\u001b[0m \n\u001b[1;32m      4\u001b[0m \u001b[38;5;66;03m# Store a list of girl_names that start with s: names_with_s\u001b[39;00m\n\u001b[0;32m----> 5\u001b[0m names_with_s \u001b[38;5;241m=\u001b[39m [name \u001b[38;5;28;01mfor\u001b[39;00m name \u001b[38;5;129;01min\u001b[39;00m girl_names \u001b[38;5;28;01mif\u001b[39;00m name\u001b[38;5;241m.\u001b[39mlower()\u001b[38;5;241m.\u001b[39mstartswith(\u001b[38;5;124m'\u001b[39m\u001b[38;5;124ms\u001b[39m\u001b[38;5;124m'\u001b[39m)]\n\u001b[1;32m      7\u001b[0m \u001b[38;5;28mprint\u001b[39m(names_with_s)\n\u001b[1;32m      9\u001b[0m \u001b[38;5;66;03m# Store a list of girl_names that contain angel: names_with_angel\u001b[39;00m\n",
      "\u001b[0;31mNameError\u001b[0m: name 'girl_names' is not defined"
     ]
    }
   ],
   "source": [
    "#Store and print a list of girl_names that start with s.\n",
    "#Store and print a list of girl_names with angel in them.\n",
    "\n",
    "# Store a list of girl_names that start with s: names_with_s\n",
    "names_with_s = [name for name in girl_names if name.lower().startswith('s')]\n",
    "\n",
    "print(names_with_s)\n",
    "\n",
    "# Store a list of girl_names that contain angel: names_with_angel\n",
    "names_with_angel = [name for name in girl_names if 'angel' in name.lower()]\n",
    "\n",
    "print(names_with_angel)"
   ]
  },
  {
   "cell_type": "code",
   "execution_count": null,
   "id": "e6db8f4a-3d61-4f9b-8c23-503ed0fb2b59",
   "metadata": {},
   "outputs": [],
   "source": []
  }
 ],
 "metadata": {
  "kernelspec": {
   "display_name": "Python 3 (ipykernel)",
   "language": "python",
   "name": "python3"
  },
  "language_info": {
   "codemirror_mode": {
    "name": "ipython",
    "version": 3
   },
   "file_extension": ".py",
   "mimetype": "text/x-python",
   "name": "python",
   "nbconvert_exporter": "python",
   "pygments_lexer": "ipython3",
   "version": "3.11.7"
  }
 },
 "nbformat": 4,
 "nbformat_minor": 5
}
