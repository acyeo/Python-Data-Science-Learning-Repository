{
 "cells": [
  {
   "cell_type": "code",
   "execution_count": 2,
   "id": "507b22ca-df14-45e4-9254-152676c9454e",
   "metadata": {},
   "outputs": [
    {
     "data": {
      "text/plain": [
       "{3.14159, False, 'Thorium'}"
      ]
     },
     "execution_count": 2,
     "metadata": {},
     "output_type": "execute_result"
    }
   ],
   "source": [
    "#sets are useful when working w/ data and the order or frequency of the values don't matter\n",
    "#when trying to add a value that's already stored or present in a set, the code will ignore it. See example below\n",
    "example = set()\n",
    "example.add(42)\n",
    "example.add(False)\n",
    "example.add(3.14159)\n",
    "example.add(\"Thorium\")\n",
    "example\n",
    "example.add(42)\n",
    "example\n",
    "#removing an element from a set\n",
    "example.remove(42) \n",
    "len(example)\n",
    "example"
   ]
  },
  {
   "cell_type": "code",
   "execution_count": 7,
   "id": "3d2db481-fb04-45be-9865-3ac02a66a2fc",
   "metadata": {},
   "outputs": [
    {
     "data": {
      "text/plain": [
       "4"
      ]
     },
     "execution_count": 7,
     "metadata": {},
     "output_type": "execute_result"
    }
   ],
   "source": [
    "#identify the length of the set\n",
    "len(example)"
   ]
  },
  {
   "cell_type": "code",
   "execution_count": 16,
   "id": "60a3914e-b413-4e08-8ae7-56fee4c6e2a8",
   "metadata": {},
   "outputs": [
    {
     "data": {
      "text/plain": [
       "4"
      ]
     },
     "execution_count": 16,
     "metadata": {},
     "output_type": "execute_result"
    }
   ],
   "source": [
    "#second way to create a set that's faster!\n",
    "example2 = set([28, True, 2.718, \"helium\"])\n",
    "len(example2)"
   ]
  },
  {
   "cell_type": "code",
   "execution_count": 20,
   "id": "c5810c0c-e8fb-4c15-9dd4-b483451f95ca",
   "metadata": {},
   "outputs": [
    {
     "data": {
      "text/plain": [
       "0"
      ]
     },
     "execution_count": 20,
     "metadata": {},
     "output_type": "execute_result"
    }
   ],
   "source": [
    "#to empty out the set and clear all elements see below\n",
    "example2.clear()\n",
    "len(example2)"
   ]
  },
  {
   "cell_type": "code",
   "execution_count": 21,
   "id": "b08ae76f-f4e7-4d50-a873-8a7bd7db2aa0",
   "metadata": {},
   "outputs": [
    {
     "data": {
      "text/plain": [
       "{1, 2, 3, 4, 5, 6, 7, 8, 9, 10}"
      ]
     },
     "execution_count": 21,
     "metadata": {},
     "output_type": "execute_result"
    }
   ],
   "source": [
    "#Integers 1- 10\n",
    "odds = set([1, 3, 5, 7, 9])\n",
    "evens = set([2, 4, 6, 8, 10])\n",
    "primes = set([2, 3, 5, 7])\n",
    "composites = set([4, 6, 8, 9, 10])\n",
    "\n",
    "odds.union(evens)"
   ]
  },
  {
   "cell_type": "code",
   "execution_count": 22,
   "id": "c425ddec-00bd-47c4-b290-bc759b92eaa5",
   "metadata": {},
   "outputs": [
    {
     "data": {
      "text/plain": [
       "{1, 2, 3, 4, 5, 6, 7, 8, 9, 10}"
      ]
     },
     "execution_count": 22,
     "metadata": {},
     "output_type": "execute_result"
    }
   ],
   "source": [
    "evens.union(odds)"
   ]
  },
  {
   "cell_type": "code",
   "execution_count": 23,
   "id": "7dd7622b-7dce-4e3a-ad13-2c23e0c45362",
   "metadata": {},
   "outputs": [
    {
     "data": {
      "text/plain": [
       "{1, 3, 5, 7, 9}"
      ]
     },
     "execution_count": 23,
     "metadata": {},
     "output_type": "execute_result"
    }
   ],
   "source": [
    "odds"
   ]
  },
  {
   "cell_type": "code",
   "execution_count": 24,
   "id": "e0cd4703-1faf-46bf-8232-4bf915c92713",
   "metadata": {},
   "outputs": [
    {
     "data": {
      "text/plain": [
       "{2, 4, 6, 8, 10}"
      ]
     },
     "execution_count": 24,
     "metadata": {},
     "output_type": "execute_result"
    }
   ],
   "source": [
    "evens"
   ]
  },
  {
   "cell_type": "code",
   "execution_count": 25,
   "id": "cbfc853f-7b48-43f7-9b60-06b46f773aed",
   "metadata": {},
   "outputs": [
    {
     "data": {
      "text/plain": [
       "{3, 5, 7}"
      ]
     },
     "execution_count": 25,
     "metadata": {},
     "output_type": "execute_result"
    }
   ],
   "source": [
    "#find the odd prime numbers of Integers 1-10\n",
    "odds.intersection(primes)"
   ]
  },
  {
   "cell_type": "code",
   "execution_count": 26,
   "id": "e194c236-9c7b-4d1a-9156-fe6ccc233fed",
   "metadata": {},
   "outputs": [
    {
     "data": {
      "text/plain": [
       "{2}"
      ]
     },
     "execution_count": 26,
     "metadata": {},
     "output_type": "execute_result"
    }
   ],
   "source": [
    "#Find the even prime number\n",
    "primes.intersection(evens)"
   ]
  },
  {
   "cell_type": "code",
   "execution_count": 27,
   "id": "62a68786-4272-4dc3-8d0d-771de78bd810",
   "metadata": {},
   "outputs": [
    {
     "data": {
      "text/plain": [
       "set()"
      ]
     },
     "execution_count": 27,
     "metadata": {},
     "output_type": "execute_result"
    }
   ],
   "source": [
    "#See if there's any evens in odd numbers\n",
    "evens.intersection(odds)"
   ]
  },
  {
   "cell_type": "code",
   "execution_count": 28,
   "id": "514c6c99-c73b-4540-83a5-53c7ed02b239",
   "metadata": {},
   "outputs": [
    {
     "data": {
      "text/plain": [
       "{2, 3, 4, 5, 6, 7, 8, 9, 10}"
      ]
     },
     "execution_count": 28,
     "metadata": {},
     "output_type": "execute_result"
    }
   ],
   "source": [
    "#union of prime and composite numbers. 1 is missing bc it's neither prime nor composite.\n",
    "primes.union(composites)"
   ]
  },
  {
   "cell_type": "code",
   "execution_count": 29,
   "id": "ca360df1-ceaf-4c40-9344-b465b405c516",
   "metadata": {},
   "outputs": [
    {
     "data": {
      "text/plain": [
       "True"
      ]
     },
     "execution_count": 29,
     "metadata": {},
     "output_type": "execute_result"
    }
   ],
   "source": [
    "#determine if 2 is in set of prime numbers. \n",
    "2 in primes"
   ]
  },
  {
   "cell_type": "code",
   "execution_count": 30,
   "id": "de34bd3a-d4d6-4518-ae39-f212916256ba",
   "metadata": {},
   "outputs": [
    {
     "data": {
      "text/plain": [
       "False"
      ]
     },
     "execution_count": 30,
     "metadata": {},
     "output_type": "execute_result"
    }
   ],
   "source": [
    "6 in odds"
   ]
  },
  {
   "cell_type": "code",
   "execution_count": 31,
   "id": "0c5ffc7e-58f7-4877-98b8-a24a370c2c04",
   "metadata": {},
   "outputs": [
    {
     "data": {
      "text/plain": [
       "True"
      ]
     },
     "execution_count": 31,
     "metadata": {},
     "output_type": "execute_result"
    }
   ],
   "source": [
    "9 not in evens"
   ]
  },
  {
   "cell_type": "code",
   "execution_count": null,
   "id": "822cac38-422c-4400-85aa-ab95627264ce",
   "metadata": {},
   "outputs": [],
   "source": [
    "#Use a list comprehension to iterate over each penguin in penguins saved as female_species_list:\n",
    "#If the the sex of the penguin is 'FEMALE', return the species value.\n",
    "#Create a set using the female_species_list as female_penguin_species.\n",
    "#Find the difference between female_penguin_species and male_penguin_species. Store the result as differences.\n",
    "#Print the differences. This has been done for you, so hit 'Submit Answer' to see the result!"
   ]
  },
  {
   "cell_type": "code",
   "execution_count": null,
   "id": "3e40d20c-f1aa-4d05-8cc6-6717babb9b94",
   "metadata": {},
   "outputs": [],
   "source": [
    "# Use a list comprehension to iterate over each penguin in penguins saved as female_species_list\n",
    "# If the the sex of the penguin is 'FEMALE', return the species value\n",
    "female_species_list = [penguin[\"species\"] for penguin in penguins if penguin[\"sex\"] == 'FEMALE']\n",
    "\n",
    "# Create a set using the female_species_list as female_penguin_species\n",
    "female_penguin_species = set(female_species_list)\n",
    "\n",
    "# Find the difference between female_penguin_species and male_penguin_species. Store the result as differences\n",
    "differences = female_penguin_species.difference(male_penguin_species)\n",
    "\n",
    "# Print the differences\n",
    "print(differences)\n",
    "\n",
    "#correct output\n",
    "{'Chinstrap'}"
   ]
  },
  {
   "cell_type": "code",
   "execution_count": null,
   "id": "9985b364-f022-4670-a902-6c862c28eeca",
   "metadata": {},
   "outputs": [],
   "source": [
    "# Find the union: all_species\n",
    "all_species = female_penguin_species.union(male_penguin_species)\n",
    "\n",
    "# Print the count of names in all_species\n",
    "print(len(all_species))\n",
    "\n",
    "# Find the intersection: overlapping_species\n",
    "overlapping_species = female_penguin_species.intersection(male_penguin_species)\n",
    "\n",
    "# Print the count of species in overlapping_species\n",
    "print(len(overlapping_species))\n",
    "\n",
    "#correct output:\n",
    "3\n",
    "2"
   ]
  }
 ],
 "metadata": {
  "kernelspec": {
   "display_name": "Python 3 (ipykernel)",
   "language": "python",
   "name": "python3"
  },
  "language_info": {
   "codemirror_mode": {
    "name": "ipython",
    "version": 3
   },
   "file_extension": ".py",
   "mimetype": "text/x-python",
   "name": "python",
   "nbconvert_exporter": "python",
   "pygments_lexer": "ipython3",
   "version": "3.11.7"
  }
 },
 "nbformat": 4,
 "nbformat_minor": 5
}
