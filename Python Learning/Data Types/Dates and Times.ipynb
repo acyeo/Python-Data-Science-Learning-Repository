{
 "cells": [
  {
   "cell_type": "code",
   "execution_count": 2,
   "id": "9ce75f66-8197-4b79-96d4-e029690333ee",
   "metadata": {},
   "outputs": [],
   "source": [
    "import datetime"
   ]
  },
  {
   "cell_type": "code",
   "execution_count": 3,
   "id": "c48fc350-64a7-4fbd-8d24-2a6e1c757244",
   "metadata": {},
   "outputs": [
    {
     "data": {
      "text/plain": [
       "['MAXYEAR',\n",
       " 'MINYEAR',\n",
       " 'UTC',\n",
       " '__all__',\n",
       " '__builtins__',\n",
       " '__cached__',\n",
       " '__doc__',\n",
       " '__file__',\n",
       " '__loader__',\n",
       " '__name__',\n",
       " '__package__',\n",
       " '__spec__',\n",
       " 'date',\n",
       " 'datetime',\n",
       " 'datetime_CAPI',\n",
       " 'sys',\n",
       " 'time',\n",
       " 'timedelta',\n",
       " 'timezone',\n",
       " 'tzinfo']"
      ]
     },
     "execution_count": 3,
     "metadata": {},
     "output_type": "execute_result"
    }
   ],
   "source": [
    "dir(datetime)"
   ]
  },
  {
   "cell_type": "code",
   "execution_count": 4,
   "id": "521e3df0-b01d-4a65-af3b-6cbe74363c7c",
   "metadata": {},
   "outputs": [
    {
     "name": "stdout",
     "output_type": "stream",
     "text": [
      "Help on class date in module datetime:\n",
      "\n",
      "class date(builtins.object)\n",
      " |  date(year, month, day) --> date object\n",
      " |  \n",
      " |  Methods defined here:\n",
      " |  \n",
      " |  __add__(self, value, /)\n",
      " |      Return self+value.\n",
      " |  \n",
      " |  __eq__(self, value, /)\n",
      " |      Return self==value.\n",
      " |  \n",
      " |  __format__(...)\n",
      " |      Formats self with strftime.\n",
      " |  \n",
      " |  __ge__(self, value, /)\n",
      " |      Return self>=value.\n",
      " |  \n",
      " |  __getattribute__(self, name, /)\n",
      " |      Return getattr(self, name).\n",
      " |  \n",
      " |  __gt__(self, value, /)\n",
      " |      Return self>value.\n",
      " |  \n",
      " |  __hash__(self, /)\n",
      " |      Return hash(self).\n",
      " |  \n",
      " |  __le__(self, value, /)\n",
      " |      Return self<=value.\n",
      " |  \n",
      " |  __lt__(self, value, /)\n",
      " |      Return self<value.\n",
      " |  \n",
      " |  __ne__(self, value, /)\n",
      " |      Return self!=value.\n",
      " |  \n",
      " |  __radd__(self, value, /)\n",
      " |      Return value+self.\n",
      " |  \n",
      " |  __reduce__(...)\n",
      " |      __reduce__() -> (cls, state)\n",
      " |  \n",
      " |  __repr__(self, /)\n",
      " |      Return repr(self).\n",
      " |  \n",
      " |  __rsub__(self, value, /)\n",
      " |      Return value-self.\n",
      " |  \n",
      " |  __str__(self, /)\n",
      " |      Return str(self).\n",
      " |  \n",
      " |  __sub__(self, value, /)\n",
      " |      Return self-value.\n",
      " |  \n",
      " |  ctime(...)\n",
      " |      Return ctime() style string.\n",
      " |  \n",
      " |  isocalendar(...)\n",
      " |      Return a named tuple containing ISO year, week number, and weekday.\n",
      " |  \n",
      " |  isoformat(...)\n",
      " |      Return string in ISO 8601 format, YYYY-MM-DD.\n",
      " |  \n",
      " |  isoweekday(...)\n",
      " |      Return the day of the week represented by the date.\n",
      " |      Monday == 1 ... Sunday == 7\n",
      " |  \n",
      " |  replace(...)\n",
      " |      Return date with new specified fields.\n",
      " |  \n",
      " |  strftime(...)\n",
      " |      format -> strftime() style string.\n",
      " |  \n",
      " |  timetuple(...)\n",
      " |      Return time tuple, compatible with time.localtime().\n",
      " |  \n",
      " |  toordinal(...)\n",
      " |      Return proleptic Gregorian ordinal.  January 1 of year 1 is day 1.\n",
      " |  \n",
      " |  weekday(...)\n",
      " |      Return the day of the week represented by the date.\n",
      " |      Monday == 0 ... Sunday == 6\n",
      " |  \n",
      " |  ----------------------------------------------------------------------\n",
      " |  Class methods defined here:\n",
      " |  \n",
      " |  fromisocalendar(...) from builtins.type\n",
      " |      int, int, int -> Construct a date from the ISO year, week number and weekday.\n",
      " |      \n",
      " |      This is the inverse of the date.isocalendar() function\n",
      " |  \n",
      " |  fromisoformat(...) from builtins.type\n",
      " |      str -> Construct a date from a string in ISO 8601 format.\n",
      " |  \n",
      " |  fromordinal(...) from builtins.type\n",
      " |      int -> date corresponding to a proleptic Gregorian ordinal.\n",
      " |  \n",
      " |  fromtimestamp(timestamp, /) from builtins.type\n",
      " |      Create a date from a POSIX timestamp.\n",
      " |      \n",
      " |      The timestamp is a number, e.g. created via time.time(), that is interpreted\n",
      " |      as local time.\n",
      " |  \n",
      " |  today(...) from builtins.type\n",
      " |      Current date or datetime:  same as self.__class__.fromtimestamp(time.time()).\n",
      " |  \n",
      " |  ----------------------------------------------------------------------\n",
      " |  Static methods defined here:\n",
      " |  \n",
      " |  __new__(*args, **kwargs) from builtins.type\n",
      " |      Create and return a new object.  See help(type) for accurate signature.\n",
      " |  \n",
      " |  ----------------------------------------------------------------------\n",
      " |  Data descriptors defined here:\n",
      " |  \n",
      " |  day\n",
      " |  \n",
      " |  month\n",
      " |  \n",
      " |  year\n",
      " |  \n",
      " |  ----------------------------------------------------------------------\n",
      " |  Data and other attributes defined here:\n",
      " |  \n",
      " |  max = datetime.date(9999, 12, 31)\n",
      " |  \n",
      " |  min = datetime.date(1, 1, 1)\n",
      " |  \n",
      " |  resolution = datetime.timedelta(days=1)\n",
      "\n"
     ]
    }
   ],
   "source": [
    "help(datetime.date)"
   ]
  },
  {
   "cell_type": "code",
   "execution_count": 10,
   "id": "b53a8b9f-3c9c-4c08-976b-bfc8b53d4199",
   "metadata": {},
   "outputs": [
    {
     "name": "stdout",
     "output_type": "stream",
     "text": [
      "1956-01-31\n",
      "Tuesday, January, 31, 1956\n",
      "GVR was born on Tuesday, January 31, 1956.\n"
     ]
    }
   ],
   "source": [
    "gvr = datetime.date(1956, 1, 31)\n",
    "print(gvr)\n",
    "#Let's change the format of date. The code values for changing formats can be found online. \n",
    "print(gvr.strftime(\"%A, %B, %d, %Y\"))\n",
    "#make a string that shows this. \n",
    "message = \"GVR was born on {:%A, %B %d, %Y}.\"\n",
    "print(message.format(gvr))"
   ]
  },
  {
   "cell_type": "code",
   "execution_count": 7,
   "id": "066f3ad2-4aa1-429c-b092-8fc5a50b549c",
   "metadata": {},
   "outputs": [
    {
     "name": "stdout",
     "output_type": "stream",
     "text": [
      "2000-04-10\n"
     ]
    }
   ],
   "source": [
    "#example find out what 100 days from a specified date comes out to \n",
    "mill = datetime.date(2000, 1, 1)\n",
    "dt = datetime.timedelta(100)\n",
    "print(mill +dt)"
   ]
  },
  {
   "cell_type": "code",
   "execution_count": 13,
   "id": "31ab592e-9598-450e-9044-5b782f2a831b",
   "metadata": {},
   "outputs": [
    {
     "name": "stdout",
     "output_type": "stream",
     "text": [
      "2017-03-30\n",
      "22:27:00\n",
      "2017-03-30 22:27:00\n",
      "22\n",
      "27\n",
      "0\n",
      "2017\n",
      "3\n",
      "30\n",
      "22\n",
      "27\n",
      "0\n"
     ]
    }
   ],
   "source": [
    "#SpaceEx's first launch of a reusable rocket. \n",
    "launch_date = datetime.date(2017, 3, 30)\n",
    "#time module comes in format (hours, minutes, sec.)\n",
    "launch_time = datetime.time(22, 27, 0)\n",
    "launch_datetime = datetime.datetime(2017, 3, 30, 22, 27, 0)\n",
    "print(launch_date)\n",
    "print(launch_time)\n",
    "print(launch_datetime)\n",
    "\n",
    "print(launch_time.hour)\n",
    "\n",
    "print(launch_time.minute)\n",
    "\n",
    "print(launch_time.second)\n",
    "\n",
    "print(launch_datetime.year)\n",
    "\n",
    "print(launch_datetime. month)\n",
    "\n",
    "print(launch_datetime.day)\n",
    "\n",
    "print(launch_datetime.hour)\n",
    "\n",
    "print(launch_datetime.minute)\n",
    "\n",
    "print(launch_datetime.second)"
   ]
  },
  {
   "cell_type": "code",
   "execution_count": 16,
   "id": "bf05e8d3-fe22-43fa-915e-90d45219c97f",
   "metadata": {},
   "outputs": [
    {
     "name": "stdout",
     "output_type": "stream",
     "text": [
      "2024-06-13 17:39:56.718196\n",
      "718196\n"
     ]
    }
   ],
   "source": [
    "#Accessing current datetime\n",
    "now = datetime.datetime.today()\n",
    "print(now)\n",
    "#834811 is the microsecond. \n",
    "print(now.microsecond)"
   ]
  },
  {
   "cell_type": "code",
   "execution_count": 18,
   "id": "f1e18699-68fb-43fd-ac42-407d79a28c92",
   "metadata": {},
   "outputs": [
    {
     "name": "stdout",
     "output_type": "stream",
     "text": [
      "1969-07-20 00:00:00\n",
      "<class 'datetime.datetime'>\n"
     ]
    }
   ],
   "source": [
    "#convert strings to datetime object = strptime()\n",
    "moon_landing = \"7/20/1969\"\n",
    "moon_landing_datetime = datetime.datetime.strptime(moon_landing, \"%m/%d/%Y\")\n",
    "print(moon_landing_datetime)\n",
    "print(type(moon_landing_datetime))"
   ]
  },
  {
   "cell_type": "code",
   "execution_count": null,
   "id": "53927b1a-d826-4518-b14a-2da063d9f0ea",
   "metadata": {},
   "outputs": [],
   "source": []
  }
 ],
 "metadata": {
  "kernelspec": {
   "display_name": "Python 3 (ipykernel)",
   "language": "python",
   "name": "python3"
  },
  "language_info": {
   "codemirror_mode": {
    "name": "ipython",
    "version": 3
   },
   "file_extension": ".py",
   "mimetype": "text/x-python",
   "name": "python",
   "nbconvert_exporter": "python",
   "pygments_lexer": "ipython3",
   "version": "3.11.7"
  }
 },
 "nbformat": 4,
 "nbformat_minor": 5
}
