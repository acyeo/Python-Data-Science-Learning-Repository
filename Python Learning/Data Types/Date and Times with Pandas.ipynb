{
 "cells": [
  {
   "cell_type": "code",
   "execution_count": 1,
   "id": "f1c21292-9baa-48ef-a10a-b6713575426d",
   "metadata": {},
   "outputs": [],
   "source": [
    "import pandas as pd"
   ]
  },
  {
   "cell_type": "code",
   "execution_count": 2,
   "id": "d3e1fdda-e9b8-4e8e-8a16-3a687777247b",
   "metadata": {},
   "outputs": [],
   "source": [
    "#parse dates with the column specific column names\n",
    "#rides = pd.read_csv('capital-onebike.csv', parse_dates = ['Start date', 'End date'])\n",
    "#specify the date time manually \n",
    "#rides['Start date'] = pd.to_datetime(rides['start date'], format = \"%Y-%m-%d %H:%M:%S\")\n",
    "#select start date for row 2\n",
    "#rides['Start date'].iloc[2]\n",
    "#result is Timestamp('2017-10-02 06:37:10')"
   ]
  },
  {
   "cell_type": "code",
   "execution_count": 3,
   "id": "49065a91-abe0-478c-be4d-2daa2907a765",
   "metadata": {},
   "outputs": [],
   "source": [
    "#Timezone-aware arithmetic\n",
    "#create a duration column\n",
    "#rides['Duration'] = rides['End date'] - rides['Start date']\n",
    "#print the first 5 rows\n",
    "#print(rides['Duration'].head(5))\n",
    "#Convert our durations to seconds\n",
    "#rides['Duration']\\\n",
    "#.dt.total_seconds()\\\n",
    "#.head(5)"
   ]
  },
  {
   "cell_type": "code",
   "execution_count": 4,
   "id": "d9a806bb-4544-41e7-8312-442e45bfe2c0",
   "metadata": {},
   "outputs": [
    {
     "ename": "SyntaxError",
     "evalue": "invalid syntax (340897787.py, line 12)",
     "output_type": "error",
     "traceback": [
      "\u001b[0;36m  Cell \u001b[0;32mIn[4], line 12\u001b[0;36m\u001b[0m\n\u001b[0;31m    <script.py> output:\u001b[0m\n\u001b[0m    ^\u001b[0m\n\u001b[0;31mSyntaxError\u001b[0m\u001b[0;31m:\u001b[0m invalid syntax\n"
     ]
    }
   ],
   "source": [
    "#Subtract the Start date column from the End date column to get a Series of timedeltas; assign the result to ride_durations.\n",
    "#Convert ride_durations into seconds and assign the result to the 'Duration' column of rides.\n",
    "\n",
    "# Subtract the start date from the end date\n",
    "ride_durations = rides['End date'] - rides['Start date']\n",
    "\n",
    "# Convert the results to seconds\n",
    "rides['Duration'] = ride_durations.dt.total_seconds()\n",
    "\n",
    "print(rides['Duration'].head())\n",
    "\n",
    "<script.py> output:\n",
    "    0     181.0\n",
    "    1    7622.0\n",
    "    2     343.0\n",
    "    3    1278.0\n",
    "    4    1277.0\n",
    "    Name: Duration, dtype: float64"
   ]
  },
  {
   "cell_type": "code",
   "execution_count": 5,
   "id": "1408a9da-7f0b-4171-9670-955f0fa6b502",
   "metadata": {},
   "outputs": [],
   "source": [
    "#Summarizing datetime data in Pandas\n",
    "#You can call mean, median, mode on any time column\n",
    "#you can also find sum of the column of datetime. \n",
    "#finding percent of time out of the doc\n",
    "#e.g rides['Duration'].sum/timedelta(days=91)"
   ]
  },
  {
   "cell_type": "code",
   "execution_count": 6,
   "id": "54f46e0d-87ba-427a-b8e2-d5a341aee87d",
   "metadata": {},
   "outputs": [],
   "source": [
    "#find how many times a given value appears in a column\n",
    "#e.g rides['Member type'].value_counts()\n",
    "#e.g finding percent of rides by member rides['Member type'].value_counts()/len(rides)"
   ]
  },
  {
   "cell_type": "code",
   "execution_count": 7,
   "id": "c4cb817c-ab52-44d8-a148-36a4c9c3495b",
   "metadata": {},
   "outputs": [],
   "source": [
    "# Add duration (in seconds) column\n",
    "#rides['Duration secondns'] = rides['Duration'].dt.total_seconds()\n",
    "#average duration per member type\n",
    "#rides.groupby(\"Member type\")['Duration seconds'].mean()\n",
    "#Find Average duration by month using the resample method\n",
    "#'M' stands for month within a datetime column\n",
    "#rides.resample('M',  on = 'Start date')['Duration seconds'].mean()"
   ]
  },
  {
   "cell_type": "code",
   "execution_count": 8,
   "id": "5eaf59df-d1b0-405a-87ae-024ffa7d394d",
   "metadata": {},
   "outputs": [],
   "source": [
    "#lookin for size per group\n",
    "#rides.groupby('Member type').size() \n",
    "#get the first row of each group \n",
    "#rides.groupby('Member type').first()"
   ]
  },
  {
   "cell_type": "code",
   "execution_count": 9,
   "id": "f30136c4-01e5-4024-a62b-8a561fa7648b",
   "metadata": {},
   "outputs": [],
   "source": [
    "#plotting summarized date time \n",
    "#rides\\\n",
    "#.resample('M',  on = 'Start date')\\ #thhis is x-axis\n",
    "#['Duration seconds']\\   #This is y-axis\n",
    "#.mean()\\\n",
    "#.plot()"
   ]
  },
  {
   "cell_type": "code",
   "execution_count": 10,
   "id": "9e917921-d40c-4436-9e52-8705f00065fc",
   "metadata": {},
   "outputs": [
    {
     "ename": "SyntaxError",
     "evalue": "invalid syntax (254667182.py, line 19)",
     "output_type": "error",
     "traceback": [
      "\u001b[0;36m  Cell \u001b[0;32mIn[10], line 19\u001b[0;36m\u001b[0m\n\u001b[0;31m    6 rides were joyrides\u001b[0m\n\u001b[0m      ^\u001b[0m\n\u001b[0;31mSyntaxError\u001b[0m\u001b[0;31m:\u001b[0m invalid syntax\n"
     ]
    }
   ],
   "source": [
    "#Create a Pandas Series which is True when Start station and End station are the same, and assign the result to joyrides.\n",
    "#Calculate the median duration of all rides.\n",
    "#Calculate the median duration of joyrides.\n",
    "\n",
    "# Create joyrides\n",
    "joyrides = (rides['Start station'] == rides['End station'])\n",
    "\n",
    "# Total number of joyrides\n",
    "print(\"{} rides were joyrides\".format(joyrides.sum()))\n",
    "\n",
    "# Median of all rides\n",
    "print(\"The median duration overall was {:.2f} seconds\"\\\n",
    "      .format(rides['Duration'].median()))\n",
    "\n",
    "# Median of joyrides\n",
    "print(\"The median duration for joyrides was {:.2f} seconds\"\\\n",
    "      .format(rides[joyrides]['Duration'].median()))\n",
    "\n",
    "6 rides were joyrides\n",
    "The median duration overall was 660.00 seconds\n",
    "The median duration for joyrides was 2642.50 seconds"
   ]
  },
  {
   "cell_type": "code",
   "execution_count": 11,
   "id": "60093e64-2698-4243-8295-b87964502a20",
   "metadata": {},
   "outputs": [
    {
     "ename": "NameError",
     "evalue": "name 'rides' is not defined",
     "output_type": "error",
     "traceback": [
      "\u001b[0;31m---------------------------------------------------------------------------\u001b[0m",
      "\u001b[0;31mNameError\u001b[0m                                 Traceback (most recent call last)",
      "Cell \u001b[0;32mIn[11], line 8\u001b[0m\n\u001b[1;32m      5\u001b[0m \u001b[38;5;28;01mimport\u001b[39;00m \u001b[38;5;21;01mmatplotlib\u001b[39;00m\u001b[38;5;21;01m.\u001b[39;00m\u001b[38;5;21;01mpyplot\u001b[39;00m \u001b[38;5;28;01mas\u001b[39;00m \u001b[38;5;21;01mplt\u001b[39;00m\n\u001b[1;32m      7\u001b[0m \u001b[38;5;66;03m# Resample rides to daily, take the size, plot the results\u001b[39;00m\n\u001b[0;32m----> 8\u001b[0m rides\u001b[38;5;241m.\u001b[39mresample(\u001b[38;5;124m'\u001b[39m\u001b[38;5;124mD\u001b[39m\u001b[38;5;124m'\u001b[39m, on \u001b[38;5;241m=\u001b[39m \u001b[38;5;124m'\u001b[39m\u001b[38;5;124mStart date\u001b[39m\u001b[38;5;124m'\u001b[39m)\\\n\u001b[1;32m      9\u001b[0m   \u001b[38;5;241m.\u001b[39msize()\\\n\u001b[1;32m     10\u001b[0m   \u001b[38;5;241m.\u001b[39mplot(ylim \u001b[38;5;241m=\u001b[39m [\u001b[38;5;241m0\u001b[39m, \u001b[38;5;241m15\u001b[39m])\n\u001b[1;32m     12\u001b[0m \u001b[38;5;66;03m# Show the results\u001b[39;00m\n\u001b[1;32m     13\u001b[0m plt\u001b[38;5;241m.\u001b[39mshow()\n",
      "\u001b[0;31mNameError\u001b[0m: name 'rides' is not defined"
     ]
    }
   ],
   "source": [
    "#Resample rides to the daily level, based on the Start date column.\n",
    "#Plot the .size() of each result.\n",
    "\n",
    "# Import matplotlib\n",
    "import matplotlib.pyplot as plt\n",
    "\n",
    "# Resample rides to daily, take the size, plot the results\n",
    "rides.resample('D', on = 'Start date')\\\n",
    "  .size()\\\n",
    "  .plot(ylim = [0, 15])\n",
    "\n",
    "# Show the results\n",
    "plt.show()"
   ]
  },
  {
   "cell_type": "code",
   "execution_count": 12,
   "id": "58d6c613-db07-4883-9c5a-ffa384b14aab",
   "metadata": {},
   "outputs": [
    {
     "ename": "SyntaxError",
     "evalue": "invalid syntax (2780276693.py, line 11)",
     "output_type": "error",
     "traceback": [
      "\u001b[0;36m  Cell \u001b[0;32mIn[12], line 11\u001b[0;36m\u001b[0m\n\u001b[0;31m    Start date  Member type\u001b[0m\n\u001b[0m          ^\u001b[0m\n\u001b[0;31mSyntaxError\u001b[0m\u001b[0;31m:\u001b[0m invalid syntax\n"
     ]
    }
   ],
   "source": [
    "#Set monthly_rides to be a resampled version of rides, by month, based on start date.\n",
    "#Use the method .value_counts() to find out how many Member and Casual rides there were, \n",
    "#and divide them by the total number of rides per month.\n",
    "\n",
    "# Resample rides to be monthly on the basis of Start date\n",
    "monthly_rides = rides.resample('M', on = 'Start date')['Member type']\n",
    "\n",
    "# Take the ratio of the .value_counts() over the total number of rides\n",
    "print(monthly_rides.value_counts() / monthly_rides.size())\n",
    "\n",
    "Start date  Member type\n",
    "2017-10-31  Member         0.769\n",
    "            Casual         0.231\n",
    "2017-11-30  Member         0.825\n",
    "            Casual         0.175\n",
    "2017-12-31  Member         0.861\n",
    "            Casual         0.139\n",
    "Name: Member type, dtype: float64"
   ]
  },
  {
   "cell_type": "code",
   "execution_count": 1,
   "id": "a527095f-c108-4633-a493-8a6fe59b6041",
   "metadata": {},
   "outputs": [
    {
     "ename": "SyntaxError",
     "evalue": "invalid syntax (1224241433.py, line 12)",
     "output_type": "error",
     "traceback": [
      "\u001b[0;36m  Cell \u001b[0;32mIn[1], line 12\u001b[0;36m\u001b[0m\n\u001b[0;31m    <script.py> output:\u001b[0m\n\u001b[0m    ^\u001b[0m\n\u001b[0;31mSyntaxError\u001b[0m\u001b[0;31m:\u001b[0m invalid syntax\n"
     ]
    }
   ],
   "source": [
    "#Complete the .groupby() call to group by 'Member type', \n",
    "#and the .resample() call to resample according to 'Start date', by month.\n",
    "#Print the median Duration for each group.\n",
    "\n",
    "# Group rides by member type, and resample to the month\n",
    "grouped = rides.groupby('Member type')\\\n",
    "  .resample('M', on = 'Start date')\n",
    "\n",
    "# Print the median duration for each group\n",
    "print(grouped['Duration'].median())\n",
    "\n",
    "<script.py> output:\n",
    "    Member type  Start date\n",
    "    Casual       2017-10-31    1636.0\n",
    "                 2017-11-30    1159.5\n",
    "                 2017-12-31     850.0\n",
    "    Member       2017-10-31     671.0\n",
    "                 2017-11-30     655.0\n",
    "                 2017-12-31     387.5\n",
    "    Name: Duration, dtype: float64"
   ]
  },
  {
   "cell_type": "code",
   "execution_count": 2,
   "id": "6936e0ae-630b-43a9-b86b-22cc88d5bffd",
   "metadata": {},
   "outputs": [],
   "source": [
    "#timezones and and daylight savings \n",
    "#putting datetimes into timezones\n",
    "#rides['Start date']head(3)\\.dt.tz_localize('America/New_York')\n",
    "#sample output: 2017-10-01 15:23:25-4:00  ##-4:00 is the UTC offset. "
   ]
  },
  {
   "cell_type": "code",
   "execution_count": 3,
   "id": "68fae685-81a6-4ca7-add7-cfd961671f80",
   "metadata": {},
   "outputs": [],
   "source": [
    "#if trying to convert an entire column into timezones. \n",
    "#there will be an error message (e.g a row can be affected by day light savings)\n",
    "#to handle the error messages, set ambiguous arguments into 'NaT'(not a time)\n",
    "#ex. rides['Start date'] = rides['Start date']\\.dt.tz_localize('America/New_York, ambiguous = 'NaT')\n",
    "#so any summary codes will ignore NaT"
   ]
  },
  {
   "cell_type": "code",
   "execution_count": 4,
   "id": "5bd52573-c9f5-4e3d-9484-1908763dd565",
   "metadata": {},
   "outputs": [],
   "source": [
    "#return the year of the first three rows. \n",
    "#rides['Start date']\\.head(3)\\.dt.year\n",
    "#return the weekdays for the first three rides\n",
    "#rides['Start date']\\.head(3)\\.dt.day_name()"
   ]
  },
  {
   "cell_type": "code",
   "execution_count": 5,
   "id": "e5fc2e1f-c69e-42d0-ae3b-618992e452c2",
   "metadata": {},
   "outputs": [],
   "source": [
    "#Shift the indexes forward by one. THis will shift the rows up by one\n",
    "#eg. rides[\"End date\"].shift(1).head(3)"
   ]
  },
  {
   "cell_type": "code",
   "execution_count": 6,
   "id": "7a435a08-3067-40ad-aae1-d895d3bc29aa",
   "metadata": {},
   "outputs": [
    {
     "ename": "NameError",
     "evalue": "name 'rides' is not defined",
     "output_type": "error",
     "traceback": [
      "\u001b[0;31m---------------------------------------------------------------------------\u001b[0m",
      "\u001b[0;31mNameError\u001b[0m                                 Traceback (most recent call last)",
      "Cell \u001b[0;32mIn[6], line 3\u001b[0m\n\u001b[1;32m      1\u001b[0m \u001b[38;5;66;03m#Make the Start date column timezone aware by localizing it to 'America/New_York' while ignoring any ambiguous datetimes.\u001b[39;00m\n\u001b[1;32m      2\u001b[0m \u001b[38;5;66;03m# Localize the Start date column to America/New_York\u001b[39;00m\n\u001b[0;32m----> 3\u001b[0m rides[\u001b[38;5;124m'\u001b[39m\u001b[38;5;124mStart date\u001b[39m\u001b[38;5;124m'\u001b[39m] \u001b[38;5;241m=\u001b[39m rides[\u001b[38;5;124m'\u001b[39m\u001b[38;5;124mStart date\u001b[39m\u001b[38;5;124m'\u001b[39m]\u001b[38;5;241m.\u001b[39mdt\u001b[38;5;241m.\u001b[39mtz_localize(\u001b[38;5;124m'\u001b[39m\u001b[38;5;124mAmerica/New_York\u001b[39m\u001b[38;5;124m'\u001b[39m, ambiguous\u001b[38;5;241m=\u001b[39m\u001b[38;5;124m'\u001b[39m\u001b[38;5;124mNaT\u001b[39m\u001b[38;5;124m'\u001b[39m)\n",
      "\u001b[0;31mNameError\u001b[0m: name 'rides' is not defined"
     ]
    }
   ],
   "source": [
    "#Make the Start date column timezone aware by localizing it to 'America/New_York' while ignoring any ambiguous datetimes.\n",
    "# Localize the Start date column to America/New_York\n",
    "rides['Start date'] = rides['Start date'].dt.tz_localize('America/New_York', ambiguous='NaT')"
   ]
  },
  {
   "cell_type": "code",
   "execution_count": 7,
   "id": "e67cac14-597c-41ac-b9cd-61263a4a4854",
   "metadata": {},
   "outputs": [
    {
     "ename": "NameError",
     "evalue": "name 'rides' is not defined",
     "output_type": "error",
     "traceback": [
      "\u001b[0;31m---------------------------------------------------------------------------\u001b[0m",
      "\u001b[0;31mNameError\u001b[0m                                 Traceback (most recent call last)",
      "Cell \u001b[0;32mIn[7], line 2\u001b[0m\n\u001b[1;32m      1\u001b[0m \u001b[38;5;66;03m# Convert the Start date column to Europe/London\u001b[39;00m\n\u001b[0;32m----> 2\u001b[0m rides[\u001b[38;5;124m'\u001b[39m\u001b[38;5;124mStart date\u001b[39m\u001b[38;5;124m'\u001b[39m] \u001b[38;5;241m=\u001b[39m rides[\u001b[38;5;124m'\u001b[39m\u001b[38;5;124mStart date\u001b[39m\u001b[38;5;124m'\u001b[39m]\u001b[38;5;241m.\u001b[39mdt\u001b[38;5;241m.\u001b[39mtz_convert(\u001b[38;5;124m'\u001b[39m\u001b[38;5;124mEurope/London\u001b[39m\u001b[38;5;124m'\u001b[39m)\n",
      "\u001b[0;31mNameError\u001b[0m: name 'rides' is not defined"
     ]
    }
   ],
   "source": [
    "# Convert the Start date column to Europe/London\n",
    "rides['Start date'] = rides['Start date'].dt.tz_convert('Europe/London')"
   ]
  },
  {
   "cell_type": "code",
   "execution_count": 8,
   "id": "3b3ac012-a612-4c94-8c25-6c826a70439b",
   "metadata": {},
   "outputs": [
    {
     "ename": "NameError",
     "evalue": "name 'rides' is not defined",
     "output_type": "error",
     "traceback": [
      "\u001b[0;31m---------------------------------------------------------------------------\u001b[0m",
      "\u001b[0;31mNameError\u001b[0m                                 Traceback (most recent call last)",
      "Cell \u001b[0;32mIn[8], line 2\u001b[0m\n\u001b[1;32m      1\u001b[0m \u001b[38;5;66;03m# Add a column for the weekday of the start of the ride\u001b[39;00m\n\u001b[0;32m----> 2\u001b[0m rides[\u001b[38;5;124m'\u001b[39m\u001b[38;5;124mRide start weekday\u001b[39m\u001b[38;5;124m'\u001b[39m] \u001b[38;5;241m=\u001b[39m rides[\u001b[38;5;124m'\u001b[39m\u001b[38;5;124mStart date\u001b[39m\u001b[38;5;124m'\u001b[39m]\u001b[38;5;241m.\u001b[39mdt\u001b[38;5;241m.\u001b[39mday_name()\n\u001b[1;32m      4\u001b[0m \u001b[38;5;66;03m# Print the median trip time per weekday\u001b[39;00m\n\u001b[1;32m      5\u001b[0m \u001b[38;5;28mprint\u001b[39m(rides\u001b[38;5;241m.\u001b[39mgroupby(\u001b[38;5;124m'\u001b[39m\u001b[38;5;124mRide start weekday\u001b[39m\u001b[38;5;124m'\u001b[39m)[\u001b[38;5;124m'\u001b[39m\u001b[38;5;124mDuration\u001b[39m\u001b[38;5;124m'\u001b[39m]\u001b[38;5;241m.\u001b[39mmedian())\n",
      "\u001b[0;31mNameError\u001b[0m: name 'rides' is not defined"
     ]
    }
   ],
   "source": [
    "# Add a column for the weekday of the start of the ride\n",
    "rides['Ride start weekday'] = rides['Start date'].dt.day_name()\n",
    "\n",
    "# Print the median trip time per weekday\n",
    "print(rides.groupby('Ride start weekday')['Duration'].median())"
   ]
  },
  {
   "cell_type": "code",
   "execution_count": 9,
   "id": "fa044869-1803-4f6a-9b2e-b483f94aee48",
   "metadata": {},
   "outputs": [
    {
     "ename": "NameError",
     "evalue": "name 'rides' is not defined",
     "output_type": "error",
     "traceback": [
      "\u001b[0;31m---------------------------------------------------------------------------\u001b[0m",
      "\u001b[0;31mNameError\u001b[0m                                 Traceback (most recent call last)",
      "Cell \u001b[0;32mIn[9], line 8\u001b[0m\n\u001b[1;32m      1\u001b[0m \u001b[38;5;66;03m#Calculate the difference in the Start date of the current row \u001b[39;00m\n\u001b[1;32m      2\u001b[0m \u001b[38;5;66;03m#and the End date of the previous row and assign it to rides['Time since'].\u001b[39;00m\n\u001b[1;32m      3\u001b[0m \u001b[38;5;66;03m#Convert rides['Time since'] to seconds to make it easier to work with.\u001b[39;00m\n\u001b[0;32m   (...)\u001b[0m\n\u001b[1;32m      6\u001b[0m \n\u001b[1;32m      7\u001b[0m \u001b[38;5;66;03m# Move from a timedelta to a number of seconds, which is easier to work with\u001b[39;00m\n\u001b[0;32m----> 8\u001b[0m rides[\u001b[38;5;124m'\u001b[39m\u001b[38;5;124mTime since\u001b[39m\u001b[38;5;124m'\u001b[39m] \u001b[38;5;241m=\u001b[39m rides[\u001b[38;5;124m'\u001b[39m\u001b[38;5;124mTime since\u001b[39m\u001b[38;5;124m'\u001b[39m]\u001b[38;5;241m.\u001b[39mdt\u001b[38;5;241m.\u001b[39mtotal_seconds()\n\u001b[1;32m     10\u001b[0m \u001b[38;5;66;03m# Resample to the month\u001b[39;00m\n\u001b[1;32m     11\u001b[0m monthly \u001b[38;5;241m=\u001b[39m rides\u001b[38;5;241m.\u001b[39mresample(\u001b[38;5;124m'\u001b[39m\u001b[38;5;124mM\u001b[39m\u001b[38;5;124m'\u001b[39m, on \u001b[38;5;241m=\u001b[39m \u001b[38;5;124m'\u001b[39m\u001b[38;5;124mStart date\u001b[39m\u001b[38;5;124m'\u001b[39m)\n",
      "\u001b[0;31mNameError\u001b[0m: name 'rides' is not defined"
     ]
    }
   ],
   "source": [
    "#Calculate the difference in the Start date of the current row \n",
    "#and the End date of the previous row and assign it to rides['Time since'].\n",
    "#Convert rides['Time since'] to seconds to make it easier to work with.\n",
    "#Resample rides to be in monthly buckets according to the Start date.\n",
    "#Divide the average by (60*60) to get the number of hours on average that W20529 waited in the dock before being picked up again.\n",
    "\n",
    "# Move from a timedelta to a number of seconds, which is easier to work with\n",
    "rides['Time since'] = rides['Time since'].dt.total_seconds()\n",
    "\n",
    "# Resample to the month\n",
    "monthly = rides.resample('M', on = 'Start date')\n",
    "\n",
    "# Print the average hours between rides each month\n",
    "print(monthly['Time since'].mean()/(60*60))"
   ]
  },
  {
   "cell_type": "code",
   "execution_count": null,
   "id": "a8038ca0-985e-42b7-a2b9-47ae115603c6",
   "metadata": {},
   "outputs": [],
   "source": []
  }
 ],
 "metadata": {
  "kernelspec": {
   "display_name": "Python 3 (ipykernel)",
   "language": "python",
   "name": "python3"
  },
  "language_info": {
   "codemirror_mode": {
    "name": "ipython",
    "version": 3
   },
   "file_extension": ".py",
   "mimetype": "text/x-python",
   "name": "python",
   "nbconvert_exporter": "python",
   "pygments_lexer": "ipython3",
   "version": "3.11.7"
  }
 },
 "nbformat": 4,
 "nbformat_minor": 5
}
