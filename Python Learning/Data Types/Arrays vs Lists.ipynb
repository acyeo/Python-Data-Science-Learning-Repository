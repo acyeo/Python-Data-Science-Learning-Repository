{
 "cells": [
  {
   "cell_type": "code",
   "execution_count": 1,
   "id": "e5ea01de-817d-4f3c-a12b-44f24d8ecf93",
   "metadata": {},
   "outputs": [],
   "source": [
    "#lists are NOT arrays\n",
    "#lists are an ordered sequence of heterogeneous elements (variable) \n"
   ]
  },
  {
   "cell_type": "code",
   "execution_count": 2,
   "id": "4cf0de95-be36-4c1f-9f56-d8fd6c84274a",
   "metadata": {},
   "outputs": [],
   "source": [
    "#python arrays are an ordered sequence of homogeneous elements (variable).\n",
    "#Arrays are sequence t e s and behave very much like lists, except that the type of objects stored in them is constrained. \n",
    "#the type is specified at object creation time.\n"
   ]
  },
  {
   "cell_type": "code",
   "execution_count": 11,
   "id": "51f59737-b747-43ff-9051-bb0a6ac20d8a",
   "metadata": {},
   "outputs": [
    {
     "name": "stdout",
     "output_type": "stream",
     "text": [
      "1\n",
      "2\n",
      "3\n",
      "4\n",
      "5\n"
     ]
    }
   ],
   "source": [
    "import array\n",
    "numbers = array.array(\"i\", [1, 2, 3, 4, 5])\n",
    "for number in numbers: \n",
    "    print(number)"
   ]
  },
  {
   "cell_type": "code",
   "execution_count": 16,
   "id": "1accd062-81d7-4957-814f-43a4c2d285be",
   "metadata": {},
   "outputs": [
    {
     "name": "stdout",
     "output_type": "stream",
     "text": [
      "array('i', [1, 2, 3, 4, 5, 6])\n"
     ]
    }
   ],
   "source": [
    "#adding int to an array\n",
    "import array\n",
    "numbers = array.array(\"i\", [1, 2, 3, 4, 5])\n",
    "numbers.append(6)\n",
    "print(numbers)"
   ]
  },
  {
   "cell_type": "code",
   "execution_count": null,
   "id": "b6313e39-5a3b-4c8f-9b4a-ff3e6decdd59",
   "metadata": {},
   "outputs": [],
   "source": []
  }
 ],
 "metadata": {
  "kernelspec": {
   "display_name": "Python 3 (ipykernel)",
   "language": "python",
   "name": "python3"
  },
  "language_info": {
   "codemirror_mode": {
    "name": "ipython",
    "version": 3
   },
   "file_extension": ".py",
   "mimetype": "text/x-python",
   "name": "python",
   "nbconvert_exporter": "python",
   "pygments_lexer": "ipython3",
   "version": "3.11.7"
  }
 },
 "nbformat": 4,
 "nbformat_minor": 5
}
