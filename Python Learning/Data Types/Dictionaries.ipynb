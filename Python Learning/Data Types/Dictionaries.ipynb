{
 "cells": [
  {
   "cell_type": "code",
   "execution_count": 2,
   "id": "5cfc27dc-9047-46fb-a357-1454d90569f2",
   "metadata": {},
   "outputs": [],
   "source": [
    "#dictionaries are sort of like a lookup table. there's a key associated w/ a value. \n",
    "#how to use dictionaries. \n",
    "d = {}\n",
    "#or \n",
    "d = dict ()"
   ]
  },
  {
   "cell_type": "code",
   "execution_count": 9,
   "id": "7e72e09a-277c-4ae3-93c5-bc50b3807761",
   "metadata": {},
   "outputs": [],
   "source": [
    "d[\"George\"] = 24\n",
    "d[\"Tom\"] = 32\n",
    "d[\"Jenny\"] = 16"
   ]
  },
  {
   "cell_type": "code",
   "execution_count": 10,
   "id": "877cc0dd-ce11-4b3b-aedf-db33de9f0a04",
   "metadata": {},
   "outputs": [
    {
     "name": "stdout",
     "output_type": "stream",
     "text": [
      "24\n"
     ]
    }
   ],
   "source": [
    "print(d[\"George\"])"
   ]
  },
  {
   "cell_type": "code",
   "execution_count": 11,
   "id": "cc72f00c-bc66-4d83-adf0-8eef92237635",
   "metadata": {},
   "outputs": [
    {
     "name": "stdout",
     "output_type": "stream",
     "text": [
      "16\n"
     ]
    }
   ],
   "source": [
    "print(d[\"Jenny\"])"
   ]
  },
  {
   "cell_type": "code",
   "execution_count": 19,
   "id": "a614d05f-9abb-4786-8b99-cd2f91eb08e2",
   "metadata": {},
   "outputs": [
    {
     "name": "stdout",
     "output_type": "stream",
     "text": [
      "200\n"
     ]
    }
   ],
   "source": [
    "d[\"Jenny\"] = 200\n",
    "print(d[\"Jenny\"])"
   ]
  },
  {
   "cell_type": "code",
   "execution_count": 21,
   "id": "de229d2c-1cf5-4d84-b24a-46a35f62ee5a",
   "metadata": {},
   "outputs": [
    {
     "name": "stdout",
     "output_type": "stream",
     "text": [
      "key\n",
      "George\n",
      "value\n",
      "24\n",
      "\n",
      "key\n",
      "Tom\n",
      "value\n",
      "32\n",
      "\n",
      "key\n",
      "Jenny\n",
      "value\n",
      "200\n",
      "\n"
     ]
    }
   ],
   "source": [
    "#iterate over key value pairs? \n",
    "for key, value in d.items():\n",
    "    print(\"key\")\n",
    "    print(key)\n",
    "    print(\"value\")\n",
    "    print(value)\n",
    "    print(\"\")"
   ]
  },
  {
   "cell_type": "code",
   "execution_count": 22,
   "id": "68e0a6aa-8b3c-43ae-8689-fa70ba8b588d",
   "metadata": {},
   "outputs": [
    {
     "name": "stdout",
     "output_type": "stream",
     "text": [
      "dict_keys(['spain', 'france', 'germany', 'norway'])\n",
      "oslo\n"
     ]
    }
   ],
   "source": [
    "# Definition of dictionary\n",
    "europe = {'spain':'madrid', 'france':'paris', 'germany':'berlin', 'norway':'oslo' }\n",
    "\n",
    "# Print out the keys in europe\n",
    "print(europe.keys())\n",
    "\n",
    "# Print out value that belongs to key 'norway'\n",
    "print(europe['norway'])"
   ]
  },
  {
   "cell_type": "code",
   "execution_count": 23,
   "id": "c85ce603-6b93-4d28-8f60-b3f6f2ca02fd",
   "metadata": {},
   "outputs": [],
   "source": [
    "#deleting a dictionary value. \n",
    "del(europe['france'])"
   ]
  },
  {
   "cell_type": "code",
   "execution_count": 24,
   "id": "ab604a6f-f0cc-4562-9746-62793ff71e87",
   "metadata": {},
   "outputs": [
    {
     "data": {
      "text/plain": [
       "{'spain': 'madrid', 'germany': 'berlin', 'norway': 'oslo'}"
      ]
     },
     "execution_count": 24,
     "metadata": {},
     "output_type": "execute_result"
    }
   ],
   "source": [
    "europe"
   ]
  },
  {
   "cell_type": "code",
   "execution_count": 25,
   "id": "c52da286-fb41-4866-9d2a-20472d91e193",
   "metadata": {},
   "outputs": [],
   "source": [
    "#lists vs dictionaries\n",
    "#lists are indexed by range of numbers while dictinary is indexed by unique keys\n",
    "#lists are a collection of values - order matters for selecting entire subsets\n",
    "#dictionary look up table with unique keys. \n"
   ]
  },
  {
   "cell_type": "code",
   "execution_count": 27,
   "id": "8544f769-9505-4e69-a44f-71ee67700fc6",
   "metadata": {},
   "outputs": [
    {
     "name": "stdout",
     "output_type": "stream",
     "text": [
      "True\n",
      "{'spain': 'madrid', 'france': 'paris', 'germany': 'berlin', 'norway': 'oslo', 'italy': 'rome', 'poland': 'warsaw'}\n"
     ]
    }
   ],
   "source": [
    "# Definition of dictionary\n",
    "europe = {'spain':'madrid', 'france':'paris', 'germany':'berlin', 'norway':'oslo' }\n",
    "\n",
    "# Add italy to europe\n",
    "europe[\"italy\"] = 'rome'\n",
    "\n",
    "# Print out italy in europe\n",
    "print('italy' in europe)\n",
    "\n",
    "# Add poland to europe\n",
    "europe['poland'] = 'warsaw'\n",
    "\n",
    "# Print europe\n",
    "print(europe)"
   ]
  },
  {
   "cell_type": "code",
   "execution_count": 28,
   "id": "a229047f-64dd-4e9a-957a-853f68b1773d",
   "metadata": {},
   "outputs": [
    {
     "name": "stdout",
     "output_type": "stream",
     "text": [
      "{'spain': 'madrid', 'france': 'paris', 'germany': 'berlin', 'norway': 'oslo', 'italy': 'rome', 'poland': 'warsaw'}\n"
     ]
    }
   ],
   "source": [
    "# Definition of dictionary\n",
    "europe = {'spain':'madrid', 'france':'paris', 'germany':'bonn',\n",
    "          'norway':'oslo', 'italy':'rome', 'poland':'warsaw',\n",
    "          'australia':'vienna' }\n",
    "\n",
    "# Update capital of germany\n",
    "europe['germany'] = 'berlin'\n",
    "\n",
    "# Remove australia\n",
    "del(europe['australia'])\n",
    "\n",
    "# Print europe\n",
    "print(europe)"
   ]
  },
  {
   "cell_type": "code",
   "execution_count": 1,
   "id": "2f996be9-788a-4f90-8729-82933307cc0b",
   "metadata": {},
   "outputs": [
    {
     "name": "stdout",
     "output_type": "stream",
     "text": [
      "paris\n",
      "{'spain': {'capital': 'madrid', 'population': 46.77}, 'france': {'capital': 'paris', 'population': 66.03}, 'germany': {'capital': 'berlin', 'population': 80.62}, 'norway': {'capital': 'oslo', 'population': 5.084}, 'italy': {'capital': 'rome', 'population': 59.83}}\n"
     ]
    }
   ],
   "source": [
    "# Dictionary of dictionaries\n",
    "europe = { 'spain': { 'capital':'madrid', 'population':46.77 },\n",
    "           'france': { 'capital':'paris', 'population':66.03 },\n",
    "           'germany': { 'capital':'berlin', 'population':80.62 },\n",
    "           'norway': { 'capital':'oslo', 'population':5.084 } }\n",
    "\n",
    "\n",
    "# Print out the capital of France\n",
    "print(europe['france']['capital'])\n",
    "\n",
    "# Create sub-dictionary data\n",
    "data = {'capital': 'rome',\n",
    "        'population': 59.83}\n",
    "\n",
    "# Add data to europe under key 'italy'\n",
    "europe['italy'] = data\n",
    "\n",
    "# Print europe\n",
    "print(europe)"
   ]
  },
  {
   "cell_type": "code",
   "execution_count": 2,
   "id": "0223145a-c5ca-4527-9712-14a34b5cddd9",
   "metadata": {},
   "outputs": [],
   "source": [
    "#.get() method allows you to safely access a key w/out error or exception handling\n",
    "#if a key is not in the dictionary, .get() returns None by default or you can supply a value to return. \n",
    "#e.g art_galleries.get('Zarre Andre Gallery')"
   ]
  },
  {
   "cell_type": "code",
   "execution_count": 4,
   "id": "84ebe9a4-4150-411c-b8d3-49608ec103b3",
   "metadata": {},
   "outputs": [
    {
     "ename": "NameError",
     "evalue": "name 'squirrels' is not defined",
     "output_type": "error",
     "traceback": [
      "\u001b[0;31m---------------------------------------------------------------------------\u001b[0m",
      "\u001b[0;31mNameError\u001b[0m                                 Traceback (most recent call last)",
      "Cell \u001b[0;32mIn[4], line 10\u001b[0m\n\u001b[1;32m      7\u001b[0m squirrels_by_park \u001b[38;5;241m=\u001b[39m {}\n\u001b[1;32m      9\u001b[0m \u001b[38;5;66;03m# Loop over the squirrels list and unpack each tuple\u001b[39;00m\n\u001b[0;32m---> 10\u001b[0m \u001b[38;5;28;01mfor\u001b[39;00m park, squirrel_details \u001b[38;5;129;01min\u001b[39;00m squirrels:\n\u001b[1;32m     11\u001b[0m     \u001b[38;5;66;03m# Add each squirrel_details to the squirrels_by_park dictionary \u001b[39;00m\n\u001b[1;32m     12\u001b[0m     squirrels_by_park[park] \u001b[38;5;241m=\u001b[39m squirrel_details\n\u001b[1;32m     14\u001b[0m \u001b[38;5;66;03m# Sort the squirrels_by_park dict alphabetically by park\u001b[39;00m\n",
      "\u001b[0;31mNameError\u001b[0m: name 'squirrels' is not defined"
     ]
    }
   ],
   "source": [
    "#Create an empty dictionary called squirrels_by_park.\n",
    "#Loop over squirrels, unpacking it into the variables park and squirrel_details.\n",
    "#Inside the loop, add each squirrel_details to the squirrels_by_park dictionary using the park as the key.\n",
    "#Sort the squirrel_details dictionary keys in ascending order, print each park and its value using an F string..\n",
    "\n",
    "# Create an empty dictionary: squirrels_by_park\n",
    "squirrels_by_park = {}\n",
    "\n",
    "# Loop over the squirrels list and unpack each tuple\n",
    "for park, squirrel_details in squirrels:\n",
    "    # Add each squirrel_details to the squirrels_by_park dictionary \n",
    "    squirrels_by_park[park] = squirrel_details\n",
    "    \n",
    "# Sort the squirrels_by_park dict alphabetically by park\n",
    "for park in sorted(squirrels_by_park):\n",
    "    # Print each park and its value in squirrels_by_park\n",
    "    print(f'{park}: {squirrels_by_park[park]}')\n",
    "\n",
    "#the output is City Hall Park: ('Gray', 'Cinnamon', 'Eating', 'Approaches')\n"
   ]
  },
  {
   "cell_type": "code",
   "execution_count": 5,
   "id": "5c16a576-002c-47b9-899f-a5a8d0007518",
   "metadata": {},
   "outputs": [
    {
     "name": "stdout",
     "output_type": "stream",
     "text": [
      "None\n",
      "<class 'NoneType'>\n",
      "Not Found\n"
     ]
    }
   ],
   "source": [
    "# Safely print 'Union Square Park' from the squirrels_by_park dictionary\n",
    "print(squirrels_by_park.get('Union Square Park'))\n",
    "\n",
    "# Safely print the type of 'Fort Tryon Park' from the squirrels_by_park dictionary\n",
    "print(type(squirrels_by_park.get('Fort Tryon Park')))\n",
    "\n",
    "# Safely print 'Central Park' from the squirrels_by_park dictionary or 'Not Found'\n",
    "print(squirrels_by_park.get('Central Park', 'Not Found'))\n",
    "\n",
    "#<script.py> output:\n",
    "    #('Gray', 'Black', 'Climbing', None)\n",
    "    #<class 'NoneType'>\n",
    "    #Not Found"
   ]
  },
  {
   "cell_type": "code",
   "execution_count": 6,
   "id": "4033b945-d37e-4aba-9a64-2e73339dc951",
   "metadata": {},
   "outputs": [],
   "source": [
    "#Updating a dictionary. Or Adding and extending dictionary\n",
    "#.update() method to update a dictionary from another dictionary, tuples or keywords\n",
    "#ex. print(galleries_10007). prints out a dictionary\n",
    "#art_galleries['10007'] = galleries_10007\n",
    "#or \n",
    "#art_galleries['11234'].update(galleries_11234)\n",
    "#print(art_galleries['11234'])"
   ]
  },
  {
   "cell_type": "code",
   "execution_count": 7,
   "id": "7f60d546-f552-42d2-a52c-d794cca50550",
   "metadata": {},
   "outputs": [],
   "source": [
    "#removing or popping data\n",
    "#del instruction deletes a key/value\n",
    "#.pop() method safely removes a key/value from a dictionary\n",
    "#ex del art_galleries['11234']\n",
    "#galleries_10310 = art_galleries.pop('10310')\n",
    "#print(galleries_10310)"
   ]
  },
  {
   "cell_type": "code",
   "execution_count": 8,
   "id": "2d2477e4-66c5-44c6-b421-db418815879d",
   "metadata": {},
   "outputs": [
    {
     "ename": "NameError",
     "evalue": "name 'L' is not defined",
     "output_type": "error",
     "traceback": [
      "\u001b[0;31m---------------------------------------------------------------------------\u001b[0m",
      "\u001b[0;31mNameError\u001b[0m                                 Traceback (most recent call last)",
      "Cell \u001b[0;32mIn[8], line 3\u001b[0m\n\u001b[1;32m      1\u001b[0m \u001b[38;5;66;03m#Assign the squirrels_madison list as the value to the 'Madison Square Park' key of the squirrels_by_park dictionary.\u001b[39;00m\n\u001b[1;32m      2\u001b[0m \u001b[38;5;66;03m#Update the 'Union Square Park' key in the squirrels_by_park dictionary with the data in the squirrels_union tuple.\u001b[39;00m\n\u001b[0;32m----> 3\u001b[0m L\u001b[38;5;66;03m#oop over the squirrels_by_park dictionary.\u001b[39;00m\n\u001b[1;32m      4\u001b[0m \u001b[38;5;66;03m#Print the park_name and a list of all primary_fur_colors for squirrels safely...\u001b[39;00m\n\u001b[1;32m      5\u001b[0m \u001b[38;5;66;03m#...in that park using a list comprehension; return 'N/A' if the key isn't found.\u001b[39;00m\n\u001b[1;32m      6\u001b[0m \n\u001b[1;32m      7\u001b[0m \u001b[38;5;66;03m# Assign squirrels_madison as the value to the 'Madison Square Park' key\u001b[39;00m\n\u001b[1;32m      8\u001b[0m squirrels_by_park[\u001b[38;5;124m'\u001b[39m\u001b[38;5;124mMadison Square Park\u001b[39m\u001b[38;5;124m'\u001b[39m] \u001b[38;5;241m=\u001b[39m squirrels_madison\n",
      "\u001b[0;31mNameError\u001b[0m: name 'L' is not defined"
     ]
    }
   ],
   "source": [
    "#Assign the squirrels_madison list as the value to the 'Madison Square Park' key of the squirrels_by_park dictionary.\n",
    "#Update the 'Union Square Park' key in the squirrels_by_park dictionary with the data in the squirrels_union tuple.\n",
    "#Loop over the squirrels_by_park dictionary.\n",
    "#Print the park_name and a list of all primary_fur_colors for squirrels safely...\n",
    "#...in that park using a list comprehension; return 'N/A' if the key isn't found.\n",
    "\n",
    "# Assign squirrels_madison as the value to the 'Madison Square Park' key\n",
    "squirrels_by_park['Madison Square Park'] = squirrels_madison\n",
    "\n",
    "# Update squirrels_by_park with the squirrels_union tuple\n",
    "squirrels_by_park.update([squirrels_union])\n",
    "\n",
    "# Loop over the park_name in the squirrels_by_park dictionary \n",
    "for park_name in squirrels_by_park:\n",
    "    # Safely print a list of the primary_fur_color for each squirrel in park_name\n",
    "    print(park_name, [squirrel.get('primary_fur_color', 'N/A') for squirrel in squirrels_by_park[park_name]])\n",
    "\n",
    "#correct output: Union Square Park ['Gray', 'Gray', 'Cinnamon', 'Gray', 'Gray', 'Gray', 'Gray']\n",
    "# Correct output: Madison Square Park ['Gray', 'Gray', 'Gray']"
   ]
  },
  {
   "cell_type": "code",
   "execution_count": 9,
   "id": "d61b98ec-b269-4d06-8248-a894edb69d7c",
   "metadata": {},
   "outputs": [
    {
     "ename": "KeyError",
     "evalue": "'Union Square Park'",
     "output_type": "error",
     "traceback": [
      "\u001b[0;31m---------------------------------------------------------------------------\u001b[0m",
      "\u001b[0;31mKeyError\u001b[0m                                  Traceback (most recent call last)",
      "Cell \u001b[0;32mIn[9], line 15\u001b[0m\n\u001b[1;32m     12\u001b[0m squirrels_city_hall \u001b[38;5;241m=\u001b[39m squirrels_by_park\u001b[38;5;241m.\u001b[39mpop(\u001b[38;5;124m\"\u001b[39m\u001b[38;5;124mCity Hall Park\u001b[39m\u001b[38;5;124m\"\u001b[39m, {})\n\u001b[1;32m     14\u001b[0m \u001b[38;5;66;03m# Delete \"Union Square Park\" from squirrels_by_park\u001b[39;00m\n\u001b[0;32m---> 15\u001b[0m \u001b[38;5;28;01mdel\u001b[39;00m squirrels_by_park[\u001b[38;5;124m\"\u001b[39m\u001b[38;5;124mUnion Square Park\u001b[39m\u001b[38;5;124m\"\u001b[39m]\n\u001b[1;32m     17\u001b[0m \u001b[38;5;66;03m# Print squirrels_by_park\u001b[39;00m\n\u001b[1;32m     18\u001b[0m \u001b[38;5;28mprint\u001b[39m(squirrels_by_park)\n",
      "\u001b[0;31mKeyError\u001b[0m: 'Union Square Park'"
     ]
    }
   ],
   "source": [
    "#Remove \"Madison Square Park\" from squirrels_by_park and store it as squirrels_madison.\n",
    "#Safely remove \"City Hall Park\" from squirrels_by_park with a empty dictionary as the default and store it as squirrels_city_hall...\n",
    "#...To do this, pass in an empty dictionary {} as a second argument to .pop().\n",
    "#Delete \"Union Square Park\" from squirrels_by_park.\n",
    "#Print squirrels_by_park.\n",
    "\n",
    "# Remove \"Madison Square Park\" from squirrels_by_park\n",
    "squirrels_by_park[\"Madison Square Park\"] = []\n",
    "squirrels_madison = squirrels_by_park.pop(\"Madison Square Park\")\n",
    "\n",
    "# Safely remove \"City Hall Park\" from squirrels_by_park with an empty dictionary as the default\n",
    "squirrels_city_hall = squirrels_by_park.pop(\"City Hall Park\", {})\n",
    "\n",
    "# Delete \"Union Square Park\" from squirrels_by_park\n",
    "del squirrels_by_park[\"Union Square Park\"]\n",
    "\n",
    "# Print squirrels_by_park\n",
    "print(squirrels_by_park)\n",
    "\n",
    "#correct output: \n",
    "#{'Tompkins Square Park': [{'primary_fur_color': 'Gray', 'highlights_in_fur_color': 'Gray', 'activities': 'Foraging', 'interactions_with_humans': 'Approaches'}, {'primary_fur_color': 'Gray', 'highlights_in_fur_color': 'Gray', 'activities': 'Climbing (down tree)', 'interactions_with_humans': 'Indifferent'}, {'primary_fur_color': 'Gray', 'highlights_in_fur_color': 'Gray', 'activities': 'Foraging', 'interactions_with_humans': 'Indifferent'}, {'primary_fur_color': 'Gray', 'highlights_in_fur_color': 'Gray', 'activities': 'Foraging', 'interactions_with_humans': 'Indifferent'}]}"
   ]
  },
  {
   "cell_type": "code",
   "execution_count": 10,
   "id": "789d3005-8fda-4240-8a6c-9e4316f71ed1",
   "metadata": {},
   "outputs": [],
   "source": [
    "#pythonically using dictionaries\n",
    "#.items() method returns an object we can iterate over\n"
   ]
  },
  {
   "cell_type": "code",
   "execution_count": 11,
   "id": "005322a9-b4b8-4b82-ae32-a4f0e10350e9",
   "metadata": {},
   "outputs": [
    {
     "ename": "SyntaxError",
     "evalue": "invalid syntax (30386141.py, line 14)",
     "output_type": "error",
     "traceback": [
      "\u001b[0;36m  Cell \u001b[0;32mIn[11], line 14\u001b[0;36m\u001b[0m\n\u001b[0;31m    <script.py> output:\u001b[0m\n\u001b[0m    ^\u001b[0m\n\u001b[0;31mSyntaxError\u001b[0m\u001b[0;31m:\u001b[0m invalid syntax\n"
     ]
    }
   ],
   "source": [
    "# Iterate over the first squirrel entry in the Madison Square Park list\n",
    "for field, value in squirrels_by_park[\"Madison Square Park\"][0].items():\n",
    "    # Print field and value\n",
    "    print(field, value)\n",
    "\n",
    "print('-' * 13)\n",
    "\n",
    "# Iterate over the second squirrel entry in the Union Square Park list\n",
    "for field, value in squirrels_by_park[\"Union Square Park\"][1].items():\n",
    "    # Print field and value\n",
    "    print(field, value)\n",
    "\n",
    "#correct output:\n",
    "<script.py> output:\n",
    "    primary_fur_color Gray\n",
    "    highlights_in_fur_color None\n",
    "    activities Foraging\n",
    "    interactions_with_humans Indifferent\n",
    "    -------------\n",
    "    primary_fur_color Cinnamon\n",
    "    highlights_in_fur_color None\n",
    "    activities Foraging\n",
    "    interactions_with_humans None"
   ]
  },
  {
   "cell_type": "code",
   "execution_count": 12,
   "id": "9ddd96db-bde9-4f5c-9d66-2817632b0b22",
   "metadata": {},
   "outputs": [],
   "source": [
    "#Mixed Data Types in Dictionaries "
   ]
  },
  {
   "cell_type": "code",
   "execution_count": null,
   "id": "a8209d2e-ce8b-4da6-8ea2-bae25fe0b56e",
   "metadata": {},
   "outputs": [],
   "source": [
    "#.keys() method shows the keys for a given dictionary\n",
    "# Accessing nested data\n",
    "#e.g art_galleries['10027']['Inner City Art Gallery Inc']\n",
    "#will return the phone number '212-369-4941'\n",
    "#common way to deal w repeating data structures."
   ]
  },
  {
   "cell_type": "code",
   "execution_count": 13,
   "id": "6dde59d9-9e88-4047-82c7-d2c29ad276d2",
   "metadata": {},
   "outputs": [
    {
     "ename": "SyntaxError",
     "evalue": "invalid syntax (1462855351.py, line 17)",
     "output_type": "error",
     "traceback": [
      "\u001b[0;36m  Cell \u001b[0;32mIn[13], line 17\u001b[0;36m\u001b[0m\n\u001b[0;31m    <script.py> output:\u001b[0m\n\u001b[0m    ^\u001b[0m\n\u001b[0;31mSyntaxError\u001b[0m\u001b[0;31m:\u001b[0m invalid syntax\n"
     ]
    }
   ],
   "source": [
    "#Print the keys of the squirrels_by_park dictionary, NOTE: They are park_names.\n",
    "#Print the keys of the squirrels_by_park dictionary for the park_name Union Square Park.\n",
    "#Loop over the squirrels_by_park dictionary.\n",
    "#Inside the loop, safely print the park_name and the highlights_in_fur_color. \n",
    "#Print 'N/A' if the highlightsinfur_color is not found or None.\n",
    "# Print a list of keys from the squirrels_by_park dictionary\n",
    "print(squirrels_by_park.keys())\n",
    "\n",
    "# Print the keys from the squirrels_by_park dictionary for 'Union Square Park'\n",
    "print(squirrels_by_park['Union Square Park'].keys())\n",
    "\n",
    "# Loop over the dictionary\n",
    "for park_name in squirrels_by_park:\n",
    "    # Safely print the park_name and the highlights_in_fur_color or 'N/A'\n",
    "    print(park_name, squirrels_by_park[park_name].get('highlights_in_fur_color', 'N/A'))\n",
    "\n",
    "<script.py> output:\n",
    "    dict_keys(['J. Hood Wright Park', 'Stuyvesant Square Park', 'Highbridge Park', 'Tompkins Square Park', 'Union Square Park', 'City Hall Park', 'Msgr. McGolrick Park', 'John V. Lindsay East River Park'])\n",
    "    dict_keys(['primary_fur_color', 'activities', 'interactions_with_humans'])\n",
    "    J. Hood Wright Park Cinnamon\n",
    "    Stuyvesant Square Park Cinnamon\n",
    "    Highbridge Park White\n",
    "    Tompkins Square Park Gray\n",
    "    Union Square Park N/A\n",
    "    City Hall Park White\n",
    "    Msgr. McGolrick Park Cinnamon\n",
    "    John V. Lindsay East River Park Gray"
   ]
  },
  {
   "cell_type": "code",
   "execution_count": 14,
   "id": "85b3cf2c-d04e-4c96-af53-b40897662fdc",
   "metadata": {},
   "outputs": [
    {
     "ename": "SyntaxError",
     "evalue": "invalid syntax (4245619284.py, line 12)",
     "output_type": "error",
     "traceback": [
      "\u001b[0;36m  Cell \u001b[0;32mIn[14], line 12\u001b[0;36m\u001b[0m\n\u001b[0;31m    <script.py> output:\u001b[0m\n\u001b[0m    ^\u001b[0m\n\u001b[0;31mSyntaxError\u001b[0m\u001b[0;31m:\u001b[0m invalid syntax\n"
     ]
    }
   ],
   "source": [
    "#Use a for loop to iterate over the squirrels found in the Tompkins Square Park key of squirrels_by_park:\n",
    "#Safely print each activities of each squirrel.\n",
    "#Print the list of 'Cinnamon' primary_fur_color squirrels found in Union Square Park using a list comprehension.\n",
    "\n",
    "# Use a for loop to iterate over the squirrels in Tompkins Square Park:\n",
    "for squirrel in squirrels_by_park[\"Tompkins Square Park\"]:\n",
    "\t# Safely print the activities of each squirrel or None\n",
    "    print(squirrel.get(\"activities\"))\n",
    "    \n",
    "print([squirrel for squirrel in squirrels_by_park[\"Union Square Park\"] if \"Cinnamon\" in squirrel[\"primary_fur_color\"]])\n",
    "\n",
    "<script.py> output:\n",
    "    Foraging\n",
    "    Climbing (down tree)\n",
    "    None\n",
    "    Foraging\n",
    "    [{'primary_fur_color': 'Cinnamon', 'highlights_in_fur_color': None, 'activities': 'Foraging', 'interactions_with_humans': None}]"
   ]
  },
  {
   "cell_type": "code",
   "execution_count": null,
   "id": "58e76dda-f151-4c4f-a3e9-4a3cc61b0e32",
   "metadata": {},
   "outputs": [],
   "source": []
  }
 ],
 "metadata": {
  "kernelspec": {
   "display_name": "Python 3 (ipykernel)",
   "language": "python",
   "name": "python3"
  },
  "language_info": {
   "codemirror_mode": {
    "name": "ipython",
    "version": 3
   },
   "file_extension": ".py",
   "mimetype": "text/x-python",
   "name": "python",
   "nbconvert_exporter": "python",
   "pygments_lexer": "ipython3",
   "version": "3.11.7"
  }
 },
 "nbformat": 4,
 "nbformat_minor": 5
}
