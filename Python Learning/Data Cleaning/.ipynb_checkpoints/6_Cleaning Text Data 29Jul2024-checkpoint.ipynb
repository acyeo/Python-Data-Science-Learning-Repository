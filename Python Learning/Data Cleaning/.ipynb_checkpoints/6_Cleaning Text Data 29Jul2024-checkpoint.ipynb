{
 "cells": [
  {
   "cell_type": "code",
   "execution_count": null,
   "id": "755db3c0-3dd1-473c-b64a-da201bdf18ee",
   "metadata": {},
   "outputs": [],
   "source": [
    "# Replace \"Dr.\" with empty string \"\"\n",
    "airlines['full_name'] = airlines['full_name'].str.replace(\"Dr.\",\"\")\n",
    "\n",
    "# Replace \"Mr.\" with empty string \"\"\n",
    "airlines['full_name'] = airlines['full_name'].str.replace(\"Mr.\",\"\")\n",
    "\n",
    "# Replace \"Miss\" with empty string \"\"\n",
    "airlines['full_name'] = airlines['full_name'].str.replace(\"Miss\",\"\")\n",
    "\n",
    "# Replace \"Ms.\" with empty string \"\"\n",
    "airlines['full_name'] = airlines['full_name'].str.replace(\"Ms.\",\"\")\n",
    "\n",
    "# Assert that full_name has no honorifics\n",
    "assert airlines['full_name'].str.contains('Ms.|Mr.|Miss|Dr.').any() == False"
   ]
  },
  {
   "cell_type": "code",
   "execution_count": null,
   "id": "ebbc5d42-078d-4e0e-990b-d7e9cd4e455e",
   "metadata": {},
   "outputs": [],
   "source": [
    "#Using the airlines DataFrame, store the length of each instance in the survey_response column in resp_length by using .str.len().\n",
    "resp_length = airlines['survey_response'].str.len()\n",
    "\n",
    "#Isolate the rows of airlines with resp_length higher than 40.\n",
    "airlines_survey = airlines[resp_length > 40]\n",
    "\n",
    "#Assert that the smallest survey_response length in airlines_survey is now bigger than 40.\n",
    "assert airlines_survey['survey_response'].str.len().min() > 40\n",
    "\n",
    "# Print new survey_response column\n",
    "print(airlines_survey['survey_response'])\n",
    "\n",
    "#correct output: \n",
    "18    The airport personnell forgot to alert us of d...\n",
    "19    The food in the airport was really really expe...\n",
    "20    One of the other travelers was really loud and...\n",
    "21    I don't remember answering the survey with the...\n",
    "22    The airport personnel kept ignoring my request...\n",
    "23    The chair I sat in was extremely uncomfortable...\n",
    "24    I wish you were more like other airports, the ...\n",
    "25    I was really unsatisfied with the wait times b...\n",
    "27    The flight was okay, but I didn't really like ...\n",
    "28    We were really slowed down by security measure...\n",
    "29    There was a spill on the aisle next to the bat...\n",
    "30    I felt very unsatisfied by how long the flight...\n",
    "Name: survey_response, dtype: object"
   ]
  },
  {
   "cell_type": "code",
   "execution_count": null,
   "id": "d7e7f6e0-1d80-469e-b90a-8cadffa36755",
   "metadata": {},
   "outputs": [],
   "source": []
  }
 ],
 "metadata": {
  "kernelspec": {
   "display_name": "Python 3 (ipykernel)",
   "language": "python",
   "name": "python3"
  },
  "language_info": {
   "codemirror_mode": {
    "name": "ipython",
    "version": 3
   },
   "file_extension": ".py",
   "mimetype": "text/x-python",
   "name": "python",
   "nbconvert_exporter": "python",
   "pygments_lexer": "ipython3",
   "version": "3.11.7"
  }
 },
 "nbformat": 4,
 "nbformat_minor": 5
}
