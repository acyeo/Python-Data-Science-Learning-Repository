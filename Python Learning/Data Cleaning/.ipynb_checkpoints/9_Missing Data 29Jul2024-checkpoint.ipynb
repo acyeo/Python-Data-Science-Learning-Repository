{
 "cells": [
  {
   "cell_type": "code",
   "execution_count": null,
   "id": "e9b763a2-1bb9-4709-b49f-f18b184eb043",
   "metadata": {},
   "outputs": [],
   "source": [
    "# Print number of missing values in banking\n",
    "print(banking.isna().sum())\n",
    "\n",
    "# Visualize missingness matrix\n",
    "msno.matrix(banking)\n",
    "plt.show()\n",
    "\n",
    "#correct output:\n",
    "cust_id              0\n",
    "    age                  0\n",
    "    acct_amount          0\n",
    "    inv_amount          13\n",
    "    account_opened       0\n",
    "    last_transaction     0\n",
    "    dtype: int64"
   ]
  },
  {
   "cell_type": "code",
   "execution_count": null,
   "id": "54d02b23-99ab-4dd4-ac41-d1ee2e0c6fa6",
   "metadata": {},
   "outputs": [],
   "source": [
    "#Isolate the values of banking missing values of inv_amount into missing_investors and with non-missing inv_amount values into investors\n",
    "missing_investors = banking[banking['inv_amount'].isna()]\n",
    "investors = banking[~banking['inv_amount'].isna()]\n",
    "\n",
    "# Sort banking by age and visualize\n",
    "banking_sorted = banking.sort_values(by='age')\n",
    "msno.matrix(banking_sorted)\n",
    "plt.show()"
   ]
  },
  {
   "cell_type": "code",
   "execution_count": null,
   "id": "16847ece-9e0b-41f8-b49e-268931788bb2",
   "metadata": {},
   "outputs": [],
   "source": [
    "#Use .dropna() to drop missing values of the cust_id column in banking and store the results in banking_fullid.\n",
    "banking_fullid = banking.dropna(subset = ['cust_id'])\n",
    "\n",
    "#Use inv_amount to compute the estimated account amounts for banking_fullid by setting the amounts equal to inv_amount * 5, \n",
    "#and assign the results to acct_imp.\n",
    "acct_imp = banking_fullid['inv_amount'] * 5\n",
    "\n",
    "#Impute the missing values of acct_amount in banking_fullid with the newly created acct_imp using .fillna().\n",
    "banking_imputed = banking_fullid.fillna({'acct_amount':acct_imp})\n",
    "\n",
    "# Print number of missing values\n",
    "print(banking_imputed.isna().sum())\n",
    "\n",
    "#correct output: \n",
    "<script.py> output:\n",
    "    cust_id             0\n",
    "    acct_amount         0\n",
    "    inv_amount          0\n",
    "    account_opened      0\n",
    "    last_transaction    0\n",
    "    dtype: int64"
   ]
  }
 ],
 "metadata": {
  "kernelspec": {
   "display_name": "Python 3 (ipykernel)",
   "language": "python",
   "name": "python3"
  },
  "language_info": {
   "codemirror_mode": {
    "name": "ipython",
    "version": 3
   },
   "file_extension": ".py",
   "mimetype": "text/x-python",
   "name": "python",
   "nbconvert_exporter": "python",
   "pygments_lexer": "ipython3",
   "version": "3.11.7"
  }
 },
 "nbformat": 4,
 "nbformat_minor": 5
}
