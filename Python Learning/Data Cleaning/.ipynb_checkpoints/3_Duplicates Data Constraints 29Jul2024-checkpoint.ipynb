{
 "cells": [
  {
   "cell_type": "code",
   "execution_count": null,
   "id": "1dcf0f0f-e1ee-44f4-a06f-474f87e888ed",
   "metadata": {},
   "outputs": [],
   "source": [
    "#Find duplicated rows of ride_id in the ride_sharing DataFrame while setting keep to False.\n",
    "duplicates = ride_sharing.duplicated(subset = 'ride_id', keep=False)\n",
    "#Subset ride_sharing on duplicates and sort by ride_id and assign the results to duplicated_rides.\n",
    "duplicated_rides = ride_sharing[duplicates].sort_values(by='ride_id')\n",
    "#Print the ride_id, duration and user_birth_year columns of duplicated_rides in that order.\n",
    "print(duplicated_rides[['ride_id','duration','user_birth_year']])\n",
    "\n",
    "#correct output:\n",
    "   ride_id  duration  user_birth_year\n",
    "22       33        10             1979\n",
    "39       33         2             1979\n",
    "53       55         9             1985\n",
    "65       55         9             1985\n",
    "74       71        11             1997\n",
    "75       71        11             1997\n",
    "76       89         9             1986\n",
    "77       89         9             2060"
   ]
  },
  {
   "cell_type": "code",
   "execution_count": null,
   "id": "136aceb1-9526-4ae3-b5aa-357b5b92e16b",
   "metadata": {},
   "outputs": [],
   "source": [
    "# Drop complete duplicates from ride_sharing\n",
    "ride_dup = ride_sharing.drop_duplicates()\n",
    "\n",
    "# Create statistics dictionary for aggregation function\n",
    "statistics = {'user_birth_year': 'min', 'duration': 'mean'}\n",
    "\n",
    "# Group by ride_id and compute new statistics\n",
    "ride_unique = ride_dup.groupby('ride_id').agg(statistics).reset_index()\n",
    "\n",
    "# Find duplicated values again\n",
    "duplicates = ride_unique.duplicated(subset = 'ride_id', keep = False)\n",
    "duplicated_rides = ride_unique[duplicates == True]\n",
    "\n",
    "# Assert duplicates are processed\n",
    "assert duplicated_rides.shape[0] == 0\n",
    "\n",
    "#correct output:\n"
   ]
  }
 ],
 "metadata": {
  "kernelspec": {
   "display_name": "Python 3 (ipykernel)",
   "language": "python",
   "name": "python3"
  },
  "language_info": {
   "codemirror_mode": {
    "name": "ipython",
    "version": 3
   },
   "file_extension": ".py",
   "mimetype": "text/x-python",
   "name": "python",
   "nbconvert_exporter": "python",
   "pygments_lexer": "ipython3",
   "version": "3.11.7"
  }
 },
 "nbformat": 4,
 "nbformat_minor": 5
}
