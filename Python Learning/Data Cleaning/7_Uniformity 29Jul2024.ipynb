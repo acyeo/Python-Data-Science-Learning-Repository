{
 "cells": [
  {
   "cell_type": "code",
   "execution_count": null,
   "id": "0209da95-bdf7-400f-bc7c-386221bc9311",
   "metadata": {},
   "outputs": [],
   "source": [
    "#Find the rows of acct_cur in banking that are equal to 'euro' and store them in the variable acct_eu.\n",
    "acct_eu = banking['acct_cur'] == 'euro'\n",
    "\n",
    "#Find all the rows of acct_amount in banking that fit the acct_eu condition, and convert them to USD by multiplying them with 1.1.\n",
    "banking.loc[acct_eu, 'acct_amount'] = banking.loc[acct_eu, 'acct_amount'] * 1.1\n",
    "\n",
    "#Find all the rows of acct_cur in banking that fit the acct_eu condition, set them to 'dollar'.\n",
    "banking.loc[acct_eu, 'acct_cur'] = 'dollar'\n",
    "\n",
    "# Assert that only dollar currency remains\n",
    "assert banking['acct_cur'].unique() == 'dollar'"
   ]
  },
  {
   "cell_type": "code",
   "execution_count": null,
   "id": "22f6fc11-4566-4f20-944b-07ddc3baad3c",
   "metadata": {},
   "outputs": [],
   "source": [
    "# Print the header of account_opened\n",
    "print(banking['account_opened'].head())\n",
    "\n",
    "#correct output: \n",
    "0          2018-03-05\n",
    "1            21-01-18\n",
    "2    January 26, 2018\n",
    "3            21-14-17\n",
    "4            05-06-17\n",
    "Name: account_opened, dtype: object"
   ]
  },
  {
   "cell_type": "code",
   "execution_count": null,
   "id": "821c250e-a9f5-49e2-92fc-e0b067ecf42b",
   "metadata": {},
   "outputs": [],
   "source": [
    "# Convert account_opened to datetime\n",
    "banking['account_opened'] = pd.to_datetime(banking['account_opened'],\n",
    "                                           # Infer datetime format\n",
    "                                           infer_datetime_format = True,\n",
    "                                           # Return missing value for error\n",
    "                                           errors = 'coerce') \n",
    "\n",
    "# Get year of account opened\n",
    "banking['acct_year'] = banking['account_opened'].dt.strftime('%Y')\n",
    "\n",
    "# Print acct_year\n",
    "print(banking['acct_year'])\n",
    "\n",
    "#correct output:\n",
    "\n",
    "0     2018\n",
    "1     2018\n",
    "2     2018\n",
    "3      NaN\n",
    "4     2017\n",
    "      ... \n",
    "92    2017\n",
    "93    2018\n",
    "94    2018\n",
    "95    2017\n",
    "96    2017\n",
    "Name: acct_year, Length: 97, dtype: object"
   ]
  }
 ],
 "metadata": {
  "kernelspec": {
   "display_name": "Python 3 (ipykernel)",
   "language": "python",
   "name": "python3"
  },
  "language_info": {
   "codemirror_mode": {
    "name": "ipython",
    "version": 3
   },
   "file_extension": ".py",
   "mimetype": "text/x-python",
   "name": "python",
   "nbconvert_exporter": "python",
   "pygments_lexer": "ipython3",
   "version": "3.11.7"
  }
 },
 "nbformat": 4,
 "nbformat_minor": 5
}
