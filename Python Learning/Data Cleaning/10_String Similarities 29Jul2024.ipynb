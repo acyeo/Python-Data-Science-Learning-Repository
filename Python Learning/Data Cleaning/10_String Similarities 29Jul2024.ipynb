{
 "cells": [
  {
   "cell_type": "code",
   "execution_count": null,
   "id": "a8d9c881-1f7b-43bd-9ae3-3a7fbd866001",
   "metadata": {},
   "outputs": [],
   "source": [
    "# Import process from thefuzz\n",
    "from thefuzz import process\n",
    "\n",
    "# Store the unique values of cuisine_type in unique_types\n",
    "unique_types = restaurants['cuisine_type'].unique()\n",
    "\n",
    "# Calculate similarity of 'asian' to all values of unique_types\n",
    "print(process.extract('asian', unique_types, limit = len(unique_types)))\n",
    "\n",
    "# Calculate similarity of 'american' to all values of unique_types\n",
    "print(process.extract('american', unique_types, limit = len(unique_types)))\n",
    "\n",
    "# Calculate similarity of 'italian' to all values of unique_types\n",
    "print(process.extract('italian', unique_types, limit = len(unique_types)))\n",
    "\n",
    "#correct output:\n",
    "[('asian', 100), ('asiane', 91), ('asiann', 91), ('asiian', 91), ('asiaan', 91), ('asianne', 83), ('asiat', 80), ('italiann', 72), ('italiano', 72), ('italianne', 72), ('italiaan', 68), ('italiian', 68), ('itallian', 68), ('italian', 67), ('amurican', 62), ('american', 62), ('ameerican', 60), ('aamerican', 60), ('ameriican', 60), ('amerrican', 60), ('ameerrican', 60), ('ammereican', 60), ('americann', 57), ('americano', 57), ('ammericann', 54), ('americin', 51), ('amerycan', 51), ('america', 50), ('merican', 50), ('murican', 50), ('italien', 50), ('americen', 46), ('itali', 40)]\n",
    "[('american', 100), ('americann', 94), ('americano', 94), ('ameerican', 94), ('aamerican', 94), ('ameriican', 94), ('amerrican', 94), ('america', 93), ('merican', 93), ('ammericann', 89), ('ameerrican', 89), ('ammereican', 89), ('amurican', 88), ('americen', 88), ('americin', 88), ('amerycan', 88), ('murican', 80), ('asian', 62), ('asiane', 57), ('asiann', 57), ('asiian', 57), ('asiaan', 57), ('italian', 53), ('asianne', 53), ('italiann', 50), ('italiano', 50), ('italiaan', 50), ('italiian', 50), ('itallian', 50), ('italianne', 47), ('asiat', 46), ('itali', 40), ('italien', 40)]\n",
    "[('italian', 100), ('italiann', 93), ('italiano', 93), ('italiaan', 93), ('italiian', 93), ('itallian', 93), ('italianne', 88), ('italien', 86), ('itali', 83), ('asian', 67), ('asiane', 62), ('asiann', 62), ('asiian', 62), ('asiaan', 62), ('asianne', 57), ('amurican', 53), ('american', 53), ('americann', 50), ('asiat', 50), ('americano', 50), ('ameerican', 50), ('aamerican', 50), ('ameriican', 50), ('amerrican', 50), ('ammericann', 47), ('ameerrican', 47), ('ammereican', 47), ('america', 43), ('merican', 43), ('murican', 43), ('americen', 40), ('americin', 40), ('amerycan', 40)]"
   ]
  },
  {
   "cell_type": "code",
   "execution_count": null,
   "id": "391bc0ff-89ff-488d-815c-57ddf64b6daf",
   "metadata": {},
   "outputs": [],
   "source": [
    "# Inspect the unique values of the cuisine_type column\n",
    "print(restaurants['cuisine_type'].unique())\n",
    "\n",
    "#correct output:\n",
    "['america' 'merican' 'amurican' 'americen' 'americann' 'asiane' 'itali'\n",
    " 'asiann' 'murican' 'italien' 'italian' 'asiat' 'american' 'americano'\n",
    " 'italiann' 'ameerican' 'asianne' 'italiano' 'americin' 'ammericann'\n",
    " 'amerycan' 'aamerican' 'ameriican' 'italiaan' 'asiian' 'asiaan'\n",
    " 'amerrican' 'ameerrican' 'ammereican' 'asian' 'italianne' 'italiian'\n",
    " 'itallian']"
   ]
  },
  {
   "cell_type": "code",
   "execution_count": null,
   "id": "cd3972e2-2788-43da-87e5-1ed44e3b5551",
   "metadata": {},
   "outputs": [],
   "source": [
    "#As a first step, create a list of all possible matches, comparing 'italian' with the restaurant types listed in the cuisine_type column\n",
    "\n",
    "matches = process.extract('italian', restaurants['cuisine_type'], limit=len(restaurants['cuisine_type']))\n",
    "\n",
    "# Inspect the first 5 matches\n",
    "print(matches[0:5])\n",
    "\n",
    "#correct output:\n",
    "    [('italian', 100, 11), ('italian', 100, 25), ('italian', 100, 41), ('italian', 100, 47), ('italian', 100, 49)]\n"
   ]
  },
  {
   "cell_type": "code",
   "execution_count": null,
   "id": "bbb7950c-7fde-4e29-8b69-d2a5ba7edbcc",
   "metadata": {},
   "outputs": [],
   "source": [
    "#Within the for loop, use an if statement to check whether the similarity score in each match is greater than or equal to 80.\n",
    "for match in matches:\n",
    "  # Check whether the similarity score is greater than or equal to 80\n",
    "  if match[1] >= 80:\n",
    "      \n",
    "#If it is, use .loc to select rows where cuisine_type in restaurants is equal to the current match \n",
    "# Select all rows where the cuisine_type is spelled this way, and set them to the correct cuisine\n",
    "    restaurants.loc[restaurants['cuisine_type'] == match[0],'cuisine_type']= 'italian'"
   ]
  },
  {
   "cell_type": "code",
   "execution_count": null,
   "id": "24db0883-051e-4b18-af80-e4ac092265cb",
   "metadata": {},
   "outputs": [],
   "source": [
    "# Iterate through categories\n",
    "for cuisine in categories:  \n",
    "  # Create a list of matches, comparing cuisine with the cuisine_type column\n",
    "  matches = process.extract(cuisine, restaurants['cuisine_type'], limit=len(restaurants.cuisine_type))\n",
    "\n",
    "  # Iterate through the list of matches\n",
    "  for match in matches:\n",
    "     # Check whether the similarity score is greater than or equal to 80\n",
    "    if match[1] >= 80:\n",
    "      # If it is, select all rows where the cuisine_type is spelled this way, and set them to the correct cuisine\n",
    "      restaurants.loc[restaurants['cuisine_type'] == match[0]] = cuisine\n",
    "      \n",
    "# Inspect the final result\n",
    "print(restaurants['cuisine_type'].unique())\n",
    "\n",
    "#correct output:\n",
    "['american' 'asian' 'italian']"
   ]
  }
 ],
 "metadata": {
  "kernelspec": {
   "display_name": "Python 3 (ipykernel)",
   "language": "python",
   "name": "python3"
  },
  "language_info": {
   "codemirror_mode": {
    "name": "ipython",
    "version": 3
   },
   "file_extension": ".py",
   "mimetype": "text/x-python",
   "name": "python",
   "nbconvert_exporter": "python",
   "pygments_lexer": "ipython3",
   "version": "3.11.7"
  }
 },
 "nbformat": 4,
 "nbformat_minor": 5
}
