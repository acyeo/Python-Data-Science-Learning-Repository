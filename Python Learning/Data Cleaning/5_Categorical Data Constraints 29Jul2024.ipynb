{
 "cells": [
  {
   "cell_type": "code",
   "execution_count": null,
   "id": "b0fc1511-2660-45ed-8b29-fa33f311a197",
   "metadata": {},
   "outputs": [],
   "source": [
    "# Print unique values of both columns\n",
    "print(airlines['dest_region'].unique())\n",
    "print(airlines['dest_size'].unique())\n",
    "\n",
    "#correct output:\n",
    "['Asia' 'Canada/Mexico' 'West US' 'East US' 'Midwest US' 'EAST US'\n",
    " 'Middle East' 'Europe' 'eur' 'Central/South America'\n",
    " 'Australia/New Zealand' 'middle east']\n",
    "['Hub' 'Small' '    Hub' 'Medium' 'Large' 'Hub     ' '    Small'\n",
    " 'Medium     ' '    Medium' 'Small     ' '    Large' 'Large     ']"
   ]
  },
  {
   "cell_type": "code",
   "execution_count": null,
   "id": "baeb0e06-39fc-47a7-824c-c2f8443df9d2",
   "metadata": {},
   "outputs": [],
   "source": [
    "# Lower dest_region column and then replace \"eur\" with \"europe\"\n",
    "airlines['dest_region'] = airlines['dest_region'].str.lower()\n",
    "airlines['dest_region'] = airlines['dest_region'].replace({'eur':'europe'})\n",
    "\n",
    "#correct output:\n",
    "['asia' 'canada/mexico' 'west us' 'east us' 'midwest us' 'middle east'\n",
    " 'europe' 'central/south america' 'australia/new zealand']\n",
    "['Hub' 'Small' '    Hub' 'Medium' 'Large' 'Hub     ' '    Small'\n",
    " 'Medium     ' '    Medium' 'Small     ' '    Large' 'Large     ']"
   ]
  },
  {
   "cell_type": "code",
   "execution_count": null,
   "id": "bf334574-1dbb-4a13-8026-e4fc408ab10b",
   "metadata": {},
   "outputs": [],
   "source": [
    "# Remove white spaces from `dest_size`\n",
    "airlines['dest_size'] = airlines['dest_size'].str.strip()\n",
    "\n",
    "# Verify changes have been effected\n",
    "print(airlines['dest_region'].unique())\n",
    "print(airlines['dest_size'].unique())\n",
    "\n",
    "#correct output:\n",
    "['asia' 'canada/mexico' 'west us' 'east us' 'midwest us' 'middle east'\n",
    "     'europe' 'central/south america' 'australia/new zealand']\n",
    "\n",
    "['Hub' 'Small' 'Medium' 'Large']"
   ]
  },
  {
   "cell_type": "code",
   "execution_count": null,
   "id": "916f06e6-61ac-4536-a264-b648d715fbfb",
   "metadata": {},
   "outputs": [],
   "source": [
    "# Create ranges for categories\n",
    "label_ranges = [0, 60, 180, np.inf]\n",
    "label_names = ['short', 'medium', 'long']\n",
    "\n",
    "# Create wait_type column\n",
    "airlines['wait_type'] = pd.cut(airlines['wait_min'], bins = label_ranges, \n",
    "                                labels = label_names)\n",
    "\n",
    "# Create mappings and replace\n",
    "mappings = {'Monday':'weekday', 'Tuesday':'weekday', 'Wednesday': 'weekday', \n",
    "            'Thursday': 'weekday', 'Friday': 'weekday', \n",
    "            'Saturday': 'weekend', 'Sunday': 'weekend'}\n",
    "\n",
    "airlines['day_week'] = airlines['day'].replace(mappings)"
   ]
  }
 ],
 "metadata": {
  "kernelspec": {
   "display_name": "Python 3 (ipykernel)",
   "language": "python",
   "name": "python3"
  },
  "language_info": {
   "codemirror_mode": {
    "name": "ipython",
    "version": 3
   },
   "file_extension": ".py",
   "mimetype": "text/x-python",
   "name": "python",
   "nbconvert_exporter": "python",
   "pygments_lexer": "ipython3",
   "version": "3.11.7"
  }
 },
 "nbformat": 4,
 "nbformat_minor": 5
}
