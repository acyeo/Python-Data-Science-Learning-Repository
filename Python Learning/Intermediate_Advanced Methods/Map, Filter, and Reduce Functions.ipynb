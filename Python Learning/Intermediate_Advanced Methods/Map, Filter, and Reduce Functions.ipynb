{
 "cells": [
  {
   "cell_type": "code",
   "execution_count": 1,
   "id": "fdf86d30-71ca-49a6-9338-70fc585acf25",
   "metadata": {},
   "outputs": [],
   "source": [
    "#Map function. data: a1, a2, a3, a4 function: f \n",
    "#The map function applies the function all in data. map(f,data)\n",
    "#The map function also applies to working with data in a map. ex temp data of cities around the world. \n",
    "#example converting weather data from celsius to farenheit. below example contains a list of tuples. "
   ]
  },
  {
   "cell_type": "code",
   "execution_count": 3,
   "id": "c32a6e85-fff3-4378-8c59-5ab9319cdc43",
   "metadata": {},
   "outputs": [
    {
     "data": {
      "text/plain": [
       "[('Berlin', 84.2),\n",
       " ('Cairo', 96.8),\n",
       " ('Buenos Aires', 66.2),\n",
       " ('Los Angeles', 78.80000000000001),\n",
       " ('Tokyo', 80.6),\n",
       " ('New York', 82.4),\n",
       " ('London', 71.6),\n",
       " ('Beijing', 89.6)]"
      ]
     },
     "execution_count": 3,
     "metadata": {},
     "output_type": "execute_result"
    }
   ],
   "source": [
    "temps = [(\"Berlin\", 29), (\"Cairo\", 36), (\"Buenos Aires\", 19), (\"Los Angeles\", 26), (\"Tokyo\", 27), (\"New York\", 28), (\"London\", 22), (\"Beijing\", 32)]\n",
    "#Actual conversion formula: F = 9/5*C + 32\n",
    "c_to_f = lambda data: (data[0], (9/5)*data[1] + 32)\n",
    "\n",
    "list(map(c_to_f, temps))"
   ]
  },
  {
   "cell_type": "code",
   "execution_count": 5,
   "id": "90238498-c405-4247-9db4-67e273829293",
   "metadata": {},
   "outputs": [
    {
     "data": {
      "text/plain": [
       "2.183333333333333"
      ]
     },
     "execution_count": 5,
     "metadata": {},
     "output_type": "execute_result"
    }
   ],
   "source": [
    "#Filter functions: filters data that you don't need. \n",
    "import statistics \n",
    "data = [1.3, 2.7, 0.8, 4.1, 4.3, -0.1]\n",
    "avg = statistics. mean(data)\n",
    "avg"
   ]
  },
  {
   "cell_type": "code",
   "execution_count": 6,
   "id": "e68aa5d9-a7d8-4620-b005-e44d9064e953",
   "metadata": {},
   "outputs": [
    {
     "data": {
      "text/plain": [
       "<filter at 0x10664c310>"
      ]
     },
     "execution_count": 6,
     "metadata": {},
     "output_type": "execute_result"
    }
   ],
   "source": [
    "#filter the list so it only shows and selects the data that's greater than the average. \n",
    "filter(lambda x: x > avg, data)"
   ]
  },
  {
   "cell_type": "code",
   "execution_count": 7,
   "id": "0a86052f-7f86-49b4-9083-1e2cd92a5b80",
   "metadata": {},
   "outputs": [
    {
     "data": {
      "text/plain": [
       "[2.7, 4.1, 4.3]"
      ]
     },
     "execution_count": 7,
     "metadata": {},
     "output_type": "execute_result"
    }
   ],
   "source": [
    "#above is a filter result, make it into a list\n",
    "list(filter(lambda x: x > avg, data))"
   ]
  },
  {
   "cell_type": "code",
   "execution_count": 9,
   "id": "6f2402bf-d6cf-43cc-becf-0019318372a1",
   "metadata": {},
   "outputs": [
    {
     "data": {
      "text/plain": [
       "['Argentina', 'Brazil', 'Chile', 'Colombia', 'Ecuador', 'Venezuela']"
      ]
     },
     "execution_count": 9,
     "metadata": {},
     "output_type": "execute_result"
    }
   ],
   "source": [
    "#filtering a list to remove missing data\n",
    "countries = [\"\", \"Argentina\", \"\", \"Brazil\", \"Chile\", \"Colombia\", \"\", \"Ecuador\", \"\", \"\", \"Venezuela\"]\n",
    "\n",
    "list(filter(None, countries))"
   ]
  },
  {
   "cell_type": "code",
   "execution_count": 10,
   "id": "2c3df1a4-595c-49a3-8c49-3b338ec2488d",
   "metadata": {},
   "outputs": [
    {
     "data": {
      "text/plain": [
       "6469693230"
      ]
     },
     "execution_count": 10,
     "metadata": {},
     "output_type": "execute_result"
    }
   ],
   "source": [
    "#Reduce Functions \n",
    "from functools import reduce\n",
    "#multiply all numbers in a list\n",
    "data = [2, 3, 5, 7, 11, 13, 17, 19, 23, 29]\n",
    "multiplier = lambda x, y: x*y\n",
    "reduce(multiplier, data)"
   ]
  },
  {
   "cell_type": "code",
   "execution_count": 11,
   "id": "5f341dc3-a9c1-4ada-abb7-41d8a531492c",
   "metadata": {},
   "outputs": [],
   "source": [
    "#Reduce function concept. \n",
    "#Data: [a1, a2, a3, ..., an]\n",
    "#Function: f(x,y)\n",
    "\n",
    "#reduce(f, data): \n",
    "#step 1: val1 = f(a1, a2)\n",
    "#step 2: val2 = f(val1, a3)\n",
    "#step 3: val3 = f(val2, a4)\n",
    "#stp n-1: valn-1 = f(valn-2, an)"
   ]
  },
  {
   "cell_type": "code",
   "execution_count": 13,
   "id": "83fee055-cbf2-49ba-888f-3a7137264daa",
   "metadata": {},
   "outputs": [],
   "source": [
    "#filter example practice: \n",
    "#In the filter() call, pass a lambda function and the sequence of tweets as strings, tweets_df['text']. \n",
    "#The lambda function should check if the first 2 characters in a tweet x are 'RT'. \n",
    "#Assign the resulting filter object to result. To get the first 2 characters in a tweet x, use x[0:2]. \n",
    "#To check equality, use a Boolean filter with ==.\n",
    "#Convert result to a list and print out the list."
   ]
  },
  {
   "cell_type": "code",
   "execution_count": 14,
   "id": "505ee3cc-a75e-4c84-9cc1-316faceb483e",
   "metadata": {},
   "outputs": [
    {
     "ename": "SyntaxError",
     "evalue": "unterminated string literal (detected at line 12) (556851225.py, line 12)",
     "output_type": "error",
     "traceback": [
      "\u001b[0;36m  Cell \u001b[0;32mIn[14], line 12\u001b[0;36m\u001b[0m\n\u001b[0;31m    RT @bpolitics: .@krollbondrating's Christopher Whalen says Clinton is the weakest Dem candidate in 50 years https://t.co/pLk7rvoRSn https:/…\u001b[0m\n\u001b[0m                                    ^\u001b[0m\n\u001b[0;31mSyntaxError\u001b[0m\u001b[0;31m:\u001b[0m unterminated string literal (detected at line 12)\n"
     ]
    }
   ],
   "source": [
    "# Select retweets from the Twitter DataFrame: result\n",
    "result = filter(lambda x: x[0:2] == 'RT', tweets_df['text'])\n",
    "\n",
    "# Create list from filter object result: res_list\n",
    "res_list = list(result)\n",
    "\n",
    "# Print all retweets in res_list\n",
    "for tweet in res_list:\n",
    "    print(tweet)\n",
    "\n",
    "#correct output\n",
    "RT @bpolitics: .@krollbondrating's Christopher Whalen says Clinton is the weakest Dem candidate in 50 years https://t.co/pLk7rvoRSn https:/…\n",
    "RT @HeidiAlpine: @dmartosko Cruz video found.....racing from the scene.... #cruzsexscandal https://t.co/zuAPZfQDk3\n",
    "RT @AlanLohner: The anti-American D.C. elites despise Trump for his America-first foreign policy. Trump threatens their gravy train. https:…\n",
    "RT @BIackPplTweets: Young Donald trump meets his neighbor  https://t.co/RFlu17Z1eE\n",
    "RT @trumpresearch: @WaitingInBagdad @thehill Trump supporters have selective amnisia.\n",
    "RT @HouseCracka: 29,000+ PEOPLE WATCHING TRUMP LIVE ON ONE STREAM!!!\n",
    "\n",
    "https://t.co/7QCFz9ehNe\n",
    "RT @urfavandtrump: RT for Brendon Urie\n",
    "Fav for Donald Trump https://t.co/PZ5vS94lOg\n",
    "RT @trapgrampa: This is how I see #Trump every time he speaks. https://t.co/fYSiHNS0nT\n",
    "RT @trumpresearch: @WaitingInBagdad @thehill Trump supporters have selective amnisia.\n",
    "RT @Pjw20161951: NO KIDDING: #SleazyDonald just attacked Scott Walker for NOT RAISING TAXES in WI! #LyinTrump\n",
    "#NeverTrump  #CruzCrew  https…\n",
    "RT @urfavandtrump: RT for Brendon Urie\n",
    "Fav for Donald Trump https://t.co/PZ5vS94lOg\n",
    "RT @ggreenwald: The media spent all day claiming @SusanSarandon said she might vote for Trump. A total fabrication, but whatever... https:/…\n",
    "RT @Pjw20161951: NO KIDDING: #SleazyDonald just attacked Scott Walker for NOT RAISING TAXES in WI! #LyinTrump\n",
    "#NeverTrump  #CruzCrew  https…\n",
    "RT @trapgrampa: This is how I see #Trump every time he speaks. https://t.co/fYSiHNS0nT\n",
    "RT @mitchellvii: So let me get this straight.  Any reporter can assault Mr Trump at any time and Corey can do nothing?  Michelle is clearly…\n",
    "RT @paulbenedict7: How #Trump Sacks RINO Strongholds by Hitting Positions Held by Dems and GOP https://t.co/D7ulnAJhis   #tcot #PJNET https…\n",
    "RT @DRUDGE_REPORT: VIDEO:  Trump emotional moment with Former Miss Wisconsin who has terminal illness... https://t.co/qt06aG9inT\n",
    "RT @ggreenwald: The media spent all day claiming @SusanSarandon said she might vote for Trump. A total fabrication, but whatever... https:/…\n",
    "RT @DennisApgar: Thank God I seen Trump at first stop in Wisconsin media doesn't know how great he is, advice watch live streaming https://…\n",
    "RT @paulbenedict7: How #Trump Sacks RINO Strongholds by Hitting Positions Held by Dems and GOP https://t.co/D7ulnAJhis   #tcot #PJNET https…\n",
    "RT @DRUDGE_REPORT: VIDEO:  Trump emotional moment with Former Miss Wisconsin who has terminal illness... https://t.co/qt06aG9inT\n",
    "RT @DennisApgar: Thank God I seen Trump at first stop in Wisconsin media doesn't know how great he is, advice watch live streaming https://…\n",
    "RT @mitchellvii: So let me get this straight.  Any reporter can assault Mr Trump at any time and Corey can do nothing?  Michelle is clearly…\n",
    "RT @sciam: Trump's idiosyncratic patterns of speech are why people tend either to love or hate him https://t.co/QXwquVgs3c https://t.co/P9N…\n",
    "RT @Norsu2: Nightmare WI poll for Ted Cruz has Kasich surging: Trump 29, Kasich 27, Cruz 25. https://t.co/lJsgbLYY1P #NeverTrump\n",
    "RT @thehill: WATCH: Protester pepper-sprayed point blank at Trump rally https://t.co/B5f65Al9ld https://t.co/skAfByXuQc\n",
    "RT @sciam: Trump's idiosyncratic patterns of speech are why people tend either to love or hate him https://t.co/QXwquVgs3c https://t.co/P9N…\n",
    "RT @ggreenwald: The media spent all day claiming @SusanSarandon said she might vote for Trump. A total fabrication, but whatever... https:/…\n",
    "RT @DebbieStout5: Wow! Last I checked it was just 12 points &amp; that wasn't more than a day ago. Oh boy Trump ppl might want to rethink🤔 http…\n",
    "RT @tyleroakley: i'm a messy bitch, but at least i'm not voting for trump\n",
    "RT @vandives: Trump supporters r tired of justice NOT being served. There's no justice anymore. Hardworking Americans get screwed. That's n…\n",
    "RT @AP: BREAKING: Trump vows to stand by campaign manager charged with battery, says he does not discard people.\n",
    "RT @AP: BREAKING: Trump vows to stand by campaign manager charged with battery, says he does not discard people.\n",
    "RT @urfavandtrump: RT for Jerrie (Little Mix)\n",
    "Fav for Donald Trump https://t.co/nEVxElW6iG\n",
    "RT @urfavandtrump: RT for Jerrie (Little Mix)\n",
    "Fav for Donald Trump https://t.co/nEVxElW6iG\n",
    "RT @NoahCRothman: When Walker was fighting for reforms, Trump was defending unions and collective bargaining privileges https://t.co/e1UWNN…\n",
    "RT @RedheadAndRight: Report: Secret Service Says Michelle Fields Touched Trump https://t.co/c5c2sD8VO2\n",
    "\n",
    "This is the only article you will n…\n",
    "RT @AIIAmericanGirI: VIDEO=&gt; Anti-Trump Protester SLUGS Elderly Trump Supporter in the Face\n",
    "https://t.co/GeEryMDuDY\n",
    "RT @NoahCRothman: When Walker was fighting for reforms, Trump was defending unions and collective bargaining privileges https://t.co/e1UWNN…\n",
    "RT @JusticeRanger1: @realDonaldTrump @Pudingtane @DanScavino @GOP @infowars @EricTrump \n",
    "URGENT PUBLIC TRUMP ALERT:\n",
    "COVERT KILL MEANS https:…\n",
    "RT @AIIAmericanGirI: VIDEO=&gt; Anti-Trump Protester SLUGS Elderly Trump Supporter in the Face\n",
    "https://t.co/GeEryMDuDY\n",
    "RT @RedheadAndRight: Report: Secret Service Says Michelle Fields Touched Trump https://t.co/c5c2sD8VO2\n",
    "\n",
    "This is the only article you will n…\n",
    "RT @JusticeRanger1: @realDonaldTrump @Pudingtane @DanScavino @GOP @infowars @EricTrump \n",
    "URGENT PUBLIC TRUMP ALERT:\n",
    "COVERT KILL MEANS https:…\n",
    "RT @Schneider_CM: Trump says nobody had ever heard of executive orders before Obama started signing them. Never heard of the Emancipation P…\n",
    "RT @DonaldsAngel: Former Ms. WI just said that she is terminally ill but because of Trump pageant, her 7 yr. old son has his college educat…\n",
    "RT @Schneider_CM: Trump says nobody had ever heard of executive orders before Obama started signing them. Never heard of the Emancipation P…\n",
    "RT @DonaldsAngel: Former Ms. WI just said that she is terminally ill but because of Trump pageant, her 7 yr. old son has his college educat…\n",
    "RT @Dodarey: @DR8801 @SykesCharlie Charlie, let's see you get a straight \"yes\" or \"no\" answer from Cruz a/b being unfaithful to his wife @T…\n",
    "RT @RockCliffOne: Remember when the idea of a diabolical moron holding the world hostage was an idea for a funny movie? #Trump #GOP https:/…\n",
    "RT @HillaryClinton: \"Every day, another Republican bemoans the rise of Donald Trump... but [he] didn’t come out of nowhere.\" —Hillary\n",
    "https…\n",
    "RT @Dodarey: @DR8801 @SykesCharlie Charlie, let's see you get a straight \"yes\" or \"no\" answer from Cruz a/b being unfaithful to his wife @T…\n",
    "RT @HillaryClinton: \"Every day, another Republican bemoans the rise of Donald Trump... but [he] didn’t come out of nowhere.\" —Hillary\n",
    "https…\n",
    "RT @RockCliffOne: Remember when the idea of a diabolical moron holding the world hostage was an idea for a funny movie? #Trump #GOP https:/…\n",
    "RT @immigrant4trump: @immigrant4trump msm, cable news attacking trump all day, from 8am to 10pm today, then the reruns come on, repeating t…\n",
    "RT @immigrant4trump: @immigrant4trump msm, cable news attacking trump all day, from 8am to 10pm today, then the reruns come on, repeating t…\n",
    "RT @GlendaJazzey: Donald Trump’s Campaign Financing Dodge, @rrotunda https://t.co/L8flI4lswG via @VerdictJustia\n",
    "RT @TUSK81: LOUDER FOR THE PEOPLE IN THE BACK https://t.co/hlPVyNLXzx\n",
    "RT @loopzoop: Well...put it back https://t.co/8Yb7BDT5VM\n",
    "RT @claytoncubitt: Stop asking Bernie supporters if they’ll vote for Hillary against Trump. We got a plan to beat Trump already. Called Ber…\n",
    "RT @akaMaude13: Seriously can't make this up. What a joke. #NeverTrump  https://t.co/JkTx6mdRgC\n",
    "\n",
    "<script.py> output:\n",
    "    RT @bpolitics: .@krollbondrating's Christopher Whalen says Clinton is the weakest Dem candidate in 50 years https://t.co/pLk7rvoRSn https:/…\n",
    "    RT @HeidiAlpine: @dmartosko Cruz video found.....racing from the scene.... #cruzsexscandal https://t.co/zuAPZfQDk3\n",
    "    RT @AlanLohner: The anti-American D.C. elites despise Trump for his America-first foreign policy. Trump threatens their gravy train. https:…\n",
    "    RT @BIackPplTweets: Young Donald trump meets his neighbor  https://t.co/RFlu17Z1eE\n",
    "    RT @trumpresearch: @WaitingInBagdad @thehill Trump supporters have selective amnisia.\n",
    "    RT @HouseCracka: 29,000+ PEOPLE WATCHING TRUMP LIVE ON ONE STREAM!!!\n",
    "    \n",
    "    https://t.co/7QCFz9ehNe\n",
    "    RT @urfavandtrump: RT for Brendon Urie\n",
    "    Fav for Donald Trump https://t.co/PZ5vS94lOg\n",
    "    RT @trapgrampa: This is how I see #Trump every time he speaks. https://t.co/fYSiHNS0nT\n",
    "    RT @trumpresearch: @WaitingInBagdad @thehill Trump supporters have selective amnisia.\n",
    "    RT @Pjw20161951: NO KIDDING: #SleazyDonald just attacked Scott Walker for NOT RAISING TAXES in WI! #LyinTrump\n",
    "    #NeverTrump  #CruzCrew  https…\n",
    "    RT @urfavandtrump: RT for Brendon Urie\n",
    "    Fav for Donald Trump https://t.co/PZ5vS94lOg\n",
    "    RT @ggreenwald: The media spent all day claiming @SusanSarandon said she might vote for Trump. A total fabrication, but whatever... https:/…\n",
    "    RT @Pjw20161951: NO KIDDING: #SleazyDonald just attacked Scott Walker for NOT RAISING TAXES in WI! #LyinTrump\n",
    "    #NeverTrump  #CruzCrew  https…\n",
    "    RT @trapgrampa: This is how I see #Trump every time he speaks. https://t.co/fYSiHNS0nT\n",
    "    RT @mitchellvii: So let me get this straight.  Any reporter can assault Mr Trump at any time and Corey can do nothing?  Michelle is clearly…\n",
    "    RT @paulbenedict7: How #Trump Sacks RINO Strongholds by Hitting Positions Held by Dems and GOP https://t.co/D7ulnAJhis   #tcot #PJNET https…\n",
    "    RT @DRUDGE_REPORT: VIDEO:  Trump emotional moment with Former Miss Wisconsin who has terminal illness... https://t.co/qt06aG9inT\n",
    "    RT @ggreenwald: The media spent all day claiming @SusanSarandon said she might vote for Trump. A total fabrication, but whatever... https:/…\n",
    "    RT @DennisApgar: Thank God I seen Trump at first stop in Wisconsin media doesn't know how great he is, advice watch live streaming https://…\n",
    "    RT @paulbenedict7: How #Trump Sacks RINO Strongholds by Hitting Positions Held by Dems and GOP https://t.co/D7ulnAJhis   #tcot #PJNET https…\n",
    "    RT @DRUDGE_REPORT: VIDEO:  Trump emotional moment with Former Miss Wisconsin who has terminal illness... https://t.co/qt06aG9inT\n",
    "    RT @DennisApgar: Thank God I seen Trump at first stop in Wisconsin media doesn't know how great he is, advice watch live streaming https://…\n",
    "    RT @mitchellvii: So let me get this straight.  Any reporter can assault Mr Trump at any time and Corey can do nothing?  Michelle is clearly…\n",
    "    RT @sciam: Trump's idiosyncratic patterns of speech are why people tend either to love or hate him https://t.co/QXwquVgs3c https://t.co/P9N…\n",
    "    RT @Norsu2: Nightmare WI poll for Ted Cruz has Kasich surging: Trump 29, Kasich 27, Cruz 25. https://t.co/lJsgbLYY1P #NeverTrump\n",
    "    RT @thehill: WATCH: Protester pepper-sprayed point blank at Trump rally https://t.co/B5f65Al9ld https://t.co/skAfByXuQc\n",
    "    RT @sciam: Trump's idiosyncratic patterns of speech are why people tend either to love or hate him https://t.co/QXwquVgs3c https://t.co/P9N…\n",
    "    RT @ggreenwald: The media spent all day claiming @SusanSarandon said she might vote for Trump. A total fabrication, but whatever... https:/…\n",
    "    RT @DebbieStout5: Wow! Last I checked it was just 12 points &amp; that wasn't more than a day ago. Oh boy Trump ppl might want to rethink🤔 http…\n",
    "    RT @tyleroakley: i'm a messy bitch, but at least i'm not voting for trump\n",
    "    RT @vandives: Trump supporters r tired of justice NOT being served. There's no justice anymore. Hardworking Americans get screwed. That's n…\n",
    "    RT @AP: BREAKING: Trump vows to stand by campaign manager charged with battery, says he does not discard people.\n",
    "    RT @AP: BREAKING: Trump vows to stand by campaign manager charged with battery, says he does not discard people.\n",
    "    RT @urfavandtrump: RT for Jerrie (Little Mix)\n",
    "    Fav for Donald Trump https://t.co/nEVxElW6iG\n",
    "    RT @urfavandtrump: RT for Jerrie (Little Mix)\n",
    "    Fav for Donald Trump https://t.co/nEVxElW6iG\n",
    "    RT @NoahCRothman: When Walker was fighting for reforms, Trump was defending unions and collective bargaining privileges https://t.co/e1UWNN…\n",
    "    RT @RedheadAndRight: Report: Secret Service Says Michelle Fields Touched Trump https://t.co/c5c2sD8VO2\n",
    "    \n",
    "    This is the only article you will n…\n",
    "    RT @AIIAmericanGirI: VIDEO=&gt; Anti-Trump Protester SLUGS Elderly Trump Supporter in the Face\n",
    "    https://t.co/GeEryMDuDY\n",
    "    RT @NoahCRothman: When Walker was fighting for reforms, Trump was defending unions and collective bargaining privileges https://t.co/e1UWNN…\n",
    "    RT @JusticeRanger1: @realDonaldTrump @Pudingtane @DanScavino @GOP @infowars @EricTrump \n",
    "    URGENT PUBLIC TRUMP ALERT:\n",
    "    COVERT KILL MEANS https:…\n",
    "    RT @AIIAmericanGirI: VIDEO=&gt; Anti-Trump Protester SLUGS Elderly Trump Supporter in the Face\n",
    "    https://t.co/GeEryMDuDY\n",
    "    RT @RedheadAndRight: Report: Secret Service Says Michelle Fields Touched Trump https://t.co/c5c2sD8VO2\n",
    "    \n",
    "    This is the only article you will n…\n",
    "    RT @JusticeRanger1: @realDonaldTrump @Pudingtane @DanScavino @GOP @infowars @EricTrump \n",
    "    URGENT PUBLIC TRUMP ALERT:\n",
    "    COVERT KILL MEANS https:…\n",
    "    RT @Schneider_CM: Trump says nobody had ever heard of executive orders before Obama started signing them. Never heard of the Emancipation P…\n",
    "    RT @DonaldsAngel: Former Ms. WI just said that she is terminally ill but because of Trump pageant, her 7 yr. old son has his college educat…\n",
    "    RT @Schneider_CM: Trump says nobody had ever heard of executive orders before Obama started signing them. Never heard of the Emancipation P…\n",
    "    RT @DonaldsAngel: Former Ms. WI just said that she is terminally ill but because of Trump pageant, her 7 yr. old son has his college educat…\n",
    "    RT @Dodarey: @DR8801 @SykesCharlie Charlie, let's see you get a straight \"yes\" or \"no\" answer from Cruz a/b being unfaithful to his wife @T…\n",
    "    RT @RockCliffOne: Remember when the idea of a diabolical moron holding the world hostage was an idea for a funny movie? #Trump #GOP https:/…\n",
    "    RT @HillaryClinton: \"Every day, another Republican bemoans the rise of Donald Trump... but [he] didn’t come out of nowhere.\" —Hillary\n",
    "    https…\n",
    "    RT @Dodarey: @DR8801 @SykesCharlie Charlie, let's see you get a straight \"yes\" or \"no\" answer from Cruz a/b being unfaithful to his wife @T…\n",
    "    RT @HillaryClinton: \"Every day, another Republican bemoans the rise of Donald Trump... but [he] didn’t come out of nowhere.\" —Hillary\n",
    "    https…\n",
    "    RT @RockCliffOne: Remember when the idea of a diabolical moron holding the world hostage was an idea for a funny movie? #Trump #GOP https:/…\n",
    "    RT @immigrant4trump: @immigrant4trump msm, cable news attacking trump all day, from 8am to 10pm today, then the reruns come on, repeating t…\n",
    "    RT @immigrant4trump: @immigrant4trump msm, cable news attacking trump all day, from 8am to 10pm today, then the reruns come on, repeating t…\n",
    "    RT @GlendaJazzey: Donald Trump’s Campaign Financing Dodge, @rrotunda https://t.co/L8flI4lswG via @VerdictJustia\n",
    "    RT @TUSK81: LOUDER FOR THE PEOPLE IN THE BACK https://t.co/hlPVyNLXzx\n",
    "    RT @loopzoop: Well...put it back https://t.co/8Yb7BDT5VM\n",
    "    RT @claytoncubitt: Stop asking Bernie supporters if they’ll vote for Hillary against Trump. We got a plan to beat Trump already. Called Ber…\n",
    "    RT @akaMaude13: Seriously can't make this up. What a joke. #NeverTrump  https://t.co/JkTx6mdRgC"
   ]
  },
  {
   "cell_type": "code",
   "execution_count": null,
   "id": "b77bb016-09d5-4c55-b45b-6addeb7607fb",
   "metadata": {},
   "outputs": [],
   "source": []
  }
 ],
 "metadata": {
  "kernelspec": {
   "display_name": "Python 3 (ipykernel)",
   "language": "python",
   "name": "python3"
  },
  "language_info": {
   "codemirror_mode": {
    "name": "ipython",
    "version": 3
   },
   "file_extension": ".py",
   "mimetype": "text/x-python",
   "name": "python",
   "nbconvert_exporter": "python",
   "pygments_lexer": "ipython3",
   "version": "3.11.7"
  }
 },
 "nbformat": 4,
 "nbformat_minor": 5
}
