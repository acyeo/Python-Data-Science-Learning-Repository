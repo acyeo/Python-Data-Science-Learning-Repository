{
 "cells": [
  {
   "cell_type": "code",
   "execution_count": 1,
   "id": "aca4b693-4717-4947-84fb-7d4cc3502087",
   "metadata": {},
   "outputs": [],
   "source": [
    "import collections\n",
    "from collections import Counter"
   ]
  },
  {
   "cell_type": "code",
   "execution_count": 2,
   "id": "cb3371b9-eeba-4bab-a567-b5610289d1a3",
   "metadata": {},
   "outputs": [],
   "source": [
    "#Counter part of collections module\n",
    "#allows us to have different types of data types to store, sort, manipulate data. \n",
    "#containers=lists, set, dictionary, and tuples"
   ]
  },
  {
   "cell_type": "code",
   "execution_count": 4,
   "id": "e6d5065a-0b28-4c59-a79f-823551b3638f",
   "metadata": {},
   "outputs": [
    {
     "name": "stdout",
     "output_type": "stream",
     "text": [
      "Counter({'a': 2, 'l': 2, 'g': 1, 'd': 1})\n",
      "Counter({'a': 1, 'b': 1, 'c': 1})\n",
      "Counter({'b': 2, 'a': 1})\n",
      "Counter({'dogs': 7, 'cats': 4})\n"
     ]
    }
   ],
   "source": [
    "#c = Counter(put a dictionarry, list, ,any contaiiner type), and output is it's own counter object. Designated by {}\n",
    "c = Counter('gallad')\n",
    "print(c)\n",
    "c = Counter(['a', 'b', 'c'])\n",
    "print(c)\n",
    "c = Counter({'a': 1, 'b': 2})\n",
    "print(c)\n",
    "c = Counter(cats = 4, dogs = 7)\n",
    "print(c)"
   ]
  },
  {
   "cell_type": "code",
   "execution_count": 17,
   "id": "7c14c726-f79a-4696-9cb8-46faa7766a95",
   "metadata": {},
   "outputs": [
    {
     "name": "stdout",
     "output_type": "stream",
     "text": [
      "Counter({'a': 2, 'l': 2, 'g': 1, 'd': 1})\n",
      "Counter({'a': 1, 'b': 1, 'c': 1})\n",
      "Counter({'a': 1, 'b': 1, 'c': 1})\n",
      "Counter({'a': 1, 'b': 1, 'c': 1})\n",
      "0\n",
      "['a', 'b', 'c']\n",
      "['a', 'b', 'b']\n",
      "['cats', 'cats', 'cats', 'cats', 'dogs', 'dogs', 'dogs', 'dogs', 'dogs', 'dogs', 'dogs']\n",
      "[('dogs', 7)]\n"
     ]
    }
   ],
   "source": [
    "c = Counter('gallad')\n",
    "print(c)\n",
    "c = Counter(['a', 'b', 'c'])\n",
    "print(c)\n",
    "e = Counter({'a': 1, 'b': 2})\n",
    "print(c)\n",
    "d = Counter(cats = 4, dogs = 7)\n",
    "print(c)\n",
    "#reference a specific item\n",
    "print(c['cats'])\n",
    "#list all the elements. e.g if you want to find the sum of something\n",
    "print(list(c.elements()))\n",
    "print(list(e.elements()))\n",
    "print(list(d.elements()))\n",
    "#finding most common element\n",
    "print(d.most_common(1))"
   ]
  },
  {
   "cell_type": "code",
   "execution_count": 22,
   "id": "06f27cfc-7c95-465e-af6b-d3b528de0ea2",
   "metadata": {},
   "outputs": [
    {
     "name": "stdout",
     "output_type": "stream",
     "text": [
      "Counter({'a': 3, 'b': 0, 'c': -1, 'd': -1})\n",
      "Counter({'a': 4, 'b': 2, 'c': 0, 'd': -1})\n",
      "Counter()\n"
     ]
    }
   ],
   "source": [
    "#subtracting \n",
    "c = Counter(a=4, b=2, c=0, d=-1)\n",
    "d = ['a', 'b', 'b', 'c']\n",
    "c.subtract(d)\n",
    "print(c)\n",
    "#updates d\n",
    "c.update(d)\n",
    "print(c)\n",
    "#clear\n",
    "c.clear()\n",
    "print(c)"
   ]
  },
  {
   "cell_type": "code",
   "execution_count": 26,
   "id": "1fe0c812-45f2-42f1-be34-7c8a11a98fb2",
   "metadata": {},
   "outputs": [
    {
     "name": "stdout",
     "output_type": "stream",
     "text": [
      "Counter({'a': 5, 'b': 4, 'c': 1})\n",
      "Counter({'a': 3})\n",
      "Counter({'b': 2, 'a': 1})\n",
      "Counter({'a': 4, 'b': 2, 'c': 1})\n"
     ]
    }
   ],
   "source": [
    "#add/subtracting counters\n",
    "c = Counter(a=4, b=2, c=0, d=-1)\n",
    "d = Counter(['a', 'b', 'b', 'c'])\n",
    "\n",
    "print(c+d)\n",
    "print(c-d)\n",
    "\n",
    "#union and intersection\n",
    "#intersection is the minimum elements in a list\n",
    "#the other elements, c and d, aren't shown in the results b/c they're <=0\n",
    "print(c & d)\n",
    "#union shows the max elements \n",
    "print(c | d)"
   ]
  },
  {
   "cell_type": "code",
   "execution_count": null,
   "id": "5b8425fc-d8d5-4adb-a729-604d6a60e0f8",
   "metadata": {},
   "outputs": [],
   "source": []
  }
 ],
 "metadata": {
  "kernelspec": {
   "display_name": "Python 3 (ipykernel)",
   "language": "python",
   "name": "python3"
  },
  "language_info": {
   "codemirror_mode": {
    "name": "ipython",
    "version": 3
   },
   "file_extension": ".py",
   "mimetype": "text/x-python",
   "name": "python",
   "nbconvert_exporter": "python",
   "pygments_lexer": "ipython3",
   "version": "3.11.7"
  }
 },
 "nbformat": 4,
 "nbformat_minor": 5
}
